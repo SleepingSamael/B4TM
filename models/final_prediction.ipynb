{
 "cells": [
  {
   "cell_type": "code",
   "execution_count": 82,
   "metadata": {
    "collapsed": true
   },
   "outputs": [],
   "source": [
    "import pandas as pd\n",
    "from joblib import load"
   ]
  },
  {
   "cell_type": "code",
   "execution_count": 83,
   "outputs": [],
   "source": [
    "call = pd.read_csv(\"../data/Validation_call.txt\", sep='\\t')\n",
    "\n",
    "HER2_chr = 17\n",
    "HER2_start = 35076296"
   ],
   "metadata": {
    "collapsed": false,
    "pycharm": {
     "name": "#%%\n"
    }
   }
  },
  {
   "cell_type": "code",
   "execution_count": 84,
   "outputs": [],
   "source": [
    "HER2_status = call[(call['Chromosome']==HER2_chr) & (call['Start']==HER2_start)]\\\n",
    "    .drop(columns=['Chromosome','Start','End','Nclone']).squeeze(axis=0) == 2"
   ],
   "metadata": {
    "collapsed": false,
    "pycharm": {
     "name": "#%%\n"
    }
   }
  },
  {
   "cell_type": "code",
   "execution_count": 85,
   "outputs": [],
   "source": [
    "X = call[HER2_status[~HER2_status].index].T\n",
    "model = load('../model/model.pkl')\n",
    "y_pred = model.predict(X).astype(bool)\n",
    "\n",
    "prediction_HR = pd.Series('HR+', index=X.index[y_pred])\n",
    "prediction_TN = pd.Series('Triple Neg', index=X.index[~y_pred])\n",
    "prediction_HER2 = pd.Series('HER2+', index=HER2_status[HER2_status].index)\n",
    "\n",
    "predictions_all = pd.concat([prediction_HR,prediction_TN,prediction_HER2])[call.columns[4:]]"
   ],
   "metadata": {
    "collapsed": false,
    "pycharm": {
     "name": "#%%\n"
    }
   }
  },
  {
   "cell_type": "code",
   "execution_count": 86,
   "outputs": [],
   "source": [
    "test_accuracy = 0.81\n",
    "predicted_true = round(prediction_HER2.shape[0]+test_accuracy*X.shape[0])\n",
    "\n",
    "with open('../results/estimate.txt', \"w\") as f:\n",
    "    print(predicted_true,file=f)"
   ],
   "metadata": {
    "collapsed": false,
    "pycharm": {
     "name": "#%%\n"
    }
   }
  },
  {
   "cell_type": "code",
   "execution_count": 87,
   "outputs": [],
   "source": [
    "predictions_all.to_csv('../results/prediction.txt',sep='\\t',\n",
    "                       index_label='Sample',header=['Subgroup'],quoting=1)"
   ],
   "metadata": {
    "collapsed": false,
    "pycharm": {
     "name": "#%%\n"
    }
   }
  }
 ],
 "metadata": {
  "kernelspec": {
   "display_name": "Python 3",
   "language": "python",
   "name": "python3"
  },
  "language_info": {
   "codemirror_mode": {
    "name": "ipython",
    "version": 2
   },
   "file_extension": ".py",
   "mimetype": "text/x-python",
   "name": "python",
   "nbconvert_exporter": "python",
   "pygments_lexer": "ipython2",
   "version": "2.7.6"
  }
 },
 "nbformat": 4,
 "nbformat_minor": 0
}