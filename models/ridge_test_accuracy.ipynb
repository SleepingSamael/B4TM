{
 "cells": [
  {
   "cell_type": "code",
   "execution_count": 1,
   "metadata": {
    "collapsed": true
   },
   "outputs": [],
   "source": [
    "import pandas as pd\n",
    "import numpy as np\n",
    "from sklearn.metrics import accuracy_score, log_loss\n",
    "from sklearn.linear_model import LogisticRegression\n",
    "import pickle"
   ]
  },
  {
   "cell_type": "code",
   "execution_count": 2,
   "outputs": [
    {
     "data": {
      "text/plain": "      Chromosome      Start        End  Nclone  Array.129  Array.34  Array.67  \\\n0              1       2927      43870       3          0         0         0   \n1              1      85022     216735       4          0         0         0   \n2              1     370546     372295       4          0         0         0   \n3              1     471671     786483       5          0         0         0   \n4              1     792533     907406      13          0         0         0   \n...          ...        ...        ...     ...        ...       ...       ...   \n2829          23  153062077  153452633      57          1         1         1   \n2830          23  153466463  153491568       4          1         1         1   \n2831          23  153504394  153933426      55          1         1         1   \n2832          23  153938998  153989329       5          1         1         1   \n2833          23  153997146  154492924      43          1         1         1   \n\n      Array.24  Array.22  Array.36  ...  Array.64  Array.89  Array.30  \\\n0            0         0         0  ...         0         0         1   \n1            0         0         0  ...         0         0         1   \n2            0         0         0  ...         0         0         1   \n3            0         0         0  ...         0         1         1   \n4            0         0         0  ...         0         1         1   \n...        ...       ...       ...  ...       ...       ...       ...   \n2829         0         1         1  ...         1         1         1   \n2830         0         1         1  ...         2         1         1   \n2831         0         1         1  ...         2         1         1   \n2832         0         1         1  ...         2         1         1   \n2833         0         1         1  ...         2         1         1   \n\n      Array.35  Array.93  Array.10  Array.123  Array.100  Array.134  Array.130  \n0            0         0         0          0          0         -1          0  \n1            0         0         0          0          0         -1          0  \n2            0         1         0          0          0         -1          0  \n3            0         1         0          0          0         -1          0  \n4            0         1         0          0          0         -1          0  \n...        ...       ...       ...        ...        ...        ...        ...  \n2829         1         1         1          1          1          1          1  \n2830         1         1         1          1          1          1          1  \n2831         1         1         1          1          1          1          1  \n2832         1         1         1          1          1          1          1  \n2833         1         1         1          1          1          1          1  \n\n[2834 rows x 104 columns]",
      "text/html": "<div>\n<style scoped>\n    .dataframe tbody tr th:only-of-type {\n        vertical-align: middle;\n    }\n\n    .dataframe tbody tr th {\n        vertical-align: top;\n    }\n\n    .dataframe thead th {\n        text-align: right;\n    }\n</style>\n<table border=\"1\" class=\"dataframe\">\n  <thead>\n    <tr style=\"text-align: right;\">\n      <th></th>\n      <th>Chromosome</th>\n      <th>Start</th>\n      <th>End</th>\n      <th>Nclone</th>\n      <th>Array.129</th>\n      <th>Array.34</th>\n      <th>Array.67</th>\n      <th>Array.24</th>\n      <th>Array.22</th>\n      <th>Array.36</th>\n      <th>...</th>\n      <th>Array.64</th>\n      <th>Array.89</th>\n      <th>Array.30</th>\n      <th>Array.35</th>\n      <th>Array.93</th>\n      <th>Array.10</th>\n      <th>Array.123</th>\n      <th>Array.100</th>\n      <th>Array.134</th>\n      <th>Array.130</th>\n    </tr>\n  </thead>\n  <tbody>\n    <tr>\n      <th>0</th>\n      <td>1</td>\n      <td>2927</td>\n      <td>43870</td>\n      <td>3</td>\n      <td>0</td>\n      <td>0</td>\n      <td>0</td>\n      <td>0</td>\n      <td>0</td>\n      <td>0</td>\n      <td>...</td>\n      <td>0</td>\n      <td>0</td>\n      <td>1</td>\n      <td>0</td>\n      <td>0</td>\n      <td>0</td>\n      <td>0</td>\n      <td>0</td>\n      <td>-1</td>\n      <td>0</td>\n    </tr>\n    <tr>\n      <th>1</th>\n      <td>1</td>\n      <td>85022</td>\n      <td>216735</td>\n      <td>4</td>\n      <td>0</td>\n      <td>0</td>\n      <td>0</td>\n      <td>0</td>\n      <td>0</td>\n      <td>0</td>\n      <td>...</td>\n      <td>0</td>\n      <td>0</td>\n      <td>1</td>\n      <td>0</td>\n      <td>0</td>\n      <td>0</td>\n      <td>0</td>\n      <td>0</td>\n      <td>-1</td>\n      <td>0</td>\n    </tr>\n    <tr>\n      <th>2</th>\n      <td>1</td>\n      <td>370546</td>\n      <td>372295</td>\n      <td>4</td>\n      <td>0</td>\n      <td>0</td>\n      <td>0</td>\n      <td>0</td>\n      <td>0</td>\n      <td>0</td>\n      <td>...</td>\n      <td>0</td>\n      <td>0</td>\n      <td>1</td>\n      <td>0</td>\n      <td>1</td>\n      <td>0</td>\n      <td>0</td>\n      <td>0</td>\n      <td>-1</td>\n      <td>0</td>\n    </tr>\n    <tr>\n      <th>3</th>\n      <td>1</td>\n      <td>471671</td>\n      <td>786483</td>\n      <td>5</td>\n      <td>0</td>\n      <td>0</td>\n      <td>0</td>\n      <td>0</td>\n      <td>0</td>\n      <td>0</td>\n      <td>...</td>\n      <td>0</td>\n      <td>1</td>\n      <td>1</td>\n      <td>0</td>\n      <td>1</td>\n      <td>0</td>\n      <td>0</td>\n      <td>0</td>\n      <td>-1</td>\n      <td>0</td>\n    </tr>\n    <tr>\n      <th>4</th>\n      <td>1</td>\n      <td>792533</td>\n      <td>907406</td>\n      <td>13</td>\n      <td>0</td>\n      <td>0</td>\n      <td>0</td>\n      <td>0</td>\n      <td>0</td>\n      <td>0</td>\n      <td>...</td>\n      <td>0</td>\n      <td>1</td>\n      <td>1</td>\n      <td>0</td>\n      <td>1</td>\n      <td>0</td>\n      <td>0</td>\n      <td>0</td>\n      <td>-1</td>\n      <td>0</td>\n    </tr>\n    <tr>\n      <th>...</th>\n      <td>...</td>\n      <td>...</td>\n      <td>...</td>\n      <td>...</td>\n      <td>...</td>\n      <td>...</td>\n      <td>...</td>\n      <td>...</td>\n      <td>...</td>\n      <td>...</td>\n      <td>...</td>\n      <td>...</td>\n      <td>...</td>\n      <td>...</td>\n      <td>...</td>\n      <td>...</td>\n      <td>...</td>\n      <td>...</td>\n      <td>...</td>\n      <td>...</td>\n      <td>...</td>\n    </tr>\n    <tr>\n      <th>2829</th>\n      <td>23</td>\n      <td>153062077</td>\n      <td>153452633</td>\n      <td>57</td>\n      <td>1</td>\n      <td>1</td>\n      <td>1</td>\n      <td>0</td>\n      <td>1</td>\n      <td>1</td>\n      <td>...</td>\n      <td>1</td>\n      <td>1</td>\n      <td>1</td>\n      <td>1</td>\n      <td>1</td>\n      <td>1</td>\n      <td>1</td>\n      <td>1</td>\n      <td>1</td>\n      <td>1</td>\n    </tr>\n    <tr>\n      <th>2830</th>\n      <td>23</td>\n      <td>153466463</td>\n      <td>153491568</td>\n      <td>4</td>\n      <td>1</td>\n      <td>1</td>\n      <td>1</td>\n      <td>0</td>\n      <td>1</td>\n      <td>1</td>\n      <td>...</td>\n      <td>2</td>\n      <td>1</td>\n      <td>1</td>\n      <td>1</td>\n      <td>1</td>\n      <td>1</td>\n      <td>1</td>\n      <td>1</td>\n      <td>1</td>\n      <td>1</td>\n    </tr>\n    <tr>\n      <th>2831</th>\n      <td>23</td>\n      <td>153504394</td>\n      <td>153933426</td>\n      <td>55</td>\n      <td>1</td>\n      <td>1</td>\n      <td>1</td>\n      <td>0</td>\n      <td>1</td>\n      <td>1</td>\n      <td>...</td>\n      <td>2</td>\n      <td>1</td>\n      <td>1</td>\n      <td>1</td>\n      <td>1</td>\n      <td>1</td>\n      <td>1</td>\n      <td>1</td>\n      <td>1</td>\n      <td>1</td>\n    </tr>\n    <tr>\n      <th>2832</th>\n      <td>23</td>\n      <td>153938998</td>\n      <td>153989329</td>\n      <td>5</td>\n      <td>1</td>\n      <td>1</td>\n      <td>1</td>\n      <td>0</td>\n      <td>1</td>\n      <td>1</td>\n      <td>...</td>\n      <td>2</td>\n      <td>1</td>\n      <td>1</td>\n      <td>1</td>\n      <td>1</td>\n      <td>1</td>\n      <td>1</td>\n      <td>1</td>\n      <td>1</td>\n      <td>1</td>\n    </tr>\n    <tr>\n      <th>2833</th>\n      <td>23</td>\n      <td>153997146</td>\n      <td>154492924</td>\n      <td>43</td>\n      <td>1</td>\n      <td>1</td>\n      <td>1</td>\n      <td>0</td>\n      <td>1</td>\n      <td>1</td>\n      <td>...</td>\n      <td>2</td>\n      <td>1</td>\n      <td>1</td>\n      <td>1</td>\n      <td>1</td>\n      <td>1</td>\n      <td>1</td>\n      <td>1</td>\n      <td>1</td>\n      <td>1</td>\n    </tr>\n  </tbody>\n</table>\n<p>2834 rows × 104 columns</p>\n</div>"
     },
     "execution_count": 2,
     "metadata": {},
     "output_type": "execute_result"
    }
   ],
   "source": [
    "call = pd.read_csv(\"../data/Train_call.txt\", sep='\\t')\n",
    "\n",
    "call"
   ],
   "metadata": {
    "collapsed": false,
    "pycharm": {
     "name": "#%%\n"
    }
   }
  },
  {
   "cell_type": "code",
   "execution_count": 3,
   "outputs": [
    {
     "data": {
      "text/plain": "       Sample    Subgroup\n0   Array.129       HER2+\n1    Array.34         HR+\n2    Array.67         HR+\n3    Array.24  Triple Neg\n4    Array.22  Triple Neg\n..        ...         ...\n95   Array.10       HER2+\n96  Array.123         HR+\n97  Array.100         HR+\n98  Array.134         HR+\n99  Array.130       HER2+\n\n[100 rows x 2 columns]",
      "text/html": "<div>\n<style scoped>\n    .dataframe tbody tr th:only-of-type {\n        vertical-align: middle;\n    }\n\n    .dataframe tbody tr th {\n        vertical-align: top;\n    }\n\n    .dataframe thead th {\n        text-align: right;\n    }\n</style>\n<table border=\"1\" class=\"dataframe\">\n  <thead>\n    <tr style=\"text-align: right;\">\n      <th></th>\n      <th>Sample</th>\n      <th>Subgroup</th>\n    </tr>\n  </thead>\n  <tbody>\n    <tr>\n      <th>0</th>\n      <td>Array.129</td>\n      <td>HER2+</td>\n    </tr>\n    <tr>\n      <th>1</th>\n      <td>Array.34</td>\n      <td>HR+</td>\n    </tr>\n    <tr>\n      <th>2</th>\n      <td>Array.67</td>\n      <td>HR+</td>\n    </tr>\n    <tr>\n      <th>3</th>\n      <td>Array.24</td>\n      <td>Triple Neg</td>\n    </tr>\n    <tr>\n      <th>4</th>\n      <td>Array.22</td>\n      <td>Triple Neg</td>\n    </tr>\n    <tr>\n      <th>...</th>\n      <td>...</td>\n      <td>...</td>\n    </tr>\n    <tr>\n      <th>95</th>\n      <td>Array.10</td>\n      <td>HER2+</td>\n    </tr>\n    <tr>\n      <th>96</th>\n      <td>Array.123</td>\n      <td>HR+</td>\n    </tr>\n    <tr>\n      <th>97</th>\n      <td>Array.100</td>\n      <td>HR+</td>\n    </tr>\n    <tr>\n      <th>98</th>\n      <td>Array.134</td>\n      <td>HR+</td>\n    </tr>\n    <tr>\n      <th>99</th>\n      <td>Array.130</td>\n      <td>HER2+</td>\n    </tr>\n  </tbody>\n</table>\n<p>100 rows × 2 columns</p>\n</div>"
     },
     "execution_count": 3,
     "metadata": {},
     "output_type": "execute_result"
    }
   ],
   "source": [
    "clin = pd.read_csv(\"../data/Train_clinical.txt\", sep='\\t')\n",
    "\n",
    "clin"
   ],
   "metadata": {
    "collapsed": false,
    "pycharm": {
     "name": "#%%\n"
    }
   }
  },
  {
   "cell_type": "code",
   "execution_count": 4,
   "outputs": [
    {
     "data": {
      "text/plain": "           0     1     2     3     4     5     6     7     8     9     ...  \\\nArray.34      0     0     0     0     0     0     0     0     0     0  ...   \nArray.67      0     0     0     0     0     0     0     0     0     0  ...   \nArray.24      0     0     0     0     0     0     0    -1     0     0  ...   \nArray.22      0     0     0     0     0     0     0     0     0     0  ...   \nArray.36      0     0     0     0     0     0     0     0     0     0  ...   \n...         ...   ...   ...   ...   ...   ...   ...   ...   ...   ...  ...   \nArray.35      0     0     0     0     0     0     0     0     0     0  ...   \nArray.93      0     0     1     1     1     1     1     1     0     0  ...   \nArray.123     0     0     0     0     0     0     0     0     0     0  ...   \nArray.100     0     0     0     0     0     0     0     0     0     0  ...   \nArray.134    -1    -1    -1    -1    -1    -1    -1    -1    -1    -1  ...   \n\n           2824  2825  2826  2827  2828  2829  2830  2831  2832  2833  \nArray.34      1     1     1     1     1     1     1     1     1     1  \nArray.67      1     1     1     1     1     1     1     1     1     1  \nArray.24      0     0     0     0     0     0     0     0     0     0  \nArray.22      1     1     1     1     1     1     1     1     1     1  \nArray.36      1     1     0     1     1     1     1     1     1     1  \n...         ...   ...   ...   ...   ...   ...   ...   ...   ...   ...  \nArray.35      1     1     1     1     1     1     1     1     1     1  \nArray.93      1     1     1     1     1     1     1     1     1     1  \nArray.123     1     1     1     1     1     1     1     1     1     1  \nArray.100     1     1     1     1     1     1     1     1     1     1  \nArray.134     1     1     1     1     1     1     1     1     1     1  \n\n[68 rows x 2834 columns]",
      "text/html": "<div>\n<style scoped>\n    .dataframe tbody tr th:only-of-type {\n        vertical-align: middle;\n    }\n\n    .dataframe tbody tr th {\n        vertical-align: top;\n    }\n\n    .dataframe thead th {\n        text-align: right;\n    }\n</style>\n<table border=\"1\" class=\"dataframe\">\n  <thead>\n    <tr style=\"text-align: right;\">\n      <th></th>\n      <th>0</th>\n      <th>1</th>\n      <th>2</th>\n      <th>3</th>\n      <th>4</th>\n      <th>5</th>\n      <th>6</th>\n      <th>7</th>\n      <th>8</th>\n      <th>9</th>\n      <th>...</th>\n      <th>2824</th>\n      <th>2825</th>\n      <th>2826</th>\n      <th>2827</th>\n      <th>2828</th>\n      <th>2829</th>\n      <th>2830</th>\n      <th>2831</th>\n      <th>2832</th>\n      <th>2833</th>\n    </tr>\n  </thead>\n  <tbody>\n    <tr>\n      <th>Array.34</th>\n      <td>0</td>\n      <td>0</td>\n      <td>0</td>\n      <td>0</td>\n      <td>0</td>\n      <td>0</td>\n      <td>0</td>\n      <td>0</td>\n      <td>0</td>\n      <td>0</td>\n      <td>...</td>\n      <td>1</td>\n      <td>1</td>\n      <td>1</td>\n      <td>1</td>\n      <td>1</td>\n      <td>1</td>\n      <td>1</td>\n      <td>1</td>\n      <td>1</td>\n      <td>1</td>\n    </tr>\n    <tr>\n      <th>Array.67</th>\n      <td>0</td>\n      <td>0</td>\n      <td>0</td>\n      <td>0</td>\n      <td>0</td>\n      <td>0</td>\n      <td>0</td>\n      <td>0</td>\n      <td>0</td>\n      <td>0</td>\n      <td>...</td>\n      <td>1</td>\n      <td>1</td>\n      <td>1</td>\n      <td>1</td>\n      <td>1</td>\n      <td>1</td>\n      <td>1</td>\n      <td>1</td>\n      <td>1</td>\n      <td>1</td>\n    </tr>\n    <tr>\n      <th>Array.24</th>\n      <td>0</td>\n      <td>0</td>\n      <td>0</td>\n      <td>0</td>\n      <td>0</td>\n      <td>0</td>\n      <td>0</td>\n      <td>-1</td>\n      <td>0</td>\n      <td>0</td>\n      <td>...</td>\n      <td>0</td>\n      <td>0</td>\n      <td>0</td>\n      <td>0</td>\n      <td>0</td>\n      <td>0</td>\n      <td>0</td>\n      <td>0</td>\n      <td>0</td>\n      <td>0</td>\n    </tr>\n    <tr>\n      <th>Array.22</th>\n      <td>0</td>\n      <td>0</td>\n      <td>0</td>\n      <td>0</td>\n      <td>0</td>\n      <td>0</td>\n      <td>0</td>\n      <td>0</td>\n      <td>0</td>\n      <td>0</td>\n      <td>...</td>\n      <td>1</td>\n      <td>1</td>\n      <td>1</td>\n      <td>1</td>\n      <td>1</td>\n      <td>1</td>\n      <td>1</td>\n      <td>1</td>\n      <td>1</td>\n      <td>1</td>\n    </tr>\n    <tr>\n      <th>Array.36</th>\n      <td>0</td>\n      <td>0</td>\n      <td>0</td>\n      <td>0</td>\n      <td>0</td>\n      <td>0</td>\n      <td>0</td>\n      <td>0</td>\n      <td>0</td>\n      <td>0</td>\n      <td>...</td>\n      <td>1</td>\n      <td>1</td>\n      <td>0</td>\n      <td>1</td>\n      <td>1</td>\n      <td>1</td>\n      <td>1</td>\n      <td>1</td>\n      <td>1</td>\n      <td>1</td>\n    </tr>\n    <tr>\n      <th>...</th>\n      <td>...</td>\n      <td>...</td>\n      <td>...</td>\n      <td>...</td>\n      <td>...</td>\n      <td>...</td>\n      <td>...</td>\n      <td>...</td>\n      <td>...</td>\n      <td>...</td>\n      <td>...</td>\n      <td>...</td>\n      <td>...</td>\n      <td>...</td>\n      <td>...</td>\n      <td>...</td>\n      <td>...</td>\n      <td>...</td>\n      <td>...</td>\n      <td>...</td>\n      <td>...</td>\n    </tr>\n    <tr>\n      <th>Array.35</th>\n      <td>0</td>\n      <td>0</td>\n      <td>0</td>\n      <td>0</td>\n      <td>0</td>\n      <td>0</td>\n      <td>0</td>\n      <td>0</td>\n      <td>0</td>\n      <td>0</td>\n      <td>...</td>\n      <td>1</td>\n      <td>1</td>\n      <td>1</td>\n      <td>1</td>\n      <td>1</td>\n      <td>1</td>\n      <td>1</td>\n      <td>1</td>\n      <td>1</td>\n      <td>1</td>\n    </tr>\n    <tr>\n      <th>Array.93</th>\n      <td>0</td>\n      <td>0</td>\n      <td>1</td>\n      <td>1</td>\n      <td>1</td>\n      <td>1</td>\n      <td>1</td>\n      <td>1</td>\n      <td>0</td>\n      <td>0</td>\n      <td>...</td>\n      <td>1</td>\n      <td>1</td>\n      <td>1</td>\n      <td>1</td>\n      <td>1</td>\n      <td>1</td>\n      <td>1</td>\n      <td>1</td>\n      <td>1</td>\n      <td>1</td>\n    </tr>\n    <tr>\n      <th>Array.123</th>\n      <td>0</td>\n      <td>0</td>\n      <td>0</td>\n      <td>0</td>\n      <td>0</td>\n      <td>0</td>\n      <td>0</td>\n      <td>0</td>\n      <td>0</td>\n      <td>0</td>\n      <td>...</td>\n      <td>1</td>\n      <td>1</td>\n      <td>1</td>\n      <td>1</td>\n      <td>1</td>\n      <td>1</td>\n      <td>1</td>\n      <td>1</td>\n      <td>1</td>\n      <td>1</td>\n    </tr>\n    <tr>\n      <th>Array.100</th>\n      <td>0</td>\n      <td>0</td>\n      <td>0</td>\n      <td>0</td>\n      <td>0</td>\n      <td>0</td>\n      <td>0</td>\n      <td>0</td>\n      <td>0</td>\n      <td>0</td>\n      <td>...</td>\n      <td>1</td>\n      <td>1</td>\n      <td>1</td>\n      <td>1</td>\n      <td>1</td>\n      <td>1</td>\n      <td>1</td>\n      <td>1</td>\n      <td>1</td>\n      <td>1</td>\n    </tr>\n    <tr>\n      <th>Array.134</th>\n      <td>-1</td>\n      <td>-1</td>\n      <td>-1</td>\n      <td>-1</td>\n      <td>-1</td>\n      <td>-1</td>\n      <td>-1</td>\n      <td>-1</td>\n      <td>-1</td>\n      <td>-1</td>\n      <td>...</td>\n      <td>1</td>\n      <td>1</td>\n      <td>1</td>\n      <td>1</td>\n      <td>1</td>\n      <td>1</td>\n      <td>1</td>\n      <td>1</td>\n      <td>1</td>\n      <td>1</td>\n    </tr>\n  </tbody>\n</table>\n<p>68 rows × 2834 columns</p>\n</div>"
     },
     "execution_count": 4,
     "metadata": {},
     "output_type": "execute_result"
    }
   ],
   "source": [
    "X=call[clin[clin['Subgroup']!='HER2+']['Sample']].T\n",
    "\n",
    "X"
   ],
   "metadata": {
    "collapsed": false,
    "pycharm": {
     "name": "#%%\n"
    }
   }
  },
  {
   "cell_type": "code",
   "execution_count": 5,
   "outputs": [
    {
     "data": {
      "text/plain": "Sample\nArray.34            HR+\nArray.67            HR+\nArray.24     Triple Neg\nArray.22     Triple Neg\nArray.36            HR+\n                ...    \nArray.35            HR+\nArray.93     Triple Neg\nArray.123           HR+\nArray.100           HR+\nArray.134           HR+\nName: Subgroup, Length: 68, dtype: object"
     },
     "execution_count": 5,
     "metadata": {},
     "output_type": "execute_result"
    }
   ],
   "source": [
    "y = clin[clin['Subgroup']!='HER2+'].set_index('Sample')['Subgroup']\n",
    "\n",
    "y"
   ],
   "metadata": {
    "collapsed": false,
    "pycharm": {
     "name": "#%%\n"
    }
   }
  },
  {
   "cell_type": "code",
   "execution_count": 6,
   "outputs": [],
   "source": [
    "folds_file = '../data/folds.pickle'\n",
    "with open(folds_file, 'rb') as fid:\n",
    "    outer_cross_val = pickle.load(fid)"
   ],
   "metadata": {
    "collapsed": false,
    "pycharm": {
     "name": "#%%\n"
    }
   }
  },
  {
   "cell_type": "code",
   "execution_count": 22,
   "outputs": [],
   "source": [
    "X_trainval_list, y_trainval_list = [], []\n",
    "X_test_list, y_test_list = [], []\n",
    "\n",
    "for split in outer_cross_val:\n",
    "    inner_cross_val, test_index = split\n",
    "    n_samples = X.shape[0]\n",
    "    mask = np.ones(n_samples).astype('bool')\n",
    "    mask[test_index]=False\n",
    "    X_trainval, y_trainval = X.iloc[mask,:], y[mask]\n",
    "    X_test, y_test = X.iloc[test_index,:], y[test_index]\n",
    "\n",
    "    X_trainval_list.append(X_trainval)\n",
    "    y_trainval_list.append(y_trainval)\n",
    "\n",
    "    X_test_list.append(X_test)\n",
    "    y_test_list.append(y_test)"
   ],
   "metadata": {
    "collapsed": false,
    "pycharm": {
     "name": "#%%\n"
    }
   }
  },
  {
   "cell_type": "code",
   "execution_count": 35,
   "outputs": [
    {
     "name": "stdout",
     "output_type": "stream",
     "text": [
      "Results for the ridge regression model\n",
      "Accuracy mean: 0.8119047619047619, std: 0.12797480619406368\n",
      "Logloss mean: 0.42312253878114775, std: 0.19352284208991855\n"
     ]
    }
   ],
   "source": [
    "model = LogisticRegression(penalty='l1',solver='saga', max_iter=10000,random_state=12345)\n",
    "\n",
    "accuracy_list = []\n",
    "av_logloss_list = []\n",
    "\n",
    "for (X_train, y_train, X_val, y_val) in zip(X_trainval_list, y_trainval_list, X_test_list, y_test_list):\n",
    "    model.fit(X_train, np.float32(y_train=='HR+'))\n",
    "    y_pred = model.predict_proba(X_val)[:,1]\n",
    "    predictions = [round(value) for value in y_pred]\n",
    "    accuracy = accuracy_score(y_val=='HR+', predictions)\n",
    "    av_logloss = log_loss(y_true=y_val=='HR+',labels=[True,False], y_pred=y_pred)\n",
    "\n",
    "    accuracy_list.append(accuracy)\n",
    "    av_logloss_list.append(av_logloss)"
   ],
   "metadata": {
    "collapsed": false,
    "pycharm": {
     "name": "#%%\n"
    }
   }
  },
  {
   "cell_type": "code",
   "execution_count": 36,
   "outputs": [
    {
     "name": "stdout",
     "output_type": "stream",
     "text": [
      "Results for the ridge regression model\n",
      "Accuracy mean: 0.8452380952380952, std: 0.12797480619406368\n",
      "Logloss mean: 0.42312253878114775, std: 0.19352284208991855\n"
     ]
    }
   ],
   "source": [
    "print('Results for the ridge regression model')\n",
    "print('Accuracy mean: {}, std: {}'.format(np.median(accuracy_list),np.std(accuracy_list)))\n",
    "print('Logloss mean: {}, std: {}'.format(np.mean(av_logloss_list),np.std(av_logloss_list)))"
   ],
   "metadata": {
    "collapsed": false,
    "pycharm": {
     "name": "#%%\n"
    }
   }
  }
 ],
 "metadata": {
  "kernelspec": {
   "display_name": "Python 3",
   "language": "python",
   "name": "python3"
  },
  "language_info": {
   "codemirror_mode": {
    "name": "ipython",
    "version": 2
   },
   "file_extension": ".py",
   "mimetype": "text/x-python",
   "name": "python",
   "nbconvert_exporter": "python",
   "pygments_lexer": "ipython2",
   "version": "2.7.6"
  }
 },
 "nbformat": 4,
 "nbformat_minor": 0
}