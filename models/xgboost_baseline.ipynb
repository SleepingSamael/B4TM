{
 "cells": [
  {
   "cell_type": "code",
   "execution_count": 1,
   "metadata": {
    "collapsed": true
   },
   "outputs": [],
   "source": [
    "import pandas as pd\n",
    "import numpy as np\n",
    "from sklearn.metrics import accuracy_score, log_loss\n",
    "from xgboost import XGBClassifier\n",
    "import pickle"
   ]
  },
  {
   "cell_type": "code",
   "execution_count": 2,
   "outputs": [],
   "source": [
    "call = pd.read_csv(\"../data/Train_call.txt\", sep='\\t')\n",
    "clin = pd.read_csv(\"../data/Train_clinical.txt\", sep='\\t')"
   ],
   "metadata": {
    "collapsed": false,
    "pycharm": {
     "name": "#%%\n"
    }
   }
  },
  {
   "cell_type": "code",
   "execution_count": 3,
   "outputs": [],
   "source": [
    "X=call[clin[clin['Subgroup']!='HER2+']['Sample']]\n",
    "X=X.T.reset_index(drop=True)\n",
    "\n",
    "y = clin[clin['Subgroup']!='HER2+']['Subgroup'].reset_index(drop=True)"
   ],
   "metadata": {
    "collapsed": false,
    "pycharm": {
     "name": "#%%\n"
    }
   }
  },
  {
   "cell_type": "code",
   "execution_count": 4,
   "outputs": [],
   "source": [
    "folds_file = '../data/folds.pickle'\n",
    "with open(folds_file, 'rb') as fid:\n",
    "    outer_cross_val = pickle.load(fid)\n"
   ],
   "metadata": {
    "collapsed": false,
    "pycharm": {
     "name": "#%%\n"
    }
   }
  },
  {
   "cell_type": "code",
   "execution_count": 5,
   "outputs": [],
   "source": [
    "X_train_list, y_train_list = [], []\n",
    "X_val_list, y_val_list = [], []\n",
    "\n",
    "for split in outer_cross_val:\n",
    "    inner_cross_val, test_index = split\n",
    "    for train_index, val_index in inner_cross_val:\n",
    "        X_train, y_train = X.iloc[train_index,:], y[train_index]\n",
    "        X_val, y_val = X.iloc[val_index,:], y[val_index]\n",
    "\n",
    "        X_train_list.append(X_train)\n",
    "        y_train_list.append(y_train)\n",
    "\n",
    "        X_val_list.append(X_val)\n",
    "        y_val_list.append(y_val)"
   ],
   "metadata": {
    "collapsed": false,
    "pycharm": {
     "name": "#%%\n"
    }
   }
  },
  {
   "cell_type": "code",
   "execution_count": 6,
   "outputs": [
    {
     "name": "stdout",
     "output_type": "stream",
     "text": [
      "0.6973809523809524 0.18323420325537038\n",
      "10.452219363763604 6.328776472873143\n"
     ]
    }
   ],
   "source": [
    "accuracy_list = []\n",
    "av_logloss_list = []\n",
    "for (X_train, y_train, X_val, y_val) in zip(X_train_list, y_train_list, X_val_list, y_val_list):\n",
    "    model = XGBClassifier(max_depth=2, learning_rate=1, objective='binary:logistic')\n",
    "    model.fit(X_train, y_train=='HR+')\n",
    "\n",
    "    y_pred = model.predict(X_val)\n",
    "    predictions = [round(value) for value in y_pred]\n",
    "    accuracy = accuracy_score(y_val=='HR+', predictions)\n",
    "    av_logloss = log_loss(y_true=y_val=='HR+',labels=[True,False], y_pred=y_pred)\n",
    "\n",
    "    accuracy_list.append(accuracy)\n",
    "    av_logloss_list.append(av_logloss)\n",
    "\n",
    "print(np.mean(accuracy_list),np.std(accuracy_list))\n",
    "print(np.mean(av_logloss_list),np.std(av_logloss_list))\n"
   ],
   "metadata": {
    "collapsed": false,
    "pycharm": {
     "name": "#%%\n"
    }
   }
  }
 ],
 "metadata": {
  "kernelspec": {
   "display_name": "Python 3",
   "language": "python",
   "name": "python3"
  },
  "language_info": {
   "codemirror_mode": {
    "name": "ipython",
    "version": 2
   },
   "file_extension": ".py",
   "mimetype": "text/x-python",
   "name": "python",
   "nbconvert_exporter": "python",
   "pygments_lexer": "ipython2",
   "version": "2.7.6"
  }
 },
 "nbformat": 4,
 "nbformat_minor": 0
}