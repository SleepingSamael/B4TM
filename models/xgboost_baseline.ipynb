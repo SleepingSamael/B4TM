{
 "cells": [
  {
   "cell_type": "code",
   "execution_count": 1,
   "metadata": {
    "collapsed": true,
    "pycharm": {
     "name": "#%%\n"
    }
   },
   "outputs": [],
   "source": [
    "import pandas as pd\n",
    "import numpy as np\n",
    "from sklearn.metrics import accuracy_score, log_loss\n",
    "from xgboost import XGBClassifier\n",
    "from sklearn.linear_model import LogisticRegression\n",
    "import pickle\n"
   ]
  },
  {
   "cell_type": "code",
   "execution_count": 2,
   "outputs": [
    {
     "data": {
      "text/plain": "      Chromosome      Start        End  Nclone  Array.129  Array.34  Array.67  \\\n0              1       2927      43870       3          0         0         0   \n1              1      85022     216735       4          0         0         0   \n2              1     370546     372295       4          0         0         0   \n3              1     471671     786483       5          0         0         0   \n4              1     792533     907406      13          0         0         0   \n...          ...        ...        ...     ...        ...       ...       ...   \n2829          23  153062077  153452633      57          1         1         1   \n2830          23  153466463  153491568       4          1         1         1   \n2831          23  153504394  153933426      55          1         1         1   \n2832          23  153938998  153989329       5          1         1         1   \n2833          23  153997146  154492924      43          1         1         1   \n\n      Array.24  Array.22  Array.36  ...  Array.64  Array.89  Array.30  \\\n0            0         0         0  ...         0         0         1   \n1            0         0         0  ...         0         0         1   \n2            0         0         0  ...         0         0         1   \n3            0         0         0  ...         0         1         1   \n4            0         0         0  ...         0         1         1   \n...        ...       ...       ...  ...       ...       ...       ...   \n2829         0         1         1  ...         1         1         1   \n2830         0         1         1  ...         2         1         1   \n2831         0         1         1  ...         2         1         1   \n2832         0         1         1  ...         2         1         1   \n2833         0         1         1  ...         2         1         1   \n\n      Array.35  Array.93  Array.10  Array.123  Array.100  Array.134  Array.130  \n0            0         0         0          0          0         -1          0  \n1            0         0         0          0          0         -1          0  \n2            0         1         0          0          0         -1          0  \n3            0         1         0          0          0         -1          0  \n4            0         1         0          0          0         -1          0  \n...        ...       ...       ...        ...        ...        ...        ...  \n2829         1         1         1          1          1          1          1  \n2830         1         1         1          1          1          1          1  \n2831         1         1         1          1          1          1          1  \n2832         1         1         1          1          1          1          1  \n2833         1         1         1          1          1          1          1  \n\n[2834 rows x 104 columns]",
      "text/html": "<div>\n<style scoped>\n    .dataframe tbody tr th:only-of-type {\n        vertical-align: middle;\n    }\n\n    .dataframe tbody tr th {\n        vertical-align: top;\n    }\n\n    .dataframe thead th {\n        text-align: right;\n    }\n</style>\n<table border=\"1\" class=\"dataframe\">\n  <thead>\n    <tr style=\"text-align: right;\">\n      <th></th>\n      <th>Chromosome</th>\n      <th>Start</th>\n      <th>End</th>\n      <th>Nclone</th>\n      <th>Array.129</th>\n      <th>Array.34</th>\n      <th>Array.67</th>\n      <th>Array.24</th>\n      <th>Array.22</th>\n      <th>Array.36</th>\n      <th>...</th>\n      <th>Array.64</th>\n      <th>Array.89</th>\n      <th>Array.30</th>\n      <th>Array.35</th>\n      <th>Array.93</th>\n      <th>Array.10</th>\n      <th>Array.123</th>\n      <th>Array.100</th>\n      <th>Array.134</th>\n      <th>Array.130</th>\n    </tr>\n  </thead>\n  <tbody>\n    <tr>\n      <th>0</th>\n      <td>1</td>\n      <td>2927</td>\n      <td>43870</td>\n      <td>3</td>\n      <td>0</td>\n      <td>0</td>\n      <td>0</td>\n      <td>0</td>\n      <td>0</td>\n      <td>0</td>\n      <td>...</td>\n      <td>0</td>\n      <td>0</td>\n      <td>1</td>\n      <td>0</td>\n      <td>0</td>\n      <td>0</td>\n      <td>0</td>\n      <td>0</td>\n      <td>-1</td>\n      <td>0</td>\n    </tr>\n    <tr>\n      <th>1</th>\n      <td>1</td>\n      <td>85022</td>\n      <td>216735</td>\n      <td>4</td>\n      <td>0</td>\n      <td>0</td>\n      <td>0</td>\n      <td>0</td>\n      <td>0</td>\n      <td>0</td>\n      <td>...</td>\n      <td>0</td>\n      <td>0</td>\n      <td>1</td>\n      <td>0</td>\n      <td>0</td>\n      <td>0</td>\n      <td>0</td>\n      <td>0</td>\n      <td>-1</td>\n      <td>0</td>\n    </tr>\n    <tr>\n      <th>2</th>\n      <td>1</td>\n      <td>370546</td>\n      <td>372295</td>\n      <td>4</td>\n      <td>0</td>\n      <td>0</td>\n      <td>0</td>\n      <td>0</td>\n      <td>0</td>\n      <td>0</td>\n      <td>...</td>\n      <td>0</td>\n      <td>0</td>\n      <td>1</td>\n      <td>0</td>\n      <td>1</td>\n      <td>0</td>\n      <td>0</td>\n      <td>0</td>\n      <td>-1</td>\n      <td>0</td>\n    </tr>\n    <tr>\n      <th>3</th>\n      <td>1</td>\n      <td>471671</td>\n      <td>786483</td>\n      <td>5</td>\n      <td>0</td>\n      <td>0</td>\n      <td>0</td>\n      <td>0</td>\n      <td>0</td>\n      <td>0</td>\n      <td>...</td>\n      <td>0</td>\n      <td>1</td>\n      <td>1</td>\n      <td>0</td>\n      <td>1</td>\n      <td>0</td>\n      <td>0</td>\n      <td>0</td>\n      <td>-1</td>\n      <td>0</td>\n    </tr>\n    <tr>\n      <th>4</th>\n      <td>1</td>\n      <td>792533</td>\n      <td>907406</td>\n      <td>13</td>\n      <td>0</td>\n      <td>0</td>\n      <td>0</td>\n      <td>0</td>\n      <td>0</td>\n      <td>0</td>\n      <td>...</td>\n      <td>0</td>\n      <td>1</td>\n      <td>1</td>\n      <td>0</td>\n      <td>1</td>\n      <td>0</td>\n      <td>0</td>\n      <td>0</td>\n      <td>-1</td>\n      <td>0</td>\n    </tr>\n    <tr>\n      <th>...</th>\n      <td>...</td>\n      <td>...</td>\n      <td>...</td>\n      <td>...</td>\n      <td>...</td>\n      <td>...</td>\n      <td>...</td>\n      <td>...</td>\n      <td>...</td>\n      <td>...</td>\n      <td>...</td>\n      <td>...</td>\n      <td>...</td>\n      <td>...</td>\n      <td>...</td>\n      <td>...</td>\n      <td>...</td>\n      <td>...</td>\n      <td>...</td>\n      <td>...</td>\n      <td>...</td>\n    </tr>\n    <tr>\n      <th>2829</th>\n      <td>23</td>\n      <td>153062077</td>\n      <td>153452633</td>\n      <td>57</td>\n      <td>1</td>\n      <td>1</td>\n      <td>1</td>\n      <td>0</td>\n      <td>1</td>\n      <td>1</td>\n      <td>...</td>\n      <td>1</td>\n      <td>1</td>\n      <td>1</td>\n      <td>1</td>\n      <td>1</td>\n      <td>1</td>\n      <td>1</td>\n      <td>1</td>\n      <td>1</td>\n      <td>1</td>\n    </tr>\n    <tr>\n      <th>2830</th>\n      <td>23</td>\n      <td>153466463</td>\n      <td>153491568</td>\n      <td>4</td>\n      <td>1</td>\n      <td>1</td>\n      <td>1</td>\n      <td>0</td>\n      <td>1</td>\n      <td>1</td>\n      <td>...</td>\n      <td>2</td>\n      <td>1</td>\n      <td>1</td>\n      <td>1</td>\n      <td>1</td>\n      <td>1</td>\n      <td>1</td>\n      <td>1</td>\n      <td>1</td>\n      <td>1</td>\n    </tr>\n    <tr>\n      <th>2831</th>\n      <td>23</td>\n      <td>153504394</td>\n      <td>153933426</td>\n      <td>55</td>\n      <td>1</td>\n      <td>1</td>\n      <td>1</td>\n      <td>0</td>\n      <td>1</td>\n      <td>1</td>\n      <td>...</td>\n      <td>2</td>\n      <td>1</td>\n      <td>1</td>\n      <td>1</td>\n      <td>1</td>\n      <td>1</td>\n      <td>1</td>\n      <td>1</td>\n      <td>1</td>\n      <td>1</td>\n    </tr>\n    <tr>\n      <th>2832</th>\n      <td>23</td>\n      <td>153938998</td>\n      <td>153989329</td>\n      <td>5</td>\n      <td>1</td>\n      <td>1</td>\n      <td>1</td>\n      <td>0</td>\n      <td>1</td>\n      <td>1</td>\n      <td>...</td>\n      <td>2</td>\n      <td>1</td>\n      <td>1</td>\n      <td>1</td>\n      <td>1</td>\n      <td>1</td>\n      <td>1</td>\n      <td>1</td>\n      <td>1</td>\n      <td>1</td>\n    </tr>\n    <tr>\n      <th>2833</th>\n      <td>23</td>\n      <td>153997146</td>\n      <td>154492924</td>\n      <td>43</td>\n      <td>1</td>\n      <td>1</td>\n      <td>1</td>\n      <td>0</td>\n      <td>1</td>\n      <td>1</td>\n      <td>...</td>\n      <td>2</td>\n      <td>1</td>\n      <td>1</td>\n      <td>1</td>\n      <td>1</td>\n      <td>1</td>\n      <td>1</td>\n      <td>1</td>\n      <td>1</td>\n      <td>1</td>\n    </tr>\n  </tbody>\n</table>\n<p>2834 rows × 104 columns</p>\n</div>"
     },
     "execution_count": 2,
     "metadata": {},
     "output_type": "execute_result"
    }
   ],
   "source": [
    "call = pd.read_csv(\"../data/Train_call.txt\", sep='\\t')\n",
    "\n",
    "call"
   ],
   "metadata": {
    "collapsed": false,
    "pycharm": {
     "name": "#%%\n"
    }
   }
  },
  {
   "cell_type": "code",
   "execution_count": 3,
   "outputs": [
    {
     "data": {
      "text/plain": "       Sample    Subgroup\n0   Array.129       HER2+\n1    Array.34         HR+\n2    Array.67         HR+\n3    Array.24  Triple Neg\n4    Array.22  Triple Neg\n..        ...         ...\n95   Array.10       HER2+\n96  Array.123         HR+\n97  Array.100         HR+\n98  Array.134         HR+\n99  Array.130       HER2+\n\n[100 rows x 2 columns]",
      "text/html": "<div>\n<style scoped>\n    .dataframe tbody tr th:only-of-type {\n        vertical-align: middle;\n    }\n\n    .dataframe tbody tr th {\n        vertical-align: top;\n    }\n\n    .dataframe thead th {\n        text-align: right;\n    }\n</style>\n<table border=\"1\" class=\"dataframe\">\n  <thead>\n    <tr style=\"text-align: right;\">\n      <th></th>\n      <th>Sample</th>\n      <th>Subgroup</th>\n    </tr>\n  </thead>\n  <tbody>\n    <tr>\n      <th>0</th>\n      <td>Array.129</td>\n      <td>HER2+</td>\n    </tr>\n    <tr>\n      <th>1</th>\n      <td>Array.34</td>\n      <td>HR+</td>\n    </tr>\n    <tr>\n      <th>2</th>\n      <td>Array.67</td>\n      <td>HR+</td>\n    </tr>\n    <tr>\n      <th>3</th>\n      <td>Array.24</td>\n      <td>Triple Neg</td>\n    </tr>\n    <tr>\n      <th>4</th>\n      <td>Array.22</td>\n      <td>Triple Neg</td>\n    </tr>\n    <tr>\n      <th>...</th>\n      <td>...</td>\n      <td>...</td>\n    </tr>\n    <tr>\n      <th>95</th>\n      <td>Array.10</td>\n      <td>HER2+</td>\n    </tr>\n    <tr>\n      <th>96</th>\n      <td>Array.123</td>\n      <td>HR+</td>\n    </tr>\n    <tr>\n      <th>97</th>\n      <td>Array.100</td>\n      <td>HR+</td>\n    </tr>\n    <tr>\n      <th>98</th>\n      <td>Array.134</td>\n      <td>HR+</td>\n    </tr>\n    <tr>\n      <th>99</th>\n      <td>Array.130</td>\n      <td>HER2+</td>\n    </tr>\n  </tbody>\n</table>\n<p>100 rows × 2 columns</p>\n</div>"
     },
     "execution_count": 3,
     "metadata": {},
     "output_type": "execute_result"
    }
   ],
   "source": [
    "clin = pd.read_csv(\"../data/Train_clinical.txt\", sep='\\t')\n",
    "\n",
    "clin"
   ],
   "metadata": {
    "collapsed": false,
    "pycharm": {
     "name": "#%%\n"
    }
   }
  },
  {
   "cell_type": "code",
   "execution_count": 4,
   "outputs": [
    {
     "data": {
      "text/plain": "           0     1     2     3     4     5     6     7     8     9     ...  \\\nArray.34      0     0     0     0     0     0     0     0     0     0  ...   \nArray.67      0     0     0     0     0     0     0     0     0     0  ...   \nArray.24      0     0     0     0     0     0     0    -1     0     0  ...   \nArray.22      0     0     0     0     0     0     0     0     0     0  ...   \nArray.36      0     0     0     0     0     0     0     0     0     0  ...   \n...         ...   ...   ...   ...   ...   ...   ...   ...   ...   ...  ...   \nArray.35      0     0     0     0     0     0     0     0     0     0  ...   \nArray.93      0     0     1     1     1     1     1     1     0     0  ...   \nArray.123     0     0     0     0     0     0     0     0     0     0  ...   \nArray.100     0     0     0     0     0     0     0     0     0     0  ...   \nArray.134    -1    -1    -1    -1    -1    -1    -1    -1    -1    -1  ...   \n\n           2824  2825  2826  2827  2828  2829  2830  2831  2832  2833  \nArray.34      1     1     1     1     1     1     1     1     1     1  \nArray.67      1     1     1     1     1     1     1     1     1     1  \nArray.24      0     0     0     0     0     0     0     0     0     0  \nArray.22      1     1     1     1     1     1     1     1     1     1  \nArray.36      1     1     0     1     1     1     1     1     1     1  \n...         ...   ...   ...   ...   ...   ...   ...   ...   ...   ...  \nArray.35      1     1     1     1     1     1     1     1     1     1  \nArray.93      1     1     1     1     1     1     1     1     1     1  \nArray.123     1     1     1     1     1     1     1     1     1     1  \nArray.100     1     1     1     1     1     1     1     1     1     1  \nArray.134     1     1     1     1     1     1     1     1     1     1  \n\n[68 rows x 2834 columns]",
      "text/html": "<div>\n<style scoped>\n    .dataframe tbody tr th:only-of-type {\n        vertical-align: middle;\n    }\n\n    .dataframe tbody tr th {\n        vertical-align: top;\n    }\n\n    .dataframe thead th {\n        text-align: right;\n    }\n</style>\n<table border=\"1\" class=\"dataframe\">\n  <thead>\n    <tr style=\"text-align: right;\">\n      <th></th>\n      <th>0</th>\n      <th>1</th>\n      <th>2</th>\n      <th>3</th>\n      <th>4</th>\n      <th>5</th>\n      <th>6</th>\n      <th>7</th>\n      <th>8</th>\n      <th>9</th>\n      <th>...</th>\n      <th>2824</th>\n      <th>2825</th>\n      <th>2826</th>\n      <th>2827</th>\n      <th>2828</th>\n      <th>2829</th>\n      <th>2830</th>\n      <th>2831</th>\n      <th>2832</th>\n      <th>2833</th>\n    </tr>\n  </thead>\n  <tbody>\n    <tr>\n      <th>Array.34</th>\n      <td>0</td>\n      <td>0</td>\n      <td>0</td>\n      <td>0</td>\n      <td>0</td>\n      <td>0</td>\n      <td>0</td>\n      <td>0</td>\n      <td>0</td>\n      <td>0</td>\n      <td>...</td>\n      <td>1</td>\n      <td>1</td>\n      <td>1</td>\n      <td>1</td>\n      <td>1</td>\n      <td>1</td>\n      <td>1</td>\n      <td>1</td>\n      <td>1</td>\n      <td>1</td>\n    </tr>\n    <tr>\n      <th>Array.67</th>\n      <td>0</td>\n      <td>0</td>\n      <td>0</td>\n      <td>0</td>\n      <td>0</td>\n      <td>0</td>\n      <td>0</td>\n      <td>0</td>\n      <td>0</td>\n      <td>0</td>\n      <td>...</td>\n      <td>1</td>\n      <td>1</td>\n      <td>1</td>\n      <td>1</td>\n      <td>1</td>\n      <td>1</td>\n      <td>1</td>\n      <td>1</td>\n      <td>1</td>\n      <td>1</td>\n    </tr>\n    <tr>\n      <th>Array.24</th>\n      <td>0</td>\n      <td>0</td>\n      <td>0</td>\n      <td>0</td>\n      <td>0</td>\n      <td>0</td>\n      <td>0</td>\n      <td>-1</td>\n      <td>0</td>\n      <td>0</td>\n      <td>...</td>\n      <td>0</td>\n      <td>0</td>\n      <td>0</td>\n      <td>0</td>\n      <td>0</td>\n      <td>0</td>\n      <td>0</td>\n      <td>0</td>\n      <td>0</td>\n      <td>0</td>\n    </tr>\n    <tr>\n      <th>Array.22</th>\n      <td>0</td>\n      <td>0</td>\n      <td>0</td>\n      <td>0</td>\n      <td>0</td>\n      <td>0</td>\n      <td>0</td>\n      <td>0</td>\n      <td>0</td>\n      <td>0</td>\n      <td>...</td>\n      <td>1</td>\n      <td>1</td>\n      <td>1</td>\n      <td>1</td>\n      <td>1</td>\n      <td>1</td>\n      <td>1</td>\n      <td>1</td>\n      <td>1</td>\n      <td>1</td>\n    </tr>\n    <tr>\n      <th>Array.36</th>\n      <td>0</td>\n      <td>0</td>\n      <td>0</td>\n      <td>0</td>\n      <td>0</td>\n      <td>0</td>\n      <td>0</td>\n      <td>0</td>\n      <td>0</td>\n      <td>0</td>\n      <td>...</td>\n      <td>1</td>\n      <td>1</td>\n      <td>0</td>\n      <td>1</td>\n      <td>1</td>\n      <td>1</td>\n      <td>1</td>\n      <td>1</td>\n      <td>1</td>\n      <td>1</td>\n    </tr>\n    <tr>\n      <th>...</th>\n      <td>...</td>\n      <td>...</td>\n      <td>...</td>\n      <td>...</td>\n      <td>...</td>\n      <td>...</td>\n      <td>...</td>\n      <td>...</td>\n      <td>...</td>\n      <td>...</td>\n      <td>...</td>\n      <td>...</td>\n      <td>...</td>\n      <td>...</td>\n      <td>...</td>\n      <td>...</td>\n      <td>...</td>\n      <td>...</td>\n      <td>...</td>\n      <td>...</td>\n      <td>...</td>\n    </tr>\n    <tr>\n      <th>Array.35</th>\n      <td>0</td>\n      <td>0</td>\n      <td>0</td>\n      <td>0</td>\n      <td>0</td>\n      <td>0</td>\n      <td>0</td>\n      <td>0</td>\n      <td>0</td>\n      <td>0</td>\n      <td>...</td>\n      <td>1</td>\n      <td>1</td>\n      <td>1</td>\n      <td>1</td>\n      <td>1</td>\n      <td>1</td>\n      <td>1</td>\n      <td>1</td>\n      <td>1</td>\n      <td>1</td>\n    </tr>\n    <tr>\n      <th>Array.93</th>\n      <td>0</td>\n      <td>0</td>\n      <td>1</td>\n      <td>1</td>\n      <td>1</td>\n      <td>1</td>\n      <td>1</td>\n      <td>1</td>\n      <td>0</td>\n      <td>0</td>\n      <td>...</td>\n      <td>1</td>\n      <td>1</td>\n      <td>1</td>\n      <td>1</td>\n      <td>1</td>\n      <td>1</td>\n      <td>1</td>\n      <td>1</td>\n      <td>1</td>\n      <td>1</td>\n    </tr>\n    <tr>\n      <th>Array.123</th>\n      <td>0</td>\n      <td>0</td>\n      <td>0</td>\n      <td>0</td>\n      <td>0</td>\n      <td>0</td>\n      <td>0</td>\n      <td>0</td>\n      <td>0</td>\n      <td>0</td>\n      <td>...</td>\n      <td>1</td>\n      <td>1</td>\n      <td>1</td>\n      <td>1</td>\n      <td>1</td>\n      <td>1</td>\n      <td>1</td>\n      <td>1</td>\n      <td>1</td>\n      <td>1</td>\n    </tr>\n    <tr>\n      <th>Array.100</th>\n      <td>0</td>\n      <td>0</td>\n      <td>0</td>\n      <td>0</td>\n      <td>0</td>\n      <td>0</td>\n      <td>0</td>\n      <td>0</td>\n      <td>0</td>\n      <td>0</td>\n      <td>...</td>\n      <td>1</td>\n      <td>1</td>\n      <td>1</td>\n      <td>1</td>\n      <td>1</td>\n      <td>1</td>\n      <td>1</td>\n      <td>1</td>\n      <td>1</td>\n      <td>1</td>\n    </tr>\n    <tr>\n      <th>Array.134</th>\n      <td>-1</td>\n      <td>-1</td>\n      <td>-1</td>\n      <td>-1</td>\n      <td>-1</td>\n      <td>-1</td>\n      <td>-1</td>\n      <td>-1</td>\n      <td>-1</td>\n      <td>-1</td>\n      <td>...</td>\n      <td>1</td>\n      <td>1</td>\n      <td>1</td>\n      <td>1</td>\n      <td>1</td>\n      <td>1</td>\n      <td>1</td>\n      <td>1</td>\n      <td>1</td>\n      <td>1</td>\n    </tr>\n  </tbody>\n</table>\n<p>68 rows × 2834 columns</p>\n</div>"
     },
     "execution_count": 4,
     "metadata": {},
     "output_type": "execute_result"
    }
   ],
   "source": [
    "X=call[clin[clin['Subgroup']!='HER2+']['Sample']].T\n",
    "\n",
    "X"
   ],
   "metadata": {
    "collapsed": false,
    "pycharm": {
     "name": "#%%\n"
    }
   }
  },
  {
   "cell_type": "code",
   "execution_count": 5,
   "outputs": [
    {
     "data": {
      "text/plain": "Sample\nArray.34            HR+\nArray.67            HR+\nArray.24     Triple Neg\nArray.22     Triple Neg\nArray.36            HR+\n                ...    \nArray.35            HR+\nArray.93     Triple Neg\nArray.123           HR+\nArray.100           HR+\nArray.134           HR+\nName: Subgroup, Length: 68, dtype: object"
     },
     "execution_count": 5,
     "metadata": {},
     "output_type": "execute_result"
    }
   ],
   "source": [
    "y = clin[clin['Subgroup']!='HER2+'].set_index('Sample')['Subgroup']\n",
    "\n",
    "y"
   ],
   "metadata": {
    "collapsed": false,
    "pycharm": {
     "name": "#%%\n"
    }
   }
  },
  {
   "cell_type": "code",
   "execution_count": 6,
   "outputs": [],
   "source": [
    "folds_file = '../data/folds.pickle'\n",
    "with open(folds_file, 'rb') as fid:\n",
    "    outer_cross_val = pickle.load(fid)\n"
   ],
   "metadata": {
    "collapsed": false,
    "pycharm": {
     "name": "#%%\n"
    }
   }
  },
  {
   "cell_type": "markdown",
   "source": [
    "# Baseline\n",
    "Running xgboost on all regions. We reduce depth of trees in xgboost to make sure we get the simplest model since we have almost no data."
   ],
   "metadata": {
    "collapsed": false,
    "pycharm": {
     "name": "#%% md\n"
    }
   }
  },
  {
   "cell_type": "code",
   "execution_count": 7,
   "outputs": [],
   "source": [
    "X_train_list, y_train_list = [], []\n",
    "X_val_list, y_val_list = [], []\n",
    "\n",
    "for split in outer_cross_val:\n",
    "    inner_cross_val, test_index = split\n",
    "    for train_index, val_index in inner_cross_val:\n",
    "        X_train, y_train = X.iloc[train_index,:], y[train_index]\n",
    "        X_val, y_val = X.iloc[val_index,:], y[val_index]\n",
    "\n",
    "        X_train_list.append(X_train)\n",
    "        y_train_list.append(y_train)\n",
    "\n",
    "        X_val_list.append(X_val)\n",
    "        y_val_list.append(y_val)"
   ],
   "metadata": {
    "collapsed": false,
    "pycharm": {
     "name": "#%%\n"
    }
   }
  },
  {
   "cell_type": "code",
   "execution_count": 8,
   "outputs": [
    {
     "name": "stdout",
     "output_type": "stream",
     "text": [
      "0.7738095238095238 0.16566022654094245\n",
      "0.5308816787381823 0.2994168117777798\n"
     ]
    }
   ],
   "source": [
    "accuracy_list = []\n",
    "av_logloss_list = []\n",
    "for (X_train, y_train, X_val, y_val) in zip(X_train_list, y_train_list, X_val_list, y_val_list):\n",
    "    model = XGBClassifier(max_depth=1, objective='binary:logistic', random_state=12345)\n",
    "    model.fit(X_train, y_train=='HR+')\n",
    "\n",
    "    y_pred = model.predict_proba(X_val)[:,1]\n",
    "    predictions = [round(value) for value in y_pred]\n",
    "    accuracy = accuracy_score(y_val=='HR+', predictions)\n",
    "    av_logloss = log_loss(y_true=y_val=='HR+',labels=[True,False], y_pred=y_pred)\n",
    "\n",
    "    accuracy_list.append(accuracy)\n",
    "    av_logloss_list.append(av_logloss)\n",
    "\n",
    "print(np.mean(accuracy_list),np.std(accuracy_list))\n",
    "print(np.mean(av_logloss_list),np.std(av_logloss_list))\n"
   ],
   "metadata": {
    "collapsed": false,
    "pycharm": {
     "name": "#%%\n"
    }
   }
  },
  {
   "cell_type": "code",
   "execution_count": 9,
   "outputs": [
    {
     "data": {
      "text/plain": "Chromosome   1   2    3   4   5    6   7    8    9    10  ...  14  15  16  \\\nArray.34      4   2  -38  -1 -38 -119   3   58  -41   14  ... -23   5  -1   \nArray.67    -53   0  -13 -38 -31  -90   0   78    2  -28  ... -28 -71 -52   \nArray.24   -130 -35  -42 -70 -34 -120 -43   81  -43  -60  ... -74 -50  -4   \nArray.22     73   0   60 -39 -18  -26   2   60    0    3  ...   0  -4 -55   \nArray.36     -9 -34   -3  -4   0   -7  -1  -91   -4   -5  ... -31  -4  -5   \n...         ...  ..  ...  ..  ..  ...  ..  ...  ...  ...  ...  ..  ..  ..   \nArray.35     -1   0   26  -4   0  -55  40    0    2    0  ...  -1  68   1   \nArray.93    173  83   18  -6  -3  178  79 -114  106  112  ...   3   6   2   \nArray.123    22 -25  -21  -3  -2  -58   8  105  -34    0  ... -39 -16 -27   \nArray.100     1   0   -3  -1  -5    0  -1    2    1    0  ...  -5   0  -1   \nArray.134   -67  -1  114  -2   1    3   4   47  -90  -48  ...  -4  -5 -22   \n\nChromosome   17  18  19   20  21  22  23  \nArray.34     -8 -29 -48   64   0  -4  57  \nArray.67   -301  -3 -22    2   0   3  79  \nArray.24     85  35  -2    0  -1  21  33  \nArray.22     -3   0  -1    0   0  -7  66  \nArray.36   -102   0 -14   -9  36 -57  59  \n...         ...  ..  ..  ...  ..  ..  ..  \nArray.35     -4   0  -2    0   0 -56  69  \nArray.93     33  58  70    2  39   7  83  \nArray.123   100  -1 -22   55 -38 -19  41  \nArray.100     2   0   0    0   0  -1  73  \nArray.134   340 -54  -6  111  39 -56  63  \n\n[68 rows x 23 columns]",
      "text/html": "<div>\n<style scoped>\n    .dataframe tbody tr th:only-of-type {\n        vertical-align: middle;\n    }\n\n    .dataframe tbody tr th {\n        vertical-align: top;\n    }\n\n    .dataframe thead th {\n        text-align: right;\n    }\n</style>\n<table border=\"1\" class=\"dataframe\">\n  <thead>\n    <tr style=\"text-align: right;\">\n      <th>Chromosome</th>\n      <th>1</th>\n      <th>2</th>\n      <th>3</th>\n      <th>4</th>\n      <th>5</th>\n      <th>6</th>\n      <th>7</th>\n      <th>8</th>\n      <th>9</th>\n      <th>10</th>\n      <th>...</th>\n      <th>14</th>\n      <th>15</th>\n      <th>16</th>\n      <th>17</th>\n      <th>18</th>\n      <th>19</th>\n      <th>20</th>\n      <th>21</th>\n      <th>22</th>\n      <th>23</th>\n    </tr>\n  </thead>\n  <tbody>\n    <tr>\n      <th>Array.34</th>\n      <td>4</td>\n      <td>2</td>\n      <td>-38</td>\n      <td>-1</td>\n      <td>-38</td>\n      <td>-119</td>\n      <td>3</td>\n      <td>58</td>\n      <td>-41</td>\n      <td>14</td>\n      <td>...</td>\n      <td>-23</td>\n      <td>5</td>\n      <td>-1</td>\n      <td>-8</td>\n      <td>-29</td>\n      <td>-48</td>\n      <td>64</td>\n      <td>0</td>\n      <td>-4</td>\n      <td>57</td>\n    </tr>\n    <tr>\n      <th>Array.67</th>\n      <td>-53</td>\n      <td>0</td>\n      <td>-13</td>\n      <td>-38</td>\n      <td>-31</td>\n      <td>-90</td>\n      <td>0</td>\n      <td>78</td>\n      <td>2</td>\n      <td>-28</td>\n      <td>...</td>\n      <td>-28</td>\n      <td>-71</td>\n      <td>-52</td>\n      <td>-301</td>\n      <td>-3</td>\n      <td>-22</td>\n      <td>2</td>\n      <td>0</td>\n      <td>3</td>\n      <td>79</td>\n    </tr>\n    <tr>\n      <th>Array.24</th>\n      <td>-130</td>\n      <td>-35</td>\n      <td>-42</td>\n      <td>-70</td>\n      <td>-34</td>\n      <td>-120</td>\n      <td>-43</td>\n      <td>81</td>\n      <td>-43</td>\n      <td>-60</td>\n      <td>...</td>\n      <td>-74</td>\n      <td>-50</td>\n      <td>-4</td>\n      <td>85</td>\n      <td>35</td>\n      <td>-2</td>\n      <td>0</td>\n      <td>-1</td>\n      <td>21</td>\n      <td>33</td>\n    </tr>\n    <tr>\n      <th>Array.22</th>\n      <td>73</td>\n      <td>0</td>\n      <td>60</td>\n      <td>-39</td>\n      <td>-18</td>\n      <td>-26</td>\n      <td>2</td>\n      <td>60</td>\n      <td>0</td>\n      <td>3</td>\n      <td>...</td>\n      <td>0</td>\n      <td>-4</td>\n      <td>-55</td>\n      <td>-3</td>\n      <td>0</td>\n      <td>-1</td>\n      <td>0</td>\n      <td>0</td>\n      <td>-7</td>\n      <td>66</td>\n    </tr>\n    <tr>\n      <th>Array.36</th>\n      <td>-9</td>\n      <td>-34</td>\n      <td>-3</td>\n      <td>-4</td>\n      <td>0</td>\n      <td>-7</td>\n      <td>-1</td>\n      <td>-91</td>\n      <td>-4</td>\n      <td>-5</td>\n      <td>...</td>\n      <td>-31</td>\n      <td>-4</td>\n      <td>-5</td>\n      <td>-102</td>\n      <td>0</td>\n      <td>-14</td>\n      <td>-9</td>\n      <td>36</td>\n      <td>-57</td>\n      <td>59</td>\n    </tr>\n    <tr>\n      <th>...</th>\n      <td>...</td>\n      <td>...</td>\n      <td>...</td>\n      <td>...</td>\n      <td>...</td>\n      <td>...</td>\n      <td>...</td>\n      <td>...</td>\n      <td>...</td>\n      <td>...</td>\n      <td>...</td>\n      <td>...</td>\n      <td>...</td>\n      <td>...</td>\n      <td>...</td>\n      <td>...</td>\n      <td>...</td>\n      <td>...</td>\n      <td>...</td>\n      <td>...</td>\n      <td>...</td>\n    </tr>\n    <tr>\n      <th>Array.35</th>\n      <td>-1</td>\n      <td>0</td>\n      <td>26</td>\n      <td>-4</td>\n      <td>0</td>\n      <td>-55</td>\n      <td>40</td>\n      <td>0</td>\n      <td>2</td>\n      <td>0</td>\n      <td>...</td>\n      <td>-1</td>\n      <td>68</td>\n      <td>1</td>\n      <td>-4</td>\n      <td>0</td>\n      <td>-2</td>\n      <td>0</td>\n      <td>0</td>\n      <td>-56</td>\n      <td>69</td>\n    </tr>\n    <tr>\n      <th>Array.93</th>\n      <td>173</td>\n      <td>83</td>\n      <td>18</td>\n      <td>-6</td>\n      <td>-3</td>\n      <td>178</td>\n      <td>79</td>\n      <td>-114</td>\n      <td>106</td>\n      <td>112</td>\n      <td>...</td>\n      <td>3</td>\n      <td>6</td>\n      <td>2</td>\n      <td>33</td>\n      <td>58</td>\n      <td>70</td>\n      <td>2</td>\n      <td>39</td>\n      <td>7</td>\n      <td>83</td>\n    </tr>\n    <tr>\n      <th>Array.123</th>\n      <td>22</td>\n      <td>-25</td>\n      <td>-21</td>\n      <td>-3</td>\n      <td>-2</td>\n      <td>-58</td>\n      <td>8</td>\n      <td>105</td>\n      <td>-34</td>\n      <td>0</td>\n      <td>...</td>\n      <td>-39</td>\n      <td>-16</td>\n      <td>-27</td>\n      <td>100</td>\n      <td>-1</td>\n      <td>-22</td>\n      <td>55</td>\n      <td>-38</td>\n      <td>-19</td>\n      <td>41</td>\n    </tr>\n    <tr>\n      <th>Array.100</th>\n      <td>1</td>\n      <td>0</td>\n      <td>-3</td>\n      <td>-1</td>\n      <td>-5</td>\n      <td>0</td>\n      <td>-1</td>\n      <td>2</td>\n      <td>1</td>\n      <td>0</td>\n      <td>...</td>\n      <td>-5</td>\n      <td>0</td>\n      <td>-1</td>\n      <td>2</td>\n      <td>0</td>\n      <td>0</td>\n      <td>0</td>\n      <td>0</td>\n      <td>-1</td>\n      <td>73</td>\n    </tr>\n    <tr>\n      <th>Array.134</th>\n      <td>-67</td>\n      <td>-1</td>\n      <td>114</td>\n      <td>-2</td>\n      <td>1</td>\n      <td>3</td>\n      <td>4</td>\n      <td>47</td>\n      <td>-90</td>\n      <td>-48</td>\n      <td>...</td>\n      <td>-4</td>\n      <td>-5</td>\n      <td>-22</td>\n      <td>340</td>\n      <td>-54</td>\n      <td>-6</td>\n      <td>111</td>\n      <td>39</td>\n      <td>-56</td>\n      <td>63</td>\n    </tr>\n  </tbody>\n</table>\n<p>68 rows × 23 columns</p>\n</div>"
     },
     "execution_count": 9,
     "metadata": {},
     "output_type": "execute_result"
    }
   ],
   "source": [
    "X_chr=call[clin[clin['Subgroup']!='HER2+']['Sample']].copy()\n",
    "X_chr['Chromosome']=call['Chromosome']\n",
    "X_chr = X_chr.groupby('Chromosome').sum()\n",
    "X_chr=X_chr.T\n",
    "\n",
    "X_chr"
   ],
   "metadata": {
    "collapsed": false,
    "pycharm": {
     "name": "#%%\n"
    }
   }
  },
  {
   "cell_type": "markdown",
   "source": [
    "# Baseline feature engineering\n",
    "Get a sum of features across chromosomes and run xgboost. Slightly better accuracy and lower performance variance on validation set."
   ],
   "metadata": {
    "collapsed": false,
    "pycharm": {
     "name": "#%% md\n"
    }
   }
  },
  {
   "cell_type": "code",
   "execution_count": 10,
   "outputs": [],
   "source": [
    "# X_train_list, y_train_list = [], []\n",
    "# X_val_list, y_val_list = [], []\n",
    "#\n",
    "# for split in outer_cross_val:\n",
    "#     inner_cross_val, test_index = split\n",
    "#     for train_index, val_index in inner_cross_val:\n",
    "#         X_train, y_train = X_chr.iloc[train_index,:], y[train_index]\n",
    "#         X_val, y_val = X_chr.iloc[val_index,:], y[val_index]\n",
    "#\n",
    "#         X_train_list.append(X_train)\n",
    "#         y_train_list.append(y_train)\n",
    "#\n",
    "#         X_val_list.append(X_val)\n",
    "#         y_val_list.append(y_val)"
   ],
   "metadata": {
    "collapsed": false,
    "pycharm": {
     "name": "#%%\n"
    }
   }
  },
  {
   "cell_type": "code",
   "execution_count": 11,
   "outputs": [],
   "source": [
    "# accuracy_list = []\n",
    "# av_logloss_list = []\n",
    "#\n",
    "# for (X_train, y_train, X_val, y_val) in zip(X_train_list, y_train_list, X_val_list, y_val_list):\n",
    "#     model = XGBClassifier(max_depth=1, objective='binary:logistic', random_state=12345)\n",
    "#     model.fit(X_train, y_train=='HR+')\n",
    "#\n",
    "#     y_pred = model.predict_proba(X_val)[:,1]\n",
    "#     predictions = [round(value) for value in y_pred]\n",
    "#     accuracy = accuracy_score(y_val=='HR+', predictions)\n",
    "#     av_logloss = log_loss(y_true=y_val=='HR+',labels=[True,False], y_pred=y_pred)\n",
    "#\n",
    "#     accuracy_list.append(accuracy)\n",
    "#     av_logloss_list.append(av_logloss)\n",
    "#\n",
    "# print(np.mean(accuracy_list),np.std(accuracy_list))\n",
    "# print(np.mean(av_logloss_list),np.std(av_logloss_list))"
   ],
   "metadata": {
    "collapsed": false,
    "pycharm": {
     "name": "#%%\n"
    }
   }
  },
  {
   "cell_type": "markdown",
   "source": [
    "Just run everything lol"
   ],
   "metadata": {
    "collapsed": false,
    "pycharm": {
     "name": "#%% md\n"
    }
   }
  },
  {
   "cell_type": "code",
   "execution_count": 23,
   "outputs": [
    {
     "name": "stdout",
     "output_type": "stream",
     "text": [
      "Nearest Neighbors & 0.541 (0.17) & 2.26 (2.76) \\\\\n",
      "\\cline{1-3}\n",
      "Linear SVM & 0.765 (0.158) & 0.516 (0.201) \\\\\n",
      "\\cline{1-3}\n",
      "RBF SVM & 0.359 (0.128) & 0.706 (0.0209) \\\\\n",
      "\\cline{1-3}\n"
     ]
    },
    {
     "ename": "KeyboardInterrupt",
     "evalue": "",
     "output_type": "error",
     "traceback": [
      "\u001B[1;31m---------------------------------------------------------------------------\u001B[0m",
      "\u001B[1;31mKeyboardInterrupt\u001B[0m                         Traceback (most recent call last)",
      "Input \u001B[1;32mIn [23]\u001B[0m, in \u001B[0;36m<cell line: 73>\u001B[1;34m()\u001B[0m\n\u001B[0;32m     69\u001B[0m     \u001B[38;5;66;03m# print('Results for {} model'.format(name))\u001B[39;00m\n\u001B[0;32m     70\u001B[0m     \u001B[38;5;66;03m# print('Accuracy mean: {}, std: {}'.format(np.mean(accuracy_list),np.std(accuracy_list)))\u001B[39;00m\n\u001B[0;32m     71\u001B[0m     \u001B[38;5;66;03m# print('Logloss mean: {}, std: {}'.format(np.mean(av_logloss_list),np.std(av_logloss_list)))\u001B[39;00m\n\u001B[0;32m     73\u001B[0m \u001B[38;5;28;01mfor\u001B[39;00m name, model \u001B[38;5;129;01min\u001B[39;00m \u001B[38;5;28mzip\u001B[39m(names,classifiers):\n\u001B[1;32m---> 74\u001B[0m     \u001B[43mmodel_results\u001B[49m\u001B[43m(\u001B[49m\u001B[43mname\u001B[49m\u001B[43m,\u001B[49m\u001B[43mmodel\u001B[49m\u001B[43m)\u001B[49m\n",
      "Input \u001B[1;32mIn [23]\u001B[0m, in \u001B[0;36mmodel_results\u001B[1;34m(name, model)\u001B[0m\n\u001B[0;32m     52\u001B[0m \u001B[38;5;28;01mfor\u001B[39;00m (X_train, y_train, X_val, y_val) \u001B[38;5;129;01min\u001B[39;00m \u001B[38;5;28mzip\u001B[39m(X_train_list, y_train_list, X_val_list, y_val_list):\n\u001B[0;32m     53\u001B[0m     model\u001B[38;5;241m.\u001B[39mfit(X_train, np\u001B[38;5;241m.\u001B[39mfloat32(y_train\u001B[38;5;241m==\u001B[39m\u001B[38;5;124m'\u001B[39m\u001B[38;5;124mHR+\u001B[39m\u001B[38;5;124m'\u001B[39m))\n\u001B[1;32m---> 55\u001B[0m     y_pred \u001B[38;5;241m=\u001B[39m \u001B[43mmodel\u001B[49m\u001B[38;5;241;43m.\u001B[39;49m\u001B[43mpredict_proba\u001B[49m\u001B[43m(\u001B[49m\u001B[43mX_val\u001B[49m\u001B[43m)\u001B[49m[:,\u001B[38;5;241m1\u001B[39m]\n\u001B[0;32m     56\u001B[0m     predictions \u001B[38;5;241m=\u001B[39m [\u001B[38;5;28mround\u001B[39m(value) \u001B[38;5;28;01mfor\u001B[39;00m value \u001B[38;5;129;01min\u001B[39;00m y_pred]\n\u001B[0;32m     57\u001B[0m     accuracy \u001B[38;5;241m=\u001B[39m accuracy_score(y_val\u001B[38;5;241m==\u001B[39m\u001B[38;5;124m'\u001B[39m\u001B[38;5;124mHR+\u001B[39m\u001B[38;5;124m'\u001B[39m, predictions)\n",
      "File \u001B[1;32mD:\\Github Projects\\B4TM\\venv\\lib\\site-packages\\sklearn\\gaussian_process\\_gpc.py:785\u001B[0m, in \u001B[0;36mGaussianProcessClassifier.predict_proba\u001B[1;34m(self, X)\u001B[0m\n\u001B[0;32m    782\u001B[0m \u001B[38;5;28;01melse\u001B[39;00m:\n\u001B[0;32m    783\u001B[0m     X \u001B[38;5;241m=\u001B[39m \u001B[38;5;28mself\u001B[39m\u001B[38;5;241m.\u001B[39m_validate_data(X, ensure_2d\u001B[38;5;241m=\u001B[39m\u001B[38;5;28;01mFalse\u001B[39;00m, dtype\u001B[38;5;241m=\u001B[39m\u001B[38;5;28;01mNone\u001B[39;00m, reset\u001B[38;5;241m=\u001B[39m\u001B[38;5;28;01mFalse\u001B[39;00m)\n\u001B[1;32m--> 785\u001B[0m \u001B[38;5;28;01mreturn\u001B[39;00m \u001B[38;5;28;43mself\u001B[39;49m\u001B[38;5;241;43m.\u001B[39;49m\u001B[43mbase_estimator_\u001B[49m\u001B[38;5;241;43m.\u001B[39;49m\u001B[43mpredict_proba\u001B[49m\u001B[43m(\u001B[49m\u001B[43mX\u001B[49m\u001B[43m)\u001B[49m\n",
      "File \u001B[1;32mD:\\Github Projects\\B4TM\\venv\\lib\\site-packages\\sklearn\\gaussian_process\\_gpc.py:306\u001B[0m, in \u001B[0;36m_BinaryGaussianProcessClassifierLaplace.predict_proba\u001B[1;34m(self, X)\u001B[0m\n\u001B[0;32m    303\u001B[0m check_is_fitted(\u001B[38;5;28mself\u001B[39m)\n\u001B[0;32m    305\u001B[0m \u001B[38;5;66;03m# Based on Algorithm 3.2 of GPML\u001B[39;00m\n\u001B[1;32m--> 306\u001B[0m K_star \u001B[38;5;241m=\u001B[39m \u001B[38;5;28;43mself\u001B[39;49m\u001B[38;5;241;43m.\u001B[39;49m\u001B[43mkernel_\u001B[49m\u001B[43m(\u001B[49m\u001B[38;5;28;43mself\u001B[39;49m\u001B[38;5;241;43m.\u001B[39;49m\u001B[43mX_train_\u001B[49m\u001B[43m,\u001B[49m\u001B[43m \u001B[49m\u001B[43mX\u001B[49m\u001B[43m)\u001B[49m  \u001B[38;5;66;03m# K_star =k(x_star)\u001B[39;00m\n\u001B[0;32m    307\u001B[0m f_star \u001B[38;5;241m=\u001B[39m K_star\u001B[38;5;241m.\u001B[39mT\u001B[38;5;241m.\u001B[39mdot(\u001B[38;5;28mself\u001B[39m\u001B[38;5;241m.\u001B[39my_train_ \u001B[38;5;241m-\u001B[39m \u001B[38;5;28mself\u001B[39m\u001B[38;5;241m.\u001B[39mpi_)  \u001B[38;5;66;03m# Line 4\u001B[39;00m\n\u001B[0;32m    308\u001B[0m v \u001B[38;5;241m=\u001B[39m solve(\u001B[38;5;28mself\u001B[39m\u001B[38;5;241m.\u001B[39mL_, \u001B[38;5;28mself\u001B[39m\u001B[38;5;241m.\u001B[39mW_sr_[:, np\u001B[38;5;241m.\u001B[39mnewaxis] \u001B[38;5;241m*\u001B[39m K_star)  \u001B[38;5;66;03m# Line 5\u001B[39;00m\n",
      "File \u001B[1;32mD:\\Github Projects\\B4TM\\venv\\lib\\site-packages\\sklearn\\gaussian_process\\kernels.py:946\u001B[0m, in \u001B[0;36mProduct.__call__\u001B[1;34m(self, X, Y, eval_gradient)\u001B[0m\n\u001B[0;32m    942\u001B[0m     \u001B[38;5;28;01mreturn\u001B[39;00m K1 \u001B[38;5;241m*\u001B[39m K2, np\u001B[38;5;241m.\u001B[39mdstack(\n\u001B[0;32m    943\u001B[0m         (K1_gradient \u001B[38;5;241m*\u001B[39m K2[:, :, np\u001B[38;5;241m.\u001B[39mnewaxis], K2_gradient \u001B[38;5;241m*\u001B[39m K1[:, :, np\u001B[38;5;241m.\u001B[39mnewaxis])\n\u001B[0;32m    944\u001B[0m     )\n\u001B[0;32m    945\u001B[0m \u001B[38;5;28;01melse\u001B[39;00m:\n\u001B[1;32m--> 946\u001B[0m     \u001B[38;5;28;01mreturn\u001B[39;00m \u001B[38;5;28mself\u001B[39m\u001B[38;5;241m.\u001B[39mk1(X, Y) \u001B[38;5;241m*\u001B[39m \u001B[38;5;28;43mself\u001B[39;49m\u001B[38;5;241;43m.\u001B[39;49m\u001B[43mk2\u001B[49m\u001B[43m(\u001B[49m\u001B[43mX\u001B[49m\u001B[43m,\u001B[49m\u001B[43m \u001B[49m\u001B[43mY\u001B[49m\u001B[43m)\u001B[49m\n",
      "File \u001B[1;32mD:\\Github Projects\\B4TM\\venv\\lib\\site-packages\\sklearn\\gaussian_process\\kernels.py:1544\u001B[0m, in \u001B[0;36mRBF.__call__\u001B[1;34m(self, X, Y, eval_gradient)\u001B[0m\n\u001B[0;32m   1542\u001B[0m     \u001B[38;5;28;01mif\u001B[39;00m eval_gradient:\n\u001B[0;32m   1543\u001B[0m         \u001B[38;5;28;01mraise\u001B[39;00m \u001B[38;5;167;01mValueError\u001B[39;00m(\u001B[38;5;124m\"\u001B[39m\u001B[38;5;124mGradient can only be evaluated when Y is None.\u001B[39m\u001B[38;5;124m\"\u001B[39m)\n\u001B[1;32m-> 1544\u001B[0m     dists \u001B[38;5;241m=\u001B[39m cdist(\u001B[43mX\u001B[49m\u001B[43m \u001B[49m\u001B[38;5;241;43m/\u001B[39;49m\u001B[43m \u001B[49m\u001B[43mlength_scale\u001B[49m, Y \u001B[38;5;241m/\u001B[39m length_scale, metric\u001B[38;5;241m=\u001B[39m\u001B[38;5;124m\"\u001B[39m\u001B[38;5;124msqeuclidean\u001B[39m\u001B[38;5;124m\"\u001B[39m)\n\u001B[0;32m   1545\u001B[0m     K \u001B[38;5;241m=\u001B[39m np\u001B[38;5;241m.\u001B[39mexp(\u001B[38;5;241m-\u001B[39m\u001B[38;5;241m0.5\u001B[39m \u001B[38;5;241m*\u001B[39m dists)\n\u001B[0;32m   1547\u001B[0m \u001B[38;5;28;01mif\u001B[39;00m eval_gradient:\n",
      "\u001B[1;31mKeyboardInterrupt\u001B[0m: "
     ]
    }
   ],
   "source": [
    "import joblib\n",
    "from lightgbm import LGBMClassifier\n",
    "from sklearn.discriminant_analysis import QuadraticDiscriminantAnalysis\n",
    "from sklearn.naive_bayes import GaussianNB\n",
    "from sklearn.tree import DecisionTreeClassifier\n",
    "from sklearn.gaussian_process import GaussianProcessClassifier\n",
    "from sklearn.gaussian_process.kernels import RBF\n",
    "from sklearn.svm import SVC\n",
    "from sklearn.neighbors import KNeighborsClassifier\n",
    "from sklearn.ensemble import RandomForestClassifier, AdaBoostClassifier\n",
    "\n",
    "names = [\n",
    "    \"Nearest Neighbors\",\n",
    "    \"Linear SVM\",\n",
    "    \"RBF SVM\",\n",
    "    \"Gaussian Process\",\n",
    "    \"Decision Tree\",\n",
    "    \"Random Forest\",\n",
    "    \"AdaBoost\",\n",
    "    \"Naive Bayes\",\n",
    "    \"Logistic Regression\",\n",
    "    \"Ridge Regression\",\n",
    "    \"Lasso Regression\",\n",
    "    \"ElasticNet Regression\",\n",
    "    \"XGBoost\",\n",
    "    \"Light Gradient Boosting Machine\",\n",
    "]\n",
    "\n",
    "classifiers = [\n",
    "    KNeighborsClassifier(3),\n",
    "    SVC(kernel=\"linear\", C=0.025, probability=True,random_state=12345),\n",
    "    SVC(gamma=2, C=1, probability=True,random_state=12345),\n",
    "    GaussianProcessClassifier(1.0 * RBF(1.0),random_state=12345),\n",
    "    DecisionTreeClassifier(max_depth=5,random_state=12345),\n",
    "    RandomForestClassifier(random_state=12345),\n",
    "    AdaBoostClassifier(random_state=12345),\n",
    "    GaussianNB(),\n",
    "    LogisticRegression(penalty='none',solver='saga', max_iter=10000,random_state=12345),\n",
    "    LogisticRegression(penalty='l1',solver='saga', max_iter=10000,random_state=12345),\n",
    "    LogisticRegression(penalty='l2',solver='saga', max_iter=10000,random_state=12345),\n",
    "    LogisticRegression(penalty = 'elasticnet',solver='saga',\n",
    "                       l1_ratio=0.5, max_iter=10000,random_state=12345),\n",
    "    XGBClassifier(objective='binary:logistic', random_state=12345),\n",
    "    LGBMClassifier(random_state=12345)\n",
    "]\n",
    "\n",
    "def model_results(name,model):\n",
    "\n",
    "    accuracy_list = []\n",
    "    av_logloss_list = []\n",
    "\n",
    "    for (X_train, y_train, X_val, y_val) in zip(X_train_list, y_train_list, X_val_list, y_val_list):\n",
    "        model.fit(X_train, np.float32(y_train=='HR+'))\n",
    "\n",
    "        y_pred = model.predict_proba(X_val)[:,1]\n",
    "        predictions = [round(value) for value in y_pred]\n",
    "        accuracy = accuracy_score(y_val=='HR+', predictions)\n",
    "        av_logloss = log_loss(y_true=y_val=='HR+',labels=[True,False], y_pred=y_pred)\n",
    "\n",
    "        accuracy_list.append(accuracy)\n",
    "        av_logloss_list.append(av_logloss)\n",
    "    print('{} & {:.3} ({:.3}) & {:.3} ({:.3}) \\\\\\\\'.format(\n",
    "        name,\n",
    "        np.mean(accuracy_list),np.std(accuracy_list),\n",
    "        np.mean(av_logloss_list),np.std(av_logloss_list))\n",
    "    )\n",
    "    print(r'\\cline{1-3}')\n",
    "    joblib.dump(model, f'{name}.pkl')\n",
    "    # print('Results for {} model'.format(name))\n",
    "    # print('Accuracy mean: {}, std: {}'.format(np.mean(accuracy_list),np.std(accuracy_list)))\n",
    "    # print('Logloss mean: {}, std: {}'.format(np.mean(av_logloss_list),np.std(av_logloss_list)))\n",
    "\n",
    "for name, model in zip(names,classifiers):\n",
    "    model_results(name,model)"
   ],
   "metadata": {
    "collapsed": false,
    "pycharm": {
     "name": "#%%\n"
    }
   }
  },
  {
   "cell_type": "markdown",
   "source": [
    "## Generate results for validation_call"
   ],
   "metadata": {
    "collapsed": false,
    "pycharm": {
     "name": "#%% md\n"
    }
   }
  },
  {
   "cell_type": "code",
   "execution_count": 60,
   "outputs": [
    {
     "data": {
      "text/plain": "      Chromosome      Start        End  Nclone  Array.1  Array.61  Array.70  \\\n0              1       2927      43870       3        0         0         1   \n1              1      85022     216735       4        0         0         1   \n2              1     370546     372295       4        0         0         1   \n3              1     471671     786483       5        0         0         1   \n4              1     792533     907406      13        0         0         1   \n...          ...        ...        ...     ...      ...       ...       ...   \n2829          23  153062077  153452633      57        1         1         2   \n2830          23  153466463  153491568       4        1         0         2   \n2831          23  153504394  153933426      55        1         2         2   \n2832          23  153938998  153989329       5        1         2         2   \n2833          23  153997146  154492924      43        1         1         2   \n\n      Array.14  Array.91  Array.58  ...  Array.120  Array.108  Array.81  \\\n0           -1         0         1  ...          0          0         0   \n1           -1         0         1  ...          0          0         0   \n2           -1         0        -1  ...          0          0         0   \n3           -1         0         1  ...          0          0         0   \n4           -1         0         1  ...          0          0         0   \n...        ...       ...       ...  ...        ...        ...       ...   \n2829         1         1         1  ...          1          1         1   \n2830         1         1         1  ...          1          1         1   \n2831         1         1         1  ...          1          1         1   \n2832         1         1         1  ...          1          2         1   \n2833         1         1         1  ...          1          1         1   \n\n      Array.126  Array.92  Array.160  Array.66  Array.83  Array.128  Array.63  \n0             0         0          0         0         0         -1         0  \n1             0         0          0        -1         0         -1         0  \n2             0         0          0        -1         0         -1         0  \n3             0         0          0        -1         0         -1         0  \n4             0         0          0        -1         0         -1         0  \n...         ...       ...        ...       ...       ...        ...       ...  \n2829          1         1          1         1         1          1         1  \n2830          1         1          1         1         1          1         1  \n2831          1         1          1         1         1          1         1  \n2832          1         1          1         1         1          1         1  \n2833          1         1          1         1         1          1         1  \n\n[2834 rows x 61 columns]",
      "text/html": "<div>\n<style scoped>\n    .dataframe tbody tr th:only-of-type {\n        vertical-align: middle;\n    }\n\n    .dataframe tbody tr th {\n        vertical-align: top;\n    }\n\n    .dataframe thead th {\n        text-align: right;\n    }\n</style>\n<table border=\"1\" class=\"dataframe\">\n  <thead>\n    <tr style=\"text-align: right;\">\n      <th></th>\n      <th>Chromosome</th>\n      <th>Start</th>\n      <th>End</th>\n      <th>Nclone</th>\n      <th>Array.1</th>\n      <th>Array.61</th>\n      <th>Array.70</th>\n      <th>Array.14</th>\n      <th>Array.91</th>\n      <th>Array.58</th>\n      <th>...</th>\n      <th>Array.120</th>\n      <th>Array.108</th>\n      <th>Array.81</th>\n      <th>Array.126</th>\n      <th>Array.92</th>\n      <th>Array.160</th>\n      <th>Array.66</th>\n      <th>Array.83</th>\n      <th>Array.128</th>\n      <th>Array.63</th>\n    </tr>\n  </thead>\n  <tbody>\n    <tr>\n      <th>0</th>\n      <td>1</td>\n      <td>2927</td>\n      <td>43870</td>\n      <td>3</td>\n      <td>0</td>\n      <td>0</td>\n      <td>1</td>\n      <td>-1</td>\n      <td>0</td>\n      <td>1</td>\n      <td>...</td>\n      <td>0</td>\n      <td>0</td>\n      <td>0</td>\n      <td>0</td>\n      <td>0</td>\n      <td>0</td>\n      <td>0</td>\n      <td>0</td>\n      <td>-1</td>\n      <td>0</td>\n    </tr>\n    <tr>\n      <th>1</th>\n      <td>1</td>\n      <td>85022</td>\n      <td>216735</td>\n      <td>4</td>\n      <td>0</td>\n      <td>0</td>\n      <td>1</td>\n      <td>-1</td>\n      <td>0</td>\n      <td>1</td>\n      <td>...</td>\n      <td>0</td>\n      <td>0</td>\n      <td>0</td>\n      <td>0</td>\n      <td>0</td>\n      <td>0</td>\n      <td>-1</td>\n      <td>0</td>\n      <td>-1</td>\n      <td>0</td>\n    </tr>\n    <tr>\n      <th>2</th>\n      <td>1</td>\n      <td>370546</td>\n      <td>372295</td>\n      <td>4</td>\n      <td>0</td>\n      <td>0</td>\n      <td>1</td>\n      <td>-1</td>\n      <td>0</td>\n      <td>-1</td>\n      <td>...</td>\n      <td>0</td>\n      <td>0</td>\n      <td>0</td>\n      <td>0</td>\n      <td>0</td>\n      <td>0</td>\n      <td>-1</td>\n      <td>0</td>\n      <td>-1</td>\n      <td>0</td>\n    </tr>\n    <tr>\n      <th>3</th>\n      <td>1</td>\n      <td>471671</td>\n      <td>786483</td>\n      <td>5</td>\n      <td>0</td>\n      <td>0</td>\n      <td>1</td>\n      <td>-1</td>\n      <td>0</td>\n      <td>1</td>\n      <td>...</td>\n      <td>0</td>\n      <td>0</td>\n      <td>0</td>\n      <td>0</td>\n      <td>0</td>\n      <td>0</td>\n      <td>-1</td>\n      <td>0</td>\n      <td>-1</td>\n      <td>0</td>\n    </tr>\n    <tr>\n      <th>4</th>\n      <td>1</td>\n      <td>792533</td>\n      <td>907406</td>\n      <td>13</td>\n      <td>0</td>\n      <td>0</td>\n      <td>1</td>\n      <td>-1</td>\n      <td>0</td>\n      <td>1</td>\n      <td>...</td>\n      <td>0</td>\n      <td>0</td>\n      <td>0</td>\n      <td>0</td>\n      <td>0</td>\n      <td>0</td>\n      <td>-1</td>\n      <td>0</td>\n      <td>-1</td>\n      <td>0</td>\n    </tr>\n    <tr>\n      <th>...</th>\n      <td>...</td>\n      <td>...</td>\n      <td>...</td>\n      <td>...</td>\n      <td>...</td>\n      <td>...</td>\n      <td>...</td>\n      <td>...</td>\n      <td>...</td>\n      <td>...</td>\n      <td>...</td>\n      <td>...</td>\n      <td>...</td>\n      <td>...</td>\n      <td>...</td>\n      <td>...</td>\n      <td>...</td>\n      <td>...</td>\n      <td>...</td>\n      <td>...</td>\n      <td>...</td>\n    </tr>\n    <tr>\n      <th>2829</th>\n      <td>23</td>\n      <td>153062077</td>\n      <td>153452633</td>\n      <td>57</td>\n      <td>1</td>\n      <td>1</td>\n      <td>2</td>\n      <td>1</td>\n      <td>1</td>\n      <td>1</td>\n      <td>...</td>\n      <td>1</td>\n      <td>1</td>\n      <td>1</td>\n      <td>1</td>\n      <td>1</td>\n      <td>1</td>\n      <td>1</td>\n      <td>1</td>\n      <td>1</td>\n      <td>1</td>\n    </tr>\n    <tr>\n      <th>2830</th>\n      <td>23</td>\n      <td>153466463</td>\n      <td>153491568</td>\n      <td>4</td>\n      <td>1</td>\n      <td>0</td>\n      <td>2</td>\n      <td>1</td>\n      <td>1</td>\n      <td>1</td>\n      <td>...</td>\n      <td>1</td>\n      <td>1</td>\n      <td>1</td>\n      <td>1</td>\n      <td>1</td>\n      <td>1</td>\n      <td>1</td>\n      <td>1</td>\n      <td>1</td>\n      <td>1</td>\n    </tr>\n    <tr>\n      <th>2831</th>\n      <td>23</td>\n      <td>153504394</td>\n      <td>153933426</td>\n      <td>55</td>\n      <td>1</td>\n      <td>2</td>\n      <td>2</td>\n      <td>1</td>\n      <td>1</td>\n      <td>1</td>\n      <td>...</td>\n      <td>1</td>\n      <td>1</td>\n      <td>1</td>\n      <td>1</td>\n      <td>1</td>\n      <td>1</td>\n      <td>1</td>\n      <td>1</td>\n      <td>1</td>\n      <td>1</td>\n    </tr>\n    <tr>\n      <th>2832</th>\n      <td>23</td>\n      <td>153938998</td>\n      <td>153989329</td>\n      <td>5</td>\n      <td>1</td>\n      <td>2</td>\n      <td>2</td>\n      <td>1</td>\n      <td>1</td>\n      <td>1</td>\n      <td>...</td>\n      <td>1</td>\n      <td>2</td>\n      <td>1</td>\n      <td>1</td>\n      <td>1</td>\n      <td>1</td>\n      <td>1</td>\n      <td>1</td>\n      <td>1</td>\n      <td>1</td>\n    </tr>\n    <tr>\n      <th>2833</th>\n      <td>23</td>\n      <td>153997146</td>\n      <td>154492924</td>\n      <td>43</td>\n      <td>1</td>\n      <td>1</td>\n      <td>2</td>\n      <td>1</td>\n      <td>1</td>\n      <td>1</td>\n      <td>...</td>\n      <td>1</td>\n      <td>1</td>\n      <td>1</td>\n      <td>1</td>\n      <td>1</td>\n      <td>1</td>\n      <td>1</td>\n      <td>1</td>\n      <td>1</td>\n      <td>1</td>\n    </tr>\n  </tbody>\n</table>\n<p>2834 rows × 61 columns</p>\n</div>"
     },
     "execution_count": 60,
     "metadata": {},
     "output_type": "execute_result"
    }
   ],
   "source": [
    "Validation_call = pd.read_csv(\"../data/Validation_call.txt\", sep='\\t')\n",
    "Validation_call"
   ],
   "metadata": {
    "collapsed": false,
    "pycharm": {
     "name": "#%%\n"
    }
   }
  },
  {
   "cell_type": "code",
   "execution_count": 65,
   "outputs": [
    {
     "name": "stdout",
     "output_type": "stream",
     "text": [
      "[]\n"
     ]
    },
    {
     "data": {
      "text/plain": "      Chromosome      Start        End  Nclone  Array.1  Array.91  Array.58  \\\n0              1       2927      43870       3        0         0         1   \n1              1      85022     216735       4        0         0         1   \n2              1     370546     372295       4        0         0        -1   \n3              1     471671     786483       5        0         0         1   \n4              1     792533     907406      13        0         0         1   \n...          ...        ...        ...     ...      ...       ...       ...   \n2829          23  153062077  153452633      57        1         1         1   \n2830          23  153466463  153491568       4        1         1         1   \n2831          23  153504394  153933426      55        1         1         1   \n2832          23  153938998  153989329       5        1         1         1   \n2833          23  153997146  154492924      43        1         1         1   \n\n      Array.140  Array.20  Array.133  ...  Array.45  Array.155  Array.26  \\\n0             0         0          0  ...         0          0         0   \n1             0         0          0  ...         0          0         0   \n2             0         0          0  ...         0          0         0   \n3             0         0          0  ...         0          0         0   \n4             0         0          0  ...         0          0         0   \n...         ...       ...        ...  ...       ...        ...       ...   \n2829          1         1          2  ...         1          1         1   \n2830          1         1          0  ...         1          1         1   \n2831          1         1          0  ...         1          1         1   \n2832          1         2          0  ...         1          1         1   \n2833          1         1          0  ...         1          1         1   \n\n      Array.108  Array.126  Array.92  Array.160  Array.66  Array.83  Array.63  \n0             0          0         0          0         0         0         0  \n1             0          0         0          0        -1         0         0  \n2             0          0         0          0        -1         0         0  \n3             0          0         0          0        -1         0         0  \n4             0          0         0          0        -1         0         0  \n...         ...        ...       ...        ...       ...       ...       ...  \n2829          1          1         1          1         1         1         1  \n2830          1          1         1          1         1         1         1  \n2831          1          1         1          1         1         1         1  \n2832          2          1         1          1         1         1         1  \n2833          1          1         1          1         1         1         1  \n\n[2834 rows x 41 columns]",
      "text/html": "<div>\n<style scoped>\n    .dataframe tbody tr th:only-of-type {\n        vertical-align: middle;\n    }\n\n    .dataframe tbody tr th {\n        vertical-align: top;\n    }\n\n    .dataframe thead th {\n        text-align: right;\n    }\n</style>\n<table border=\"1\" class=\"dataframe\">\n  <thead>\n    <tr style=\"text-align: right;\">\n      <th></th>\n      <th>Chromosome</th>\n      <th>Start</th>\n      <th>End</th>\n      <th>Nclone</th>\n      <th>Array.1</th>\n      <th>Array.91</th>\n      <th>Array.58</th>\n      <th>Array.140</th>\n      <th>Array.20</th>\n      <th>Array.133</th>\n      <th>...</th>\n      <th>Array.45</th>\n      <th>Array.155</th>\n      <th>Array.26</th>\n      <th>Array.108</th>\n      <th>Array.126</th>\n      <th>Array.92</th>\n      <th>Array.160</th>\n      <th>Array.66</th>\n      <th>Array.83</th>\n      <th>Array.63</th>\n    </tr>\n  </thead>\n  <tbody>\n    <tr>\n      <th>0</th>\n      <td>1</td>\n      <td>2927</td>\n      <td>43870</td>\n      <td>3</td>\n      <td>0</td>\n      <td>0</td>\n      <td>1</td>\n      <td>0</td>\n      <td>0</td>\n      <td>0</td>\n      <td>...</td>\n      <td>0</td>\n      <td>0</td>\n      <td>0</td>\n      <td>0</td>\n      <td>0</td>\n      <td>0</td>\n      <td>0</td>\n      <td>0</td>\n      <td>0</td>\n      <td>0</td>\n    </tr>\n    <tr>\n      <th>1</th>\n      <td>1</td>\n      <td>85022</td>\n      <td>216735</td>\n      <td>4</td>\n      <td>0</td>\n      <td>0</td>\n      <td>1</td>\n      <td>0</td>\n      <td>0</td>\n      <td>0</td>\n      <td>...</td>\n      <td>0</td>\n      <td>0</td>\n      <td>0</td>\n      <td>0</td>\n      <td>0</td>\n      <td>0</td>\n      <td>0</td>\n      <td>-1</td>\n      <td>0</td>\n      <td>0</td>\n    </tr>\n    <tr>\n      <th>2</th>\n      <td>1</td>\n      <td>370546</td>\n      <td>372295</td>\n      <td>4</td>\n      <td>0</td>\n      <td>0</td>\n      <td>-1</td>\n      <td>0</td>\n      <td>0</td>\n      <td>0</td>\n      <td>...</td>\n      <td>0</td>\n      <td>0</td>\n      <td>0</td>\n      <td>0</td>\n      <td>0</td>\n      <td>0</td>\n      <td>0</td>\n      <td>-1</td>\n      <td>0</td>\n      <td>0</td>\n    </tr>\n    <tr>\n      <th>3</th>\n      <td>1</td>\n      <td>471671</td>\n      <td>786483</td>\n      <td>5</td>\n      <td>0</td>\n      <td>0</td>\n      <td>1</td>\n      <td>0</td>\n      <td>0</td>\n      <td>0</td>\n      <td>...</td>\n      <td>0</td>\n      <td>0</td>\n      <td>0</td>\n      <td>0</td>\n      <td>0</td>\n      <td>0</td>\n      <td>0</td>\n      <td>-1</td>\n      <td>0</td>\n      <td>0</td>\n    </tr>\n    <tr>\n      <th>4</th>\n      <td>1</td>\n      <td>792533</td>\n      <td>907406</td>\n      <td>13</td>\n      <td>0</td>\n      <td>0</td>\n      <td>1</td>\n      <td>0</td>\n      <td>0</td>\n      <td>0</td>\n      <td>...</td>\n      <td>0</td>\n      <td>0</td>\n      <td>0</td>\n      <td>0</td>\n      <td>0</td>\n      <td>0</td>\n      <td>0</td>\n      <td>-1</td>\n      <td>0</td>\n      <td>0</td>\n    </tr>\n    <tr>\n      <th>...</th>\n      <td>...</td>\n      <td>...</td>\n      <td>...</td>\n      <td>...</td>\n      <td>...</td>\n      <td>...</td>\n      <td>...</td>\n      <td>...</td>\n      <td>...</td>\n      <td>...</td>\n      <td>...</td>\n      <td>...</td>\n      <td>...</td>\n      <td>...</td>\n      <td>...</td>\n      <td>...</td>\n      <td>...</td>\n      <td>...</td>\n      <td>...</td>\n      <td>...</td>\n      <td>...</td>\n    </tr>\n    <tr>\n      <th>2829</th>\n      <td>23</td>\n      <td>153062077</td>\n      <td>153452633</td>\n      <td>57</td>\n      <td>1</td>\n      <td>1</td>\n      <td>1</td>\n      <td>1</td>\n      <td>1</td>\n      <td>2</td>\n      <td>...</td>\n      <td>1</td>\n      <td>1</td>\n      <td>1</td>\n      <td>1</td>\n      <td>1</td>\n      <td>1</td>\n      <td>1</td>\n      <td>1</td>\n      <td>1</td>\n      <td>1</td>\n    </tr>\n    <tr>\n      <th>2830</th>\n      <td>23</td>\n      <td>153466463</td>\n      <td>153491568</td>\n      <td>4</td>\n      <td>1</td>\n      <td>1</td>\n      <td>1</td>\n      <td>1</td>\n      <td>1</td>\n      <td>0</td>\n      <td>...</td>\n      <td>1</td>\n      <td>1</td>\n      <td>1</td>\n      <td>1</td>\n      <td>1</td>\n      <td>1</td>\n      <td>1</td>\n      <td>1</td>\n      <td>1</td>\n      <td>1</td>\n    </tr>\n    <tr>\n      <th>2831</th>\n      <td>23</td>\n      <td>153504394</td>\n      <td>153933426</td>\n      <td>55</td>\n      <td>1</td>\n      <td>1</td>\n      <td>1</td>\n      <td>1</td>\n      <td>1</td>\n      <td>0</td>\n      <td>...</td>\n      <td>1</td>\n      <td>1</td>\n      <td>1</td>\n      <td>1</td>\n      <td>1</td>\n      <td>1</td>\n      <td>1</td>\n      <td>1</td>\n      <td>1</td>\n      <td>1</td>\n    </tr>\n    <tr>\n      <th>2832</th>\n      <td>23</td>\n      <td>153938998</td>\n      <td>153989329</td>\n      <td>5</td>\n      <td>1</td>\n      <td>1</td>\n      <td>1</td>\n      <td>1</td>\n      <td>2</td>\n      <td>0</td>\n      <td>...</td>\n      <td>1</td>\n      <td>1</td>\n      <td>1</td>\n      <td>2</td>\n      <td>1</td>\n      <td>1</td>\n      <td>1</td>\n      <td>1</td>\n      <td>1</td>\n      <td>1</td>\n    </tr>\n    <tr>\n      <th>2833</th>\n      <td>23</td>\n      <td>153997146</td>\n      <td>154492924</td>\n      <td>43</td>\n      <td>1</td>\n      <td>1</td>\n      <td>1</td>\n      <td>1</td>\n      <td>1</td>\n      <td>0</td>\n      <td>...</td>\n      <td>1</td>\n      <td>1</td>\n      <td>1</td>\n      <td>1</td>\n      <td>1</td>\n      <td>1</td>\n      <td>1</td>\n      <td>1</td>\n      <td>1</td>\n      <td>1</td>\n    </tr>\n  </tbody>\n</table>\n<p>2834 rows × 41 columns</p>\n</div>"
     },
     "execution_count": 65,
     "metadata": {},
     "output_type": "execute_result"
    }
   ],
   "source": [
    "HER2_list = []\n",
    "HER2_row = Validation_call.loc[2184]\n",
    "\n",
    "for i,v in HER2_row.iteritems():\n",
    "    if v == 2:\n",
    "        HER2_list.append(i)\n",
    "        Validation_call.drop([i], axis=1, inplace=True)\n",
    "print(HER2_list)\n",
    "Validation_call"
   ],
   "metadata": {
    "collapsed": false,
    "pycharm": {
     "name": "#%%\n"
    }
   }
  },
  {
   "cell_type": "code",
   "execution_count": 53,
   "outputs": [
    {
     "data": {
      "text/plain": "           0     1     2     3     4     5     6     7     8     9     ...  \\\nArray.1       0     0     0     0     0     0     0     0     0     0  ...   \nArray.91      0     0     0     0     0     0     0     0     0     0  ...   \nArray.58      1     1    -1     1     1    -1    -1    -1    -1    -1  ...   \nArray.140     0     0     0     0     0     0     0    -1    -1    -1  ...   \nArray.20      0     0     0     0     0     0     0     0     0     0  ...   \nArray.133     0     0     0     0     0     1     1     1     0     0  ...   \nArray.84     -1    -1    -1    -1    -1    -1    -1    -1    -1    -1  ...   \nArray.44      0     0     0     0     0     0     0     0     0     0  ...   \nArray.41      0     0     0     0     0     0     0     0    -1    -1  ...   \nArray.29      0     0     0     0     0     0     0     0     0     0  ...   \nArray.151     0     0     0     0     0     0     0     0     0     0  ...   \nArray.132     0     0     0     0     0     0     0     0     0     0  ...   \nArray.32      0     0     0     0    -1    -1    -1    -1    -1    -1  ...   \nArray.156     1     1     1     1     1     1     1     1     1     1  ...   \nArray.9       0     0     0     0     0     0     0     0     0     0  ...   \nArray.3       0     0     0     0     0     0     0     0     0     0  ...   \nArray.136     0     0     0     0     0     0     0     0     0     0  ...   \nArray.103     0     0     0     0     0     0     0     0     0     0  ...   \nArray.97      1     0     0     0     0     0     0     0     0     0  ...   \nArray.40      0     0     0     0     0     0     0     0     0     0  ...   \nArray.147    -1    -1    -1    -1    -1    -1    -1    -1    -1    -1  ...   \nArray.161     0     0     0     0     0     1     1     0     1     1  ...   \nArray.127     1     1     1     0     0     1     1     0     1     1  ...   \nArray.119    -1    -1    -1    -1    -1     0     0    -1    -1    -1  ...   \nArray.157     0     0     0     0     0     0     0     0     0     0  ...   \nArray.115     1     1    -1    -1    -1    -1    -1    -1    -1    -1  ...   \nArray.158     0     0     0     0     0     0     0     0     0     0  ...   \nArray.45      0     0     0     0     0     0     0     0     0     0  ...   \nArray.155     0     0     0     0     0     0     0     0     0     0  ...   \nArray.26      0     0     0     0     0     0     0     0     0     0  ...   \nArray.108     0     0     0     0     0     0     0    -1     0     0  ...   \nArray.126     0     0     0     0     0     0     0     0     0     0  ...   \nArray.92      0     0     0     0     0     0     0    -1     0     0  ...   \nArray.160     0     0     0     0     0     0     0     0     0     0  ...   \nArray.66      0    -1    -1    -1    -1    -1    -1    -1    -1    -1  ...   \nArray.83      0     0     0     0     0     0     0     0     0     0  ...   \nArray.63      0     0     0     0     0     0     0     0     0     0  ...   \n\n           2824  2825  2826  2827  2828  2829  2830  2831  2832  2833  \nArray.1       1     1     1     1     2     1     1     1     1     1  \nArray.91      1     1     1     1     1     1     1     1     1     1  \nArray.58      1     1     1     1     1     1     1     1     1     1  \nArray.140     1     1     1     1     0     1     1     1     1     1  \nArray.20      1     1     1     1     1     1     1     1     2     1  \nArray.133     2     1     1     2     2     2     0     0     0     0  \nArray.84      1     1     1     1     1     1     1     1     1     1  \nArray.44      1     1     1     1     1     1     1     1     1     1  \nArray.41      1     1     1     1     1     1     1     1     1     1  \nArray.29      1     1     1     1     1     1     1     1     2     1  \nArray.151     1     1     1     1     1     1     1     1     1     1  \nArray.132     1     1     1     1     2     1     1     1     1     1  \nArray.32      1     1     1     1     1     1     1     1     1     1  \nArray.156     1     1     1     1     1     1     1     1     1     1  \nArray.9       0     0     0     0     0     0     0     0     0     0  \nArray.3       1     1     1     1     1     1     1     1     1     1  \nArray.136     0     0     0     0     0     0     0     0     0     0  \nArray.103     1     1     1     1     1     1     1     1     2     1  \nArray.97      1     1     1     1     1     1     1     1     1     1  \nArray.40      1     1     1     1     1     1     1     1     1     1  \nArray.147     1     1     1     1     1     1     1     1     1     1  \nArray.161     1     1     1     1     1     1     1     1     1     1  \nArray.127     1     1     1     1     1     1     1     1     1     1  \nArray.119     0     0     0     0     0     0     0     0     0     0  \nArray.157     1     1     1     1     1     1     1     1     2     1  \nArray.115     2     2     2     2     2     2     2     2     2     2  \nArray.158     1     1     1     1     2     1     1     1     1     1  \nArray.45      1     1     1     1     1     1     1     1     1     1  \nArray.155     1     1     1     1     1     1     1     1     1     1  \nArray.26      1     1     1     1     1     1     1     1     1     1  \nArray.108     1     1     1     1     1     1     1     1     2     1  \nArray.126     1     1     1     1     1     1     1     1     1     1  \nArray.92      1     1     1     1     1     1     1     1     1     1  \nArray.160     1     1     1     1     1     1     1     1     1     1  \nArray.66      1     1     1     1     1     1     1     1     1     1  \nArray.83      1     1     1     1     1     1     1     1     1     1  \nArray.63      1     1     1     1     1     1     1     1     1     1  \n\n[37 rows x 2834 columns]",
      "text/html": "<div>\n<style scoped>\n    .dataframe tbody tr th:only-of-type {\n        vertical-align: middle;\n    }\n\n    .dataframe tbody tr th {\n        vertical-align: top;\n    }\n\n    .dataframe thead th {\n        text-align: right;\n    }\n</style>\n<table border=\"1\" class=\"dataframe\">\n  <thead>\n    <tr style=\"text-align: right;\">\n      <th></th>\n      <th>0</th>\n      <th>1</th>\n      <th>2</th>\n      <th>3</th>\n      <th>4</th>\n      <th>5</th>\n      <th>6</th>\n      <th>7</th>\n      <th>8</th>\n      <th>9</th>\n      <th>...</th>\n      <th>2824</th>\n      <th>2825</th>\n      <th>2826</th>\n      <th>2827</th>\n      <th>2828</th>\n      <th>2829</th>\n      <th>2830</th>\n      <th>2831</th>\n      <th>2832</th>\n      <th>2833</th>\n    </tr>\n  </thead>\n  <tbody>\n    <tr>\n      <th>Array.1</th>\n      <td>0</td>\n      <td>0</td>\n      <td>0</td>\n      <td>0</td>\n      <td>0</td>\n      <td>0</td>\n      <td>0</td>\n      <td>0</td>\n      <td>0</td>\n      <td>0</td>\n      <td>...</td>\n      <td>1</td>\n      <td>1</td>\n      <td>1</td>\n      <td>1</td>\n      <td>2</td>\n      <td>1</td>\n      <td>1</td>\n      <td>1</td>\n      <td>1</td>\n      <td>1</td>\n    </tr>\n    <tr>\n      <th>Array.91</th>\n      <td>0</td>\n      <td>0</td>\n      <td>0</td>\n      <td>0</td>\n      <td>0</td>\n      <td>0</td>\n      <td>0</td>\n      <td>0</td>\n      <td>0</td>\n      <td>0</td>\n      <td>...</td>\n      <td>1</td>\n      <td>1</td>\n      <td>1</td>\n      <td>1</td>\n      <td>1</td>\n      <td>1</td>\n      <td>1</td>\n      <td>1</td>\n      <td>1</td>\n      <td>1</td>\n    </tr>\n    <tr>\n      <th>Array.58</th>\n      <td>1</td>\n      <td>1</td>\n      <td>-1</td>\n      <td>1</td>\n      <td>1</td>\n      <td>-1</td>\n      <td>-1</td>\n      <td>-1</td>\n      <td>-1</td>\n      <td>-1</td>\n      <td>...</td>\n      <td>1</td>\n      <td>1</td>\n      <td>1</td>\n      <td>1</td>\n      <td>1</td>\n      <td>1</td>\n      <td>1</td>\n      <td>1</td>\n      <td>1</td>\n      <td>1</td>\n    </tr>\n    <tr>\n      <th>Array.140</th>\n      <td>0</td>\n      <td>0</td>\n      <td>0</td>\n      <td>0</td>\n      <td>0</td>\n      <td>0</td>\n      <td>0</td>\n      <td>-1</td>\n      <td>-1</td>\n      <td>-1</td>\n      <td>...</td>\n      <td>1</td>\n      <td>1</td>\n      <td>1</td>\n      <td>1</td>\n      <td>0</td>\n      <td>1</td>\n      <td>1</td>\n      <td>1</td>\n      <td>1</td>\n      <td>1</td>\n    </tr>\n    <tr>\n      <th>Array.20</th>\n      <td>0</td>\n      <td>0</td>\n      <td>0</td>\n      <td>0</td>\n      <td>0</td>\n      <td>0</td>\n      <td>0</td>\n      <td>0</td>\n      <td>0</td>\n      <td>0</td>\n      <td>...</td>\n      <td>1</td>\n      <td>1</td>\n      <td>1</td>\n      <td>1</td>\n      <td>1</td>\n      <td>1</td>\n      <td>1</td>\n      <td>1</td>\n      <td>2</td>\n      <td>1</td>\n    </tr>\n    <tr>\n      <th>Array.133</th>\n      <td>0</td>\n      <td>0</td>\n      <td>0</td>\n      <td>0</td>\n      <td>0</td>\n      <td>1</td>\n      <td>1</td>\n      <td>1</td>\n      <td>0</td>\n      <td>0</td>\n      <td>...</td>\n      <td>2</td>\n      <td>1</td>\n      <td>1</td>\n      <td>2</td>\n      <td>2</td>\n      <td>2</td>\n      <td>0</td>\n      <td>0</td>\n      <td>0</td>\n      <td>0</td>\n    </tr>\n    <tr>\n      <th>Array.84</th>\n      <td>-1</td>\n      <td>-1</td>\n      <td>-1</td>\n      <td>-1</td>\n      <td>-1</td>\n      <td>-1</td>\n      <td>-1</td>\n      <td>-1</td>\n      <td>-1</td>\n      <td>-1</td>\n      <td>...</td>\n      <td>1</td>\n      <td>1</td>\n      <td>1</td>\n      <td>1</td>\n      <td>1</td>\n      <td>1</td>\n      <td>1</td>\n      <td>1</td>\n      <td>1</td>\n      <td>1</td>\n    </tr>\n    <tr>\n      <th>Array.44</th>\n      <td>0</td>\n      <td>0</td>\n      <td>0</td>\n      <td>0</td>\n      <td>0</td>\n      <td>0</td>\n      <td>0</td>\n      <td>0</td>\n      <td>0</td>\n      <td>0</td>\n      <td>...</td>\n      <td>1</td>\n      <td>1</td>\n      <td>1</td>\n      <td>1</td>\n      <td>1</td>\n      <td>1</td>\n      <td>1</td>\n      <td>1</td>\n      <td>1</td>\n      <td>1</td>\n    </tr>\n    <tr>\n      <th>Array.41</th>\n      <td>0</td>\n      <td>0</td>\n      <td>0</td>\n      <td>0</td>\n      <td>0</td>\n      <td>0</td>\n      <td>0</td>\n      <td>0</td>\n      <td>-1</td>\n      <td>-1</td>\n      <td>...</td>\n      <td>1</td>\n      <td>1</td>\n      <td>1</td>\n      <td>1</td>\n      <td>1</td>\n      <td>1</td>\n      <td>1</td>\n      <td>1</td>\n      <td>1</td>\n      <td>1</td>\n    </tr>\n    <tr>\n      <th>Array.29</th>\n      <td>0</td>\n      <td>0</td>\n      <td>0</td>\n      <td>0</td>\n      <td>0</td>\n      <td>0</td>\n      <td>0</td>\n      <td>0</td>\n      <td>0</td>\n      <td>0</td>\n      <td>...</td>\n      <td>1</td>\n      <td>1</td>\n      <td>1</td>\n      <td>1</td>\n      <td>1</td>\n      <td>1</td>\n      <td>1</td>\n      <td>1</td>\n      <td>2</td>\n      <td>1</td>\n    </tr>\n    <tr>\n      <th>Array.151</th>\n      <td>0</td>\n      <td>0</td>\n      <td>0</td>\n      <td>0</td>\n      <td>0</td>\n      <td>0</td>\n      <td>0</td>\n      <td>0</td>\n      <td>0</td>\n      <td>0</td>\n      <td>...</td>\n      <td>1</td>\n      <td>1</td>\n      <td>1</td>\n      <td>1</td>\n      <td>1</td>\n      <td>1</td>\n      <td>1</td>\n      <td>1</td>\n      <td>1</td>\n      <td>1</td>\n    </tr>\n    <tr>\n      <th>Array.132</th>\n      <td>0</td>\n      <td>0</td>\n      <td>0</td>\n      <td>0</td>\n      <td>0</td>\n      <td>0</td>\n      <td>0</td>\n      <td>0</td>\n      <td>0</td>\n      <td>0</td>\n      <td>...</td>\n      <td>1</td>\n      <td>1</td>\n      <td>1</td>\n      <td>1</td>\n      <td>2</td>\n      <td>1</td>\n      <td>1</td>\n      <td>1</td>\n      <td>1</td>\n      <td>1</td>\n    </tr>\n    <tr>\n      <th>Array.32</th>\n      <td>0</td>\n      <td>0</td>\n      <td>0</td>\n      <td>0</td>\n      <td>-1</td>\n      <td>-1</td>\n      <td>-1</td>\n      <td>-1</td>\n      <td>-1</td>\n      <td>-1</td>\n      <td>...</td>\n      <td>1</td>\n      <td>1</td>\n      <td>1</td>\n      <td>1</td>\n      <td>1</td>\n      <td>1</td>\n      <td>1</td>\n      <td>1</td>\n      <td>1</td>\n      <td>1</td>\n    </tr>\n    <tr>\n      <th>Array.156</th>\n      <td>1</td>\n      <td>1</td>\n      <td>1</td>\n      <td>1</td>\n      <td>1</td>\n      <td>1</td>\n      <td>1</td>\n      <td>1</td>\n      <td>1</td>\n      <td>1</td>\n      <td>...</td>\n      <td>1</td>\n      <td>1</td>\n      <td>1</td>\n      <td>1</td>\n      <td>1</td>\n      <td>1</td>\n      <td>1</td>\n      <td>1</td>\n      <td>1</td>\n      <td>1</td>\n    </tr>\n    <tr>\n      <th>Array.9</th>\n      <td>0</td>\n      <td>0</td>\n      <td>0</td>\n      <td>0</td>\n      <td>0</td>\n      <td>0</td>\n      <td>0</td>\n      <td>0</td>\n      <td>0</td>\n      <td>0</td>\n      <td>...</td>\n      <td>0</td>\n      <td>0</td>\n      <td>0</td>\n      <td>0</td>\n      <td>0</td>\n      <td>0</td>\n      <td>0</td>\n      <td>0</td>\n      <td>0</td>\n      <td>0</td>\n    </tr>\n    <tr>\n      <th>Array.3</th>\n      <td>0</td>\n      <td>0</td>\n      <td>0</td>\n      <td>0</td>\n      <td>0</td>\n      <td>0</td>\n      <td>0</td>\n      <td>0</td>\n      <td>0</td>\n      <td>0</td>\n      <td>...</td>\n      <td>1</td>\n      <td>1</td>\n      <td>1</td>\n      <td>1</td>\n      <td>1</td>\n      <td>1</td>\n      <td>1</td>\n      <td>1</td>\n      <td>1</td>\n      <td>1</td>\n    </tr>\n    <tr>\n      <th>Array.136</th>\n      <td>0</td>\n      <td>0</td>\n      <td>0</td>\n      <td>0</td>\n      <td>0</td>\n      <td>0</td>\n      <td>0</td>\n      <td>0</td>\n      <td>0</td>\n      <td>0</td>\n      <td>...</td>\n      <td>0</td>\n      <td>0</td>\n      <td>0</td>\n      <td>0</td>\n      <td>0</td>\n      <td>0</td>\n      <td>0</td>\n      <td>0</td>\n      <td>0</td>\n      <td>0</td>\n    </tr>\n    <tr>\n      <th>Array.103</th>\n      <td>0</td>\n      <td>0</td>\n      <td>0</td>\n      <td>0</td>\n      <td>0</td>\n      <td>0</td>\n      <td>0</td>\n      <td>0</td>\n      <td>0</td>\n      <td>0</td>\n      <td>...</td>\n      <td>1</td>\n      <td>1</td>\n      <td>1</td>\n      <td>1</td>\n      <td>1</td>\n      <td>1</td>\n      <td>1</td>\n      <td>1</td>\n      <td>2</td>\n      <td>1</td>\n    </tr>\n    <tr>\n      <th>Array.97</th>\n      <td>1</td>\n      <td>0</td>\n      <td>0</td>\n      <td>0</td>\n      <td>0</td>\n      <td>0</td>\n      <td>0</td>\n      <td>0</td>\n      <td>0</td>\n      <td>0</td>\n      <td>...</td>\n      <td>1</td>\n      <td>1</td>\n      <td>1</td>\n      <td>1</td>\n      <td>1</td>\n      <td>1</td>\n      <td>1</td>\n      <td>1</td>\n      <td>1</td>\n      <td>1</td>\n    </tr>\n    <tr>\n      <th>Array.40</th>\n      <td>0</td>\n      <td>0</td>\n      <td>0</td>\n      <td>0</td>\n      <td>0</td>\n      <td>0</td>\n      <td>0</td>\n      <td>0</td>\n      <td>0</td>\n      <td>0</td>\n      <td>...</td>\n      <td>1</td>\n      <td>1</td>\n      <td>1</td>\n      <td>1</td>\n      <td>1</td>\n      <td>1</td>\n      <td>1</td>\n      <td>1</td>\n      <td>1</td>\n      <td>1</td>\n    </tr>\n    <tr>\n      <th>Array.147</th>\n      <td>-1</td>\n      <td>-1</td>\n      <td>-1</td>\n      <td>-1</td>\n      <td>-1</td>\n      <td>-1</td>\n      <td>-1</td>\n      <td>-1</td>\n      <td>-1</td>\n      <td>-1</td>\n      <td>...</td>\n      <td>1</td>\n      <td>1</td>\n      <td>1</td>\n      <td>1</td>\n      <td>1</td>\n      <td>1</td>\n      <td>1</td>\n      <td>1</td>\n      <td>1</td>\n      <td>1</td>\n    </tr>\n    <tr>\n      <th>Array.161</th>\n      <td>0</td>\n      <td>0</td>\n      <td>0</td>\n      <td>0</td>\n      <td>0</td>\n      <td>1</td>\n      <td>1</td>\n      <td>0</td>\n      <td>1</td>\n      <td>1</td>\n      <td>...</td>\n      <td>1</td>\n      <td>1</td>\n      <td>1</td>\n      <td>1</td>\n      <td>1</td>\n      <td>1</td>\n      <td>1</td>\n      <td>1</td>\n      <td>1</td>\n      <td>1</td>\n    </tr>\n    <tr>\n      <th>Array.127</th>\n      <td>1</td>\n      <td>1</td>\n      <td>1</td>\n      <td>0</td>\n      <td>0</td>\n      <td>1</td>\n      <td>1</td>\n      <td>0</td>\n      <td>1</td>\n      <td>1</td>\n      <td>...</td>\n      <td>1</td>\n      <td>1</td>\n      <td>1</td>\n      <td>1</td>\n      <td>1</td>\n      <td>1</td>\n      <td>1</td>\n      <td>1</td>\n      <td>1</td>\n      <td>1</td>\n    </tr>\n    <tr>\n      <th>Array.119</th>\n      <td>-1</td>\n      <td>-1</td>\n      <td>-1</td>\n      <td>-1</td>\n      <td>-1</td>\n      <td>0</td>\n      <td>0</td>\n      <td>-1</td>\n      <td>-1</td>\n      <td>-1</td>\n      <td>...</td>\n      <td>0</td>\n      <td>0</td>\n      <td>0</td>\n      <td>0</td>\n      <td>0</td>\n      <td>0</td>\n      <td>0</td>\n      <td>0</td>\n      <td>0</td>\n      <td>0</td>\n    </tr>\n    <tr>\n      <th>Array.157</th>\n      <td>0</td>\n      <td>0</td>\n      <td>0</td>\n      <td>0</td>\n      <td>0</td>\n      <td>0</td>\n      <td>0</td>\n      <td>0</td>\n      <td>0</td>\n      <td>0</td>\n      <td>...</td>\n      <td>1</td>\n      <td>1</td>\n      <td>1</td>\n      <td>1</td>\n      <td>1</td>\n      <td>1</td>\n      <td>1</td>\n      <td>1</td>\n      <td>2</td>\n      <td>1</td>\n    </tr>\n    <tr>\n      <th>Array.115</th>\n      <td>1</td>\n      <td>1</td>\n      <td>-1</td>\n      <td>-1</td>\n      <td>-1</td>\n      <td>-1</td>\n      <td>-1</td>\n      <td>-1</td>\n      <td>-1</td>\n      <td>-1</td>\n      <td>...</td>\n      <td>2</td>\n      <td>2</td>\n      <td>2</td>\n      <td>2</td>\n      <td>2</td>\n      <td>2</td>\n      <td>2</td>\n      <td>2</td>\n      <td>2</td>\n      <td>2</td>\n    </tr>\n    <tr>\n      <th>Array.158</th>\n      <td>0</td>\n      <td>0</td>\n      <td>0</td>\n      <td>0</td>\n      <td>0</td>\n      <td>0</td>\n      <td>0</td>\n      <td>0</td>\n      <td>0</td>\n      <td>0</td>\n      <td>...</td>\n      <td>1</td>\n      <td>1</td>\n      <td>1</td>\n      <td>1</td>\n      <td>2</td>\n      <td>1</td>\n      <td>1</td>\n      <td>1</td>\n      <td>1</td>\n      <td>1</td>\n    </tr>\n    <tr>\n      <th>Array.45</th>\n      <td>0</td>\n      <td>0</td>\n      <td>0</td>\n      <td>0</td>\n      <td>0</td>\n      <td>0</td>\n      <td>0</td>\n      <td>0</td>\n      <td>0</td>\n      <td>0</td>\n      <td>...</td>\n      <td>1</td>\n      <td>1</td>\n      <td>1</td>\n      <td>1</td>\n      <td>1</td>\n      <td>1</td>\n      <td>1</td>\n      <td>1</td>\n      <td>1</td>\n      <td>1</td>\n    </tr>\n    <tr>\n      <th>Array.155</th>\n      <td>0</td>\n      <td>0</td>\n      <td>0</td>\n      <td>0</td>\n      <td>0</td>\n      <td>0</td>\n      <td>0</td>\n      <td>0</td>\n      <td>0</td>\n      <td>0</td>\n      <td>...</td>\n      <td>1</td>\n      <td>1</td>\n      <td>1</td>\n      <td>1</td>\n      <td>1</td>\n      <td>1</td>\n      <td>1</td>\n      <td>1</td>\n      <td>1</td>\n      <td>1</td>\n    </tr>\n    <tr>\n      <th>Array.26</th>\n      <td>0</td>\n      <td>0</td>\n      <td>0</td>\n      <td>0</td>\n      <td>0</td>\n      <td>0</td>\n      <td>0</td>\n      <td>0</td>\n      <td>0</td>\n      <td>0</td>\n      <td>...</td>\n      <td>1</td>\n      <td>1</td>\n      <td>1</td>\n      <td>1</td>\n      <td>1</td>\n      <td>1</td>\n      <td>1</td>\n      <td>1</td>\n      <td>1</td>\n      <td>1</td>\n    </tr>\n    <tr>\n      <th>Array.108</th>\n      <td>0</td>\n      <td>0</td>\n      <td>0</td>\n      <td>0</td>\n      <td>0</td>\n      <td>0</td>\n      <td>0</td>\n      <td>-1</td>\n      <td>0</td>\n      <td>0</td>\n      <td>...</td>\n      <td>1</td>\n      <td>1</td>\n      <td>1</td>\n      <td>1</td>\n      <td>1</td>\n      <td>1</td>\n      <td>1</td>\n      <td>1</td>\n      <td>2</td>\n      <td>1</td>\n    </tr>\n    <tr>\n      <th>Array.126</th>\n      <td>0</td>\n      <td>0</td>\n      <td>0</td>\n      <td>0</td>\n      <td>0</td>\n      <td>0</td>\n      <td>0</td>\n      <td>0</td>\n      <td>0</td>\n      <td>0</td>\n      <td>...</td>\n      <td>1</td>\n      <td>1</td>\n      <td>1</td>\n      <td>1</td>\n      <td>1</td>\n      <td>1</td>\n      <td>1</td>\n      <td>1</td>\n      <td>1</td>\n      <td>1</td>\n    </tr>\n    <tr>\n      <th>Array.92</th>\n      <td>0</td>\n      <td>0</td>\n      <td>0</td>\n      <td>0</td>\n      <td>0</td>\n      <td>0</td>\n      <td>0</td>\n      <td>-1</td>\n      <td>0</td>\n      <td>0</td>\n      <td>...</td>\n      <td>1</td>\n      <td>1</td>\n      <td>1</td>\n      <td>1</td>\n      <td>1</td>\n      <td>1</td>\n      <td>1</td>\n      <td>1</td>\n      <td>1</td>\n      <td>1</td>\n    </tr>\n    <tr>\n      <th>Array.160</th>\n      <td>0</td>\n      <td>0</td>\n      <td>0</td>\n      <td>0</td>\n      <td>0</td>\n      <td>0</td>\n      <td>0</td>\n      <td>0</td>\n      <td>0</td>\n      <td>0</td>\n      <td>...</td>\n      <td>1</td>\n      <td>1</td>\n      <td>1</td>\n      <td>1</td>\n      <td>1</td>\n      <td>1</td>\n      <td>1</td>\n      <td>1</td>\n      <td>1</td>\n      <td>1</td>\n    </tr>\n    <tr>\n      <th>Array.66</th>\n      <td>0</td>\n      <td>-1</td>\n      <td>-1</td>\n      <td>-1</td>\n      <td>-1</td>\n      <td>-1</td>\n      <td>-1</td>\n      <td>-1</td>\n      <td>-1</td>\n      <td>-1</td>\n      <td>...</td>\n      <td>1</td>\n      <td>1</td>\n      <td>1</td>\n      <td>1</td>\n      <td>1</td>\n      <td>1</td>\n      <td>1</td>\n      <td>1</td>\n      <td>1</td>\n      <td>1</td>\n    </tr>\n    <tr>\n      <th>Array.83</th>\n      <td>0</td>\n      <td>0</td>\n      <td>0</td>\n      <td>0</td>\n      <td>0</td>\n      <td>0</td>\n      <td>0</td>\n      <td>0</td>\n      <td>0</td>\n      <td>0</td>\n      <td>...</td>\n      <td>1</td>\n      <td>1</td>\n      <td>1</td>\n      <td>1</td>\n      <td>1</td>\n      <td>1</td>\n      <td>1</td>\n      <td>1</td>\n      <td>1</td>\n      <td>1</td>\n    </tr>\n    <tr>\n      <th>Array.63</th>\n      <td>0</td>\n      <td>0</td>\n      <td>0</td>\n      <td>0</td>\n      <td>0</td>\n      <td>0</td>\n      <td>0</td>\n      <td>0</td>\n      <td>0</td>\n      <td>0</td>\n      <td>...</td>\n      <td>1</td>\n      <td>1</td>\n      <td>1</td>\n      <td>1</td>\n      <td>1</td>\n      <td>1</td>\n      <td>1</td>\n      <td>1</td>\n      <td>1</td>\n      <td>1</td>\n    </tr>\n  </tbody>\n</table>\n<p>37 rows × 2834 columns</p>\n</div>"
     },
     "execution_count": 53,
     "metadata": {},
     "output_type": "execute_result"
    }
   ],
   "source": [
    "Validation_call.drop(['Chromosome','Start','End','Nclone'], axis=1, inplace=True)\n",
    "\n",
    "X_test = Validation_call.T\n",
    "X_test"
   ],
   "metadata": {
    "collapsed": false,
    "pycharm": {
     "name": "#%%\n"
    }
   }
  },
  {
   "cell_type": "code",
   "execution_count": 54,
   "outputs": [],
   "source": [
    "def read_models(model_name):\n",
    "    rd = joblib.load(f'{model_name}.pkl')\n",
    "    return rd"
   ],
   "metadata": {
    "collapsed": false,
    "pycharm": {
     "name": "#%%\n"
    }
   }
  },
  {
   "cell_type": "code",
   "execution_count": 55,
   "outputs": [
    {
     "data": {
      "text/plain": "{'Sample': ['Array.1',\n  'Array.91',\n  'Array.58',\n  'Array.140',\n  'Array.20',\n  'Array.133',\n  'Array.84',\n  'Array.44',\n  'Array.41',\n  'Array.29',\n  'Array.151',\n  'Array.132',\n  'Array.32',\n  'Array.156',\n  'Array.9',\n  'Array.3',\n  'Array.136',\n  'Array.103',\n  'Array.97',\n  'Array.40',\n  'Array.147',\n  'Array.161',\n  'Array.127',\n  'Array.119',\n  'Array.157',\n  'Array.115',\n  'Array.158',\n  'Array.45',\n  'Array.155',\n  'Array.26',\n  'Array.108',\n  'Array.126',\n  'Array.92',\n  'Array.160',\n  'Array.66',\n  'Array.83',\n  'Array.63',\n  'Array.61',\n  'Array.70',\n  'Array.14',\n  'Array.77',\n  'Array.131',\n  'Array.150',\n  'Array.11',\n  'Array.80',\n  'Array.46',\n  'Array.109',\n  'Array.54',\n  'Array.121',\n  'Array.122',\n  'Array.87',\n  'Array.28',\n  'Array.12',\n  'Array.74',\n  'Array.120',\n  'Array.81',\n  'Array.128'],\n 'Subgroup': ['HR+',\n  'Triple Neg',\n  'Triple Neg',\n  'Triple Neg',\n  'HR+',\n  'HR+',\n  'Triple Neg',\n  'Triple Neg',\n  'HR+',\n  'Triple Neg',\n  'HR+',\n  'HR+',\n  'HR+',\n  'HR+',\n  'Triple Neg',\n  'HR+',\n  'HR+',\n  'Triple Neg',\n  'HR+',\n  'HR+',\n  'Triple Neg',\n  'Triple Neg',\n  'Triple Neg',\n  'HR+',\n  'HR+',\n  'HR+',\n  'Triple Neg',\n  'HR+',\n  'HR+',\n  'HR+',\n  'HR+',\n  'HR+',\n  'HR+',\n  'Triple Neg',\n  'Triple Neg',\n  'HR+',\n  'Triple Neg',\n  'HER2+',\n  'HER2+',\n  'HER2+',\n  'HER2+',\n  'HER2+',\n  'HER2+',\n  'HER2+',\n  'HER2+',\n  'HER2+',\n  'HER2+',\n  'HER2+',\n  'HER2+',\n  'HER2+',\n  'HER2+',\n  'HER2+',\n  'HER2+',\n  'HER2+',\n  'HER2+',\n  'HER2+',\n  'HER2+']}"
     },
     "execution_count": 55,
     "metadata": {},
     "output_type": "execute_result"
    }
   ],
   "source": [
    "results_dict = {\"Sample\":[],\"Subgroup\":[]}\n",
    "array_names = list(X_test.index)\n",
    "y_text_pred = read_models('Ridge Regression').predict_proba(X_test)[:,1]\n",
    "test_predictions = [round(value) for value in y_text_pred]\n",
    "\n",
    "for array, result in zip(array_names,test_predictions):\n",
    "    results_dict[\"Sample\"].append(array)\n",
    "    if result:\n",
    "        results_dict[\"Subgroup\"].append(\"HR+\")\n",
    "    else:\n",
    "        results_dict[\"Subgroup\"].append(\"Triple Neg\")\n",
    "\n",
    "for array in HER2_list:\n",
    "    results_dict[\"Sample\"].append(array)\n",
    "    results_dict[\"Subgroup\"].append(\"HER2+\")\n",
    "\n",
    "results_dict"
   ],
   "metadata": {
    "collapsed": false,
    "pycharm": {
     "name": "#%%\n"
    }
   }
  },
  {
   "cell_type": "code",
   "execution_count": 66,
   "outputs": [],
   "source": [
    "\n",
    "output = pd.DataFrame.from_dict(results_dict)\n",
    "output.to_csv('../data/Validation_clinical.csv', index=False)"
   ],
   "metadata": {
    "collapsed": false,
    "pycharm": {
     "name": "#%%\n"
    }
   }
  }
 ],
 "metadata": {
  "kernelspec": {
   "display_name": "Python 3",
   "language": "python",
   "name": "python3"
  },
  "language_info": {
   "codemirror_mode": {
    "name": "ipython",
    "version": 2
   },
   "file_extension": ".py",
   "mimetype": "text/x-python",
   "name": "python",
   "nbconvert_exporter": "python",
   "pygments_lexer": "ipython2",
   "version": "2.7.6"
  }
 },
 "nbformat": 4,
 "nbformat_minor": 0
}