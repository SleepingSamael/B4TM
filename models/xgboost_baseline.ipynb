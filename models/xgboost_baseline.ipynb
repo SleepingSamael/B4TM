{
 "cells": [
  {
   "cell_type": "code",
   "execution_count": 1,
   "metadata": {
    "collapsed": true
   },
   "outputs": [],
   "source": [
    "import pandas as pd\n",
    "import numpy as np\n",
    "from sklearn.metrics import accuracy_score, log_loss\n",
    "from xgboost import XGBClassifier\n",
    "import pickle"
   ]
  },
  {
   "cell_type": "code",
   "execution_count": 2,
   "outputs": [
    {
     "data": {
      "text/plain": "      Chromosome      Start        End  Nclone  Array.129  Array.34  Array.67  \\\n0              1       2927      43870       3          0         0         0   \n1              1      85022     216735       4          0         0         0   \n2              1     370546     372295       4          0         0         0   \n3              1     471671     786483       5          0         0         0   \n4              1     792533     907406      13          0         0         0   \n...          ...        ...        ...     ...        ...       ...       ...   \n2829          23  153062077  153452633      57          1         1         1   \n2830          23  153466463  153491568       4          1         1         1   \n2831          23  153504394  153933426      55          1         1         1   \n2832          23  153938998  153989329       5          1         1         1   \n2833          23  153997146  154492924      43          1         1         1   \n\n      Array.24  Array.22  Array.36  ...  Array.64  Array.89  Array.30  \\\n0            0         0         0  ...         0         0         1   \n1            0         0         0  ...         0         0         1   \n2            0         0         0  ...         0         0         1   \n3            0         0         0  ...         0         1         1   \n4            0         0         0  ...         0         1         1   \n...        ...       ...       ...  ...       ...       ...       ...   \n2829         0         1         1  ...         1         1         1   \n2830         0         1         1  ...         2         1         1   \n2831         0         1         1  ...         2         1         1   \n2832         0         1         1  ...         2         1         1   \n2833         0         1         1  ...         2         1         1   \n\n      Array.35  Array.93  Array.10  Array.123  Array.100  Array.134  Array.130  \n0            0         0         0          0          0         -1          0  \n1            0         0         0          0          0         -1          0  \n2            0         1         0          0          0         -1          0  \n3            0         1         0          0          0         -1          0  \n4            0         1         0          0          0         -1          0  \n...        ...       ...       ...        ...        ...        ...        ...  \n2829         1         1         1          1          1          1          1  \n2830         1         1         1          1          1          1          1  \n2831         1         1         1          1          1          1          1  \n2832         1         1         1          1          1          1          1  \n2833         1         1         1          1          1          1          1  \n\n[2834 rows x 104 columns]",
      "text/html": "<div>\n<style scoped>\n    .dataframe tbody tr th:only-of-type {\n        vertical-align: middle;\n    }\n\n    .dataframe tbody tr th {\n        vertical-align: top;\n    }\n\n    .dataframe thead th {\n        text-align: right;\n    }\n</style>\n<table border=\"1\" class=\"dataframe\">\n  <thead>\n    <tr style=\"text-align: right;\">\n      <th></th>\n      <th>Chromosome</th>\n      <th>Start</th>\n      <th>End</th>\n      <th>Nclone</th>\n      <th>Array.129</th>\n      <th>Array.34</th>\n      <th>Array.67</th>\n      <th>Array.24</th>\n      <th>Array.22</th>\n      <th>Array.36</th>\n      <th>...</th>\n      <th>Array.64</th>\n      <th>Array.89</th>\n      <th>Array.30</th>\n      <th>Array.35</th>\n      <th>Array.93</th>\n      <th>Array.10</th>\n      <th>Array.123</th>\n      <th>Array.100</th>\n      <th>Array.134</th>\n      <th>Array.130</th>\n    </tr>\n  </thead>\n  <tbody>\n    <tr>\n      <th>0</th>\n      <td>1</td>\n      <td>2927</td>\n      <td>43870</td>\n      <td>3</td>\n      <td>0</td>\n      <td>0</td>\n      <td>0</td>\n      <td>0</td>\n      <td>0</td>\n      <td>0</td>\n      <td>...</td>\n      <td>0</td>\n      <td>0</td>\n      <td>1</td>\n      <td>0</td>\n      <td>0</td>\n      <td>0</td>\n      <td>0</td>\n      <td>0</td>\n      <td>-1</td>\n      <td>0</td>\n    </tr>\n    <tr>\n      <th>1</th>\n      <td>1</td>\n      <td>85022</td>\n      <td>216735</td>\n      <td>4</td>\n      <td>0</td>\n      <td>0</td>\n      <td>0</td>\n      <td>0</td>\n      <td>0</td>\n      <td>0</td>\n      <td>...</td>\n      <td>0</td>\n      <td>0</td>\n      <td>1</td>\n      <td>0</td>\n      <td>0</td>\n      <td>0</td>\n      <td>0</td>\n      <td>0</td>\n      <td>-1</td>\n      <td>0</td>\n    </tr>\n    <tr>\n      <th>2</th>\n      <td>1</td>\n      <td>370546</td>\n      <td>372295</td>\n      <td>4</td>\n      <td>0</td>\n      <td>0</td>\n      <td>0</td>\n      <td>0</td>\n      <td>0</td>\n      <td>0</td>\n      <td>...</td>\n      <td>0</td>\n      <td>0</td>\n      <td>1</td>\n      <td>0</td>\n      <td>1</td>\n      <td>0</td>\n      <td>0</td>\n      <td>0</td>\n      <td>-1</td>\n      <td>0</td>\n    </tr>\n    <tr>\n      <th>3</th>\n      <td>1</td>\n      <td>471671</td>\n      <td>786483</td>\n      <td>5</td>\n      <td>0</td>\n      <td>0</td>\n      <td>0</td>\n      <td>0</td>\n      <td>0</td>\n      <td>0</td>\n      <td>...</td>\n      <td>0</td>\n      <td>1</td>\n      <td>1</td>\n      <td>0</td>\n      <td>1</td>\n      <td>0</td>\n      <td>0</td>\n      <td>0</td>\n      <td>-1</td>\n      <td>0</td>\n    </tr>\n    <tr>\n      <th>4</th>\n      <td>1</td>\n      <td>792533</td>\n      <td>907406</td>\n      <td>13</td>\n      <td>0</td>\n      <td>0</td>\n      <td>0</td>\n      <td>0</td>\n      <td>0</td>\n      <td>0</td>\n      <td>...</td>\n      <td>0</td>\n      <td>1</td>\n      <td>1</td>\n      <td>0</td>\n      <td>1</td>\n      <td>0</td>\n      <td>0</td>\n      <td>0</td>\n      <td>-1</td>\n      <td>0</td>\n    </tr>\n    <tr>\n      <th>...</th>\n      <td>...</td>\n      <td>...</td>\n      <td>...</td>\n      <td>...</td>\n      <td>...</td>\n      <td>...</td>\n      <td>...</td>\n      <td>...</td>\n      <td>...</td>\n      <td>...</td>\n      <td>...</td>\n      <td>...</td>\n      <td>...</td>\n      <td>...</td>\n      <td>...</td>\n      <td>...</td>\n      <td>...</td>\n      <td>...</td>\n      <td>...</td>\n      <td>...</td>\n      <td>...</td>\n    </tr>\n    <tr>\n      <th>2829</th>\n      <td>23</td>\n      <td>153062077</td>\n      <td>153452633</td>\n      <td>57</td>\n      <td>1</td>\n      <td>1</td>\n      <td>1</td>\n      <td>0</td>\n      <td>1</td>\n      <td>1</td>\n      <td>...</td>\n      <td>1</td>\n      <td>1</td>\n      <td>1</td>\n      <td>1</td>\n      <td>1</td>\n      <td>1</td>\n      <td>1</td>\n      <td>1</td>\n      <td>1</td>\n      <td>1</td>\n    </tr>\n    <tr>\n      <th>2830</th>\n      <td>23</td>\n      <td>153466463</td>\n      <td>153491568</td>\n      <td>4</td>\n      <td>1</td>\n      <td>1</td>\n      <td>1</td>\n      <td>0</td>\n      <td>1</td>\n      <td>1</td>\n      <td>...</td>\n      <td>2</td>\n      <td>1</td>\n      <td>1</td>\n      <td>1</td>\n      <td>1</td>\n      <td>1</td>\n      <td>1</td>\n      <td>1</td>\n      <td>1</td>\n      <td>1</td>\n    </tr>\n    <tr>\n      <th>2831</th>\n      <td>23</td>\n      <td>153504394</td>\n      <td>153933426</td>\n      <td>55</td>\n      <td>1</td>\n      <td>1</td>\n      <td>1</td>\n      <td>0</td>\n      <td>1</td>\n      <td>1</td>\n      <td>...</td>\n      <td>2</td>\n      <td>1</td>\n      <td>1</td>\n      <td>1</td>\n      <td>1</td>\n      <td>1</td>\n      <td>1</td>\n      <td>1</td>\n      <td>1</td>\n      <td>1</td>\n    </tr>\n    <tr>\n      <th>2832</th>\n      <td>23</td>\n      <td>153938998</td>\n      <td>153989329</td>\n      <td>5</td>\n      <td>1</td>\n      <td>1</td>\n      <td>1</td>\n      <td>0</td>\n      <td>1</td>\n      <td>1</td>\n      <td>...</td>\n      <td>2</td>\n      <td>1</td>\n      <td>1</td>\n      <td>1</td>\n      <td>1</td>\n      <td>1</td>\n      <td>1</td>\n      <td>1</td>\n      <td>1</td>\n      <td>1</td>\n    </tr>\n    <tr>\n      <th>2833</th>\n      <td>23</td>\n      <td>153997146</td>\n      <td>154492924</td>\n      <td>43</td>\n      <td>1</td>\n      <td>1</td>\n      <td>1</td>\n      <td>0</td>\n      <td>1</td>\n      <td>1</td>\n      <td>...</td>\n      <td>2</td>\n      <td>1</td>\n      <td>1</td>\n      <td>1</td>\n      <td>1</td>\n      <td>1</td>\n      <td>1</td>\n      <td>1</td>\n      <td>1</td>\n      <td>1</td>\n    </tr>\n  </tbody>\n</table>\n<p>2834 rows × 104 columns</p>\n</div>"
     },
     "execution_count": 2,
     "metadata": {},
     "output_type": "execute_result"
    }
   ],
   "source": [
    "call = pd.read_csv(\"../data/Train_call.txt\", sep='\\t')\n",
    "\n",
    "call"
   ],
   "metadata": {
    "collapsed": false,
    "pycharm": {
     "name": "#%%\n"
    }
   }
  },
  {
   "cell_type": "code",
   "execution_count": 3,
   "outputs": [
    {
     "data": {
      "text/plain": "       Sample    Subgroup\n0   Array.129       HER2+\n1    Array.34         HR+\n2    Array.67         HR+\n3    Array.24  Triple Neg\n4    Array.22  Triple Neg\n..        ...         ...\n95   Array.10       HER2+\n96  Array.123         HR+\n97  Array.100         HR+\n98  Array.134         HR+\n99  Array.130       HER2+\n\n[100 rows x 2 columns]",
      "text/html": "<div>\n<style scoped>\n    .dataframe tbody tr th:only-of-type {\n        vertical-align: middle;\n    }\n\n    .dataframe tbody tr th {\n        vertical-align: top;\n    }\n\n    .dataframe thead th {\n        text-align: right;\n    }\n</style>\n<table border=\"1\" class=\"dataframe\">\n  <thead>\n    <tr style=\"text-align: right;\">\n      <th></th>\n      <th>Sample</th>\n      <th>Subgroup</th>\n    </tr>\n  </thead>\n  <tbody>\n    <tr>\n      <th>0</th>\n      <td>Array.129</td>\n      <td>HER2+</td>\n    </tr>\n    <tr>\n      <th>1</th>\n      <td>Array.34</td>\n      <td>HR+</td>\n    </tr>\n    <tr>\n      <th>2</th>\n      <td>Array.67</td>\n      <td>HR+</td>\n    </tr>\n    <tr>\n      <th>3</th>\n      <td>Array.24</td>\n      <td>Triple Neg</td>\n    </tr>\n    <tr>\n      <th>4</th>\n      <td>Array.22</td>\n      <td>Triple Neg</td>\n    </tr>\n    <tr>\n      <th>...</th>\n      <td>...</td>\n      <td>...</td>\n    </tr>\n    <tr>\n      <th>95</th>\n      <td>Array.10</td>\n      <td>HER2+</td>\n    </tr>\n    <tr>\n      <th>96</th>\n      <td>Array.123</td>\n      <td>HR+</td>\n    </tr>\n    <tr>\n      <th>97</th>\n      <td>Array.100</td>\n      <td>HR+</td>\n    </tr>\n    <tr>\n      <th>98</th>\n      <td>Array.134</td>\n      <td>HR+</td>\n    </tr>\n    <tr>\n      <th>99</th>\n      <td>Array.130</td>\n      <td>HER2+</td>\n    </tr>\n  </tbody>\n</table>\n<p>100 rows × 2 columns</p>\n</div>"
     },
     "execution_count": 3,
     "metadata": {},
     "output_type": "execute_result"
    }
   ],
   "source": [
    "clin = pd.read_csv(\"../data/Train_clinical.txt\", sep='\\t')\n",
    "\n",
    "clin"
   ],
   "metadata": {
    "collapsed": false,
    "pycharm": {
     "name": "#%%\n"
    }
   }
  },
  {
   "cell_type": "code",
   "execution_count": 4,
   "outputs": [
    {
     "data": {
      "text/plain": "           0     1     2     3     4     5     6     7     8     9     ...  \\\nArray.34      0     0     0     0     0     0     0     0     0     0  ...   \nArray.67      0     0     0     0     0     0     0     0     0     0  ...   \nArray.24      0     0     0     0     0     0     0    -1     0     0  ...   \nArray.22      0     0     0     0     0     0     0     0     0     0  ...   \nArray.36      0     0     0     0     0     0     0     0     0     0  ...   \n...         ...   ...   ...   ...   ...   ...   ...   ...   ...   ...  ...   \nArray.35      0     0     0     0     0     0     0     0     0     0  ...   \nArray.93      0     0     1     1     1     1     1     1     0     0  ...   \nArray.123     0     0     0     0     0     0     0     0     0     0  ...   \nArray.100     0     0     0     0     0     0     0     0     0     0  ...   \nArray.134    -1    -1    -1    -1    -1    -1    -1    -1    -1    -1  ...   \n\n           2824  2825  2826  2827  2828  2829  2830  2831  2832  2833  \nArray.34      1     1     1     1     1     1     1     1     1     1  \nArray.67      1     1     1     1     1     1     1     1     1     1  \nArray.24      0     0     0     0     0     0     0     0     0     0  \nArray.22      1     1     1     1     1     1     1     1     1     1  \nArray.36      1     1     0     1     1     1     1     1     1     1  \n...         ...   ...   ...   ...   ...   ...   ...   ...   ...   ...  \nArray.35      1     1     1     1     1     1     1     1     1     1  \nArray.93      1     1     1     1     1     1     1     1     1     1  \nArray.123     1     1     1     1     1     1     1     1     1     1  \nArray.100     1     1     1     1     1     1     1     1     1     1  \nArray.134     1     1     1     1     1     1     1     1     1     1  \n\n[68 rows x 2834 columns]",
      "text/html": "<div>\n<style scoped>\n    .dataframe tbody tr th:only-of-type {\n        vertical-align: middle;\n    }\n\n    .dataframe tbody tr th {\n        vertical-align: top;\n    }\n\n    .dataframe thead th {\n        text-align: right;\n    }\n</style>\n<table border=\"1\" class=\"dataframe\">\n  <thead>\n    <tr style=\"text-align: right;\">\n      <th></th>\n      <th>0</th>\n      <th>1</th>\n      <th>2</th>\n      <th>3</th>\n      <th>4</th>\n      <th>5</th>\n      <th>6</th>\n      <th>7</th>\n      <th>8</th>\n      <th>9</th>\n      <th>...</th>\n      <th>2824</th>\n      <th>2825</th>\n      <th>2826</th>\n      <th>2827</th>\n      <th>2828</th>\n      <th>2829</th>\n      <th>2830</th>\n      <th>2831</th>\n      <th>2832</th>\n      <th>2833</th>\n    </tr>\n  </thead>\n  <tbody>\n    <tr>\n      <th>Array.34</th>\n      <td>0</td>\n      <td>0</td>\n      <td>0</td>\n      <td>0</td>\n      <td>0</td>\n      <td>0</td>\n      <td>0</td>\n      <td>0</td>\n      <td>0</td>\n      <td>0</td>\n      <td>...</td>\n      <td>1</td>\n      <td>1</td>\n      <td>1</td>\n      <td>1</td>\n      <td>1</td>\n      <td>1</td>\n      <td>1</td>\n      <td>1</td>\n      <td>1</td>\n      <td>1</td>\n    </tr>\n    <tr>\n      <th>Array.67</th>\n      <td>0</td>\n      <td>0</td>\n      <td>0</td>\n      <td>0</td>\n      <td>0</td>\n      <td>0</td>\n      <td>0</td>\n      <td>0</td>\n      <td>0</td>\n      <td>0</td>\n      <td>...</td>\n      <td>1</td>\n      <td>1</td>\n      <td>1</td>\n      <td>1</td>\n      <td>1</td>\n      <td>1</td>\n      <td>1</td>\n      <td>1</td>\n      <td>1</td>\n      <td>1</td>\n    </tr>\n    <tr>\n      <th>Array.24</th>\n      <td>0</td>\n      <td>0</td>\n      <td>0</td>\n      <td>0</td>\n      <td>0</td>\n      <td>0</td>\n      <td>0</td>\n      <td>-1</td>\n      <td>0</td>\n      <td>0</td>\n      <td>...</td>\n      <td>0</td>\n      <td>0</td>\n      <td>0</td>\n      <td>0</td>\n      <td>0</td>\n      <td>0</td>\n      <td>0</td>\n      <td>0</td>\n      <td>0</td>\n      <td>0</td>\n    </tr>\n    <tr>\n      <th>Array.22</th>\n      <td>0</td>\n      <td>0</td>\n      <td>0</td>\n      <td>0</td>\n      <td>0</td>\n      <td>0</td>\n      <td>0</td>\n      <td>0</td>\n      <td>0</td>\n      <td>0</td>\n      <td>...</td>\n      <td>1</td>\n      <td>1</td>\n      <td>1</td>\n      <td>1</td>\n      <td>1</td>\n      <td>1</td>\n      <td>1</td>\n      <td>1</td>\n      <td>1</td>\n      <td>1</td>\n    </tr>\n    <tr>\n      <th>Array.36</th>\n      <td>0</td>\n      <td>0</td>\n      <td>0</td>\n      <td>0</td>\n      <td>0</td>\n      <td>0</td>\n      <td>0</td>\n      <td>0</td>\n      <td>0</td>\n      <td>0</td>\n      <td>...</td>\n      <td>1</td>\n      <td>1</td>\n      <td>0</td>\n      <td>1</td>\n      <td>1</td>\n      <td>1</td>\n      <td>1</td>\n      <td>1</td>\n      <td>1</td>\n      <td>1</td>\n    </tr>\n    <tr>\n      <th>...</th>\n      <td>...</td>\n      <td>...</td>\n      <td>...</td>\n      <td>...</td>\n      <td>...</td>\n      <td>...</td>\n      <td>...</td>\n      <td>...</td>\n      <td>...</td>\n      <td>...</td>\n      <td>...</td>\n      <td>...</td>\n      <td>...</td>\n      <td>...</td>\n      <td>...</td>\n      <td>...</td>\n      <td>...</td>\n      <td>...</td>\n      <td>...</td>\n      <td>...</td>\n      <td>...</td>\n    </tr>\n    <tr>\n      <th>Array.35</th>\n      <td>0</td>\n      <td>0</td>\n      <td>0</td>\n      <td>0</td>\n      <td>0</td>\n      <td>0</td>\n      <td>0</td>\n      <td>0</td>\n      <td>0</td>\n      <td>0</td>\n      <td>...</td>\n      <td>1</td>\n      <td>1</td>\n      <td>1</td>\n      <td>1</td>\n      <td>1</td>\n      <td>1</td>\n      <td>1</td>\n      <td>1</td>\n      <td>1</td>\n      <td>1</td>\n    </tr>\n    <tr>\n      <th>Array.93</th>\n      <td>0</td>\n      <td>0</td>\n      <td>1</td>\n      <td>1</td>\n      <td>1</td>\n      <td>1</td>\n      <td>1</td>\n      <td>1</td>\n      <td>0</td>\n      <td>0</td>\n      <td>...</td>\n      <td>1</td>\n      <td>1</td>\n      <td>1</td>\n      <td>1</td>\n      <td>1</td>\n      <td>1</td>\n      <td>1</td>\n      <td>1</td>\n      <td>1</td>\n      <td>1</td>\n    </tr>\n    <tr>\n      <th>Array.123</th>\n      <td>0</td>\n      <td>0</td>\n      <td>0</td>\n      <td>0</td>\n      <td>0</td>\n      <td>0</td>\n      <td>0</td>\n      <td>0</td>\n      <td>0</td>\n      <td>0</td>\n      <td>...</td>\n      <td>1</td>\n      <td>1</td>\n      <td>1</td>\n      <td>1</td>\n      <td>1</td>\n      <td>1</td>\n      <td>1</td>\n      <td>1</td>\n      <td>1</td>\n      <td>1</td>\n    </tr>\n    <tr>\n      <th>Array.100</th>\n      <td>0</td>\n      <td>0</td>\n      <td>0</td>\n      <td>0</td>\n      <td>0</td>\n      <td>0</td>\n      <td>0</td>\n      <td>0</td>\n      <td>0</td>\n      <td>0</td>\n      <td>...</td>\n      <td>1</td>\n      <td>1</td>\n      <td>1</td>\n      <td>1</td>\n      <td>1</td>\n      <td>1</td>\n      <td>1</td>\n      <td>1</td>\n      <td>1</td>\n      <td>1</td>\n    </tr>\n    <tr>\n      <th>Array.134</th>\n      <td>-1</td>\n      <td>-1</td>\n      <td>-1</td>\n      <td>-1</td>\n      <td>-1</td>\n      <td>-1</td>\n      <td>-1</td>\n      <td>-1</td>\n      <td>-1</td>\n      <td>-1</td>\n      <td>...</td>\n      <td>1</td>\n      <td>1</td>\n      <td>1</td>\n      <td>1</td>\n      <td>1</td>\n      <td>1</td>\n      <td>1</td>\n      <td>1</td>\n      <td>1</td>\n      <td>1</td>\n    </tr>\n  </tbody>\n</table>\n<p>68 rows × 2834 columns</p>\n</div>"
     },
     "execution_count": 4,
     "metadata": {},
     "output_type": "execute_result"
    }
   ],
   "source": [
    "X=call[clin[clin['Subgroup']!='HER2+']['Sample']].T\n",
    "\n",
    "X"
   ],
   "metadata": {
    "collapsed": false,
    "pycharm": {
     "name": "#%%\n"
    }
   }
  },
  {
   "cell_type": "code",
   "execution_count": 5,
   "outputs": [
    {
     "data": {
      "text/plain": "Sample\nArray.34            HR+\nArray.67            HR+\nArray.24     Triple Neg\nArray.22     Triple Neg\nArray.36            HR+\n                ...    \nArray.35            HR+\nArray.93     Triple Neg\nArray.123           HR+\nArray.100           HR+\nArray.134           HR+\nName: Subgroup, Length: 68, dtype: object"
     },
     "execution_count": 5,
     "metadata": {},
     "output_type": "execute_result"
    }
   ],
   "source": [
    "y = clin[clin['Subgroup']!='HER2+'].set_index('Sample')['Subgroup']\n",
    "\n",
    "y"
   ],
   "metadata": {
    "collapsed": false,
    "pycharm": {
     "name": "#%%\n"
    }
   }
  },
  {
   "cell_type": "code",
   "execution_count": 6,
   "outputs": [],
   "source": [
    "folds_file = '../data/folds.pickle'\n",
    "with open(folds_file, 'rb') as fid:\n",
    "    outer_cross_val = pickle.load(fid)\n"
   ],
   "metadata": {
    "collapsed": false,
    "pycharm": {
     "name": "#%%\n"
    }
   }
  },
  {
   "cell_type": "markdown",
   "source": [
    "# Baseline\n",
    "Running xgboost on all regions. We reduce depth of trees in xgboost to make sure we get the simplest model since we have almost no data."
   ],
   "metadata": {
    "collapsed": false,
    "pycharm": {
     "name": "#%% md\n"
    }
   }
  },
  {
   "cell_type": "code",
   "execution_count": null,
   "outputs": [],
   "source": [
    "X_train_list, y_train_list = [], []\n",
    "X_val_list, y_val_list = [], []\n",
    "\n",
    "for split in outer_cross_val:\n",
    "    inner_cross_val, test_index = split\n",
    "    for train_index, val_index in inner_cross_val:\n",
    "        X_train, y_train = X.iloc[train_index,:], y[train_index]\n",
    "        X_val, y_val = X.iloc[val_index,:], y[val_index]\n",
    "\n",
    "        X_train_list.append(X_train)\n",
    "        y_train_list.append(y_train)\n",
    "\n",
    "        X_val_list.append(X_val)\n",
    "        y_val_list.append(y_val)"
   ],
   "metadata": {
    "collapsed": false,
    "pycharm": {
     "name": "#%%\n"
    }
   }
  },
  {
   "cell_type": "code",
   "execution_count": 8,
   "outputs": [
    {
     "name": "stdout",
     "output_type": "stream",
     "text": [
      "0.7738095238095238 0.16566022654094245\n",
      "7.8124346142663805 5.7217719395691535\n"
     ]
    }
   ],
   "source": [
    "accuracy_list = []\n",
    "av_logloss_list = []\n",
    "for (X_train, y_train, X_val, y_val) in zip(X_train_list, y_train_list, X_val_list, y_val_list):\n",
    "    model = XGBClassifier(max_depth=1, objective='binary:logistic')\n",
    "    model.fit(X_train, y_train=='HR+')\n",
    "\n",
    "    y_pred = model.predict(X_val)\n",
    "    predictions = [round(value) for value in y_pred]\n",
    "    accuracy = accuracy_score(y_val=='HR+', predictions)\n",
    "    av_logloss = log_loss(y_true=y_val=='HR+',labels=[True,False], y_pred=y_pred)\n",
    "\n",
    "    accuracy_list.append(accuracy)\n",
    "    av_logloss_list.append(av_logloss)\n",
    "\n",
    "print(np.mean(accuracy_list),np.std(accuracy_list))\n",
    "print(np.mean(av_logloss_list),np.std(av_logloss_list))\n"
   ],
   "metadata": {
    "collapsed": false,
    "pycharm": {
     "name": "#%%\n"
    }
   }
  },
  {
   "cell_type": "code",
   "execution_count": 9,
   "outputs": [
    {
     "data": {
      "text/plain": "Chromosome   1   2    3   4   5    6   7    8    9    10  ...  14  15  16  \\\nArray.34      4   2  -38  -1 -38 -119   3   58  -41   14  ... -23   5  -1   \nArray.67    -53   0  -13 -38 -31  -90   0   78    2  -28  ... -28 -71 -52   \nArray.24   -130 -35  -42 -70 -34 -120 -43   81  -43  -60  ... -74 -50  -4   \nArray.22     73   0   60 -39 -18  -26   2   60    0    3  ...   0  -4 -55   \nArray.36     -9 -34   -3  -4   0   -7  -1  -91   -4   -5  ... -31  -4  -5   \n...         ...  ..  ...  ..  ..  ...  ..  ...  ...  ...  ...  ..  ..  ..   \nArray.35     -1   0   26  -4   0  -55  40    0    2    0  ...  -1  68   1   \nArray.93    173  83   18  -6  -3  178  79 -114  106  112  ...   3   6   2   \nArray.123    22 -25  -21  -3  -2  -58   8  105  -34    0  ... -39 -16 -27   \nArray.100     1   0   -3  -1  -5    0  -1    2    1    0  ...  -5   0  -1   \nArray.134   -67  -1  114  -2   1    3   4   47  -90  -48  ...  -4  -5 -22   \n\nChromosome   17  18  19   20  21  22  23  \nArray.34     -8 -29 -48   64   0  -4  57  \nArray.67   -301  -3 -22    2   0   3  79  \nArray.24     85  35  -2    0  -1  21  33  \nArray.22     -3   0  -1    0   0  -7  66  \nArray.36   -102   0 -14   -9  36 -57  59  \n...         ...  ..  ..  ...  ..  ..  ..  \nArray.35     -4   0  -2    0   0 -56  69  \nArray.93     33  58  70    2  39   7  83  \nArray.123   100  -1 -22   55 -38 -19  41  \nArray.100     2   0   0    0   0  -1  73  \nArray.134   340 -54  -6  111  39 -56  63  \n\n[68 rows x 23 columns]",
      "text/html": "<div>\n<style scoped>\n    .dataframe tbody tr th:only-of-type {\n        vertical-align: middle;\n    }\n\n    .dataframe tbody tr th {\n        vertical-align: top;\n    }\n\n    .dataframe thead th {\n        text-align: right;\n    }\n</style>\n<table border=\"1\" class=\"dataframe\">\n  <thead>\n    <tr style=\"text-align: right;\">\n      <th>Chromosome</th>\n      <th>1</th>\n      <th>2</th>\n      <th>3</th>\n      <th>4</th>\n      <th>5</th>\n      <th>6</th>\n      <th>7</th>\n      <th>8</th>\n      <th>9</th>\n      <th>10</th>\n      <th>...</th>\n      <th>14</th>\n      <th>15</th>\n      <th>16</th>\n      <th>17</th>\n      <th>18</th>\n      <th>19</th>\n      <th>20</th>\n      <th>21</th>\n      <th>22</th>\n      <th>23</th>\n    </tr>\n  </thead>\n  <tbody>\n    <tr>\n      <th>Array.34</th>\n      <td>4</td>\n      <td>2</td>\n      <td>-38</td>\n      <td>-1</td>\n      <td>-38</td>\n      <td>-119</td>\n      <td>3</td>\n      <td>58</td>\n      <td>-41</td>\n      <td>14</td>\n      <td>...</td>\n      <td>-23</td>\n      <td>5</td>\n      <td>-1</td>\n      <td>-8</td>\n      <td>-29</td>\n      <td>-48</td>\n      <td>64</td>\n      <td>0</td>\n      <td>-4</td>\n      <td>57</td>\n    </tr>\n    <tr>\n      <th>Array.67</th>\n      <td>-53</td>\n      <td>0</td>\n      <td>-13</td>\n      <td>-38</td>\n      <td>-31</td>\n      <td>-90</td>\n      <td>0</td>\n      <td>78</td>\n      <td>2</td>\n      <td>-28</td>\n      <td>...</td>\n      <td>-28</td>\n      <td>-71</td>\n      <td>-52</td>\n      <td>-301</td>\n      <td>-3</td>\n      <td>-22</td>\n      <td>2</td>\n      <td>0</td>\n      <td>3</td>\n      <td>79</td>\n    </tr>\n    <tr>\n      <th>Array.24</th>\n      <td>-130</td>\n      <td>-35</td>\n      <td>-42</td>\n      <td>-70</td>\n      <td>-34</td>\n      <td>-120</td>\n      <td>-43</td>\n      <td>81</td>\n      <td>-43</td>\n      <td>-60</td>\n      <td>...</td>\n      <td>-74</td>\n      <td>-50</td>\n      <td>-4</td>\n      <td>85</td>\n      <td>35</td>\n      <td>-2</td>\n      <td>0</td>\n      <td>-1</td>\n      <td>21</td>\n      <td>33</td>\n    </tr>\n    <tr>\n      <th>Array.22</th>\n      <td>73</td>\n      <td>0</td>\n      <td>60</td>\n      <td>-39</td>\n      <td>-18</td>\n      <td>-26</td>\n      <td>2</td>\n      <td>60</td>\n      <td>0</td>\n      <td>3</td>\n      <td>...</td>\n      <td>0</td>\n      <td>-4</td>\n      <td>-55</td>\n      <td>-3</td>\n      <td>0</td>\n      <td>-1</td>\n      <td>0</td>\n      <td>0</td>\n      <td>-7</td>\n      <td>66</td>\n    </tr>\n    <tr>\n      <th>Array.36</th>\n      <td>-9</td>\n      <td>-34</td>\n      <td>-3</td>\n      <td>-4</td>\n      <td>0</td>\n      <td>-7</td>\n      <td>-1</td>\n      <td>-91</td>\n      <td>-4</td>\n      <td>-5</td>\n      <td>...</td>\n      <td>-31</td>\n      <td>-4</td>\n      <td>-5</td>\n      <td>-102</td>\n      <td>0</td>\n      <td>-14</td>\n      <td>-9</td>\n      <td>36</td>\n      <td>-57</td>\n      <td>59</td>\n    </tr>\n    <tr>\n      <th>...</th>\n      <td>...</td>\n      <td>...</td>\n      <td>...</td>\n      <td>...</td>\n      <td>...</td>\n      <td>...</td>\n      <td>...</td>\n      <td>...</td>\n      <td>...</td>\n      <td>...</td>\n      <td>...</td>\n      <td>...</td>\n      <td>...</td>\n      <td>...</td>\n      <td>...</td>\n      <td>...</td>\n      <td>...</td>\n      <td>...</td>\n      <td>...</td>\n      <td>...</td>\n      <td>...</td>\n    </tr>\n    <tr>\n      <th>Array.35</th>\n      <td>-1</td>\n      <td>0</td>\n      <td>26</td>\n      <td>-4</td>\n      <td>0</td>\n      <td>-55</td>\n      <td>40</td>\n      <td>0</td>\n      <td>2</td>\n      <td>0</td>\n      <td>...</td>\n      <td>-1</td>\n      <td>68</td>\n      <td>1</td>\n      <td>-4</td>\n      <td>0</td>\n      <td>-2</td>\n      <td>0</td>\n      <td>0</td>\n      <td>-56</td>\n      <td>69</td>\n    </tr>\n    <tr>\n      <th>Array.93</th>\n      <td>173</td>\n      <td>83</td>\n      <td>18</td>\n      <td>-6</td>\n      <td>-3</td>\n      <td>178</td>\n      <td>79</td>\n      <td>-114</td>\n      <td>106</td>\n      <td>112</td>\n      <td>...</td>\n      <td>3</td>\n      <td>6</td>\n      <td>2</td>\n      <td>33</td>\n      <td>58</td>\n      <td>70</td>\n      <td>2</td>\n      <td>39</td>\n      <td>7</td>\n      <td>83</td>\n    </tr>\n    <tr>\n      <th>Array.123</th>\n      <td>22</td>\n      <td>-25</td>\n      <td>-21</td>\n      <td>-3</td>\n      <td>-2</td>\n      <td>-58</td>\n      <td>8</td>\n      <td>105</td>\n      <td>-34</td>\n      <td>0</td>\n      <td>...</td>\n      <td>-39</td>\n      <td>-16</td>\n      <td>-27</td>\n      <td>100</td>\n      <td>-1</td>\n      <td>-22</td>\n      <td>55</td>\n      <td>-38</td>\n      <td>-19</td>\n      <td>41</td>\n    </tr>\n    <tr>\n      <th>Array.100</th>\n      <td>1</td>\n      <td>0</td>\n      <td>-3</td>\n      <td>-1</td>\n      <td>-5</td>\n      <td>0</td>\n      <td>-1</td>\n      <td>2</td>\n      <td>1</td>\n      <td>0</td>\n      <td>...</td>\n      <td>-5</td>\n      <td>0</td>\n      <td>-1</td>\n      <td>2</td>\n      <td>0</td>\n      <td>0</td>\n      <td>0</td>\n      <td>0</td>\n      <td>-1</td>\n      <td>73</td>\n    </tr>\n    <tr>\n      <th>Array.134</th>\n      <td>-67</td>\n      <td>-1</td>\n      <td>114</td>\n      <td>-2</td>\n      <td>1</td>\n      <td>3</td>\n      <td>4</td>\n      <td>47</td>\n      <td>-90</td>\n      <td>-48</td>\n      <td>...</td>\n      <td>-4</td>\n      <td>-5</td>\n      <td>-22</td>\n      <td>340</td>\n      <td>-54</td>\n      <td>-6</td>\n      <td>111</td>\n      <td>39</td>\n      <td>-56</td>\n      <td>63</td>\n    </tr>\n  </tbody>\n</table>\n<p>68 rows × 23 columns</p>\n</div>"
     },
     "execution_count": 9,
     "metadata": {},
     "output_type": "execute_result"
    }
   ],
   "source": [
    "X_chr=call[clin[clin['Subgroup']!='HER2+']['Sample']].copy()\n",
    "X_chr['Chromosome']=call['Chromosome']\n",
    "X_chr = X_chr.groupby('Chromosome').sum()\n",
    "X_chr=X_chr.T\n",
    "\n",
    "X_chr"
   ],
   "metadata": {
    "collapsed": false,
    "pycharm": {
     "name": "#%%\n"
    }
   }
  },
  {
   "cell_type": "markdown",
   "source": [
    "# Baseline feature engineering\n",
    "Get a sum of features across chromosomes and run xgboost. Slightly better accuracy and lower performance variance on validation set."
   ],
   "metadata": {
    "collapsed": false
   }
  },
  {
   "cell_type": "code",
   "execution_count": 10,
   "outputs": [],
   "source": [
    "X_train_list, y_train_list = [], []\n",
    "X_val_list, y_val_list = [], []\n",
    "\n",
    "for split in outer_cross_val:\n",
    "    inner_cross_val, test_index = split\n",
    "    for train_index, val_index in inner_cross_val:\n",
    "        X_train, y_train = X_chr.iloc[train_index,:], y[train_index]\n",
    "        X_val, y_val = X_chr.iloc[val_index,:], y[val_index]\n",
    "\n",
    "        X_train_list.append(X_train)\n",
    "        y_train_list.append(y_train)\n",
    "\n",
    "        X_val_list.append(X_val)\n",
    "        y_val_list.append(y_val)"
   ],
   "metadata": {
    "collapsed": false,
    "pycharm": {
     "name": "#%%\n"
    }
   }
  },
  {
   "cell_type": "code",
   "execution_count": 11,
   "outputs": [
    {
     "name": "stdout",
     "output_type": "stream",
     "text": [
      "0.8026190476190476 0.1520194745252089\n",
      "6.817363212019412 5.2506233371145\n"
     ]
    }
   ],
   "source": [
    "accuracy_list = []\n",
    "av_logloss_list = []\n",
    "\n",
    "for (X_train, y_train, X_val, y_val) in zip(X_train_list, y_train_list, X_val_list, y_val_list):\n",
    "    model = XGBClassifier(max_depth=1, objective='binary:logistic')\n",
    "    model.fit(X_train, y_train=='HR+')\n",
    "\n",
    "    y_pred = model.predict(X_val)\n",
    "    predictions = [round(value) for value in y_pred]\n",
    "    accuracy = accuracy_score(y_val=='HR+', predictions)\n",
    "    av_logloss = log_loss(y_true=y_val=='HR+',labels=[True,False], y_pred=y_pred)\n",
    "\n",
    "    accuracy_list.append(accuracy)\n",
    "    av_logloss_list.append(av_logloss)\n",
    "\n",
    "print(np.mean(accuracy_list),np.std(accuracy_list))\n",
    "print(np.mean(av_logloss_list),np.std(av_logloss_list))"
   ],
   "metadata": {
    "collapsed": false,
    "pycharm": {
     "name": "#%%\n"
    }
   }
  }
 ],
 "metadata": {
  "kernelspec": {
   "display_name": "Python 3",
   "language": "python",
   "name": "python3"
  },
  "language_info": {
   "codemirror_mode": {
    "name": "ipython",
    "version": 2
   },
   "file_extension": ".py",
   "mimetype": "text/x-python",
   "name": "python",
   "nbconvert_exporter": "python",
   "pygments_lexer": "ipython2",
   "version": "2.7.6"
  }
 },
 "nbformat": 4,
 "nbformat_minor": 0
}