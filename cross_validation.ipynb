{
 "cells": [
  {
   "cell_type": "code",
   "execution_count": 1,
   "metadata": {
    "collapsed": true
   },
   "outputs": [],
   "source": [
    "import pandas as pd\n",
    "from sklearn.model_selection import StratifiedKFold\n",
    "import pickle"
   ]
  },
  {
   "cell_type": "code",
   "execution_count": 2,
   "outputs": [
    {
     "name": "stdout",
     "output_type": "stream",
     "text": [
      "   Chromosome   Start     End  Nclone  Array.129  Array.34  Array.67  \\\n",
      "0           1    2927   43870       3          0         0         0   \n",
      "1           1   85022  216735       4          0         0         0   \n",
      "2           1  370546  372295       4          0         0         0   \n",
      "3           1  471671  786483       5          0         0         0   \n",
      "4           1  792533  907406      13          0         0         0   \n",
      "\n",
      "   Array.24  Array.22  Array.36  ...  Array.64  Array.89  Array.30  Array.35  \\\n",
      "0         0         0         0  ...         0         0         1         0   \n",
      "1         0         0         0  ...         0         0         1         0   \n",
      "2         0         0         0  ...         0         0         1         0   \n",
      "3         0         0         0  ...         0         1         1         0   \n",
      "4         0         0         0  ...         0         1         1         0   \n",
      "\n",
      "   Array.93  Array.10  Array.123  Array.100  Array.134  Array.130  \n",
      "0         0         0          0          0         -1          0  \n",
      "1         0         0          0          0         -1          0  \n",
      "2         1         0          0          0         -1          0  \n",
      "3         1         0          0          0         -1          0  \n",
      "4         1         0          0          0         -1          0  \n",
      "\n",
      "[5 rows x 104 columns]\n",
      "      Sample    Subgroup\n",
      "0  Array.129       HER2+\n",
      "1   Array.34         HR+\n",
      "2   Array.67         HR+\n",
      "3   Array.24  Triple Neg\n",
      "4   Array.22  Triple Neg\n"
     ]
    }
   ],
   "source": [
    "call = pd.read_csv(\"data/Train_call.txt\", sep='\\t')\n",
    "clin = pd.read_csv(\"data/Train_clinical.txt\", sep='\\t')\n",
    "print(call.head())\n",
    "print(clin.head())"
   ],
   "metadata": {
    "collapsed": false,
    "pycharm": {
     "name": "#%%\n"
    }
   }
  },
  {
   "cell_type": "code",
   "execution_count": 3,
   "outputs": [
    {
     "data": {
      "text/plain": "(68, 2834)"
     },
     "execution_count": 3,
     "metadata": {},
     "output_type": "execute_result"
    }
   ],
   "source": [
    "X=call[clin[clin['Subgroup']!='HER2+']['Sample']]\n",
    "X=X.T.reset_index(drop=True)\n",
    "X.shape"
   ],
   "metadata": {
    "collapsed": false,
    "pycharm": {
     "name": "#%%\n"
    }
   }
  },
  {
   "cell_type": "code",
   "execution_count": 4,
   "outputs": [
    {
     "data": {
      "text/plain": "(68,)"
     },
     "execution_count": 4,
     "metadata": {},
     "output_type": "execute_result"
    }
   ],
   "source": [
    "y = clin[clin['Subgroup']!='HER2+']['Subgroup'].reset_index(drop=True)\n",
    "y.shape"
   ],
   "metadata": {
    "collapsed": false,
    "pycharm": {
     "name": "#%%\n"
    }
   }
  },
  {
   "cell_type": "code",
   "execution_count": 5,
   "outputs": [],
   "source": [
    "k_outer = 10\n",
    "kf = StratifiedKFold(n_splits=k_outer, random_state=12345,shuffle=True)\n",
    "\n",
    "outer_cross_val = []\n",
    "outer_indices = []\n",
    "for train_index, test_index in kf.split(X, y):\n",
    "    X_train, X_test = X.iloc[train_index,:], X.iloc[test_index,:]\n",
    "    y_train, y_test = y[train_index], y[test_index]\n",
    "    outer_cross_val.append(((X_train,y_train),(X_test,y_test)))\n",
    "    outer_indices.append((train_index, test_index))"
   ],
   "metadata": {
    "collapsed": false,
    "pycharm": {
     "name": "#%%\n"
    }
   }
  },
  {
   "cell_type": "code",
   "execution_count": 6,
   "outputs": [],
   "source": [
    "k_inner = 10\n",
    "kf = StratifiedKFold(n_splits=k_inner, random_state=12345,shuffle=True)\n",
    "\n",
    "full_cross_val = []\n",
    "full_indices = []\n",
    "for split,indices in zip(outer_cross_val,outer_indices):\n",
    "    (data_X,data_y),(X_test,y_test) = split\n",
    "    inner_cross_val = []\n",
    "    inner_indices = []\n",
    "    for train_index, val_index in kf.split(data_X, data_y):\n",
    "        X_train, X_val = X.iloc[train_index,:], X.iloc[val_index,:]\n",
    "        y_train, y_val = y[train_index], y[val_index]\n",
    "        inner_cross_val.append(((X_train,y_train),(X_val,y_val)))\n",
    "        inner_indices.append((train_index, val_index))\n",
    "    full_cross_val.append((inner_cross_val,(X_test,y_test)))\n",
    "    full_indices.append((inner_indices,indices[1]))"
   ],
   "metadata": {
    "collapsed": false,
    "pycharm": {
     "name": "#%%\n"
    }
   }
  },
  {
   "cell_type": "code",
   "execution_count": 7,
   "outputs": [],
   "source": [
    "folds_file = 'data/folds.pickle'\n",
    "with open(folds_file, 'wb') as fid:\n",
    "    pickle.dump(full_indices, fid, pickle.HIGHEST_PROTOCOL)"
   ],
   "metadata": {
    "collapsed": false,
    "pycharm": {
     "name": "#%%\n"
    }
   }
  }
 ],
 "metadata": {
  "kernelspec": {
   "display_name": "Python 3",
   "language": "python",
   "name": "python3"
  },
  "language_info": {
   "codemirror_mode": {
    "name": "ipython",
    "version": 2
   },
   "file_extension": ".py",
   "mimetype": "text/x-python",
   "name": "python",
   "nbconvert_exporter": "python",
   "pygments_lexer": "ipython2",
   "version": "2.7.6"
  }
 },
 "nbformat": 4,
 "nbformat_minor": 0
}