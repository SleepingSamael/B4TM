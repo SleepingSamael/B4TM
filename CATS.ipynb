{
 "cells": [
  {
   "cell_type": "markdown",
   "id": "1a33e000",
   "metadata": {},
   "source": [
    "# CATS analysis"
   ]
  },
  {
   "cell_type": "code",
   "execution_count": 1,
   "id": "b9f178d6",
   "metadata": {},
   "outputs": [],
   "source": [
    "#imports\n",
    "import numpy as np\n",
    "import pandas as pd\n",
    "import matplotlib.pyplot as plt\n",
    "%matplotlib inline\n",
    "import scipy\n",
    "import seaborn as sns\n",
    "from sklearn.model_selection import train_test_split"
   ]
  },
  {
   "cell_type": "code",
   "execution_count": 2,
   "id": "a19bd393",
   "metadata": {},
   "outputs": [],
   "source": [
    "#Data loading\n",
    "data = pd.read_csv(\"data/Train_call.txt\", sep='\\t')"
   ]
  },
  {
   "cell_type": "code",
   "execution_count": 3,
   "id": "4d7b37a8",
   "metadata": {
    "scrolled": true
   },
   "outputs": [
    {
     "data": {
      "text/plain": "      Chromosome      Start        End  Nclone  Array.129  Array.34  Array.67  \\\n0              1       2927      43870       3          0         0         0   \n1              1      85022     216735       4          0         0         0   \n2              1     370546     372295       4          0         0         0   \n3              1     471671     786483       5          0         0         0   \n4              1     792533     907406      13          0         0         0   \n...          ...        ...        ...     ...        ...       ...       ...   \n2829          23  153062077  153452633      57          1         1         1   \n2830          23  153466463  153491568       4          1         1         1   \n2831          23  153504394  153933426      55          1         1         1   \n2832          23  153938998  153989329       5          1         1         1   \n2833          23  153997146  154492924      43          1         1         1   \n\n      Array.24  Array.22  Array.36  ...  Array.64  Array.89  Array.30  \\\n0            0         0         0  ...         0         0         1   \n1            0         0         0  ...         0         0         1   \n2            0         0         0  ...         0         0         1   \n3            0         0         0  ...         0         1         1   \n4            0         0         0  ...         0         1         1   \n...        ...       ...       ...  ...       ...       ...       ...   \n2829         0         1         1  ...         1         1         1   \n2830         0         1         1  ...         2         1         1   \n2831         0         1         1  ...         2         1         1   \n2832         0         1         1  ...         2         1         1   \n2833         0         1         1  ...         2         1         1   \n\n      Array.35  Array.93  Array.10  Array.123  Array.100  Array.134  Array.130  \n0            0         0         0          0          0         -1          0  \n1            0         0         0          0          0         -1          0  \n2            0         1         0          0          0         -1          0  \n3            0         1         0          0          0         -1          0  \n4            0         1         0          0          0         -1          0  \n...        ...       ...       ...        ...        ...        ...        ...  \n2829         1         1         1          1          1          1          1  \n2830         1         1         1          1          1          1          1  \n2831         1         1         1          1          1          1          1  \n2832         1         1         1          1          1          1          1  \n2833         1         1         1          1          1          1          1  \n\n[2834 rows x 104 columns]",
      "text/html": "<div>\n<style scoped>\n    .dataframe tbody tr th:only-of-type {\n        vertical-align: middle;\n    }\n\n    .dataframe tbody tr th {\n        vertical-align: top;\n    }\n\n    .dataframe thead th {\n        text-align: right;\n    }\n</style>\n<table border=\"1\" class=\"dataframe\">\n  <thead>\n    <tr style=\"text-align: right;\">\n      <th></th>\n      <th>Chromosome</th>\n      <th>Start</th>\n      <th>End</th>\n      <th>Nclone</th>\n      <th>Array.129</th>\n      <th>Array.34</th>\n      <th>Array.67</th>\n      <th>Array.24</th>\n      <th>Array.22</th>\n      <th>Array.36</th>\n      <th>...</th>\n      <th>Array.64</th>\n      <th>Array.89</th>\n      <th>Array.30</th>\n      <th>Array.35</th>\n      <th>Array.93</th>\n      <th>Array.10</th>\n      <th>Array.123</th>\n      <th>Array.100</th>\n      <th>Array.134</th>\n      <th>Array.130</th>\n    </tr>\n  </thead>\n  <tbody>\n    <tr>\n      <th>0</th>\n      <td>1</td>\n      <td>2927</td>\n      <td>43870</td>\n      <td>3</td>\n      <td>0</td>\n      <td>0</td>\n      <td>0</td>\n      <td>0</td>\n      <td>0</td>\n      <td>0</td>\n      <td>...</td>\n      <td>0</td>\n      <td>0</td>\n      <td>1</td>\n      <td>0</td>\n      <td>0</td>\n      <td>0</td>\n      <td>0</td>\n      <td>0</td>\n      <td>-1</td>\n      <td>0</td>\n    </tr>\n    <tr>\n      <th>1</th>\n      <td>1</td>\n      <td>85022</td>\n      <td>216735</td>\n      <td>4</td>\n      <td>0</td>\n      <td>0</td>\n      <td>0</td>\n      <td>0</td>\n      <td>0</td>\n      <td>0</td>\n      <td>...</td>\n      <td>0</td>\n      <td>0</td>\n      <td>1</td>\n      <td>0</td>\n      <td>0</td>\n      <td>0</td>\n      <td>0</td>\n      <td>0</td>\n      <td>-1</td>\n      <td>0</td>\n    </tr>\n    <tr>\n      <th>2</th>\n      <td>1</td>\n      <td>370546</td>\n      <td>372295</td>\n      <td>4</td>\n      <td>0</td>\n      <td>0</td>\n      <td>0</td>\n      <td>0</td>\n      <td>0</td>\n      <td>0</td>\n      <td>...</td>\n      <td>0</td>\n      <td>0</td>\n      <td>1</td>\n      <td>0</td>\n      <td>1</td>\n      <td>0</td>\n      <td>0</td>\n      <td>0</td>\n      <td>-1</td>\n      <td>0</td>\n    </tr>\n    <tr>\n      <th>3</th>\n      <td>1</td>\n      <td>471671</td>\n      <td>786483</td>\n      <td>5</td>\n      <td>0</td>\n      <td>0</td>\n      <td>0</td>\n      <td>0</td>\n      <td>0</td>\n      <td>0</td>\n      <td>...</td>\n      <td>0</td>\n      <td>1</td>\n      <td>1</td>\n      <td>0</td>\n      <td>1</td>\n      <td>0</td>\n      <td>0</td>\n      <td>0</td>\n      <td>-1</td>\n      <td>0</td>\n    </tr>\n    <tr>\n      <th>4</th>\n      <td>1</td>\n      <td>792533</td>\n      <td>907406</td>\n      <td>13</td>\n      <td>0</td>\n      <td>0</td>\n      <td>0</td>\n      <td>0</td>\n      <td>0</td>\n      <td>0</td>\n      <td>...</td>\n      <td>0</td>\n      <td>1</td>\n      <td>1</td>\n      <td>0</td>\n      <td>1</td>\n      <td>0</td>\n      <td>0</td>\n      <td>0</td>\n      <td>-1</td>\n      <td>0</td>\n    </tr>\n    <tr>\n      <th>...</th>\n      <td>...</td>\n      <td>...</td>\n      <td>...</td>\n      <td>...</td>\n      <td>...</td>\n      <td>...</td>\n      <td>...</td>\n      <td>...</td>\n      <td>...</td>\n      <td>...</td>\n      <td>...</td>\n      <td>...</td>\n      <td>...</td>\n      <td>...</td>\n      <td>...</td>\n      <td>...</td>\n      <td>...</td>\n      <td>...</td>\n      <td>...</td>\n      <td>...</td>\n      <td>...</td>\n    </tr>\n    <tr>\n      <th>2829</th>\n      <td>23</td>\n      <td>153062077</td>\n      <td>153452633</td>\n      <td>57</td>\n      <td>1</td>\n      <td>1</td>\n      <td>1</td>\n      <td>0</td>\n      <td>1</td>\n      <td>1</td>\n      <td>...</td>\n      <td>1</td>\n      <td>1</td>\n      <td>1</td>\n      <td>1</td>\n      <td>1</td>\n      <td>1</td>\n      <td>1</td>\n      <td>1</td>\n      <td>1</td>\n      <td>1</td>\n    </tr>\n    <tr>\n      <th>2830</th>\n      <td>23</td>\n      <td>153466463</td>\n      <td>153491568</td>\n      <td>4</td>\n      <td>1</td>\n      <td>1</td>\n      <td>1</td>\n      <td>0</td>\n      <td>1</td>\n      <td>1</td>\n      <td>...</td>\n      <td>2</td>\n      <td>1</td>\n      <td>1</td>\n      <td>1</td>\n      <td>1</td>\n      <td>1</td>\n      <td>1</td>\n      <td>1</td>\n      <td>1</td>\n      <td>1</td>\n    </tr>\n    <tr>\n      <th>2831</th>\n      <td>23</td>\n      <td>153504394</td>\n      <td>153933426</td>\n      <td>55</td>\n      <td>1</td>\n      <td>1</td>\n      <td>1</td>\n      <td>0</td>\n      <td>1</td>\n      <td>1</td>\n      <td>...</td>\n      <td>2</td>\n      <td>1</td>\n      <td>1</td>\n      <td>1</td>\n      <td>1</td>\n      <td>1</td>\n      <td>1</td>\n      <td>1</td>\n      <td>1</td>\n      <td>1</td>\n    </tr>\n    <tr>\n      <th>2832</th>\n      <td>23</td>\n      <td>153938998</td>\n      <td>153989329</td>\n      <td>5</td>\n      <td>1</td>\n      <td>1</td>\n      <td>1</td>\n      <td>0</td>\n      <td>1</td>\n      <td>1</td>\n      <td>...</td>\n      <td>2</td>\n      <td>1</td>\n      <td>1</td>\n      <td>1</td>\n      <td>1</td>\n      <td>1</td>\n      <td>1</td>\n      <td>1</td>\n      <td>1</td>\n      <td>1</td>\n    </tr>\n    <tr>\n      <th>2833</th>\n      <td>23</td>\n      <td>153997146</td>\n      <td>154492924</td>\n      <td>43</td>\n      <td>1</td>\n      <td>1</td>\n      <td>1</td>\n      <td>0</td>\n      <td>1</td>\n      <td>1</td>\n      <td>...</td>\n      <td>2</td>\n      <td>1</td>\n      <td>1</td>\n      <td>1</td>\n      <td>1</td>\n      <td>1</td>\n      <td>1</td>\n      <td>1</td>\n      <td>1</td>\n      <td>1</td>\n    </tr>\n  </tbody>\n</table>\n<p>2834 rows × 104 columns</p>\n</div>"
     },
     "execution_count": 3,
     "metadata": {},
     "output_type": "execute_result"
    }
   ],
   "source": [
    "data"
   ]
  },
  {
   "cell_type": "markdown",
   "id": "bc47000b",
   "metadata": {},
   "source": [
    "Dropping the columns we don't need:"
   ]
  },
  {
   "cell_type": "code",
   "execution_count": 4,
   "id": "febc0cc2",
   "metadata": {},
   "outputs": [],
   "source": [
    "data.drop(['Chromosome'], axis=1, inplace=True)\n",
    "data.drop(['Start'], axis=1, inplace=True)\n",
    "data.drop(['End'], axis=1, inplace=True)\n",
    "data.drop(['Nclone'], axis=1, inplace=True)"
   ]
  },
  {
   "cell_type": "markdown",
   "id": "ef959b23",
   "metadata": {},
   "source": [
    "Transposing because the instances are in the columns and the features in the row and we need the opposite:"
   ]
  },
  {
   "cell_type": "code",
   "execution_count": 5,
   "id": "b01dfc80",
   "metadata": {},
   "outputs": [],
   "source": [
    "data = data.T"
   ]
  },
  {
   "cell_type": "markdown",
   "id": "5c03131a",
   "metadata": {},
   "source": [
    "Loading the target:"
   ]
  },
  {
   "cell_type": "code",
   "execution_count": 6,
   "id": "ad66b4c5",
   "metadata": {},
   "outputs": [],
   "source": [
    "y = pd.read_csv(\"data/Train_clinical.txt\", sep='\\t', low_memory=False)"
   ]
  },
  {
   "cell_type": "code",
   "execution_count": 7,
   "id": "c7e03a9b",
   "metadata": {},
   "outputs": [
    {
     "data": {
      "text/plain": "       Sample    Subgroup\n0   Array.129       HER2+\n1    Array.34         HR+\n2    Array.67         HR+\n3    Array.24  Triple Neg\n4    Array.22  Triple Neg\n..        ...         ...\n95   Array.10       HER2+\n96  Array.123         HR+\n97  Array.100         HR+\n98  Array.134         HR+\n99  Array.130       HER2+\n\n[100 rows x 2 columns]",
      "text/html": "<div>\n<style scoped>\n    .dataframe tbody tr th:only-of-type {\n        vertical-align: middle;\n    }\n\n    .dataframe tbody tr th {\n        vertical-align: top;\n    }\n\n    .dataframe thead th {\n        text-align: right;\n    }\n</style>\n<table border=\"1\" class=\"dataframe\">\n  <thead>\n    <tr style=\"text-align: right;\">\n      <th></th>\n      <th>Sample</th>\n      <th>Subgroup</th>\n    </tr>\n  </thead>\n  <tbody>\n    <tr>\n      <th>0</th>\n      <td>Array.129</td>\n      <td>HER2+</td>\n    </tr>\n    <tr>\n      <th>1</th>\n      <td>Array.34</td>\n      <td>HR+</td>\n    </tr>\n    <tr>\n      <th>2</th>\n      <td>Array.67</td>\n      <td>HR+</td>\n    </tr>\n    <tr>\n      <th>3</th>\n      <td>Array.24</td>\n      <td>Triple Neg</td>\n    </tr>\n    <tr>\n      <th>4</th>\n      <td>Array.22</td>\n      <td>Triple Neg</td>\n    </tr>\n    <tr>\n      <th>...</th>\n      <td>...</td>\n      <td>...</td>\n    </tr>\n    <tr>\n      <th>95</th>\n      <td>Array.10</td>\n      <td>HER2+</td>\n    </tr>\n    <tr>\n      <th>96</th>\n      <td>Array.123</td>\n      <td>HR+</td>\n    </tr>\n    <tr>\n      <th>97</th>\n      <td>Array.100</td>\n      <td>HR+</td>\n    </tr>\n    <tr>\n      <th>98</th>\n      <td>Array.134</td>\n      <td>HR+</td>\n    </tr>\n    <tr>\n      <th>99</th>\n      <td>Array.130</td>\n      <td>HER2+</td>\n    </tr>\n  </tbody>\n</table>\n<p>100 rows × 2 columns</p>\n</div>"
     },
     "execution_count": 7,
     "metadata": {},
     "output_type": "execute_result"
    }
   ],
   "source": [
    "y"
   ]
  },
  {
   "cell_type": "markdown",
   "id": "4776f145",
   "metadata": {},
   "source": [
    " Dropping the column we don't need and making it the proper dimensions:"
   ]
  },
  {
   "cell_type": "code",
   "execution_count": 8,
   "id": "78e2db94",
   "metadata": {},
   "outputs": [],
   "source": [
    "y.drop(['Sample'], axis=1, inplace=True)\n",
    "y=np.squeeze(y)"
   ]
  },
  {
   "cell_type": "markdown",
   "id": "e9796be0",
   "metadata": {},
   "source": [
    "Splitting train and test data (we won't need this once they provide the test data):"
   ]
  },
  {
   "cell_type": "code",
   "execution_count": 9,
   "id": "5a25c3a4",
   "metadata": {},
   "outputs": [],
   "source": [
    "x_train, x_test, y_train, y_test = train_test_split(data, y, test_size = 0.3, random_state=4)"
   ]
  },
  {
   "cell_type": "markdown",
   "id": "8219382b",
   "metadata": {},
   "source": [
    "## Random Forest"
   ]
  },
  {
   "cell_type": "code",
   "execution_count": 10,
   "id": "51ea03dc",
   "metadata": {},
   "outputs": [],
   "source": [
    "from sklearn.model_selection import cross_val_score, GridSearchCV\n",
    "from sklearn import metrics"
   ]
  },
  {
   "cell_type": "code",
   "execution_count": 11,
   "id": "66196eb2",
   "metadata": {},
   "outputs": [],
   "source": [
    "from sklearn.ensemble import RandomForestClassifier"
   ]
  },
  {
   "cell_type": "code",
   "execution_count": 12,
   "id": "d714a005",
   "metadata": {},
   "outputs": [],
   "source": [
    "def rf_model(X, y, n_estimators_list, max_depth_list, min_samples_split_list, min_samples_leaf_list):\n",
    "    # Setup the Grid Search function with parameters given by the user\n",
    "    grid_search = GridSearchCV(estimator = RandomForestClassifier(random_state = 0),\n",
    "                              param_grid = {'n_estimators': n_estimators_list,\n",
    "                                           'max_depth': max_depth_list,\n",
    "                                           'min_samples_split': min_samples_split_list,\n",
    "                                           'min_samples_leaf': min_samples_leaf_list,},\n",
    "                              scoring = \"accuracy\",\n",
    "                              verbose = 0,\n",
    "                              cv = 5)\n",
    "    # Run the grid search\n",
    "    gs_results= grid_search.fit(X, y)\n",
    "    # Get the best parameters\n",
    "    gs_bp = gs_results.best_params_\n",
    "    \n",
    "    rf = RandomForestClassifier(n_estimators = gs_bp[\"n_estimators\"],\n",
    "                                max_depth = gs_bp[\"max_depth\"],\n",
    "                                min_samples_split = gs_bp[\"min_samples_split\"],\n",
    "                                min_samples_leaf = gs_bp[\"min_samples_leaf\"],\n",
    "                                random_state = 0,\n",
    "                                verbose = False)\n",
    "    # Get scores:\n",
    "    scores = cross_val_score(rf, X, y, cv = 5, scoring = \"accuracy\")\n",
    "    \n",
    "    return gs_results, gs_bp, rf, scores"
   ]
  },
  {
   "cell_type": "code",
   "execution_count": 13,
   "id": "b8988e1b",
   "metadata": {},
   "outputs": [],
   "source": [
    "# Initialize parameters to test for the random forest model\n",
    "# Number of estimators should be a list of values\n",
    "n_estimators_list = [50, 250, 750]\n",
    "# Max depth should be a range of integers\n",
    "max_depth_list = range(2,10,3)\n",
    "# Should be  alist of integers\n",
    "min_samples_split_list = [2, 6]\n",
    "min_samples_leaf_list = [1, 5, 10]"
   ]
  },
  {
   "cell_type": "code",
   "execution_count": 14,
   "id": "e1b4cbdf",
   "metadata": {},
   "outputs": [
    {
     "name": "stdout",
     "output_type": "stream",
     "text": [
      "Wall time: 1min 34s\n"
     ]
    }
   ],
   "source": [
    "%%time\n",
    "gs_rf_results, gs_rf_bp, rf, rf_scores = rf_model(x_train, y_train, n_estimators_list, max_depth_list, \n",
    "                                              min_samples_split_list, min_samples_leaf_list)"
   ]
  },
  {
   "cell_type": "code",
   "execution_count": 15,
   "id": "e55ada9a",
   "metadata": {},
   "outputs": [
    {
     "name": "stdout",
     "output_type": "stream",
     "text": [
      "Cross-validation accuracies: \n",
      "0.7142857142857142\n"
     ]
    }
   ],
   "source": [
    "print(\"Cross-validation accuracies: \") \n",
    "print(np.mean(rf_scores))"
   ]
  },
  {
   "cell_type": "code",
   "execution_count": 16,
   "id": "8b0e94f6",
   "metadata": {},
   "outputs": [
    {
     "name": "stdout",
     "output_type": "stream",
     "text": [
      "Accuracy training: 1.0\n",
      "Accuracy testing: 0.7666666666666667\n"
     ]
    }
   ],
   "source": [
    "rf.fit(x_train,y_train)\n",
    "                            \n",
    "# Model Accuracy, how often is the classifier correct?\n",
    "train_rf_pred=rf.predict(x_train)\n",
    "# Evaluate training accuracy\n",
    "test_rf_pred=rf.predict(x_test)\n",
    "# Model Accuracy, how often is the classifier correct?\n",
    "print(\"Accuracy training:\",metrics.accuracy_score(y_train, train_rf_pred))\n",
    "print(\"Accuracy testing:\",metrics.accuracy_score(y_test, test_rf_pred))"
   ]
  },
  {
   "cell_type": "code",
   "execution_count": 17,
   "id": "e7943e2a",
   "metadata": {},
   "outputs": [],
   "source": [
    "cf_matrix=metrics.confusion_matrix(y_test, test_rf_pred, labels=[\"HER2+\", \"HR+\", \"Triple Neg\"])"
   ]
  },
  {
   "cell_type": "code",
   "execution_count": 18,
   "id": "45abb84c",
   "metadata": {
    "scrolled": true
   },
   "outputs": [
    {
     "data": {
      "text/plain": "<Figure size 432x288 with 2 Axes>",
      "image/png": "[encoded data removed]"
     },
     "metadata": {
      "needs_background": "light"
     },
     "output_type": "display_data"
    }
   ],
   "source": [
    "s_rf = sns.heatmap(cf_matrix, annot= True, cmap='Blues', \n",
    "                   xticklabels = [\"HER2+\", \"HR+\", \"Triple Neg\"], yticklabels = [\"HER2+\", \"HR+\", \"Triple Neg\"])\n",
    "b=s_rf.set(xlabel='Predicted Class', ylabel='True Class')\n",
    "a=s_rf.set(title = 'RandomForest Confusion Matrix')"
   ]
  },
  {
   "cell_type": "markdown",
   "id": "a6fe1693",
   "metadata": {},
   "source": [
    "## Support Vector Machine"
   ]
  },
  {
   "cell_type": "code",
   "execution_count": 19,
   "id": "45c6c94c",
   "metadata": {},
   "outputs": [],
   "source": [
    "from sklearn.pipeline import make_pipeline\n",
    "from sklearn.preprocessing import StandardScaler\n",
    "from sklearn.svm import SVC"
   ]
  },
  {
   "cell_type": "code",
   "execution_count": 20,
   "id": "6ecf5634",
   "metadata": {},
   "outputs": [],
   "source": [
    "def svm_model(X, y, gamma_list, C_list, kernel_list):\n",
    "    # Setup the Grid Search function with parameters given by the user\n",
    "    grid_search = GridSearchCV(estimator = SVC(random_state = 0),\n",
    "                              param_grid = {'gamma': gamma_list,\n",
    "                                           'C': C_list,\n",
    "                                           'kernel': kernel_list},\n",
    "                              scoring = \"accuracy\",\n",
    "                              verbose = 0,\n",
    "                              cv = 5)\n",
    "    # Run the grid search\n",
    "    gs_results= grid_search.fit(X, y)\n",
    "    # Get the best parameters\n",
    "    gs_bp = gs_results.best_params_\n",
    "    \n",
    "    svm = SVC(gamma = gs_bp[\"gamma\"],\n",
    "                            C = gs_bp[\"C\"],\n",
    "                            kernel = gs_bp[\"kernel\"],\n",
    "                            random_state = 0,\n",
    "                            verbose = False,\n",
    "                            probability = True)\n",
    "    # Get scores:\n",
    "    scores = cross_val_score(svm, X, y, cv = 5, scoring = \"accuracy\")\n",
    "    \n",
    "    return gs_results, gs_bp, svm, scores"
   ]
  },
  {
   "cell_type": "code",
   "execution_count": 21,
   "id": "5a7f2e68",
   "metadata": {},
   "outputs": [],
   "source": [
    "# Initialize parameters to test for the random forest model\n",
    "# Number of estimators should be a list of values\n",
    "gamma_list = [0.0001, 0.001, 0.01, .1, 1, 10, 100]\n",
    "# Max depth should be a range of integers\n",
    "C_list = [.1, .2, .3, .4, .5]\n",
    "kernel_list = ['linear', 'poly', 'rbf', 'sigmoid']"
   ]
  },
  {
   "cell_type": "code",
   "execution_count": 22,
   "id": "4ab664e9",
   "metadata": {},
   "outputs": [
    {
     "name": "stdout",
     "output_type": "stream",
     "text": [
      "Wall time: 18.4 s\n"
     ]
    }
   ],
   "source": [
    "%%time\n",
    "gs_svm_results, gs_svm_bp, svm, svm_scores = svm_model(x_train, y_train, gamma_list, C_list, kernel_list)"
   ]
  },
  {
   "cell_type": "code",
   "execution_count": 23,
   "id": "d147eed5",
   "metadata": {},
   "outputs": [
    {
     "name": "stdout",
     "output_type": "stream",
     "text": [
      "Cross-validation accuracies: \n",
      "0.6714285714285715\n"
     ]
    }
   ],
   "source": [
    "print(\"Cross-validation accuracies: \") \n",
    "print(np.mean(svm_scores))"
   ]
  },
  {
   "cell_type": "code",
   "execution_count": 24,
   "id": "f0a0dfa7",
   "metadata": {},
   "outputs": [
    {
     "name": "stdout",
     "output_type": "stream",
     "text": [
      "Accuracy training: 1.0\n",
      "Accuracy testing: 0.6333333333333333\n"
     ]
    }
   ],
   "source": [
    "svm.fit(x_train,y_train)\n",
    "                            \n",
    "# Model Accuracy, how often is the classifier correct?\n",
    "train_svm_pred=svm.predict(x_train)\n",
    "# Evaluate training accuracy\n",
    "test_svm_pred=svm.predict(x_test)\n",
    "# Model Accuracy, how often is the classifier correct?\n",
    "print(\"Accuracy training:\",metrics.accuracy_score(y_train, train_svm_pred))\n",
    "print(\"Accuracy testing:\",metrics.accuracy_score(y_test, test_svm_pred))"
   ]
  },
  {
   "cell_type": "code",
   "execution_count": 25,
   "id": "e550fae4",
   "metadata": {},
   "outputs": [
    {
     "data": {
      "text/plain": "<Figure size 432x288 with 2 Axes>",
      "image/png": "[encoded data removed]"
     },
     "metadata": {
      "needs_background": "light"
     },
     "output_type": "display_data"
    }
   ],
   "source": [
    "cf_matrix=metrics.confusion_matrix(y_test, test_svm_pred, labels=[\"HER2+\", \"HR+\", \"Triple Neg\"])\n",
    "s_rf = sns.heatmap(cf_matrix, annot= True, cmap='Blues', \n",
    "                   xticklabels = [\"HER2+\", \"HR+\", \"Triple Neg\"], yticklabels = [\"HER2+\", \"HR+\", \"Triple Neg\"])\n",
    "b=s_rf.set(xlabel='Predicted Class', ylabel='True Class')\n",
    "a=s_rf.set(title = 'RandomForest Confusion Matrix')"
   ]
  },
  {
   "cell_type": "markdown",
   "id": "f500f044",
   "metadata": {},
   "source": [
    "## Logistic Regression"
   ]
  },
  {
   "cell_type": "code",
   "execution_count": 26,
   "id": "f491c6f4",
   "metadata": {},
   "outputs": [],
   "source": [
    "from sklearn.linear_model import LogisticRegression\n",
    "\n",
    "def LR_model(X, y, max_iter_list, penalty_list, tol_list, C_list):\n",
    "    # Setup the Grid Search function with parameters given by the user\n",
    "    grid_search = GridSearchCV(estimator = LogisticRegression(random_state = 0),\n",
    "                              param_grid = {'max_iter': max_iter_list,\n",
    "                                           'penalty': penalty_list,\n",
    "                                           'tol': tol_list,\n",
    "                                           'C': C_list,},\n",
    "                              scoring = \"accuracy\",\n",
    "                              verbose = 0,\n",
    "                              cv = 5)\n",
    "    # Run the grid search\n",
    "    gs_results= grid_search.fit(X, y)\n",
    "    # Get the best parameters\n",
    "    gs_bp = gs_results.best_params_\n",
    "    \n",
    "    LR = LogisticRegression(max_iter = gs_bp[\"max_iter\"],\n",
    "                                penalty = gs_bp[\"penalty\"],\n",
    "                                tol = gs_bp[\"tol\"],\n",
    "                                C = gs_bp[\"C\"],\n",
    "                                random_state = 0,\n",
    "                                verbose = False)\n",
    "    # Get scores:\n",
    "    scores = cross_val_score(LR, X, y, cv = 5, scoring = \"accuracy\")\n",
    "    \n",
    "    return gs_results, gs_bp, LR, scores"
   ]
  },
  {
   "cell_type": "code",
   "execution_count": 27,
   "id": "785d92b9",
   "metadata": {},
   "outputs": [],
   "source": [
    "max_iter_list = [1000]\n",
    "penalty_list = ['l1', 'l2', 'elasticnet', 'none']\n",
    "tol_list = [.0001, .001, .01]\n",
    "C_list2 = [.1, .2, .3, .4, .5]"
   ]
  },
  {
   "cell_type": "code",
   "execution_count": 28,
   "id": "40f744a5",
   "metadata": {},
   "outputs": [],
   "source": [
    "import warnings\n",
    "warnings.filterwarnings(\"ignore\")"
   ]
  },
  {
   "cell_type": "code",
   "execution_count": 29,
   "id": "be8c699f",
   "metadata": {},
   "outputs": [
    {
     "name": "stdout",
     "output_type": "stream",
     "text": [
      "Wall time: 10.4 s\n"
     ]
    }
   ],
   "source": [
    "%%time\n",
    "gs_LR_results, gs_LR_bp, LR, LR_scores = LR_model(x_train, y_train, max_iter_list, penalty_list, \n",
    "                                              tol_list, C_list2)"
   ]
  },
  {
   "cell_type": "code",
   "execution_count": 30,
   "id": "3b791e74",
   "metadata": {},
   "outputs": [
    {
     "name": "stdout",
     "output_type": "stream",
     "text": [
      "Cross-validation accuracy: \n",
      "0.6857142857142857\n"
     ]
    }
   ],
   "source": [
    "print(\"Cross-validation accuracy: \") \n",
    "print(np.mean(LR_scores))"
   ]
  },
  {
   "cell_type": "code",
   "execution_count": 31,
   "id": "df170ce7",
   "metadata": {},
   "outputs": [
    {
     "name": "stdout",
     "output_type": "stream",
     "text": [
      "Accuracy training: 1.0\n",
      "Accuracy testing: 0.7666666666666667\n"
     ]
    }
   ],
   "source": [
    "LR.fit(x_train,y_train)\n",
    "                            \n",
    "# Model Accuracy, how often is the classifier correct?\n",
    "train_LR_pred=LR.predict(x_train)\n",
    "# Evaluate training accuracy\n",
    "test_LR_pred=LR.predict(x_test)\n",
    "# Model Accuracy, how often is the classifier correct?\n",
    "print(\"Accuracy training:\",metrics.accuracy_score(y_train, train_LR_pred))\n",
    "print(\"Accuracy testing:\",metrics.accuracy_score(y_test, test_LR_pred))"
   ]
  },
  {
   "cell_type": "code",
   "execution_count": 32,
   "id": "a167cb2c",
   "metadata": {},
   "outputs": [
    {
     "data": {
      "text/plain": "<Figure size 432x288 with 2 Axes>",
      "image/png": "[encoded data removed]"
     },
     "metadata": {
      "needs_background": "light"
     },
     "output_type": "display_data"
    }
   ],
   "source": [
    "cf_matrix=metrics.confusion_matrix(y_test, test_LR_pred, labels=[\"HER2+\", \"HR+\", \"Triple Neg\"])\n",
    "s_rf = sns.heatmap(cf_matrix, annot= True, cmap='Blues', \n",
    "                   xticklabels = [\"HER2+\", \"HR+\", \"Triple Neg\"], yticklabels = [\"HER2+\", \"HR+\", \"Triple Neg\"])\n",
    "b=s_rf.set(xlabel='Predicted Class', ylabel='True Class')\n",
    "a=s_rf.set(title = 'RandomForest Confusion Matrix')"
   ]
  }
 ],
 "metadata": {
  "kernelspec": {
   "display_name": "Python 3 (ipykernel)",
   "language": "python",
   "name": "python3"
  },
  "language_info": {
   "codemirror_mode": {
    "name": "ipython",
    "version": 3
   },
   "file_extension": ".py",
   "mimetype": "text/x-python",
   "name": "python",
   "nbconvert_exporter": "python",
   "pygments_lexer": "ipython3",
   "version": "3.9.7"
  }
 },
 "nbformat": 4,
 "nbformat_minor": 5
}