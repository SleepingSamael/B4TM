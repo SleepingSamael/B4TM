{
 "cells": [
  {
   "cell_type": "code",
   "execution_count": 69,
   "id": "hungry-sentence",
   "metadata": {
    "pycharm": {
     "name": "#%%\n"
    }
   },
   "outputs": [],
   "source": [
    "#imports\n",
    "import numpy as np\n",
    "import pandas as pd\n",
    "import matplotlib.pyplot as plt\n",
    "import plotly.express as px\n"
   ]
  },
  {
   "cell_type": "code",
   "execution_count": 70,
   "id": "stainless-nebraska",
   "metadata": {
    "pycharm": {
     "name": "#%%\n"
    }
   },
   "outputs": [],
   "source": [
    "#Data loading\n",
    "data = pd.read_csv(\"../data/Train_call.txt\", sep='\\t',header=0,names=None,low_memory=False)"
   ]
  },
  {
   "cell_type": "code",
   "execution_count": 71,
   "id": "recent-daughter",
   "metadata": {
    "pycharm": {
     "name": "#%%\n"
    }
   },
   "outputs": [],
   "source": [
    "data.drop(['Chromosome'], axis=1, inplace=True)\n",
    "data.drop(['Start'], axis=1, inplace=True)\n",
    "data.drop(['End'], axis=1, inplace=True)\n",
    "data.drop(['Nclone'], axis=1, inplace=True)"
   ]
  },
  {
   "cell_type": "code",
   "execution_count": 72,
   "id": "designing-flush",
   "metadata": {
    "pycharm": {
     "name": "#%%\n"
    }
   },
   "outputs": [
    {
     "data": {
      "text/plain": "      Array.129  Array.34  Array.67  Array.24  Array.22  Array.36  Array.49  \\\n0             0         0         0         0         0         0         0   \n1             0         0         0         0         0         0         0   \n2             0         0         0         0         0         0         0   \n3             0         0         0         0         0         0         0   \n4             0         0         0         0         0         0         0   \n...         ...       ...       ...       ...       ...       ...       ...   \n2829          1         1         1         0         1         1         1   \n2830          1         1         1         0         1         1         1   \n2831          1         1         1         0         1         1         1   \n2832          1         1         1         0         1         1         1   \n2833          1         1         1         0         1         1         1   \n\n      Array.16  Array.146  Array.143  ...  Array.64  Array.89  Array.30  \\\n0            0          0          0  ...         0         0         1   \n1            0          0          0  ...         0         0         1   \n2            0          0          0  ...         0         0         1   \n3            0          0          0  ...         0         1         1   \n4           -1          0          0  ...         0         1         1   \n...        ...        ...        ...  ...       ...       ...       ...   \n2829         1          1          1  ...         1         1         1   \n2830         1          1          1  ...         2         1         1   \n2831         1          1          1  ...         2         1         1   \n2832         1          1          1  ...         2         1         1   \n2833         1          1          1  ...         2         1         1   \n\n      Array.35  Array.93  Array.10  Array.123  Array.100  Array.134  Array.130  \n0            0         0         0          0          0         -1          0  \n1            0         0         0          0          0         -1          0  \n2            0         1         0          0          0         -1          0  \n3            0         1         0          0          0         -1          0  \n4            0         1         0          0          0         -1          0  \n...        ...       ...       ...        ...        ...        ...        ...  \n2829         1         1         1          1          1          1          1  \n2830         1         1         1          1          1          1          1  \n2831         1         1         1          1          1          1          1  \n2832         1         1         1          1          1          1          1  \n2833         1         1         1          1          1          1          1  \n\n[2834 rows x 100 columns]",
      "text/html": "<div>\n<style scoped>\n    .dataframe tbody tr th:only-of-type {\n        vertical-align: middle;\n    }\n\n    .dataframe tbody tr th {\n        vertical-align: top;\n    }\n\n    .dataframe thead th {\n        text-align: right;\n    }\n</style>\n<table border=\"1\" class=\"dataframe\">\n  <thead>\n    <tr style=\"text-align: right;\">\n      <th></th>\n      <th>Array.129</th>\n      <th>Array.34</th>\n      <th>Array.67</th>\n      <th>Array.24</th>\n      <th>Array.22</th>\n      <th>Array.36</th>\n      <th>Array.49</th>\n      <th>Array.16</th>\n      <th>Array.146</th>\n      <th>Array.143</th>\n      <th>...</th>\n      <th>Array.64</th>\n      <th>Array.89</th>\n      <th>Array.30</th>\n      <th>Array.35</th>\n      <th>Array.93</th>\n      <th>Array.10</th>\n      <th>Array.123</th>\n      <th>Array.100</th>\n      <th>Array.134</th>\n      <th>Array.130</th>\n    </tr>\n  </thead>\n  <tbody>\n    <tr>\n      <th>0</th>\n      <td>0</td>\n      <td>0</td>\n      <td>0</td>\n      <td>0</td>\n      <td>0</td>\n      <td>0</td>\n      <td>0</td>\n      <td>0</td>\n      <td>0</td>\n      <td>0</td>\n      <td>...</td>\n      <td>0</td>\n      <td>0</td>\n      <td>1</td>\n      <td>0</td>\n      <td>0</td>\n      <td>0</td>\n      <td>0</td>\n      <td>0</td>\n      <td>-1</td>\n      <td>0</td>\n    </tr>\n    <tr>\n      <th>1</th>\n      <td>0</td>\n      <td>0</td>\n      <td>0</td>\n      <td>0</td>\n      <td>0</td>\n      <td>0</td>\n      <td>0</td>\n      <td>0</td>\n      <td>0</td>\n      <td>0</td>\n      <td>...</td>\n      <td>0</td>\n      <td>0</td>\n      <td>1</td>\n      <td>0</td>\n      <td>0</td>\n      <td>0</td>\n      <td>0</td>\n      <td>0</td>\n      <td>-1</td>\n      <td>0</td>\n    </tr>\n    <tr>\n      <th>2</th>\n      <td>0</td>\n      <td>0</td>\n      <td>0</td>\n      <td>0</td>\n      <td>0</td>\n      <td>0</td>\n      <td>0</td>\n      <td>0</td>\n      <td>0</td>\n      <td>0</td>\n      <td>...</td>\n      <td>0</td>\n      <td>0</td>\n      <td>1</td>\n      <td>0</td>\n      <td>1</td>\n      <td>0</td>\n      <td>0</td>\n      <td>0</td>\n      <td>-1</td>\n      <td>0</td>\n    </tr>\n    <tr>\n      <th>3</th>\n      <td>0</td>\n      <td>0</td>\n      <td>0</td>\n      <td>0</td>\n      <td>0</td>\n      <td>0</td>\n      <td>0</td>\n      <td>0</td>\n      <td>0</td>\n      <td>0</td>\n      <td>...</td>\n      <td>0</td>\n      <td>1</td>\n      <td>1</td>\n      <td>0</td>\n      <td>1</td>\n      <td>0</td>\n      <td>0</td>\n      <td>0</td>\n      <td>-1</td>\n      <td>0</td>\n    </tr>\n    <tr>\n      <th>4</th>\n      <td>0</td>\n      <td>0</td>\n      <td>0</td>\n      <td>0</td>\n      <td>0</td>\n      <td>0</td>\n      <td>0</td>\n      <td>-1</td>\n      <td>0</td>\n      <td>0</td>\n      <td>...</td>\n      <td>0</td>\n      <td>1</td>\n      <td>1</td>\n      <td>0</td>\n      <td>1</td>\n      <td>0</td>\n      <td>0</td>\n      <td>0</td>\n      <td>-1</td>\n      <td>0</td>\n    </tr>\n    <tr>\n      <th>...</th>\n      <td>...</td>\n      <td>...</td>\n      <td>...</td>\n      <td>...</td>\n      <td>...</td>\n      <td>...</td>\n      <td>...</td>\n      <td>...</td>\n      <td>...</td>\n      <td>...</td>\n      <td>...</td>\n      <td>...</td>\n      <td>...</td>\n      <td>...</td>\n      <td>...</td>\n      <td>...</td>\n      <td>...</td>\n      <td>...</td>\n      <td>...</td>\n      <td>...</td>\n      <td>...</td>\n    </tr>\n    <tr>\n      <th>2829</th>\n      <td>1</td>\n      <td>1</td>\n      <td>1</td>\n      <td>0</td>\n      <td>1</td>\n      <td>1</td>\n      <td>1</td>\n      <td>1</td>\n      <td>1</td>\n      <td>1</td>\n      <td>...</td>\n      <td>1</td>\n      <td>1</td>\n      <td>1</td>\n      <td>1</td>\n      <td>1</td>\n      <td>1</td>\n      <td>1</td>\n      <td>1</td>\n      <td>1</td>\n      <td>1</td>\n    </tr>\n    <tr>\n      <th>2830</th>\n      <td>1</td>\n      <td>1</td>\n      <td>1</td>\n      <td>0</td>\n      <td>1</td>\n      <td>1</td>\n      <td>1</td>\n      <td>1</td>\n      <td>1</td>\n      <td>1</td>\n      <td>...</td>\n      <td>2</td>\n      <td>1</td>\n      <td>1</td>\n      <td>1</td>\n      <td>1</td>\n      <td>1</td>\n      <td>1</td>\n      <td>1</td>\n      <td>1</td>\n      <td>1</td>\n    </tr>\n    <tr>\n      <th>2831</th>\n      <td>1</td>\n      <td>1</td>\n      <td>1</td>\n      <td>0</td>\n      <td>1</td>\n      <td>1</td>\n      <td>1</td>\n      <td>1</td>\n      <td>1</td>\n      <td>1</td>\n      <td>...</td>\n      <td>2</td>\n      <td>1</td>\n      <td>1</td>\n      <td>1</td>\n      <td>1</td>\n      <td>1</td>\n      <td>1</td>\n      <td>1</td>\n      <td>1</td>\n      <td>1</td>\n    </tr>\n    <tr>\n      <th>2832</th>\n      <td>1</td>\n      <td>1</td>\n      <td>1</td>\n      <td>0</td>\n      <td>1</td>\n      <td>1</td>\n      <td>1</td>\n      <td>1</td>\n      <td>1</td>\n      <td>1</td>\n      <td>...</td>\n      <td>2</td>\n      <td>1</td>\n      <td>1</td>\n      <td>1</td>\n      <td>1</td>\n      <td>1</td>\n      <td>1</td>\n      <td>1</td>\n      <td>1</td>\n      <td>1</td>\n    </tr>\n    <tr>\n      <th>2833</th>\n      <td>1</td>\n      <td>1</td>\n      <td>1</td>\n      <td>0</td>\n      <td>1</td>\n      <td>1</td>\n      <td>1</td>\n      <td>1</td>\n      <td>1</td>\n      <td>1</td>\n      <td>...</td>\n      <td>2</td>\n      <td>1</td>\n      <td>1</td>\n      <td>1</td>\n      <td>1</td>\n      <td>1</td>\n      <td>1</td>\n      <td>1</td>\n      <td>1</td>\n      <td>1</td>\n    </tr>\n  </tbody>\n</table>\n<p>2834 rows × 100 columns</p>\n</div>"
     },
     "execution_count": 72,
     "metadata": {},
     "output_type": "execute_result"
    }
   ],
   "source": [
    "data"
   ]
  },
  {
   "cell_type": "markdown",
   "source": [
    "## Ternary scatter plot by samples"
   ],
   "metadata": {
    "collapsed": false,
    "pycharm": {
     "name": "#%% md\n"
    }
   }
  },
  {
   "cell_type": "code",
   "execution_count": 73,
   "outputs": [],
   "source": [
    "sample_names = data.columns.view()\n",
    "y = pd.read_csv(\"../data/Train_clinical.txt\", sep='\\t')\n",
    "sample_dcit = {}\n",
    "for index, row in y.iterrows():\n",
    "    sample_dcit[row['Sample']] = row['Subgroup']"
   ],
   "metadata": {
    "collapsed": false,
    "pycharm": {
     "name": "#%%\n"
    }
   }
  },
  {
   "cell_type": "code",
   "execution_count": 74,
   "outputs": [
    {
     "data": {
      "application/vnd.plotly.v1+json": {
       "data": [
        {
         "a": [
          727,
          741,
          835,
          561,
          1152,
          934,
          427,
          612,
          632,
          639,
          322,
          183,
          523,
          751,
          215,
          610,
          660,
          954,
          20,
          711,
          450,
          108,
          492,
          474,
          779,
          1253,
          292,
          133,
          133,
          923,
          860,
          420
         ],
         "b": [
          1429,
          1542,
          1476,
          1060,
          1340,
          1601,
          2055,
          1767,
          1858,
          1119,
          2114,
          2308,
          1767,
          1196,
          1965,
          1232,
          1130,
          1037,
          2734,
          1408,
          2176,
          879,
          1969,
          1847,
          1657,
          1279,
          2076,
          2078,
          1699,
          1628,
          1608,
          1881
         ],
         "c": [
          678,
          551,
          523,
          1213,
          342,
          299,
          352,
          455,
          344,
          1076,
          398,
          343,
          544,
          887,
          654,
          992,
          1044,
          843,
          80,
          715,
          208,
          1847,
          373,
          513,
          398,
          302,
          466,
          623,
          1002,
          283,
          366,
          533
         ],
         "hovertemplate": "Sungroup=HER2+<br>Negative=%{a}<br>Zero=%{b}<br>Positive=%{c}<extra></extra>",
         "legendgroup": "HER2+",
         "marker": {
          "color": "#636efa",
          "symbol": "circle"
         },
         "mode": "markers",
         "name": "HER2+",
         "showlegend": true,
         "subplot": "ternary",
         "type": "scatterternary"
        },
        {
         "a": [
          549,
          847,
          648,
          781,
          792,
          211,
          478,
          209,
          191,
          54,
          291,
          661,
          918,
          15,
          669,
          1151,
          446,
          192,
          398,
          913,
          686,
          300,
          312,
          88,
          237,
          1266,
          290,
          235,
          470,
          755,
          1036,
          31,
          184,
          592,
          25,
          738
         ],
         "b": [
          1879,
          1720,
          1966,
          1436,
          1132,
          2355,
          2214,
          1044,
          2409,
          1601,
          1256,
          1235,
          1038,
          1329,
          1861,
          1325,
          1735,
          2444,
          2077,
          1335,
          1157,
          2042,
          1340,
          2643,
          1507,
          994,
          2367,
          2401,
          2166,
          1662,
          1630,
          2585,
          2398,
          1704,
          2721,
          877
         ],
         "c": [
          406,
          267,
          220,
          617,
          910,
          268,
          142,
          1581,
          234,
          1179,
          1287,
          938,
          878,
          1490,
          304,
          358,
          653,
          198,
          359,
          586,
          991,
          492,
          1182,
          103,
          1090,
          574,
          177,
          198,
          198,
          417,
          168,
          218,
          252,
          538,
          88,
          1219
         ],
         "hovertemplate": "Sungroup=HR+<br>Negative=%{a}<br>Zero=%{b}<br>Positive=%{c}<extra></extra>",
         "legendgroup": "HR+",
         "marker": {
          "color": "#EF553B",
          "symbol": "circle"
         },
         "mode": "markers",
         "name": "HR+",
         "showlegend": true,
         "subplot": "ternary",
         "type": "scatterternary"
        },
        {
         "a": [
          1124,
          427,
          79,
          94,
          109,
          156,
          854,
          921,
          1007,
          401,
          324,
          1291,
          1101,
          1356,
          968,
          491,
          949,
          957,
          56,
          1039,
          930,
          23,
          1084,
          24,
          18,
          109,
          726,
          728,
          647,
          659,
          34,
          274
         ],
         "b": [
          1214,
          2025,
          2673,
          1015,
          1778,
          895,
          1581,
          1281,
          1500,
          2136,
          1883,
          1330,
          1243,
          1185,
          1401,
          1852,
          1346,
          1172,
          1133,
          1043,
          1667,
          2729,
          1145,
          1184,
          1454,
          1059,
          1573,
          1791,
          1780,
          1646,
          1834,
          1434
         ],
         "c": [
          496,
          382,
          82,
          1725,
          947,
          1783,
          399,
          632,
          327,
          297,
          627,
          213,
          490,
          293,
          465,
          491,
          539,
          705,
          1645,
          752,
          237,
          82,
          605,
          1626,
          1362,
          1666,
          535,
          315,
          407,
          529,
          966,
          1126
         ],
         "hovertemplate": "Sungroup=Triple Neg<br>Negative=%{a}<br>Zero=%{b}<br>Positive=%{c}<extra></extra>",
         "legendgroup": "Triple Neg",
         "marker": {
          "color": "#00cc96",
          "symbol": "circle"
         },
         "mode": "markers",
         "name": "Triple Neg",
         "showlegend": true,
         "subplot": "ternary",
         "type": "scatterternary"
        }
       ],
       "layout": {
        "template": {
         "data": {
          "histogram2dcontour": [
           {
            "type": "histogram2dcontour",
            "colorbar": {
             "outlinewidth": 0,
             "ticks": ""
            },
            "colorscale": [
             [
              0.0,
              "#0d0887"
             ],
             [
              0.1111111111111111,
              "#46039f"
             ],
             [
              0.2222222222222222,
              "#7201a8"
             ],
             [
              0.3333333333333333,
              "#9c179e"
             ],
             [
              0.4444444444444444,
              "#bd3786"
             ],
             [
              0.5555555555555556,
              "#d8576b"
             ],
             [
              0.6666666666666666,
              "#ed7953"
             ],
             [
              0.7777777777777778,
              "#fb9f3a"
             ],
             [
              0.8888888888888888,
              "#fdca26"
             ],
             [
              1.0,
              "#f0f921"
             ]
            ]
           }
          ],
          "choropleth": [
           {
            "type": "choropleth",
            "colorbar": {
             "outlinewidth": 0,
             "ticks": ""
            }
           }
          ],
          "histogram2d": [
           {
            "type": "histogram2d",
            "colorbar": {
             "outlinewidth": 0,
             "ticks": ""
            },
            "colorscale": [
             [
              0.0,
              "#0d0887"
             ],
             [
              0.1111111111111111,
              "#46039f"
             ],
             [
              0.2222222222222222,
              "#7201a8"
             ],
             [
              0.3333333333333333,
              "#9c179e"
             ],
             [
              0.4444444444444444,
              "#bd3786"
             ],
             [
              0.5555555555555556,
              "#d8576b"
             ],
             [
              0.6666666666666666,
              "#ed7953"
             ],
             [
              0.7777777777777778,
              "#fb9f3a"
             ],
             [
              0.8888888888888888,
              "#fdca26"
             ],
             [
              1.0,
              "#f0f921"
             ]
            ]
           }
          ],
          "heatmap": [
           {
            "type": "heatmap",
            "colorbar": {
             "outlinewidth": 0,
             "ticks": ""
            },
            "colorscale": [
             [
              0.0,
              "#0d0887"
             ],
             [
              0.1111111111111111,
              "#46039f"
             ],
             [
              0.2222222222222222,
              "#7201a8"
             ],
             [
              0.3333333333333333,
              "#9c179e"
             ],
             [
              0.4444444444444444,
              "#bd3786"
             ],
             [
              0.5555555555555556,
              "#d8576b"
             ],
             [
              0.6666666666666666,
              "#ed7953"
             ],
             [
              0.7777777777777778,
              "#fb9f3a"
             ],
             [
              0.8888888888888888,
              "#fdca26"
             ],
             [
              1.0,
              "#f0f921"
             ]
            ]
           }
          ],
          "heatmapgl": [
           {
            "type": "heatmapgl",
            "colorbar": {
             "outlinewidth": 0,
             "ticks": ""
            },
            "colorscale": [
             [
              0.0,
              "#0d0887"
             ],
             [
              0.1111111111111111,
              "#46039f"
             ],
             [
              0.2222222222222222,
              "#7201a8"
             ],
             [
              0.3333333333333333,
              "#9c179e"
             ],
             [
              0.4444444444444444,
              "#bd3786"
             ],
             [
              0.5555555555555556,
              "#d8576b"
             ],
             [
              0.6666666666666666,
              "#ed7953"
             ],
             [
              0.7777777777777778,
              "#fb9f3a"
             ],
             [
              0.8888888888888888,
              "#fdca26"
             ],
             [
              1.0,
              "#f0f921"
             ]
            ]
           }
          ],
          "contourcarpet": [
           {
            "type": "contourcarpet",
            "colorbar": {
             "outlinewidth": 0,
             "ticks": ""
            }
           }
          ],
          "contour": [
           {
            "type": "contour",
            "colorbar": {
             "outlinewidth": 0,
             "ticks": ""
            },
            "colorscale": [
             [
              0.0,
              "#0d0887"
             ],
             [
              0.1111111111111111,
              "#46039f"
             ],
             [
              0.2222222222222222,
              "#7201a8"
             ],
             [
              0.3333333333333333,
              "#9c179e"
             ],
             [
              0.4444444444444444,
              "#bd3786"
             ],
             [
              0.5555555555555556,
              "#d8576b"
             ],
             [
              0.6666666666666666,
              "#ed7953"
             ],
             [
              0.7777777777777778,
              "#fb9f3a"
             ],
             [
              0.8888888888888888,
              "#fdca26"
             ],
             [
              1.0,
              "#f0f921"
             ]
            ]
           }
          ],
          "surface": [
           {
            "type": "surface",
            "colorbar": {
             "outlinewidth": 0,
             "ticks": ""
            },
            "colorscale": [
             [
              0.0,
              "#0d0887"
             ],
             [
              0.1111111111111111,
              "#46039f"
             ],
             [
              0.2222222222222222,
              "#7201a8"
             ],
             [
              0.3333333333333333,
              "#9c179e"
             ],
             [
              0.4444444444444444,
              "#bd3786"
             ],
             [
              0.5555555555555556,
              "#d8576b"
             ],
             [
              0.6666666666666666,
              "#ed7953"
             ],
             [
              0.7777777777777778,
              "#fb9f3a"
             ],
             [
              0.8888888888888888,
              "#fdca26"
             ],
             [
              1.0,
              "#f0f921"
             ]
            ]
           }
          ],
          "mesh3d": [
           {
            "type": "mesh3d",
            "colorbar": {
             "outlinewidth": 0,
             "ticks": ""
            }
           }
          ],
          "scatter": [
           {
            "marker": {
             "line": {
              "color": "#283442"
             }
            },
            "type": "scatter"
           }
          ],
          "parcoords": [
           {
            "type": "parcoords",
            "line": {
             "colorbar": {
              "outlinewidth": 0,
              "ticks": ""
             }
            }
           }
          ],
          "scatterpolargl": [
           {
            "type": "scatterpolargl",
            "marker": {
             "colorbar": {
              "outlinewidth": 0,
              "ticks": ""
             }
            }
           }
          ],
          "bar": [
           {
            "error_x": {
             "color": "#f2f5fa"
            },
            "error_y": {
             "color": "#f2f5fa"
            },
            "marker": {
             "line": {
              "color": "rgb(17,17,17)",
              "width": 0.5
             },
             "pattern": {
              "fillmode": "overlay",
              "size": 10,
              "solidity": 0.2
             }
            },
            "type": "bar"
           }
          ],
          "scattergeo": [
           {
            "type": "scattergeo",
            "marker": {
             "colorbar": {
              "outlinewidth": 0,
              "ticks": ""
             }
            }
           }
          ],
          "scatterpolar": [
           {
            "type": "scatterpolar",
            "marker": {
             "colorbar": {
              "outlinewidth": 0,
              "ticks": ""
             }
            }
           }
          ],
          "histogram": [
           {
            "marker": {
             "pattern": {
              "fillmode": "overlay",
              "size": 10,
              "solidity": 0.2
             }
            },
            "type": "histogram"
           }
          ],
          "scattergl": [
           {
            "marker": {
             "line": {
              "color": "#283442"
             }
            },
            "type": "scattergl"
           }
          ],
          "scatter3d": [
           {
            "type": "scatter3d",
            "line": {
             "colorbar": {
              "outlinewidth": 0,
              "ticks": ""
             }
            },
            "marker": {
             "colorbar": {
              "outlinewidth": 0,
              "ticks": ""
             }
            }
           }
          ],
          "scattermapbox": [
           {
            "type": "scattermapbox",
            "marker": {
             "colorbar": {
              "outlinewidth": 0,
              "ticks": ""
             }
            }
           }
          ],
          "scatterternary": [
           {
            "type": "scatterternary",
            "marker": {
             "colorbar": {
              "outlinewidth": 0,
              "ticks": ""
             }
            }
           }
          ],
          "scattercarpet": [
           {
            "type": "scattercarpet",
            "marker": {
             "colorbar": {
              "outlinewidth": 0,
              "ticks": ""
             }
            }
           }
          ],
          "carpet": [
           {
            "aaxis": {
             "endlinecolor": "#A2B1C6",
             "gridcolor": "#506784",
             "linecolor": "#506784",
             "minorgridcolor": "#506784",
             "startlinecolor": "#A2B1C6"
            },
            "baxis": {
             "endlinecolor": "#A2B1C6",
             "gridcolor": "#506784",
             "linecolor": "#506784",
             "minorgridcolor": "#506784",
             "startlinecolor": "#A2B1C6"
            },
            "type": "carpet"
           }
          ],
          "table": [
           {
            "cells": {
             "fill": {
              "color": "#506784"
             },
             "line": {
              "color": "rgb(17,17,17)"
             }
            },
            "header": {
             "fill": {
              "color": "#2a3f5f"
             },
             "line": {
              "color": "rgb(17,17,17)"
             }
            },
            "type": "table"
           }
          ],
          "barpolar": [
           {
            "marker": {
             "line": {
              "color": "rgb(17,17,17)",
              "width": 0.5
             },
             "pattern": {
              "fillmode": "overlay",
              "size": 10,
              "solidity": 0.2
             }
            },
            "type": "barpolar"
           }
          ],
          "pie": [
           {
            "automargin": true,
            "type": "pie"
           }
          ]
         },
         "layout": {
          "autotypenumbers": "strict",
          "colorway": [
           "#636efa",
           "#EF553B",
           "#00cc96",
           "#ab63fa",
           "#FFA15A",
           "#19d3f3",
           "#FF6692",
           "#B6E880",
           "#FF97FF",
           "#FECB52"
          ],
          "font": {
           "color": "#f2f5fa"
          },
          "hovermode": "closest",
          "hoverlabel": {
           "align": "left"
          },
          "paper_bgcolor": "rgb(17,17,17)",
          "plot_bgcolor": "rgb(17,17,17)",
          "polar": {
           "bgcolor": "rgb(17,17,17)",
           "angularaxis": {
            "gridcolor": "#506784",
            "linecolor": "#506784",
            "ticks": ""
           },
           "radialaxis": {
            "gridcolor": "#506784",
            "linecolor": "#506784",
            "ticks": ""
           }
          },
          "ternary": {
           "bgcolor": "rgb(17,17,17)",
           "aaxis": {
            "gridcolor": "#506784",
            "linecolor": "#506784",
            "ticks": ""
           },
           "baxis": {
            "gridcolor": "#506784",
            "linecolor": "#506784",
            "ticks": ""
           },
           "caxis": {
            "gridcolor": "#506784",
            "linecolor": "#506784",
            "ticks": ""
           }
          },
          "coloraxis": {
           "colorbar": {
            "outlinewidth": 0,
            "ticks": ""
           }
          },
          "colorscale": {
           "sequential": [
            [
             0.0,
             "#0d0887"
            ],
            [
             0.1111111111111111,
             "#46039f"
            ],
            [
             0.2222222222222222,
             "#7201a8"
            ],
            [
             0.3333333333333333,
             "#9c179e"
            ],
            [
             0.4444444444444444,
             "#bd3786"
            ],
            [
             0.5555555555555556,
             "#d8576b"
            ],
            [
             0.6666666666666666,
             "#ed7953"
            ],
            [
             0.7777777777777778,
             "#fb9f3a"
            ],
            [
             0.8888888888888888,
             "#fdca26"
            ],
            [
             1.0,
             "#f0f921"
            ]
           ],
           "sequentialminus": [
            [
             0.0,
             "#0d0887"
            ],
            [
             0.1111111111111111,
             "#46039f"
            ],
            [
             0.2222222222222222,
             "#7201a8"
            ],
            [
             0.3333333333333333,
             "#9c179e"
            ],
            [
             0.4444444444444444,
             "#bd3786"
            ],
            [
             0.5555555555555556,
             "#d8576b"
            ],
            [
             0.6666666666666666,
             "#ed7953"
            ],
            [
             0.7777777777777778,
             "#fb9f3a"
            ],
            [
             0.8888888888888888,
             "#fdca26"
            ],
            [
             1.0,
             "#f0f921"
            ]
           ],
           "diverging": [
            [
             0,
             "#8e0152"
            ],
            [
             0.1,
             "#c51b7d"
            ],
            [
             0.2,
             "#de77ae"
            ],
            [
             0.3,
             "#f1b6da"
            ],
            [
             0.4,
             "#fde0ef"
            ],
            [
             0.5,
             "#f7f7f7"
            ],
            [
             0.6,
             "#e6f5d0"
            ],
            [
             0.7,
             "#b8e186"
            ],
            [
             0.8,
             "#7fbc41"
            ],
            [
             0.9,
             "#4d9221"
            ],
            [
             1,
             "#276419"
            ]
           ]
          },
          "xaxis": {
           "gridcolor": "#283442",
           "linecolor": "#506784",
           "ticks": "",
           "title": {
            "standoff": 15
           },
           "zerolinecolor": "#283442",
           "automargin": true,
           "zerolinewidth": 2
          },
          "yaxis": {
           "gridcolor": "#283442",
           "linecolor": "#506784",
           "ticks": "",
           "title": {
            "standoff": 15
           },
           "zerolinecolor": "#283442",
           "automargin": true,
           "zerolinewidth": 2
          },
          "scene": {
           "xaxis": {
            "backgroundcolor": "rgb(17,17,17)",
            "gridcolor": "#506784",
            "linecolor": "#506784",
            "showbackground": true,
            "ticks": "",
            "zerolinecolor": "#C8D4E3",
            "gridwidth": 2
           },
           "yaxis": {
            "backgroundcolor": "rgb(17,17,17)",
            "gridcolor": "#506784",
            "linecolor": "#506784",
            "showbackground": true,
            "ticks": "",
            "zerolinecolor": "#C8D4E3",
            "gridwidth": 2
           },
           "zaxis": {
            "backgroundcolor": "rgb(17,17,17)",
            "gridcolor": "#506784",
            "linecolor": "#506784",
            "showbackground": true,
            "ticks": "",
            "zerolinecolor": "#C8D4E3",
            "gridwidth": 2
           }
          },
          "shapedefaults": {
           "line": {
            "color": "#f2f5fa"
           }
          },
          "annotationdefaults": {
           "arrowcolor": "#f2f5fa",
           "arrowhead": 0,
           "arrowwidth": 1
          },
          "geo": {
           "bgcolor": "rgb(17,17,17)",
           "landcolor": "rgb(17,17,17)",
           "subunitcolor": "#506784",
           "showland": true,
           "showlakes": true,
           "lakecolor": "rgb(17,17,17)"
          },
          "title": {
           "x": 0.05
          },
          "updatemenudefaults": {
           "bgcolor": "#506784",
           "borderwidth": 0
          },
          "sliderdefaults": {
           "bgcolor": "#C8D4E3",
           "borderwidth": 1,
           "bordercolor": "rgb(17,17,17)",
           "tickwidth": 0
          },
          "mapbox": {
           "style": "dark"
          }
         }
        },
        "ternary": {
         "domain": {
          "x": [
           0.0,
           1.0
          ],
          "y": [
           0.0,
           1.0
          ]
         },
         "aaxis": {
          "title": {
           "text": "Negative"
          }
         },
         "baxis": {
          "title": {
           "text": "Zero"
          }
         },
         "caxis": {
          "title": {
           "text": "Positive"
          }
         }
        },
        "legend": {
         "title": {
          "text": "Sungroup"
         },
         "tracegroupgap": 0
        },
        "margin": {
         "t": 60
        }
       },
       "config": {
        "plotlyServerURL": "https://plot.ly"
       }
      },
      "text/html": "<div>                            <div id=\"9557a2ea-1bf9-487c-8000-1f7af464b3d7\" class=\"plotly-graph-div\" style=\"height:525px; width:100%;\"></div>            <script type=\"text/javascript\">                require([\"plotly\"], function(Plotly) {                    window.PLOTLYENV=window.PLOTLYENV || {};                                    if (document.getElementById(\"9557a2ea-1bf9-487c-8000-1f7af464b3d7\")) {                    Plotly.newPlot(                        \"9557a2ea-1bf9-487c-8000-1f7af464b3d7\",                        [{\"a\":[727,741,835,561,1152,934,427,612,632,639,322,183,523,751,215,610,660,954,20,711,450,108,492,474,779,1253,292,133,133,923,860,420],\"b\":[1429,1542,1476,1060,1340,1601,2055,1767,1858,1119,2114,2308,1767,1196,1965,1232,1130,1037,2734,1408,2176,879,1969,1847,1657,1279,2076,2078,1699,1628,1608,1881],\"c\":[678,551,523,1213,342,299,352,455,344,1076,398,343,544,887,654,992,1044,843,80,715,208,1847,373,513,398,302,466,623,1002,283,366,533],\"hovertemplate\":\"Sungroup=HER2+<br>Negative=%{a}<br>Zero=%{b}<br>Positive=%{c}<extra></extra>\",\"legendgroup\":\"HER2+\",\"marker\":{\"color\":\"#636efa\",\"symbol\":\"circle\"},\"mode\":\"markers\",\"name\":\"HER2+\",\"showlegend\":true,\"subplot\":\"ternary\",\"type\":\"scatterternary\"},{\"a\":[549,847,648,781,792,211,478,209,191,54,291,661,918,15,669,1151,446,192,398,913,686,300,312,88,237,1266,290,235,470,755,1036,31,184,592,25,738],\"b\":[1879,1720,1966,1436,1132,2355,2214,1044,2409,1601,1256,1235,1038,1329,1861,1325,1735,2444,2077,1335,1157,2042,1340,2643,1507,994,2367,2401,2166,1662,1630,2585,2398,1704,2721,877],\"c\":[406,267,220,617,910,268,142,1581,234,1179,1287,938,878,1490,304,358,653,198,359,586,991,492,1182,103,1090,574,177,198,198,417,168,218,252,538,88,1219],\"hovertemplate\":\"Sungroup=HR+<br>Negative=%{a}<br>Zero=%{b}<br>Positive=%{c}<extra></extra>\",\"legendgroup\":\"HR+\",\"marker\":{\"color\":\"#EF553B\",\"symbol\":\"circle\"},\"mode\":\"markers\",\"name\":\"HR+\",\"showlegend\":true,\"subplot\":\"ternary\",\"type\":\"scatterternary\"},{\"a\":[1124,427,79,94,109,156,854,921,1007,401,324,1291,1101,1356,968,491,949,957,56,1039,930,23,1084,24,18,109,726,728,647,659,34,274],\"b\":[1214,2025,2673,1015,1778,895,1581,1281,1500,2136,1883,1330,1243,1185,1401,1852,1346,1172,1133,1043,1667,2729,1145,1184,1454,1059,1573,1791,1780,1646,1834,1434],\"c\":[496,382,82,1725,947,1783,399,632,327,297,627,213,490,293,465,491,539,705,1645,752,237,82,605,1626,1362,1666,535,315,407,529,966,1126],\"hovertemplate\":\"Sungroup=Triple Neg<br>Negative=%{a}<br>Zero=%{b}<br>Positive=%{c}<extra></extra>\",\"legendgroup\":\"Triple Neg\",\"marker\":{\"color\":\"#00cc96\",\"symbol\":\"circle\"},\"mode\":\"markers\",\"name\":\"Triple Neg\",\"showlegend\":true,\"subplot\":\"ternary\",\"type\":\"scatterternary\"}],                        {\"template\":{\"data\":{\"histogram2dcontour\":[{\"type\":\"histogram2dcontour\",\"colorbar\":{\"outlinewidth\":0,\"ticks\":\"\"},\"colorscale\":[[0.0,\"#0d0887\"],[0.1111111111111111,\"#46039f\"],[0.2222222222222222,\"#7201a8\"],[0.3333333333333333,\"#9c179e\"],[0.4444444444444444,\"#bd3786\"],[0.5555555555555556,\"#d8576b\"],[0.6666666666666666,\"#ed7953\"],[0.7777777777777778,\"#fb9f3a\"],[0.8888888888888888,\"#fdca26\"],[1.0,\"#f0f921\"]]}],\"choropleth\":[{\"type\":\"choropleth\",\"colorbar\":{\"outlinewidth\":0,\"ticks\":\"\"}}],\"histogram2d\":[{\"type\":\"histogram2d\",\"colorbar\":{\"outlinewidth\":0,\"ticks\":\"\"},\"colorscale\":[[0.0,\"#0d0887\"],[0.1111111111111111,\"#46039f\"],[0.2222222222222222,\"#7201a8\"],[0.3333333333333333,\"#9c179e\"],[0.4444444444444444,\"#bd3786\"],[0.5555555555555556,\"#d8576b\"],[0.6666666666666666,\"#ed7953\"],[0.7777777777777778,\"#fb9f3a\"],[0.8888888888888888,\"#fdca26\"],[1.0,\"#f0f921\"]]}],\"heatmap\":[{\"type\":\"heatmap\",\"colorbar\":{\"outlinewidth\":0,\"ticks\":\"\"},\"colorscale\":[[0.0,\"#0d0887\"],[0.1111111111111111,\"#46039f\"],[0.2222222222222222,\"#7201a8\"],[0.3333333333333333,\"#9c179e\"],[0.4444444444444444,\"#bd3786\"],[0.5555555555555556,\"#d8576b\"],[0.6666666666666666,\"#ed7953\"],[0.7777777777777778,\"#fb9f3a\"],[0.8888888888888888,\"#fdca26\"],[1.0,\"#f0f921\"]]}],\"heatmapgl\":[{\"type\":\"heatmapgl\",\"colorbar\":{\"outlinewidth\":0,\"ticks\":\"\"},\"colorscale\":[[0.0,\"#0d0887\"],[0.1111111111111111,\"#46039f\"],[0.2222222222222222,\"#7201a8\"],[0.3333333333333333,\"#9c179e\"],[0.4444444444444444,\"#bd3786\"],[0.5555555555555556,\"#d8576b\"],[0.6666666666666666,\"#ed7953\"],[0.7777777777777778,\"#fb9f3a\"],[0.8888888888888888,\"#fdca26\"],[1.0,\"#f0f921\"]]}],\"contourcarpet\":[{\"type\":\"contourcarpet\",\"colorbar\":{\"outlinewidth\":0,\"ticks\":\"\"}}],\"contour\":[{\"type\":\"contour\",\"colorbar\":{\"outlinewidth\":0,\"ticks\":\"\"},\"colorscale\":[[0.0,\"#0d0887\"],[0.1111111111111111,\"#46039f\"],[0.2222222222222222,\"#7201a8\"],[0.3333333333333333,\"#9c179e\"],[0.4444444444444444,\"#bd3786\"],[0.5555555555555556,\"#d8576b\"],[0.6666666666666666,\"#ed7953\"],[0.7777777777777778,\"#fb9f3a\"],[0.8888888888888888,\"#fdca26\"],[1.0,\"#f0f921\"]]}],\"surface\":[{\"type\":\"surface\",\"colorbar\":{\"outlinewidth\":0,\"ticks\":\"\"},\"colorscale\":[[0.0,\"#0d0887\"],[0.1111111111111111,\"#46039f\"],[0.2222222222222222,\"#7201a8\"],[0.3333333333333333,\"#9c179e\"],[0.4444444444444444,\"#bd3786\"],[0.5555555555555556,\"#d8576b\"],[0.6666666666666666,\"#ed7953\"],[0.7777777777777778,\"#fb9f3a\"],[0.8888888888888888,\"#fdca26\"],[1.0,\"#f0f921\"]]}],\"mesh3d\":[{\"type\":\"mesh3d\",\"colorbar\":{\"outlinewidth\":0,\"ticks\":\"\"}}],\"scatter\":[{\"marker\":{\"line\":{\"color\":\"#283442\"}},\"type\":\"scatter\"}],\"parcoords\":[{\"type\":\"parcoords\",\"line\":{\"colorbar\":{\"outlinewidth\":0,\"ticks\":\"\"}}}],\"scatterpolargl\":[{\"type\":\"scatterpolargl\",\"marker\":{\"colorbar\":{\"outlinewidth\":0,\"ticks\":\"\"}}}],\"bar\":[{\"error_x\":{\"color\":\"#f2f5fa\"},\"error_y\":{\"color\":\"#f2f5fa\"},\"marker\":{\"line\":{\"color\":\"rgb(17,17,17)\",\"width\":0.5},\"pattern\":{\"fillmode\":\"overlay\",\"size\":10,\"solidity\":0.2}},\"type\":\"bar\"}],\"scattergeo\":[{\"type\":\"scattergeo\",\"marker\":{\"colorbar\":{\"outlinewidth\":0,\"ticks\":\"\"}}}],\"scatterpolar\":[{\"type\":\"scatterpolar\",\"marker\":{\"colorbar\":{\"outlinewidth\":0,\"ticks\":\"\"}}}],\"histogram\":[{\"marker\":{\"pattern\":{\"fillmode\":\"overlay\",\"size\":10,\"solidity\":0.2}},\"type\":\"histogram\"}],\"scattergl\":[{\"marker\":{\"line\":{\"color\":\"#283442\"}},\"type\":\"scattergl\"}],\"scatter3d\":[{\"type\":\"scatter3d\",\"line\":{\"colorbar\":{\"outlinewidth\":0,\"ticks\":\"\"}},\"marker\":{\"colorbar\":{\"outlinewidth\":0,\"ticks\":\"\"}}}],\"scattermapbox\":[{\"type\":\"scattermapbox\",\"marker\":{\"colorbar\":{\"outlinewidth\":0,\"ticks\":\"\"}}}],\"scatterternary\":[{\"type\":\"scatterternary\",\"marker\":{\"colorbar\":{\"outlinewidth\":0,\"ticks\":\"\"}}}],\"scattercarpet\":[{\"type\":\"scattercarpet\",\"marker\":{\"colorbar\":{\"outlinewidth\":0,\"ticks\":\"\"}}}],\"carpet\":[{\"aaxis\":{\"endlinecolor\":\"#A2B1C6\",\"gridcolor\":\"#506784\",\"linecolor\":\"#506784\",\"minorgridcolor\":\"#506784\",\"startlinecolor\":\"#A2B1C6\"},\"baxis\":{\"endlinecolor\":\"#A2B1C6\",\"gridcolor\":\"#506784\",\"linecolor\":\"#506784\",\"minorgridcolor\":\"#506784\",\"startlinecolor\":\"#A2B1C6\"},\"type\":\"carpet\"}],\"table\":[{\"cells\":{\"fill\":{\"color\":\"#506784\"},\"line\":{\"color\":\"rgb(17,17,17)\"}},\"header\":{\"fill\":{\"color\":\"#2a3f5f\"},\"line\":{\"color\":\"rgb(17,17,17)\"}},\"type\":\"table\"}],\"barpolar\":[{\"marker\":{\"line\":{\"color\":\"rgb(17,17,17)\",\"width\":0.5},\"pattern\":{\"fillmode\":\"overlay\",\"size\":10,\"solidity\":0.2}},\"type\":\"barpolar\"}],\"pie\":[{\"automargin\":true,\"type\":\"pie\"}]},\"layout\":{\"autotypenumbers\":\"strict\",\"colorway\":[\"#636efa\",\"#EF553B\",\"#00cc96\",\"#ab63fa\",\"#FFA15A\",\"#19d3f3\",\"#FF6692\",\"#B6E880\",\"#FF97FF\",\"#FECB52\"],\"font\":{\"color\":\"#f2f5fa\"},\"hovermode\":\"closest\",\"hoverlabel\":{\"align\":\"left\"},\"paper_bgcolor\":\"rgb(17,17,17)\",\"plot_bgcolor\":\"rgb(17,17,17)\",\"polar\":{\"bgcolor\":\"rgb(17,17,17)\",\"angularaxis\":{\"gridcolor\":\"#506784\",\"linecolor\":\"#506784\",\"ticks\":\"\"},\"radialaxis\":{\"gridcolor\":\"#506784\",\"linecolor\":\"#506784\",\"ticks\":\"\"}},\"ternary\":{\"bgcolor\":\"rgb(17,17,17)\",\"aaxis\":{\"gridcolor\":\"#506784\",\"linecolor\":\"#506784\",\"ticks\":\"\"},\"baxis\":{\"gridcolor\":\"#506784\",\"linecolor\":\"#506784\",\"ticks\":\"\"},\"caxis\":{\"gridcolor\":\"#506784\",\"linecolor\":\"#506784\",\"ticks\":\"\"}},\"coloraxis\":{\"colorbar\":{\"outlinewidth\":0,\"ticks\":\"\"}},\"colorscale\":{\"sequential\":[[0.0,\"#0d0887\"],[0.1111111111111111,\"#46039f\"],[0.2222222222222222,\"#7201a8\"],[0.3333333333333333,\"#9c179e\"],[0.4444444444444444,\"#bd3786\"],[0.5555555555555556,\"#d8576b\"],[0.6666666666666666,\"#ed7953\"],[0.7777777777777778,\"#fb9f3a\"],[0.8888888888888888,\"#fdca26\"],[1.0,\"#f0f921\"]],\"sequentialminus\":[[0.0,\"#0d0887\"],[0.1111111111111111,\"#46039f\"],[0.2222222222222222,\"#7201a8\"],[0.3333333333333333,\"#9c179e\"],[0.4444444444444444,\"#bd3786\"],[0.5555555555555556,\"#d8576b\"],[0.6666666666666666,\"#ed7953\"],[0.7777777777777778,\"#fb9f3a\"],[0.8888888888888888,\"#fdca26\"],[1.0,\"#f0f921\"]],\"diverging\":[[0,\"#8e0152\"],[0.1,\"#c51b7d\"],[0.2,\"#de77ae\"],[0.3,\"#f1b6da\"],[0.4,\"#fde0ef\"],[0.5,\"#f7f7f7\"],[0.6,\"#e6f5d0\"],[0.7,\"#b8e186\"],[0.8,\"#7fbc41\"],[0.9,\"#4d9221\"],[1,\"#276419\"]]},\"xaxis\":{\"gridcolor\":\"#283442\",\"linecolor\":\"#506784\",\"ticks\":\"\",\"title\":{\"standoff\":15},\"zerolinecolor\":\"#283442\",\"automargin\":true,\"zerolinewidth\":2},\"yaxis\":{\"gridcolor\":\"#283442\",\"linecolor\":\"#506784\",\"ticks\":\"\",\"title\":{\"standoff\":15},\"zerolinecolor\":\"#283442\",\"automargin\":true,\"zerolinewidth\":2},\"scene\":{\"xaxis\":{\"backgroundcolor\":\"rgb(17,17,17)\",\"gridcolor\":\"#506784\",\"linecolor\":\"#506784\",\"showbackground\":true,\"ticks\":\"\",\"zerolinecolor\":\"#C8D4E3\",\"gridwidth\":2},\"yaxis\":{\"backgroundcolor\":\"rgb(17,17,17)\",\"gridcolor\":\"#506784\",\"linecolor\":\"#506784\",\"showbackground\":true,\"ticks\":\"\",\"zerolinecolor\":\"#C8D4E3\",\"gridwidth\":2},\"zaxis\":{\"backgroundcolor\":\"rgb(17,17,17)\",\"gridcolor\":\"#506784\",\"linecolor\":\"#506784\",\"showbackground\":true,\"ticks\":\"\",\"zerolinecolor\":\"#C8D4E3\",\"gridwidth\":2}},\"shapedefaults\":{\"line\":{\"color\":\"#f2f5fa\"}},\"annotationdefaults\":{\"arrowcolor\":\"#f2f5fa\",\"arrowhead\":0,\"arrowwidth\":1},\"geo\":{\"bgcolor\":\"rgb(17,17,17)\",\"landcolor\":\"rgb(17,17,17)\",\"subunitcolor\":\"#506784\",\"showland\":true,\"showlakes\":true,\"lakecolor\":\"rgb(17,17,17)\"},\"title\":{\"x\":0.05},\"updatemenudefaults\":{\"bgcolor\":\"#506784\",\"borderwidth\":0},\"sliderdefaults\":{\"bgcolor\":\"#C8D4E3\",\"borderwidth\":1,\"bordercolor\":\"rgb(17,17,17)\",\"tickwidth\":0},\"mapbox\":{\"style\":\"dark\"}}},\"ternary\":{\"domain\":{\"x\":[0.0,1.0],\"y\":[0.0,1.0]},\"aaxis\":{\"title\":{\"text\":\"Negative\"}},\"baxis\":{\"title\":{\"text\":\"Zero\"}},\"caxis\":{\"title\":{\"text\":\"Positive\"}}},\"legend\":{\"title\":{\"text\":\"Sungroup\"},\"tracegroupgap\":0},\"margin\":{\"t\":60}},                        {\"responsive\": true}                    ).then(function(){\n                            \nvar gd = document.getElementById('9557a2ea-1bf9-487c-8000-1f7af464b3d7');\nvar x = new MutationObserver(function (mutations, observer) {{\n        var display = window.getComputedStyle(gd).display;\n        if (!display || display === 'none') {{\n            console.log([gd, 'removed!']);\n            Plotly.purge(gd);\n            observer.disconnect();\n        }}\n}});\n\n// Listen for the removal of the full notebook cells\nvar notebookContainer = gd.closest('#notebook-container');\nif (notebookContainer) {{\n    x.observe(notebookContainer, {childList: true});\n}}\n\n// Listen for the clearing of the current output cell\nvar outputEl = gd.closest('.output');\nif (outputEl) {{\n    x.observe(outputEl, {childList: true});\n}}\n\n                        })                };                });            </script>        </div>"
     },
     "metadata": {},
     "output_type": "display_data"
    },
    {
     "data": {
      "application/vnd.plotly.v1+json": {
       "data": [
        {
         "a": [
          727,
          741,
          835,
          561,
          1152,
          934,
          427,
          612,
          632,
          639,
          322,
          183,
          523,
          751,
          215,
          610,
          660,
          954,
          20,
          711,
          450,
          108,
          492,
          474,
          779,
          1253,
          292,
          133,
          133,
          923,
          860,
          420
         ],
         "b": [
          1429,
          1542,
          1476,
          1060,
          1340,
          1601,
          2055,
          1767,
          1858,
          1119,
          2114,
          2308,
          1767,
          1196,
          1965,
          1232,
          1130,
          1037,
          2734,
          1408,
          2176,
          879,
          1969,
          1847,
          1657,
          1279,
          2076,
          2078,
          1699,
          1628,
          1608,
          1881
         ],
         "c": [
          678,
          551,
          523,
          1213,
          342,
          299,
          352,
          455,
          344,
          1076,
          398,
          343,
          544,
          887,
          654,
          992,
          1044,
          843,
          80,
          715,
          208,
          1847,
          373,
          513,
          398,
          302,
          466,
          623,
          1002,
          283,
          366,
          533
         ],
         "hovertemplate": "Sungroup=HER2+<br>Negative=%{a}<br>Zero=%{b}<br>Positive=%{c}<extra></extra>",
         "legendgroup": "HER2+",
         "marker": {
          "color": "#636efa",
          "symbol": "circle"
         },
         "mode": "markers",
         "name": "HER2+",
         "showlegend": true,
         "subplot": "ternary",
         "type": "scatterternary"
        },
        {
         "a": [
          549,
          847,
          648,
          781,
          792,
          211,
          478,
          209,
          191,
          54,
          291,
          661,
          918,
          15,
          669,
          1151,
          446,
          192,
          398,
          913,
          686,
          300,
          312,
          88,
          237,
          1266,
          290,
          235,
          470,
          755,
          1036,
          31,
          184,
          592,
          25,
          738
         ],
         "b": [
          1879,
          1720,
          1966,
          1436,
          1132,
          2355,
          2214,
          1044,
          2409,
          1601,
          1256,
          1235,
          1038,
          1329,
          1861,
          1325,
          1735,
          2444,
          2077,
          1335,
          1157,
          2042,
          1340,
          2643,
          1507,
          994,
          2367,
          2401,
          2166,
          1662,
          1630,
          2585,
          2398,
          1704,
          2721,
          877
         ],
         "c": [
          406,
          267,
          220,
          617,
          910,
          268,
          142,
          1581,
          234,
          1179,
          1287,
          938,
          878,
          1490,
          304,
          358,
          653,
          198,
          359,
          586,
          991,
          492,
          1182,
          103,
          1090,
          574,
          177,
          198,
          198,
          417,
          168,
          218,
          252,
          538,
          88,
          1219
         ],
         "hovertemplate": "Sungroup=HR+<br>Negative=%{a}<br>Zero=%{b}<br>Positive=%{c}<extra></extra>",
         "legendgroup": "HR+",
         "marker": {
          "color": "#EF553B",
          "symbol": "circle"
         },
         "mode": "markers",
         "name": "HR+",
         "showlegend": true,
         "subplot": "ternary",
         "type": "scatterternary"
        },
        {
         "a": [
          1124,
          427,
          79,
          94,
          109,
          156,
          854,
          921,
          1007,
          401,
          324,
          1291,
          1101,
          1356,
          968,
          491,
          949,
          957,
          56,
          1039,
          930,
          23,
          1084,
          24,
          18,
          109,
          726,
          728,
          647,
          659,
          34,
          274
         ],
         "b": [
          1214,
          2025,
          2673,
          1015,
          1778,
          895,
          1581,
          1281,
          1500,
          2136,
          1883,
          1330,
          1243,
          1185,
          1401,
          1852,
          1346,
          1172,
          1133,
          1043,
          1667,
          2729,
          1145,
          1184,
          1454,
          1059,
          1573,
          1791,
          1780,
          1646,
          1834,
          1434
         ],
         "c": [
          496,
          382,
          82,
          1725,
          947,
          1783,
          399,
          632,
          327,
          297,
          627,
          213,
          490,
          293,
          465,
          491,
          539,
          705,
          1645,
          752,
          237,
          82,
          605,
          1626,
          1362,
          1666,
          535,
          315,
          407,
          529,
          966,
          1126
         ],
         "hovertemplate": "Sungroup=Triple Neg<br>Negative=%{a}<br>Zero=%{b}<br>Positive=%{c}<extra></extra>",
         "legendgroup": "Triple Neg",
         "marker": {
          "color": "#00cc96",
          "symbol": "circle"
         },
         "mode": "markers",
         "name": "Triple Neg",
         "showlegend": true,
         "subplot": "ternary",
         "type": "scatterternary"
        }
       ],
       "layout": {
        "template": {
         "data": {
          "histogram2dcontour": [
           {
            "type": "histogram2dcontour",
            "colorbar": {
             "outlinewidth": 0,
             "ticks": ""
            },
            "colorscale": [
             [
              0.0,
              "#0d0887"
             ],
             [
              0.1111111111111111,
              "#46039f"
             ],
             [
              0.2222222222222222,
              "#7201a8"
             ],
             [
              0.3333333333333333,
              "#9c179e"
             ],
             [
              0.4444444444444444,
              "#bd3786"
             ],
             [
              0.5555555555555556,
              "#d8576b"
             ],
             [
              0.6666666666666666,
              "#ed7953"
             ],
             [
              0.7777777777777778,
              "#fb9f3a"
             ],
             [
              0.8888888888888888,
              "#fdca26"
             ],
             [
              1.0,
              "#f0f921"
             ]
            ]
           }
          ],
          "choropleth": [
           {
            "type": "choropleth",
            "colorbar": {
             "outlinewidth": 0,
             "ticks": ""
            }
           }
          ],
          "histogram2d": [
           {
            "type": "histogram2d",
            "colorbar": {
             "outlinewidth": 0,
             "ticks": ""
            },
            "colorscale": [
             [
              0.0,
              "#0d0887"
             ],
             [
              0.1111111111111111,
              "#46039f"
             ],
             [
              0.2222222222222222,
              "#7201a8"
             ],
             [
              0.3333333333333333,
              "#9c179e"
             ],
             [
              0.4444444444444444,
              "#bd3786"
             ],
             [
              0.5555555555555556,
              "#d8576b"
             ],
             [
              0.6666666666666666,
              "#ed7953"
             ],
             [
              0.7777777777777778,
              "#fb9f3a"
             ],
             [
              0.8888888888888888,
              "#fdca26"
             ],
             [
              1.0,
              "#f0f921"
             ]
            ]
           }
          ],
          "heatmap": [
           {
            "type": "heatmap",
            "colorbar": {
             "outlinewidth": 0,
             "ticks": ""
            },
            "colorscale": [
             [
              0.0,
              "#0d0887"
             ],
             [
              0.1111111111111111,
              "#46039f"
             ],
             [
              0.2222222222222222,
              "#7201a8"
             ],
             [
              0.3333333333333333,
              "#9c179e"
             ],
             [
              0.4444444444444444,
              "#bd3786"
             ],
             [
              0.5555555555555556,
              "#d8576b"
             ],
             [
              0.6666666666666666,
              "#ed7953"
             ],
             [
              0.7777777777777778,
              "#fb9f3a"
             ],
             [
              0.8888888888888888,
              "#fdca26"
             ],
             [
              1.0,
              "#f0f921"
             ]
            ]
           }
          ],
          "heatmapgl": [
           {
            "type": "heatmapgl",
            "colorbar": {
             "outlinewidth": 0,
             "ticks": ""
            },
            "colorscale": [
             [
              0.0,
              "#0d0887"
             ],
             [
              0.1111111111111111,
              "#46039f"
             ],
             [
              0.2222222222222222,
              "#7201a8"
             ],
             [
              0.3333333333333333,
              "#9c179e"
             ],
             [
              0.4444444444444444,
              "#bd3786"
             ],
             [
              0.5555555555555556,
              "#d8576b"
             ],
             [
              0.6666666666666666,
              "#ed7953"
             ],
             [
              0.7777777777777778,
              "#fb9f3a"
             ],
             [
              0.8888888888888888,
              "#fdca26"
             ],
             [
              1.0,
              "#f0f921"
             ]
            ]
           }
          ],
          "contourcarpet": [
           {
            "type": "contourcarpet",
            "colorbar": {
             "outlinewidth": 0,
             "ticks": ""
            }
           }
          ],
          "contour": [
           {
            "type": "contour",
            "colorbar": {
             "outlinewidth": 0,
             "ticks": ""
            },
            "colorscale": [
             [
              0.0,
              "#0d0887"
             ],
             [
              0.1111111111111111,
              "#46039f"
             ],
             [
              0.2222222222222222,
              "#7201a8"
             ],
             [
              0.3333333333333333,
              "#9c179e"
             ],
             [
              0.4444444444444444,
              "#bd3786"
             ],
             [
              0.5555555555555556,
              "#d8576b"
             ],
             [
              0.6666666666666666,
              "#ed7953"
             ],
             [
              0.7777777777777778,
              "#fb9f3a"
             ],
             [
              0.8888888888888888,
              "#fdca26"
             ],
             [
              1.0,
              "#f0f921"
             ]
            ]
           }
          ],
          "surface": [
           {
            "type": "surface",
            "colorbar": {
             "outlinewidth": 0,
             "ticks": ""
            },
            "colorscale": [
             [
              0.0,
              "#0d0887"
             ],
             [
              0.1111111111111111,
              "#46039f"
             ],
             [
              0.2222222222222222,
              "#7201a8"
             ],
             [
              0.3333333333333333,
              "#9c179e"
             ],
             [
              0.4444444444444444,
              "#bd3786"
             ],
             [
              0.5555555555555556,
              "#d8576b"
             ],
             [
              0.6666666666666666,
              "#ed7953"
             ],
             [
              0.7777777777777778,
              "#fb9f3a"
             ],
             [
              0.8888888888888888,
              "#fdca26"
             ],
             [
              1.0,
              "#f0f921"
             ]
            ]
           }
          ],
          "mesh3d": [
           {
            "type": "mesh3d",
            "colorbar": {
             "outlinewidth": 0,
             "ticks": ""
            }
           }
          ],
          "scatter": [
           {
            "marker": {
             "line": {
              "color": "#283442"
             }
            },
            "type": "scatter"
           }
          ],
          "parcoords": [
           {
            "type": "parcoords",
            "line": {
             "colorbar": {
              "outlinewidth": 0,
              "ticks": ""
             }
            }
           }
          ],
          "scatterpolargl": [
           {
            "type": "scatterpolargl",
            "marker": {
             "colorbar": {
              "outlinewidth": 0,
              "ticks": ""
             }
            }
           }
          ],
          "bar": [
           {
            "error_x": {
             "color": "#f2f5fa"
            },
            "error_y": {
             "color": "#f2f5fa"
            },
            "marker": {
             "line": {
              "color": "rgb(17,17,17)",
              "width": 0.5
             },
             "pattern": {
              "fillmode": "overlay",
              "size": 10,
              "solidity": 0.2
             }
            },
            "type": "bar"
           }
          ],
          "scattergeo": [
           {
            "type": "scattergeo",
            "marker": {
             "colorbar": {
              "outlinewidth": 0,
              "ticks": ""
             }
            }
           }
          ],
          "scatterpolar": [
           {
            "type": "scatterpolar",
            "marker": {
             "colorbar": {
              "outlinewidth": 0,
              "ticks": ""
             }
            }
           }
          ],
          "histogram": [
           {
            "marker": {
             "pattern": {
              "fillmode": "overlay",
              "size": 10,
              "solidity": 0.2
             }
            },
            "type": "histogram"
           }
          ],
          "scattergl": [
           {
            "marker": {
             "line": {
              "color": "#283442"
             }
            },
            "type": "scattergl"
           }
          ],
          "scatter3d": [
           {
            "type": "scatter3d",
            "line": {
             "colorbar": {
              "outlinewidth": 0,
              "ticks": ""
             }
            },
            "marker": {
             "colorbar": {
              "outlinewidth": 0,
              "ticks": ""
             }
            }
           }
          ],
          "scattermapbox": [
           {
            "type": "scattermapbox",
            "marker": {
             "colorbar": {
              "outlinewidth": 0,
              "ticks": ""
             }
            }
           }
          ],
          "scatterternary": [
           {
            "type": "scatterternary",
            "marker": {
             "colorbar": {
              "outlinewidth": 0,
              "ticks": ""
             }
            }
           }
          ],
          "scattercarpet": [
           {
            "type": "scattercarpet",
            "marker": {
             "colorbar": {
              "outlinewidth": 0,
              "ticks": ""
             }
            }
           }
          ],
          "carpet": [
           {
            "aaxis": {
             "endlinecolor": "#A2B1C6",
             "gridcolor": "#506784",
             "linecolor": "#506784",
             "minorgridcolor": "#506784",
             "startlinecolor": "#A2B1C6"
            },
            "baxis": {
             "endlinecolor": "#A2B1C6",
             "gridcolor": "#506784",
             "linecolor": "#506784",
             "minorgridcolor": "#506784",
             "startlinecolor": "#A2B1C6"
            },
            "type": "carpet"
           }
          ],
          "table": [
           {
            "cells": {
             "fill": {
              "color": "#506784"
             },
             "line": {
              "color": "rgb(17,17,17)"
             }
            },
            "header": {
             "fill": {
              "color": "#2a3f5f"
             },
             "line": {
              "color": "rgb(17,17,17)"
             }
            },
            "type": "table"
           }
          ],
          "barpolar": [
           {
            "marker": {
             "line": {
              "color": "rgb(17,17,17)",
              "width": 0.5
             },
             "pattern": {
              "fillmode": "overlay",
              "size": 10,
              "solidity": 0.2
             }
            },
            "type": "barpolar"
           }
          ],
          "pie": [
           {
            "automargin": true,
            "type": "pie"
           }
          ]
         },
         "layout": {
          "autotypenumbers": "strict",
          "colorway": [
           "#636efa",
           "#EF553B",
           "#00cc96",
           "#ab63fa",
           "#FFA15A",
           "#19d3f3",
           "#FF6692",
           "#B6E880",
           "#FF97FF",
           "#FECB52"
          ],
          "font": {
           "color": "#f2f5fa"
          },
          "hovermode": "closest",
          "hoverlabel": {
           "align": "left"
          },
          "paper_bgcolor": "rgb(17,17,17)",
          "plot_bgcolor": "rgb(17,17,17)",
          "polar": {
           "bgcolor": "rgb(17,17,17)",
           "angularaxis": {
            "gridcolor": "#506784",
            "linecolor": "#506784",
            "ticks": ""
           },
           "radialaxis": {
            "gridcolor": "#506784",
            "linecolor": "#506784",
            "ticks": ""
           }
          },
          "ternary": {
           "bgcolor": "rgb(17,17,17)",
           "aaxis": {
            "gridcolor": "#506784",
            "linecolor": "#506784",
            "ticks": ""
           },
           "baxis": {
            "gridcolor": "#506784",
            "linecolor": "#506784",
            "ticks": ""
           },
           "caxis": {
            "gridcolor": "#506784",
            "linecolor": "#506784",
            "ticks": ""
           }
          },
          "coloraxis": {
           "colorbar": {
            "outlinewidth": 0,
            "ticks": ""
           }
          },
          "colorscale": {
           "sequential": [
            [
             0.0,
             "#0d0887"
            ],
            [
             0.1111111111111111,
             "#46039f"
            ],
            [
             0.2222222222222222,
             "#7201a8"
            ],
            [
             0.3333333333333333,
             "#9c179e"
            ],
            [
             0.4444444444444444,
             "#bd3786"
            ],
            [
             0.5555555555555556,
             "#d8576b"
            ],
            [
             0.6666666666666666,
             "#ed7953"
            ],
            [
             0.7777777777777778,
             "#fb9f3a"
            ],
            [
             0.8888888888888888,
             "#fdca26"
            ],
            [
             1.0,
             "#f0f921"
            ]
           ],
           "sequentialminus": [
            [
             0.0,
             "#0d0887"
            ],
            [
             0.1111111111111111,
             "#46039f"
            ],
            [
             0.2222222222222222,
             "#7201a8"
            ],
            [
             0.3333333333333333,
             "#9c179e"
            ],
            [
             0.4444444444444444,
             "#bd3786"
            ],
            [
             0.5555555555555556,
             "#d8576b"
            ],
            [
             0.6666666666666666,
             "#ed7953"
            ],
            [
             0.7777777777777778,
             "#fb9f3a"
            ],
            [
             0.8888888888888888,
             "#fdca26"
            ],
            [
             1.0,
             "#f0f921"
            ]
           ],
           "diverging": [
            [
             0,
             "#8e0152"
            ],
            [
             0.1,
             "#c51b7d"
            ],
            [
             0.2,
             "#de77ae"
            ],
            [
             0.3,
             "#f1b6da"
            ],
            [
             0.4,
             "#fde0ef"
            ],
            [
             0.5,
             "#f7f7f7"
            ],
            [
             0.6,
             "#e6f5d0"
            ],
            [
             0.7,
             "#b8e186"
            ],
            [
             0.8,
             "#7fbc41"
            ],
            [
             0.9,
             "#4d9221"
            ],
            [
             1,
             "#276419"
            ]
           ]
          },
          "xaxis": {
           "gridcolor": "#283442",
           "linecolor": "#506784",
           "ticks": "",
           "title": {
            "standoff": 15
           },
           "zerolinecolor": "#283442",
           "automargin": true,
           "zerolinewidth": 2
          },
          "yaxis": {
           "gridcolor": "#283442",
           "linecolor": "#506784",
           "ticks": "",
           "title": {
            "standoff": 15
           },
           "zerolinecolor": "#283442",
           "automargin": true,
           "zerolinewidth": 2
          },
          "scene": {
           "xaxis": {
            "backgroundcolor": "rgb(17,17,17)",
            "gridcolor": "#506784",
            "linecolor": "#506784",
            "showbackground": true,
            "ticks": "",
            "zerolinecolor": "#C8D4E3",
            "gridwidth": 2
           },
           "yaxis": {
            "backgroundcolor": "rgb(17,17,17)",
            "gridcolor": "#506784",
            "linecolor": "#506784",
            "showbackground": true,
            "ticks": "",
            "zerolinecolor": "#C8D4E3",
            "gridwidth": 2
           },
           "zaxis": {
            "backgroundcolor": "rgb(17,17,17)",
            "gridcolor": "#506784",
            "linecolor": "#506784",
            "showbackground": true,
            "ticks": "",
            "zerolinecolor": "#C8D4E3",
            "gridwidth": 2
           }
          },
          "shapedefaults": {
           "line": {
            "color": "#f2f5fa"
           }
          },
          "annotationdefaults": {
           "arrowcolor": "#f2f5fa",
           "arrowhead": 0,
           "arrowwidth": 1
          },
          "geo": {
           "bgcolor": "rgb(17,17,17)",
           "landcolor": "rgb(17,17,17)",
           "subunitcolor": "#506784",
           "showland": true,
           "showlakes": true,
           "lakecolor": "rgb(17,17,17)"
          },
          "title": {
           "x": 0.05
          },
          "updatemenudefaults": {
           "bgcolor": "#506784",
           "borderwidth": 0
          },
          "sliderdefaults": {
           "bgcolor": "#C8D4E3",
           "borderwidth": 1,
           "bordercolor": "rgb(17,17,17)",
           "tickwidth": 0
          },
          "mapbox": {
           "style": "dark"
          }
         }
        },
        "ternary": {
         "domain": {
          "x": [
           0.0,
           1.0
          ],
          "y": [
           0.0,
           1.0
          ]
         },
         "aaxis": {
          "title": {
           "text": "Negative"
          }
         },
         "baxis": {
          "title": {
           "text": "Zero"
          }
         },
         "caxis": {
          "title": {
           "text": "Positive"
          }
         }
        },
        "legend": {
         "title": {
          "text": "Sungroup"
         },
         "tracegroupgap": 0
        },
        "margin": {
         "t": 60
        }
       },
       "config": {
        "plotlyServerURL": "https://plot.ly"
       }
      },
      "text/html": "<div>                            <div id=\"60de2f6c-ebfb-43ec-adf1-d69a03de2062\" class=\"plotly-graph-div\" style=\"height:525px; width:100%;\"></div>            <script type=\"text/javascript\">                require([\"plotly\"], function(Plotly) {                    window.PLOTLYENV=window.PLOTLYENV || {};                                    if (document.getElementById(\"60de2f6c-ebfb-43ec-adf1-d69a03de2062\")) {                    Plotly.newPlot(                        \"60de2f6c-ebfb-43ec-adf1-d69a03de2062\",                        [{\"a\":[727,741,835,561,1152,934,427,612,632,639,322,183,523,751,215,610,660,954,20,711,450,108,492,474,779,1253,292,133,133,923,860,420],\"b\":[1429,1542,1476,1060,1340,1601,2055,1767,1858,1119,2114,2308,1767,1196,1965,1232,1130,1037,2734,1408,2176,879,1969,1847,1657,1279,2076,2078,1699,1628,1608,1881],\"c\":[678,551,523,1213,342,299,352,455,344,1076,398,343,544,887,654,992,1044,843,80,715,208,1847,373,513,398,302,466,623,1002,283,366,533],\"hovertemplate\":\"Sungroup=HER2+<br>Negative=%{a}<br>Zero=%{b}<br>Positive=%{c}<extra></extra>\",\"legendgroup\":\"HER2+\",\"marker\":{\"color\":\"#636efa\",\"symbol\":\"circle\"},\"mode\":\"markers\",\"name\":\"HER2+\",\"showlegend\":true,\"subplot\":\"ternary\",\"type\":\"scatterternary\"},{\"a\":[549,847,648,781,792,211,478,209,191,54,291,661,918,15,669,1151,446,192,398,913,686,300,312,88,237,1266,290,235,470,755,1036,31,184,592,25,738],\"b\":[1879,1720,1966,1436,1132,2355,2214,1044,2409,1601,1256,1235,1038,1329,1861,1325,1735,2444,2077,1335,1157,2042,1340,2643,1507,994,2367,2401,2166,1662,1630,2585,2398,1704,2721,877],\"c\":[406,267,220,617,910,268,142,1581,234,1179,1287,938,878,1490,304,358,653,198,359,586,991,492,1182,103,1090,574,177,198,198,417,168,218,252,538,88,1219],\"hovertemplate\":\"Sungroup=HR+<br>Negative=%{a}<br>Zero=%{b}<br>Positive=%{c}<extra></extra>\",\"legendgroup\":\"HR+\",\"marker\":{\"color\":\"#EF553B\",\"symbol\":\"circle\"},\"mode\":\"markers\",\"name\":\"HR+\",\"showlegend\":true,\"subplot\":\"ternary\",\"type\":\"scatterternary\"},{\"a\":[1124,427,79,94,109,156,854,921,1007,401,324,1291,1101,1356,968,491,949,957,56,1039,930,23,1084,24,18,109,726,728,647,659,34,274],\"b\":[1214,2025,2673,1015,1778,895,1581,1281,1500,2136,1883,1330,1243,1185,1401,1852,1346,1172,1133,1043,1667,2729,1145,1184,1454,1059,1573,1791,1780,1646,1834,1434],\"c\":[496,382,82,1725,947,1783,399,632,327,297,627,213,490,293,465,491,539,705,1645,752,237,82,605,1626,1362,1666,535,315,407,529,966,1126],\"hovertemplate\":\"Sungroup=Triple Neg<br>Negative=%{a}<br>Zero=%{b}<br>Positive=%{c}<extra></extra>\",\"legendgroup\":\"Triple Neg\",\"marker\":{\"color\":\"#00cc96\",\"symbol\":\"circle\"},\"mode\":\"markers\",\"name\":\"Triple Neg\",\"showlegend\":true,\"subplot\":\"ternary\",\"type\":\"scatterternary\"}],                        {\"template\":{\"data\":{\"histogram2dcontour\":[{\"type\":\"histogram2dcontour\",\"colorbar\":{\"outlinewidth\":0,\"ticks\":\"\"},\"colorscale\":[[0.0,\"#0d0887\"],[0.1111111111111111,\"#46039f\"],[0.2222222222222222,\"#7201a8\"],[0.3333333333333333,\"#9c179e\"],[0.4444444444444444,\"#bd3786\"],[0.5555555555555556,\"#d8576b\"],[0.6666666666666666,\"#ed7953\"],[0.7777777777777778,\"#fb9f3a\"],[0.8888888888888888,\"#fdca26\"],[1.0,\"#f0f921\"]]}],\"choropleth\":[{\"type\":\"choropleth\",\"colorbar\":{\"outlinewidth\":0,\"ticks\":\"\"}}],\"histogram2d\":[{\"type\":\"histogram2d\",\"colorbar\":{\"outlinewidth\":0,\"ticks\":\"\"},\"colorscale\":[[0.0,\"#0d0887\"],[0.1111111111111111,\"#46039f\"],[0.2222222222222222,\"#7201a8\"],[0.3333333333333333,\"#9c179e\"],[0.4444444444444444,\"#bd3786\"],[0.5555555555555556,\"#d8576b\"],[0.6666666666666666,\"#ed7953\"],[0.7777777777777778,\"#fb9f3a\"],[0.8888888888888888,\"#fdca26\"],[1.0,\"#f0f921\"]]}],\"heatmap\":[{\"type\":\"heatmap\",\"colorbar\":{\"outlinewidth\":0,\"ticks\":\"\"},\"colorscale\":[[0.0,\"#0d0887\"],[0.1111111111111111,\"#46039f\"],[0.2222222222222222,\"#7201a8\"],[0.3333333333333333,\"#9c179e\"],[0.4444444444444444,\"#bd3786\"],[0.5555555555555556,\"#d8576b\"],[0.6666666666666666,\"#ed7953\"],[0.7777777777777778,\"#fb9f3a\"],[0.8888888888888888,\"#fdca26\"],[1.0,\"#f0f921\"]]}],\"heatmapgl\":[{\"type\":\"heatmapgl\",\"colorbar\":{\"outlinewidth\":0,\"ticks\":\"\"},\"colorscale\":[[0.0,\"#0d0887\"],[0.1111111111111111,\"#46039f\"],[0.2222222222222222,\"#7201a8\"],[0.3333333333333333,\"#9c179e\"],[0.4444444444444444,\"#bd3786\"],[0.5555555555555556,\"#d8576b\"],[0.6666666666666666,\"#ed7953\"],[0.7777777777777778,\"#fb9f3a\"],[0.8888888888888888,\"#fdca26\"],[1.0,\"#f0f921\"]]}],\"contourcarpet\":[{\"type\":\"contourcarpet\",\"colorbar\":{\"outlinewidth\":0,\"ticks\":\"\"}}],\"contour\":[{\"type\":\"contour\",\"colorbar\":{\"outlinewidth\":0,\"ticks\":\"\"},\"colorscale\":[[0.0,\"#0d0887\"],[0.1111111111111111,\"#46039f\"],[0.2222222222222222,\"#7201a8\"],[0.3333333333333333,\"#9c179e\"],[0.4444444444444444,\"#bd3786\"],[0.5555555555555556,\"#d8576b\"],[0.6666666666666666,\"#ed7953\"],[0.7777777777777778,\"#fb9f3a\"],[0.8888888888888888,\"#fdca26\"],[1.0,\"#f0f921\"]]}],\"surface\":[{\"type\":\"surface\",\"colorbar\":{\"outlinewidth\":0,\"ticks\":\"\"},\"colorscale\":[[0.0,\"#0d0887\"],[0.1111111111111111,\"#46039f\"],[0.2222222222222222,\"#7201a8\"],[0.3333333333333333,\"#9c179e\"],[0.4444444444444444,\"#bd3786\"],[0.5555555555555556,\"#d8576b\"],[0.6666666666666666,\"#ed7953\"],[0.7777777777777778,\"#fb9f3a\"],[0.8888888888888888,\"#fdca26\"],[1.0,\"#f0f921\"]]}],\"mesh3d\":[{\"type\":\"mesh3d\",\"colorbar\":{\"outlinewidth\":0,\"ticks\":\"\"}}],\"scatter\":[{\"marker\":{\"line\":{\"color\":\"#283442\"}},\"type\":\"scatter\"}],\"parcoords\":[{\"type\":\"parcoords\",\"line\":{\"colorbar\":{\"outlinewidth\":0,\"ticks\":\"\"}}}],\"scatterpolargl\":[{\"type\":\"scatterpolargl\",\"marker\":{\"colorbar\":{\"outlinewidth\":0,\"ticks\":\"\"}}}],\"bar\":[{\"error_x\":{\"color\":\"#f2f5fa\"},\"error_y\":{\"color\":\"#f2f5fa\"},\"marker\":{\"line\":{\"color\":\"rgb(17,17,17)\",\"width\":0.5},\"pattern\":{\"fillmode\":\"overlay\",\"size\":10,\"solidity\":0.2}},\"type\":\"bar\"}],\"scattergeo\":[{\"type\":\"scattergeo\",\"marker\":{\"colorbar\":{\"outlinewidth\":0,\"ticks\":\"\"}}}],\"scatterpolar\":[{\"type\":\"scatterpolar\",\"marker\":{\"colorbar\":{\"outlinewidth\":0,\"ticks\":\"\"}}}],\"histogram\":[{\"marker\":{\"pattern\":{\"fillmode\":\"overlay\",\"size\":10,\"solidity\":0.2}},\"type\":\"histogram\"}],\"scattergl\":[{\"marker\":{\"line\":{\"color\":\"#283442\"}},\"type\":\"scattergl\"}],\"scatter3d\":[{\"type\":\"scatter3d\",\"line\":{\"colorbar\":{\"outlinewidth\":0,\"ticks\":\"\"}},\"marker\":{\"colorbar\":{\"outlinewidth\":0,\"ticks\":\"\"}}}],\"scattermapbox\":[{\"type\":\"scattermapbox\",\"marker\":{\"colorbar\":{\"outlinewidth\":0,\"ticks\":\"\"}}}],\"scatterternary\":[{\"type\":\"scatterternary\",\"marker\":{\"colorbar\":{\"outlinewidth\":0,\"ticks\":\"\"}}}],\"scattercarpet\":[{\"type\":\"scattercarpet\",\"marker\":{\"colorbar\":{\"outlinewidth\":0,\"ticks\":\"\"}}}],\"carpet\":[{\"aaxis\":{\"endlinecolor\":\"#A2B1C6\",\"gridcolor\":\"#506784\",\"linecolor\":\"#506784\",\"minorgridcolor\":\"#506784\",\"startlinecolor\":\"#A2B1C6\"},\"baxis\":{\"endlinecolor\":\"#A2B1C6\",\"gridcolor\":\"#506784\",\"linecolor\":\"#506784\",\"minorgridcolor\":\"#506784\",\"startlinecolor\":\"#A2B1C6\"},\"type\":\"carpet\"}],\"table\":[{\"cells\":{\"fill\":{\"color\":\"#506784\"},\"line\":{\"color\":\"rgb(17,17,17)\"}},\"header\":{\"fill\":{\"color\":\"#2a3f5f\"},\"line\":{\"color\":\"rgb(17,17,17)\"}},\"type\":\"table\"}],\"barpolar\":[{\"marker\":{\"line\":{\"color\":\"rgb(17,17,17)\",\"width\":0.5},\"pattern\":{\"fillmode\":\"overlay\",\"size\":10,\"solidity\":0.2}},\"type\":\"barpolar\"}],\"pie\":[{\"automargin\":true,\"type\":\"pie\"}]},\"layout\":{\"autotypenumbers\":\"strict\",\"colorway\":[\"#636efa\",\"#EF553B\",\"#00cc96\",\"#ab63fa\",\"#FFA15A\",\"#19d3f3\",\"#FF6692\",\"#B6E880\",\"#FF97FF\",\"#FECB52\"],\"font\":{\"color\":\"#f2f5fa\"},\"hovermode\":\"closest\",\"hoverlabel\":{\"align\":\"left\"},\"paper_bgcolor\":\"rgb(17,17,17)\",\"plot_bgcolor\":\"rgb(17,17,17)\",\"polar\":{\"bgcolor\":\"rgb(17,17,17)\",\"angularaxis\":{\"gridcolor\":\"#506784\",\"linecolor\":\"#506784\",\"ticks\":\"\"},\"radialaxis\":{\"gridcolor\":\"#506784\",\"linecolor\":\"#506784\",\"ticks\":\"\"}},\"ternary\":{\"bgcolor\":\"rgb(17,17,17)\",\"aaxis\":{\"gridcolor\":\"#506784\",\"linecolor\":\"#506784\",\"ticks\":\"\"},\"baxis\":{\"gridcolor\":\"#506784\",\"linecolor\":\"#506784\",\"ticks\":\"\"},\"caxis\":{\"gridcolor\":\"#506784\",\"linecolor\":\"#506784\",\"ticks\":\"\"}},\"coloraxis\":{\"colorbar\":{\"outlinewidth\":0,\"ticks\":\"\"}},\"colorscale\":{\"sequential\":[[0.0,\"#0d0887\"],[0.1111111111111111,\"#46039f\"],[0.2222222222222222,\"#7201a8\"],[0.3333333333333333,\"#9c179e\"],[0.4444444444444444,\"#bd3786\"],[0.5555555555555556,\"#d8576b\"],[0.6666666666666666,\"#ed7953\"],[0.7777777777777778,\"#fb9f3a\"],[0.8888888888888888,\"#fdca26\"],[1.0,\"#f0f921\"]],\"sequentialminus\":[[0.0,\"#0d0887\"],[0.1111111111111111,\"#46039f\"],[0.2222222222222222,\"#7201a8\"],[0.3333333333333333,\"#9c179e\"],[0.4444444444444444,\"#bd3786\"],[0.5555555555555556,\"#d8576b\"],[0.6666666666666666,\"#ed7953\"],[0.7777777777777778,\"#fb9f3a\"],[0.8888888888888888,\"#fdca26\"],[1.0,\"#f0f921\"]],\"diverging\":[[0,\"#8e0152\"],[0.1,\"#c51b7d\"],[0.2,\"#de77ae\"],[0.3,\"#f1b6da\"],[0.4,\"#fde0ef\"],[0.5,\"#f7f7f7\"],[0.6,\"#e6f5d0\"],[0.7,\"#b8e186\"],[0.8,\"#7fbc41\"],[0.9,\"#4d9221\"],[1,\"#276419\"]]},\"xaxis\":{\"gridcolor\":\"#283442\",\"linecolor\":\"#506784\",\"ticks\":\"\",\"title\":{\"standoff\":15},\"zerolinecolor\":\"#283442\",\"automargin\":true,\"zerolinewidth\":2},\"yaxis\":{\"gridcolor\":\"#283442\",\"linecolor\":\"#506784\",\"ticks\":\"\",\"title\":{\"standoff\":15},\"zerolinecolor\":\"#283442\",\"automargin\":true,\"zerolinewidth\":2},\"scene\":{\"xaxis\":{\"backgroundcolor\":\"rgb(17,17,17)\",\"gridcolor\":\"#506784\",\"linecolor\":\"#506784\",\"showbackground\":true,\"ticks\":\"\",\"zerolinecolor\":\"#C8D4E3\",\"gridwidth\":2},\"yaxis\":{\"backgroundcolor\":\"rgb(17,17,17)\",\"gridcolor\":\"#506784\",\"linecolor\":\"#506784\",\"showbackground\":true,\"ticks\":\"\",\"zerolinecolor\":\"#C8D4E3\",\"gridwidth\":2},\"zaxis\":{\"backgroundcolor\":\"rgb(17,17,17)\",\"gridcolor\":\"#506784\",\"linecolor\":\"#506784\",\"showbackground\":true,\"ticks\":\"\",\"zerolinecolor\":\"#C8D4E3\",\"gridwidth\":2}},\"shapedefaults\":{\"line\":{\"color\":\"#f2f5fa\"}},\"annotationdefaults\":{\"arrowcolor\":\"#f2f5fa\",\"arrowhead\":0,\"arrowwidth\":1},\"geo\":{\"bgcolor\":\"rgb(17,17,17)\",\"landcolor\":\"rgb(17,17,17)\",\"subunitcolor\":\"#506784\",\"showland\":true,\"showlakes\":true,\"lakecolor\":\"rgb(17,17,17)\"},\"title\":{\"x\":0.05},\"updatemenudefaults\":{\"bgcolor\":\"#506784\",\"borderwidth\":0},\"sliderdefaults\":{\"bgcolor\":\"#C8D4E3\",\"borderwidth\":1,\"bordercolor\":\"rgb(17,17,17)\",\"tickwidth\":0},\"mapbox\":{\"style\":\"dark\"}}},\"ternary\":{\"domain\":{\"x\":[0.0,1.0],\"y\":[0.0,1.0]},\"aaxis\":{\"title\":{\"text\":\"Negative\"}},\"baxis\":{\"title\":{\"text\":\"Zero\"}},\"caxis\":{\"title\":{\"text\":\"Positive\"}}},\"legend\":{\"title\":{\"text\":\"Sungroup\"},\"tracegroupgap\":0},\"margin\":{\"t\":60}},                        {\"responsive\": true}                    ).then(function(){\n                            \nvar gd = document.getElementById('60de2f6c-ebfb-43ec-adf1-d69a03de2062');\nvar x = new MutationObserver(function (mutations, observer) {{\n        var display = window.getComputedStyle(gd).display;\n        if (!display || display === 'none') {{\n            console.log([gd, 'removed!']);\n            Plotly.purge(gd);\n            observer.disconnect();\n        }}\n}});\n\n// Listen for the removal of the full notebook cells\nvar notebookContainer = gd.closest('#notebook-container');\nif (notebookContainer) {{\n    x.observe(notebookContainer, {childList: true});\n}}\n\n// Listen for the clearing of the current output cell\nvar outputEl = gd.closest('.output');\nif (outputEl) {{\n    x.observe(outputEl, {childList: true});\n}}\n\n                        })                };                });            </script>        </div>"
     },
     "metadata": {},
     "output_type": "display_data"
    }
   ],
   "source": [
    "datas = []\n",
    "for item in sample_names:\n",
    "    bp = data.replace(2, 1).groupby([item]).size().reset_index(name = 'Count')\n",
    "    datas.append([sample_dcit[item],bp['Count'][0],bp['Count'][1],bp['Count'][2]])\n",
    "\n",
    "data_sample = pd.DataFrame(datas, columns=['Sungroup','Negative','Zero','Positive'])\n",
    "\n",
    "plot_sample = px.scatter_ternary(data_sample, a = 'Negative',\n",
    "                          b = 'Zero',\n",
    "                          c='Positive',\n",
    "                          color = 'Sungroup')\n",
    "plot_sample.show()"
   ],
   "metadata": {
    "collapsed": false,
    "pycharm": {
     "name": "#%%\n"
    }
   }
  },
  {
   "cell_type": "markdown",
   "source": [
    "## Ternary scatter plot by Chromosome"
   ],
   "metadata": {
    "collapsed": false,
    "pycharm": {
     "name": "#%% md\n"
    }
   }
  },
  {
   "cell_type": "code",
   "execution_count": 75,
   "id": "verbal-deviation",
   "metadata": {
    "pycharm": {
     "name": "#%%\n"
    }
   },
   "outputs": [
    {
     "data": {
      "text/plain": "     sepal_length  sepal_width  petal_length  petal_width    species  \\\n0             5.1          3.5           1.4          0.2     setosa   \n1             4.9          3.0           1.4          0.2     setosa   \n2             4.7          3.2           1.3          0.2     setosa   \n3             4.6          3.1           1.5          0.2     setosa   \n4             5.0          3.6           1.4          0.2     setosa   \n..            ...          ...           ...          ...        ...   \n145           6.7          3.0           5.2          2.3  virginica   \n146           6.3          2.5           5.0          1.9  virginica   \n147           6.5          3.0           5.2          2.0  virginica   \n148           6.2          3.4           5.4          2.3  virginica   \n149           5.9          3.0           5.1          1.8  virginica   \n\n     species_id  \n0             1  \n1             1  \n2             1  \n3             1  \n4             1  \n..          ...  \n145           3  \n146           3  \n147           3  \n148           3  \n149           3  \n\n[150 rows x 6 columns]",
      "text/html": "<div>\n<style scoped>\n    .dataframe tbody tr th:only-of-type {\n        vertical-align: middle;\n    }\n\n    .dataframe tbody tr th {\n        vertical-align: top;\n    }\n\n    .dataframe thead th {\n        text-align: right;\n    }\n</style>\n<table border=\"1\" class=\"dataframe\">\n  <thead>\n    <tr style=\"text-align: right;\">\n      <th></th>\n      <th>sepal_length</th>\n      <th>sepal_width</th>\n      <th>petal_length</th>\n      <th>petal_width</th>\n      <th>species</th>\n      <th>species_id</th>\n    </tr>\n  </thead>\n  <tbody>\n    <tr>\n      <th>0</th>\n      <td>5.1</td>\n      <td>3.5</td>\n      <td>1.4</td>\n      <td>0.2</td>\n      <td>setosa</td>\n      <td>1</td>\n    </tr>\n    <tr>\n      <th>1</th>\n      <td>4.9</td>\n      <td>3.0</td>\n      <td>1.4</td>\n      <td>0.2</td>\n      <td>setosa</td>\n      <td>1</td>\n    </tr>\n    <tr>\n      <th>2</th>\n      <td>4.7</td>\n      <td>3.2</td>\n      <td>1.3</td>\n      <td>0.2</td>\n      <td>setosa</td>\n      <td>1</td>\n    </tr>\n    <tr>\n      <th>3</th>\n      <td>4.6</td>\n      <td>3.1</td>\n      <td>1.5</td>\n      <td>0.2</td>\n      <td>setosa</td>\n      <td>1</td>\n    </tr>\n    <tr>\n      <th>4</th>\n      <td>5.0</td>\n      <td>3.6</td>\n      <td>1.4</td>\n      <td>0.2</td>\n      <td>setosa</td>\n      <td>1</td>\n    </tr>\n    <tr>\n      <th>...</th>\n      <td>...</td>\n      <td>...</td>\n      <td>...</td>\n      <td>...</td>\n      <td>...</td>\n      <td>...</td>\n    </tr>\n    <tr>\n      <th>145</th>\n      <td>6.7</td>\n      <td>3.0</td>\n      <td>5.2</td>\n      <td>2.3</td>\n      <td>virginica</td>\n      <td>3</td>\n    </tr>\n    <tr>\n      <th>146</th>\n      <td>6.3</td>\n      <td>2.5</td>\n      <td>5.0</td>\n      <td>1.9</td>\n      <td>virginica</td>\n      <td>3</td>\n    </tr>\n    <tr>\n      <th>147</th>\n      <td>6.5</td>\n      <td>3.0</td>\n      <td>5.2</td>\n      <td>2.0</td>\n      <td>virginica</td>\n      <td>3</td>\n    </tr>\n    <tr>\n      <th>148</th>\n      <td>6.2</td>\n      <td>3.4</td>\n      <td>5.4</td>\n      <td>2.3</td>\n      <td>virginica</td>\n      <td>3</td>\n    </tr>\n    <tr>\n      <th>149</th>\n      <td>5.9</td>\n      <td>3.0</td>\n      <td>5.1</td>\n      <td>1.8</td>\n      <td>virginica</td>\n      <td>3</td>\n    </tr>\n  </tbody>\n</table>\n<p>150 rows × 6 columns</p>\n</div>"
     },
     "execution_count": 60,
     "metadata": {},
     "output_type": "execute_result"
    },
    {
     "data": {
      "text/plain": "     sepal_length  sepal_width  petal_length  petal_width    species  \\\n0             5.1          3.5           1.4          0.2     setosa   \n1             4.9          3.0           1.4          0.2     setosa   \n2             4.7          3.2           1.3          0.2     setosa   \n3             4.6          3.1           1.5          0.2     setosa   \n4             5.0          3.6           1.4          0.2     setosa   \n..            ...          ...           ...          ...        ...   \n145           6.7          3.0           5.2          2.3  virginica   \n146           6.3          2.5           5.0          1.9  virginica   \n147           6.5          3.0           5.2          2.0  virginica   \n148           6.2          3.4           5.4          2.3  virginica   \n149           5.9          3.0           5.1          1.8  virginica   \n\n     species_id  \n0             1  \n1             1  \n2             1  \n3             1  \n4             1  \n..          ...  \n145           3  \n146           3  \n147           3  \n148           3  \n149           3  \n\n[150 rows x 6 columns]",
      "text/html": "<div>\n<style scoped>\n    .dataframe tbody tr th:only-of-type {\n        vertical-align: middle;\n    }\n\n    .dataframe tbody tr th {\n        vertical-align: top;\n    }\n\n    .dataframe thead th {\n        text-align: right;\n    }\n</style>\n<table border=\"1\" class=\"dataframe\">\n  <thead>\n    <tr style=\"text-align: right;\">\n      <th></th>\n      <th>sepal_length</th>\n      <th>sepal_width</th>\n      <th>petal_length</th>\n      <th>petal_width</th>\n      <th>species</th>\n      <th>species_id</th>\n    </tr>\n  </thead>\n  <tbody>\n    <tr>\n      <th>0</th>\n      <td>5.1</td>\n      <td>3.5</td>\n      <td>1.4</td>\n      <td>0.2</td>\n      <td>setosa</td>\n      <td>1</td>\n    </tr>\n    <tr>\n      <th>1</th>\n      <td>4.9</td>\n      <td>3.0</td>\n      <td>1.4</td>\n      <td>0.2</td>\n      <td>setosa</td>\n      <td>1</td>\n    </tr>\n    <tr>\n      <th>2</th>\n      <td>4.7</td>\n      <td>3.2</td>\n      <td>1.3</td>\n      <td>0.2</td>\n      <td>setosa</td>\n      <td>1</td>\n    </tr>\n    <tr>\n      <th>3</th>\n      <td>4.6</td>\n      <td>3.1</td>\n      <td>1.5</td>\n      <td>0.2</td>\n      <td>setosa</td>\n      <td>1</td>\n    </tr>\n    <tr>\n      <th>4</th>\n      <td>5.0</td>\n      <td>3.6</td>\n      <td>1.4</td>\n      <td>0.2</td>\n      <td>setosa</td>\n      <td>1</td>\n    </tr>\n    <tr>\n      <th>...</th>\n      <td>...</td>\n      <td>...</td>\n      <td>...</td>\n      <td>...</td>\n      <td>...</td>\n      <td>...</td>\n    </tr>\n    <tr>\n      <th>145</th>\n      <td>6.7</td>\n      <td>3.0</td>\n      <td>5.2</td>\n      <td>2.3</td>\n      <td>virginica</td>\n      <td>3</td>\n    </tr>\n    <tr>\n      <th>146</th>\n      <td>6.3</td>\n      <td>2.5</td>\n      <td>5.0</td>\n      <td>1.9</td>\n      <td>virginica</td>\n      <td>3</td>\n    </tr>\n    <tr>\n      <th>147</th>\n      <td>6.5</td>\n      <td>3.0</td>\n      <td>5.2</td>\n      <td>2.0</td>\n      <td>virginica</td>\n      <td>3</td>\n    </tr>\n    <tr>\n      <th>148</th>\n      <td>6.2</td>\n      <td>3.4</td>\n      <td>5.4</td>\n      <td>2.3</td>\n      <td>virginica</td>\n      <td>3</td>\n    </tr>\n    <tr>\n      <th>149</th>\n      <td>5.9</td>\n      <td>3.0</td>\n      <td>5.1</td>\n      <td>1.8</td>\n      <td>virginica</td>\n      <td>3</td>\n    </tr>\n  </tbody>\n</table>\n<p>150 rows × 6 columns</p>\n</div>"
     },
     "execution_count": 75,
     "metadata": {},
     "output_type": "execute_result"
    }
   ],
   "source": [
    "df = px.data.iris()\n",
    "df"
   ]
  },
  {
   "cell_type": "code",
   "execution_count": null,
   "id": "early-porter",
   "metadata": {
    "pycharm": {
     "name": "#%%\n",
     "is_executing": true
    }
   },
   "outputs": [],
   "source": [
    "#data = data.T\n",
    "data = data.replace(2, 1)\n",
    "append_datas=pd.DataFrame(data[0:1].T.value_counts(ascending=True)).T\n",
    "for index in range(1,2834):\n",
    "    append_datas=append_datas.append(pd.DataFrame(data[index:index+1].T.value_counts(ascending=True)).T)\n"
   ]
  },
  {
   "cell_type": "code",
   "execution_count": 62,
   "id": "executive-launch",
   "metadata": {
    "pycharm": {
     "name": "#%%\n"
    }
   },
   "outputs": [
    {
     "name": "stdout",
     "output_type": "stream",
     "text": [
      "        -1   1   0\n",
      "0     10.0  13  77\n",
      "1     13.0   8  79\n",
      "2     12.0   9  79\n",
      "3     11.0  12  77\n",
      "4     15.0  12  73\n",
      "...    ...  ..  ..\n",
      "2829   0.0  95   5\n",
      "2830   0.0  94   6\n",
      "2831   0.0  94   6\n",
      "2832   0.0  92   8\n",
      "2833   0.0  93   7\n",
      "\n",
      "[2834 rows x 3 columns]\n"
     ]
    },
    {
     "data": {
      "text/plain": "        -1   1   0\n0     10.0  13  77\n1     13.0   8  79\n2     12.0   9  79\n3     11.0  12  77\n4     15.0  12  73\n...    ...  ..  ..\n2829   0.0  95   5\n2830   0.0  94   6\n2831   0.0  94   6\n2832   0.0  92   8\n2833   0.0  93   7\n\n[2834 rows x 3 columns]",
      "text/html": "<div>\n<style scoped>\n    .dataframe tbody tr th:only-of-type {\n        vertical-align: middle;\n    }\n\n    .dataframe tbody tr th {\n        vertical-align: top;\n    }\n\n    .dataframe thead tr th {\n        text-align: left;\n    }\n</style>\n<table border=\"1\" class=\"dataframe\">\n  <thead>\n    <tr>\n      <th></th>\n      <th>-1</th>\n      <th>1</th>\n      <th>0</th>\n    </tr>\n  </thead>\n  <tbody>\n    <tr>\n      <th>0</th>\n      <td>10.0</td>\n      <td>13</td>\n      <td>77</td>\n    </tr>\n    <tr>\n      <th>1</th>\n      <td>13.0</td>\n      <td>8</td>\n      <td>79</td>\n    </tr>\n    <tr>\n      <th>2</th>\n      <td>12.0</td>\n      <td>9</td>\n      <td>79</td>\n    </tr>\n    <tr>\n      <th>3</th>\n      <td>11.0</td>\n      <td>12</td>\n      <td>77</td>\n    </tr>\n    <tr>\n      <th>4</th>\n      <td>15.0</td>\n      <td>12</td>\n      <td>73</td>\n    </tr>\n    <tr>\n      <th>...</th>\n      <td>...</td>\n      <td>...</td>\n      <td>...</td>\n    </tr>\n    <tr>\n      <th>2829</th>\n      <td>0.0</td>\n      <td>95</td>\n      <td>5</td>\n    </tr>\n    <tr>\n      <th>2830</th>\n      <td>0.0</td>\n      <td>94</td>\n      <td>6</td>\n    </tr>\n    <tr>\n      <th>2831</th>\n      <td>0.0</td>\n      <td>94</td>\n      <td>6</td>\n    </tr>\n    <tr>\n      <th>2832</th>\n      <td>0.0</td>\n      <td>92</td>\n      <td>8</td>\n    </tr>\n    <tr>\n      <th>2833</th>\n      <td>0.0</td>\n      <td>93</td>\n      <td>7</td>\n    </tr>\n  </tbody>\n</table>\n<p>2834 rows × 3 columns</p>\n</div>"
     },
     "execution_count": 62,
     "metadata": {},
     "output_type": "execute_result"
    }
   ],
   "source": [
    "append_datas=append_datas.fillna(0)\n",
    "append_datas=append_datas.reset_index(drop=True)\n",
    "print(append_datas)\n",
    "append_datas"
   ]
  },
  {
   "cell_type": "code",
   "execution_count": 63,
   "id": "fresh-briefing",
   "metadata": {
    "pycharm": {
     "name": "#%%\n"
    }
   },
   "outputs": [
    {
     "data": {
      "text/plain": "     Chromosome  Negative  Zero  Positive\n0             1      10.0    13        77\n1             1      13.0     8        79\n2             1      12.0     9        79\n3             1      11.0    12        77\n4             1      15.0    12        73\n...         ...       ...   ...       ...\n2829         23       0.0    95         5\n2830         23       0.0    94         6\n2831         23       0.0    94         6\n2832         23       0.0    92         8\n2833         23       0.0    93         7\n\n[2834 rows x 4 columns]",
      "text/html": "<div>\n<style scoped>\n    .dataframe tbody tr th:only-of-type {\n        vertical-align: middle;\n    }\n\n    .dataframe tbody tr th {\n        vertical-align: top;\n    }\n\n    .dataframe thead th {\n        text-align: right;\n    }\n</style>\n<table border=\"1\" class=\"dataframe\">\n  <thead>\n    <tr style=\"text-align: right;\">\n      <th></th>\n      <th>Chromosome</th>\n      <th>Negative</th>\n      <th>Zero</th>\n      <th>Positive</th>\n    </tr>\n  </thead>\n  <tbody>\n    <tr>\n      <th>0</th>\n      <td>1</td>\n      <td>10.0</td>\n      <td>13</td>\n      <td>77</td>\n    </tr>\n    <tr>\n      <th>1</th>\n      <td>1</td>\n      <td>13.0</td>\n      <td>8</td>\n      <td>79</td>\n    </tr>\n    <tr>\n      <th>2</th>\n      <td>1</td>\n      <td>12.0</td>\n      <td>9</td>\n      <td>79</td>\n    </tr>\n    <tr>\n      <th>3</th>\n      <td>1</td>\n      <td>11.0</td>\n      <td>12</td>\n      <td>77</td>\n    </tr>\n    <tr>\n      <th>4</th>\n      <td>1</td>\n      <td>15.0</td>\n      <td>12</td>\n      <td>73</td>\n    </tr>\n    <tr>\n      <th>...</th>\n      <td>...</td>\n      <td>...</td>\n      <td>...</td>\n      <td>...</td>\n    </tr>\n    <tr>\n      <th>2829</th>\n      <td>23</td>\n      <td>0.0</td>\n      <td>95</td>\n      <td>5</td>\n    </tr>\n    <tr>\n      <th>2830</th>\n      <td>23</td>\n      <td>0.0</td>\n      <td>94</td>\n      <td>6</td>\n    </tr>\n    <tr>\n      <th>2831</th>\n      <td>23</td>\n      <td>0.0</td>\n      <td>94</td>\n      <td>6</td>\n    </tr>\n    <tr>\n      <th>2832</th>\n      <td>23</td>\n      <td>0.0</td>\n      <td>92</td>\n      <td>8</td>\n    </tr>\n    <tr>\n      <th>2833</th>\n      <td>23</td>\n      <td>0.0</td>\n      <td>93</td>\n      <td>7</td>\n    </tr>\n  </tbody>\n</table>\n<p>2834 rows × 4 columns</p>\n</div>"
     },
     "execution_count": 63,
     "metadata": {},
     "output_type": "execute_result"
    }
   ],
   "source": [
    "data_raw = pd.read_csv(\"../data/Train_call.txt\", sep='\\t',header=0,names=None,low_memory=False)\n",
    "Chr = data_raw['Chromosome']\n",
    "Chr = [str(x) for x in Chr]\n",
    "Chr = pd.DataFrame(Chr)\n",
    "Chr\n",
    "df = pd.concat([Chr, append_datas], axis=1)\n",
    "df.columns = ['Chromosome','Negative','Zero','Positive']\n",
    "df"
   ]
  },
  {
   "cell_type": "code",
   "execution_count": 64,
   "id": "sudden-feature",
   "metadata": {
    "pycharm": {
     "name": "#%%\n"
    }
   },
   "outputs": [
    {
     "data": {
      "application/vnd.plotly.v1+json": {
       "data": [
        {
         "a": [
          10.0,
          13.0,
          12.0,
          11.0,
          15.0,
          14.0,
          15.0,
          20.0,
          21.0,
          19.0,
          19.0,
          4.0,
          5.0,
          13.0,
          18.0,
          17.0,
          6.0,
          5.0,
          25.0,
          19.0,
          16.0,
          24.0,
          27.0,
          27.0,
          32.0,
          33.0,
          32.0,
          30.0,
          30.0,
          31.0,
          32.0,
          32.0,
          29.0,
          29.0,
          29.0,
          19.0,
          18.0,
          20.0,
          19.0,
          21.0,
          22.0,
          30.0,
          31.0,
          30.0,
          27.0,
          29.0,
          30.0,
          31.0,
          30.0,
          29.0,
          30.0,
          30.0,
          32.0,
          33.0,
          33.0,
          31.0,
          32.0,
          32.0,
          32.0,
          32.0,
          31.0,
          27.0,
          26.0,
          24.0,
          24.0,
          22.0,
          19.0,
          17.0,
          18.0,
          17.0,
          17.0,
          18.0,
          19.0,
          17.0,
          17.0,
          18.0,
          19.0,
          19.0,
          21.0,
          22.0,
          21.0,
          20.0,
          19.0,
          20.0,
          20.0,
          21.0,
          20.0,
          20.0,
          19.0,
          20.0,
          20.0,
          22.0,
          21.0,
          21.0,
          23.0,
          22.0,
          21.0,
          23.0,
          23.0,
          23.0,
          25.0,
          25.0,
          24.0,
          25.0,
          26.0,
          26.0,
          26.0,
          25.0,
          26.0,
          25.0,
          25.0,
          25.0,
          26.0,
          26.0,
          27.0,
          27.0,
          26.0,
          27.0,
          45.0,
          28.0,
          28.0,
          28.0,
          29.0,
          29.0,
          29.0,
          29.0,
          28.0,
          28.0,
          27.0,
          27.0,
          27.0,
          27.0,
          30.0,
          27.0,
          26.0,
          27.0,
          27.0,
          25.0,
          26.0,
          26.0,
          26.0,
          24.0,
          26.0,
          24.0,
          23.0,
          22.0,
          23.0,
          23.0,
          22.0,
          24.0,
          25.0,
          23.0,
          27.0,
          23.0,
          23.0,
          24.0,
          24.0,
          23.0,
          23.0,
          21.0,
          20.0,
          20.0,
          21.0,
          18.0,
          20.0,
          22.0,
          22.0,
          22.0,
          21.0,
          19.0,
          17.0,
          16.0,
          15.0,
          14.0,
          3.0,
          2.0,
          5.0,
          2.0,
          2.0,
          4.0,
          4.0,
          6.0,
          5.0,
          4.0,
          3.0,
          5.0,
          4.0,
          13.0,
          9.0,
          8.0,
          3.0,
          2.0,
          33.0,
          2.0,
          2.0,
          2.0,
          2.0,
          2.0,
          2.0,
          2.0,
          2.0,
          2.0,
          2.0,
          2.0,
          3.0,
          3.0,
          2.0,
          3.0,
          8.0,
          3.0,
          2.0,
          2.0,
          2.0,
          3.0,
          3.0,
          3.0,
          3.0,
          3.0,
          2.0,
          2.0,
          2.0,
          3.0,
          3.0,
          7.0,
          4.0,
          4.0,
          16.0,
          7.0,
          4.0,
          5.0,
          19.0,
          5.0,
          3.0,
          3.0,
          3.0,
          3.0,
          3.0,
          2.0,
          3.0,
          3.0,
          4.0,
          4.0,
          3.0,
          6.0,
          5.0,
          5.0,
          5.0,
          4.0,
          4.0,
          4.0,
          6.0,
          5.0,
          4.0,
          4.0,
          5.0,
          8.0,
          9.0,
          10.0,
          5.0,
          5.0,
          2.0,
          0.0,
          0.0,
          2.0,
          3.0,
          4.0,
          17.0,
          19.0,
          4.0,
          8.0,
          6.0
         ],
         "b": [
          13,
          8,
          9,
          12,
          12,
          10,
          11,
          10,
          10,
          9,
          11,
          56,
          46,
          28,
          12,
          13,
          52,
          57,
          8,
          16,
          18,
          10,
          8,
          8,
          6,
          6,
          5,
          3,
          4,
          4,
          5,
          6,
          5,
          6,
          5,
          9,
          14,
          15,
          19,
          17,
          20,
          6,
          3,
          5,
          6,
          6,
          6,
          6,
          17,
          11,
          7,
          7,
          6,
          8,
          9,
          8,
          7,
          8,
          9,
          10,
          12,
          14,
          13,
          15,
          14,
          16,
          19,
          21,
          17,
          19,
          20,
          19,
          18,
          20,
          20,
          20,
          17,
          15,
          15,
          16,
          16,
          14,
          15,
          14,
          14,
          16,
          13,
          16,
          17,
          16,
          16,
          15,
          13,
          17,
          17,
          17,
          18,
          17,
          16,
          15,
          15,
          16,
          17,
          16,
          16,
          15,
          16,
          16,
          14,
          15,
          15,
          15,
          13,
          11,
          10,
          11,
          11,
          11,
          8,
          11,
          13,
          14,
          13,
          14,
          14,
          14,
          12,
          12,
          9,
          10,
          9,
          12,
          12,
          12,
          11,
          10,
          9,
          12,
          11,
          9,
          10,
          8,
          9,
          8,
          9,
          12,
          13,
          14,
          12,
          13,
          13,
          14,
          18,
          16,
          15,
          14,
          12,
          13,
          15,
          16,
          17,
          16,
          16,
          17,
          16,
          14,
          14,
          17,
          18,
          19,
          19,
          20,
          19,
          20,
          29,
          29,
          25,
          40,
          50,
          50,
          50,
          55,
          54,
          62,
          62,
          60,
          57,
          46,
          51,
          59,
          64,
          66,
          45,
          70,
          83,
          79,
          69,
          71,
          69,
          69,
          66,
          68,
          70,
          67,
          67,
          67,
          69,
          68,
          61,
          69,
          68,
          70,
          70,
          67,
          67,
          68,
          66,
          65,
          65,
          63,
          64,
          65,
          65,
          61,
          63,
          63,
          55,
          62,
          63,
          64,
          41,
          54,
          66,
          66,
          67,
          68,
          66,
          64,
          64,
          65,
          65,
          65,
          66,
          66,
          67,
          68,
          67,
          67,
          68,
          67,
          69,
          70,
          68,
          69,
          69,
          67,
          60,
          52,
          56,
          69,
          71,
          82,
          80,
          77,
          75,
          65,
          53,
          54,
          67,
          66,
          63
         ],
         "c": [
          77,
          79,
          79,
          77,
          73,
          76,
          74,
          70,
          69,
          72,
          70,
          40,
          49,
          59,
          70,
          70,
          42,
          38,
          67,
          65,
          66,
          66,
          65,
          65,
          62,
          61,
          63,
          67,
          66,
          65,
          63,
          62,
          66,
          65,
          66,
          72,
          68,
          65,
          62,
          62,
          58,
          64,
          66,
          65,
          67,
          65,
          64,
          63,
          53,
          60,
          63,
          63,
          62,
          59,
          58,
          61,
          61,
          60,
          59,
          58,
          57,
          59,
          61,
          61,
          62,
          62,
          62,
          62,
          65,
          64,
          63,
          63,
          63,
          63,
          63,
          62,
          64,
          66,
          64,
          62,
          63,
          66,
          66,
          66,
          66,
          63,
          67,
          64,
          64,
          64,
          64,
          63,
          66,
          62,
          60,
          61,
          61,
          60,
          61,
          62,
          60,
          59,
          59,
          59,
          58,
          59,
          58,
          59,
          60,
          60,
          60,
          60,
          61,
          63,
          63,
          62,
          63,
          62,
          47,
          61,
          59,
          58,
          58,
          57,
          57,
          57,
          60,
          60,
          64,
          63,
          64,
          61,
          58,
          61,
          63,
          63,
          64,
          63,
          63,
          65,
          64,
          68,
          65,
          68,
          68,
          66,
          64,
          63,
          66,
          63,
          62,
          63,
          55,
          61,
          62,
          62,
          64,
          64,
          62,
          63,
          63,
          64,
          63,
          65,
          64,
          64,
          64,
          61,
          61,
          62,
          64,
          64,
          66,
          66,
          68,
          69,
          70,
          58,
          48,
          46,
          46,
          39,
          41,
          34,
          35,
          35,
          39,
          41,
          40,
          33,
          33,
          32,
          22,
          28,
          15,
          19,
          29,
          27,
          29,
          29,
          32,
          30,
          28,
          31,
          30,
          30,
          29,
          29,
          31,
          28,
          30,
          28,
          28,
          30,
          30,
          29,
          31,
          32,
          33,
          35,
          34,
          32,
          32,
          32,
          33,
          33,
          29,
          31,
          33,
          31,
          40,
          41,
          31,
          31,
          30,
          29,
          31,
          34,
          33,
          32,
          31,
          31,
          31,
          28,
          28,
          27,
          28,
          29,
          28,
          29,
          25,
          25,
          28,
          27,
          26,
          25,
          31,
          38,
          39,
          26,
          27,
          18,
          20,
          21,
          22,
          31,
          30,
          27,
          29,
          26,
          31
         ],
         "hovertemplate": "Chromosome=1<br>Negative=%{a}<br>Zero=%{b}<br>Positive=%{c}<extra></extra>",
         "legendgroup": "1",
         "marker": {
          "color": "#636efa",
          "symbol": "circle"
         },
         "mode": "markers",
         "name": "1",
         "showlegend": true,
         "subplot": "ternary",
         "type": "scatterternary"
        },
        {
         "a": [
          11.0,
          9.0,
          9.0,
          11.0,
          9.0,
          9.0,
          9.0,
          8.0,
          7.0,
          9.0,
          9.0,
          9.0,
          8.0,
          9.0,
          9.0,
          8.0,
          9.0,
          9.0,
          9.0,
          11.0,
          9.0,
          9.0,
          8.0,
          7.0,
          8.0,
          10.0,
          8.0,
          7.0,
          5.0,
          7.0,
          6.0,
          7.0,
          7.0,
          7.0,
          12.0,
          7.0,
          8.0,
          8.0,
          8.0,
          5.0,
          4.0,
          6.0,
          6.0,
          6.0,
          8.0,
          2.0,
          2.0,
          4.0,
          5.0,
          5.0,
          4.0,
          5.0,
          9.0,
          7.0,
          7.0,
          8.0,
          10.0,
          8.0,
          12.0,
          9.0,
          10.0,
          9.0,
          11.0,
          12.0,
          14.0,
          11.0,
          8.0,
          12.0,
          7.0,
          10.0,
          10.0,
          8.0,
          9.0,
          8.0,
          14.0,
          14.0,
          13.0,
          13.0,
          13.0,
          14.0,
          14.0,
          13.0,
          13.0,
          13.0,
          11.0,
          12.0,
          13.0,
          15.0,
          13.0,
          13.0,
          11.0,
          11.0,
          10.0,
          12.0,
          15.0,
          17.0,
          17.0,
          17.0,
          20.0,
          19.0,
          20.0
         ],
         "b": [
          9,
          13,
          14,
          16,
          17,
          17,
          16,
          17,
          19,
          18,
          19,
          17,
          17,
          18,
          17,
          18,
          18,
          18,
          17,
          16,
          17,
          19,
          20,
          20,
          19,
          18,
          19,
          21,
          22,
          20,
          22,
          23,
          23,
          22,
          21,
          22,
          21,
          20,
          19,
          19,
          18,
          20,
          19,
          18,
          17,
          29,
          31,
          19,
          16,
          14,
          15,
          12,
          10,
          10,
          13,
          11,
          11,
          10,
          10,
          10,
          8,
          9,
          9,
          7,
          7,
          7,
          11,
          8,
          10,
          7,
          8,
          14,
          8,
          9,
          7,
          7,
          9,
          9,
          11,
          9,
          9,
          9,
          10,
          11,
          9,
          9,
          9,
          9,
          8,
          9,
          8,
          9,
          9,
          9,
          8,
          8,
          8,
          9,
          7,
          7,
          7
         ],
         "c": [
          80,
          78,
          77,
          73,
          74,
          74,
          75,
          75,
          74,
          73,
          72,
          74,
          75,
          73,
          74,
          74,
          73,
          73,
          74,
          73,
          74,
          72,
          72,
          73,
          73,
          72,
          73,
          72,
          73,
          73,
          72,
          70,
          70,
          71,
          67,
          71,
          71,
          72,
          73,
          76,
          78,
          74,
          75,
          76,
          75,
          69,
          67,
          77,
          79,
          81,
          81,
          83,
          81,
          83,
          80,
          81,
          79,
          82,
          78,
          81,
          82,
          82,
          80,
          81,
          79,
          82,
          81,
          80,
          83,
          83,
          82,
          78,
          83,
          83,
          79,
          79,
          78,
          78,
          76,
          77,
          77,
          78,
          77,
          76,
          80,
          79,
          78,
          76,
          79,
          78,
          81,
          80,
          81,
          79,
          77,
          75,
          75,
          74,
          73,
          74,
          73
         ],
         "hovertemplate": "Chromosome=2<br>Negative=%{a}<br>Zero=%{b}<br>Positive=%{c}<extra></extra>",
         "legendgroup": "2",
         "marker": {
          "color": "#EF553B",
          "symbol": "circle"
         },
         "mode": "markers",
         "name": "2",
         "showlegend": true,
         "subplot": "ternary",
         "type": "scatterternary"
        },
        {
         "a": [
          28.0,
          22.0,
          9.0,
          5.0,
          14.0,
          18.0,
          20.0,
          19.0,
          17.0,
          19.0,
          20.0,
          19.0,
          19.0,
          21.0,
          20.0,
          22.0,
          24.0,
          26.0,
          26.0,
          24.0,
          25.0,
          26.0,
          29.0,
          29.0,
          32.0,
          28.0,
          27.0,
          29.0,
          26.0,
          28.0,
          28.0,
          27.0,
          28.0,
          29.0,
          28.0,
          26.0,
          28.0,
          29.0,
          28.0,
          28.0,
          28.0,
          17.0,
          32.0,
          38.0,
          33.0,
          29.0,
          28.0,
          27.0,
          27.0,
          25.0,
          25.0,
          23.0,
          22.0,
          21.0,
          20.0,
          20.0,
          19.0,
          19.0,
          19.0,
          18.0,
          22.0,
          18.0,
          16.0,
          14.0,
          12.0,
          6.0,
          8.0,
          8.0,
          6.0,
          9.0,
          8.0,
          9.0,
          9.0,
          10.0,
          10.0,
          10.0,
          11.0,
          9.0,
          11.0,
          12.0,
          10.0,
          6.0,
          10.0,
          10.0,
          9.0,
          9.0,
          8.0,
          8.0,
          9.0,
          8.0,
          9.0,
          10.0,
          7.0,
          8.0,
          6.0,
          5.0,
          8.0,
          56.0,
          71.0,
          5.0,
          7.0,
          5.0,
          6.0,
          4.0,
          2.0,
          2.0,
          3.0,
          2.0,
          5.0,
          2.0,
          3.0,
          4.0,
          5.0,
          2.0,
          12.0,
          6.0,
          4.0,
          4.0
         ],
         "b": [
          16,
          16,
          20,
          26,
          21,
          17,
          18,
          21,
          20,
          17,
          17,
          17,
          17,
          15,
          15,
          15,
          14,
          14,
          14,
          15,
          15,
          13,
          11,
          8,
          10,
          10,
          11,
          8,
          8,
          9,
          9,
          8,
          9,
          8,
          9,
          10,
          8,
          10,
          10,
          9,
          7,
          12,
          8,
          5,
          4,
          5,
          9,
          8,
          9,
          11,
          12,
          10,
          11,
          12,
          13,
          14,
          15,
          15,
          13,
          12,
          13,
          13,
          14,
          14,
          15,
          17,
          17,
          15,
          20,
          19,
          22,
          20,
          19,
          18,
          16,
          16,
          15,
          17,
          14,
          16,
          17,
          18,
          19,
          20,
          20,
          22,
          20,
          19,
          20,
          23,
          24,
          25,
          27,
          28,
          29,
          28,
          26,
          17,
          11,
          26,
          25,
          25,
          25,
          27,
          28,
          28,
          25,
          26,
          26,
          27,
          25,
          24,
          26,
          27,
          32,
          32,
          25,
          23
         ],
         "c": [
          56,
          62,
          71,
          69,
          65,
          65,
          62,
          60,
          63,
          64,
          63,
          64,
          64,
          64,
          65,
          63,
          62,
          60,
          60,
          61,
          60,
          61,
          60,
          63,
          58,
          62,
          62,
          63,
          66,
          63,
          63,
          65,
          63,
          63,
          63,
          64,
          64,
          61,
          62,
          63,
          65,
          71,
          60,
          57,
          63,
          66,
          63,
          65,
          64,
          64,
          63,
          67,
          67,
          67,
          67,
          66,
          66,
          66,
          68,
          70,
          65,
          69,
          70,
          72,
          73,
          77,
          75,
          77,
          74,
          72,
          70,
          71,
          72,
          72,
          74,
          74,
          74,
          74,
          75,
          72,
          73,
          76,
          71,
          70,
          71,
          69,
          72,
          73,
          71,
          69,
          67,
          65,
          66,
          64,
          65,
          67,
          66,
          27,
          18,
          69,
          68,
          70,
          69,
          69,
          70,
          70,
          72,
          72,
          69,
          71,
          72,
          72,
          69,
          71,
          56,
          62,
          71,
          73
         ],
         "hovertemplate": "Chromosome=3<br>Negative=%{a}<br>Zero=%{b}<br>Positive=%{c}<extra></extra>",
         "legendgroup": "3",
         "marker": {
          "color": "#00cc96",
          "symbol": "circle"
         },
         "mode": "markers",
         "name": "3",
         "showlegend": true,
         "subplot": "ternary",
         "type": "scatterternary"
        },
        {
         "a": [
          25.0,
          27.0,
          29.0,
          29.0,
          26.0,
          31.0,
          33.0,
          26.0,
          25.0,
          27.0,
          25.0,
          29.0,
          23.0,
          24.0,
          28.0,
          25.0,
          29.0,
          28.0,
          29.0,
          29.0,
          30.0,
          30.0,
          29.0,
          27.0,
          28.0,
          28.0,
          26.0,
          24.0,
          22.0,
          20.0,
          18.0,
          18.0,
          17.0,
          16.0,
          15.0,
          12.0,
          14.0,
          14.0,
          14.0,
          12.0,
          13.0,
          14.0,
          14.0,
          14.0,
          14.0,
          15.0,
          13.0,
          12.0,
          13.0,
          12.0,
          12.0,
          12.0,
          11.0,
          11.0,
          12.0,
          13.0,
          64.0,
          12.0,
          31.0,
          21.0,
          11.0,
          11.0,
          11.0,
          11.0,
          11.0,
          12.0,
          12.0,
          12.0,
          14.0,
          14.0,
          14.0,
          15.0,
          15.0,
          16.0,
          16.0,
          18.0,
          18.0,
          18.0,
          19.0,
          18.0,
          17.0,
          17.0,
          17.0,
          17.0,
          19.0,
          18.0,
          21.0,
          22.0,
          19.0,
          18.0,
          17.0,
          15.0,
          18.0,
          19.0,
          21.0,
          20.0,
          19.0,
          19.0,
          18.0,
          19.0,
          20.0,
          19.0,
          18.0,
          15.0,
          16.0,
          17.0,
          18.0,
          20.0,
          19.0,
          18.0,
          22.0,
          23.0,
          22.0,
          22.0,
          21.0,
          21.0,
          22.0,
          21.0,
          22.0,
          22.0,
          28.0,
          27.0,
          21.0,
          19.0,
          11.0
         ],
         "b": [
          4,
          6,
          5,
          6,
          7,
          6,
          7,
          8,
          7,
          7,
          8,
          7,
          10,
          8,
          5,
          7,
          7,
          5,
          5,
          4,
          5,
          4,
          4,
          6,
          5,
          4,
          5,
          7,
          8,
          8,
          10,
          11,
          11,
          9,
          10,
          11,
          10,
          10,
          11,
          11,
          12,
          11,
          10,
          10,
          12,
          10,
          11,
          11,
          10,
          12,
          12,
          12,
          12,
          13,
          12,
          12,
          10,
          11,
          11,
          12,
          13,
          12,
          13,
          14,
          13,
          12,
          13,
          13,
          12,
          11,
          10,
          10,
          11,
          10,
          12,
          10,
          11,
          11,
          10,
          11,
          12,
          13,
          13,
          12,
          10,
          9,
          10,
          8,
          8,
          8,
          7,
          9,
          8,
          8,
          8,
          9,
          9,
          12,
          13,
          12,
          11,
          12,
          13,
          11,
          12,
          10,
          9,
          8,
          10,
          7,
          6,
          7,
          6,
          8,
          7,
          7,
          9,
          9,
          7,
          7,
          7,
          6,
          6,
          6,
          9
         ],
         "c": [
          71,
          67,
          66,
          65,
          67,
          63,
          60,
          66,
          68,
          66,
          67,
          64,
          67,
          68,
          67,
          68,
          64,
          67,
          66,
          67,
          65,
          66,
          67,
          67,
          67,
          68,
          69,
          69,
          70,
          72,
          72,
          71,
          72,
          75,
          75,
          77,
          76,
          76,
          75,
          77,
          75,
          75,
          76,
          76,
          74,
          75,
          76,
          77,
          77,
          76,
          76,
          76,
          77,
          76,
          76,
          75,
          26,
          77,
          58,
          67,
          76,
          77,
          76,
          75,
          76,
          76,
          75,
          75,
          74,
          75,
          76,
          75,
          74,
          74,
          72,
          72,
          71,
          71,
          71,
          71,
          71,
          70,
          70,
          71,
          71,
          73,
          69,
          70,
          73,
          74,
          76,
          76,
          74,
          73,
          71,
          71,
          72,
          69,
          69,
          69,
          69,
          69,
          69,
          74,
          72,
          73,
          73,
          72,
          71,
          75,
          72,
          70,
          72,
          70,
          72,
          72,
          69,
          70,
          71,
          71,
          65,
          67,
          73,
          75,
          80
         ],
         "hovertemplate": "Chromosome=4<br>Negative=%{a}<br>Zero=%{b}<br>Positive=%{c}<extra></extra>",
         "legendgroup": "4",
         "marker": {
          "color": "#ab63fa",
          "symbol": "circle"
         },
         "mode": "markers",
         "name": "4",
         "showlegend": true,
         "subplot": "ternary",
         "type": "scatterternary"
        },
        {
         "a": [
          8.0,
          8.0,
          7.0,
          9.0,
          7.0,
          12.0,
          13.0,
          8.0,
          6.0,
          6.0,
          5.0,
          5.0,
          5.0,
          6.0,
          6.0,
          5.0,
          5.0,
          5.0,
          5.0,
          5.0,
          5.0,
          5.0,
          4.0,
          4.0,
          6.0,
          4.0,
          4.0,
          4.0,
          4.0,
          4.0,
          4.0,
          3.0,
          3.0,
          3.0,
          5.0,
          4.0,
          4.0,
          4.0,
          3.0,
          3.0,
          3.0,
          19.0,
          20.0,
          22.0,
          21.0,
          23.0,
          23.0,
          26.0,
          31.0,
          33.0,
          35.0,
          36.0,
          35.0,
          36.0,
          34.0,
          34.0,
          36.0,
          36.0,
          34.0,
          33.0,
          32.0,
          34.0,
          35.0,
          32.0,
          31.0,
          30.0,
          34.0,
          33.0,
          35.0,
          35.0,
          35.0,
          34.0,
          33.0,
          31.0,
          32.0,
          29.0,
          32.0,
          31.0,
          30.0,
          33.0,
          30.0,
          28.0,
          27.0,
          28.0,
          28.0,
          29.0,
          28.0,
          28.0,
          26.0,
          25.0,
          23.0,
          23.0,
          21.0,
          18.0,
          19.0,
          19.0,
          19.0,
          18.0,
          22.0,
          18.0
         ],
         "b": [
          27,
          30,
          32,
          30,
          32,
          34,
          36,
          34,
          35,
          31,
          32,
          30,
          32,
          32,
          33,
          34,
          33,
          37,
          38,
          37,
          32,
          31,
          29,
          30,
          25,
          29,
          32,
          31,
          35,
          30,
          29,
          28,
          27,
          27,
          25,
          25,
          27,
          27,
          25,
          29,
          27,
          15,
          16,
          15,
          16,
          11,
          11,
          11,
          8,
          8,
          9,
          9,
          8,
          8,
          9,
          8,
          6,
          7,
          7,
          8,
          8,
          7,
          6,
          7,
          7,
          10,
          8,
          7,
          7,
          7,
          7,
          7,
          7,
          7,
          8,
          7,
          8,
          8,
          10,
          11,
          11,
          13,
          12,
          14,
          15,
          11,
          11,
          12,
          14,
          14,
          12,
          14,
          14,
          15,
          13,
          14,
          17,
          17,
          19,
          16
         ],
         "c": [
          65,
          62,
          61,
          61,
          61,
          54,
          51,
          58,
          59,
          63,
          63,
          65,
          63,
          62,
          61,
          61,
          62,
          58,
          57,
          58,
          63,
          64,
          67,
          66,
          69,
          67,
          64,
          65,
          61,
          66,
          67,
          69,
          70,
          70,
          70,
          71,
          69,
          69,
          72,
          68,
          70,
          66,
          64,
          63,
          63,
          66,
          66,
          63,
          61,
          59,
          56,
          55,
          57,
          56,
          57,
          58,
          58,
          57,
          59,
          59,
          60,
          59,
          59,
          61,
          62,
          60,
          58,
          60,
          58,
          58,
          58,
          59,
          60,
          62,
          60,
          64,
          60,
          61,
          60,
          56,
          59,
          59,
          61,
          58,
          57,
          60,
          61,
          60,
          60,
          61,
          65,
          63,
          65,
          67,
          68,
          67,
          64,
          65,
          59,
          66
         ],
         "hovertemplate": "Chromosome=5<br>Negative=%{a}<br>Zero=%{b}<br>Positive=%{c}<extra></extra>",
         "legendgroup": "5",
         "marker": {
          "color": "#FFA15A",
          "symbol": "circle"
         },
         "mode": "markers",
         "name": "5",
         "showlegend": true,
         "subplot": "ternary",
         "type": "scatterternary"
        }
       ],
       "layout": {
        "template": {
         "data": {
          "histogram2dcontour": [
           {
            "type": "histogram2dcontour",
            "colorbar": {
             "outlinewidth": 0,
             "ticks": ""
            },
            "colorscale": [
             [
              0.0,
              "#0d0887"
             ],
             [
              0.1111111111111111,
              "#46039f"
             ],
             [
              0.2222222222222222,
              "#7201a8"
             ],
             [
              0.3333333333333333,
              "#9c179e"
             ],
             [
              0.4444444444444444,
              "#bd3786"
             ],
             [
              0.5555555555555556,
              "#d8576b"
             ],
             [
              0.6666666666666666,
              "#ed7953"
             ],
             [
              0.7777777777777778,
              "#fb9f3a"
             ],
             [
              0.8888888888888888,
              "#fdca26"
             ],
             [
              1.0,
              "#f0f921"
             ]
            ]
           }
          ],
          "choropleth": [
           {
            "type": "choropleth",
            "colorbar": {
             "outlinewidth": 0,
             "ticks": ""
            }
           }
          ],
          "histogram2d": [
           {
            "type": "histogram2d",
            "colorbar": {
             "outlinewidth": 0,
             "ticks": ""
            },
            "colorscale": [
             [
              0.0,
              "#0d0887"
             ],
             [
              0.1111111111111111,
              "#46039f"
             ],
             [
              0.2222222222222222,
              "#7201a8"
             ],
             [
              0.3333333333333333,
              "#9c179e"
             ],
             [
              0.4444444444444444,
              "#bd3786"
             ],
             [
              0.5555555555555556,
              "#d8576b"
             ],
             [
              0.6666666666666666,
              "#ed7953"
             ],
             [
              0.7777777777777778,
              "#fb9f3a"
             ],
             [
              0.8888888888888888,
              "#fdca26"
             ],
             [
              1.0,
              "#f0f921"
             ]
            ]
           }
          ],
          "heatmap": [
           {
            "type": "heatmap",
            "colorbar": {
             "outlinewidth": 0,
             "ticks": ""
            },
            "colorscale": [
             [
              0.0,
              "#0d0887"
             ],
             [
              0.1111111111111111,
              "#46039f"
             ],
             [
              0.2222222222222222,
              "#7201a8"
             ],
             [
              0.3333333333333333,
              "#9c179e"
             ],
             [
              0.4444444444444444,
              "#bd3786"
             ],
             [
              0.5555555555555556,
              "#d8576b"
             ],
             [
              0.6666666666666666,
              "#ed7953"
             ],
             [
              0.7777777777777778,
              "#fb9f3a"
             ],
             [
              0.8888888888888888,
              "#fdca26"
             ],
             [
              1.0,
              "#f0f921"
             ]
            ]
           }
          ],
          "heatmapgl": [
           {
            "type": "heatmapgl",
            "colorbar": {
             "outlinewidth": 0,
             "ticks": ""
            },
            "colorscale": [
             [
              0.0,
              "#0d0887"
             ],
             [
              0.1111111111111111,
              "#46039f"
             ],
             [
              0.2222222222222222,
              "#7201a8"
             ],
             [
              0.3333333333333333,
              "#9c179e"
             ],
             [
              0.4444444444444444,
              "#bd3786"
             ],
             [
              0.5555555555555556,
              "#d8576b"
             ],
             [
              0.6666666666666666,
              "#ed7953"
             ],
             [
              0.7777777777777778,
              "#fb9f3a"
             ],
             [
              0.8888888888888888,
              "#fdca26"
             ],
             [
              1.0,
              "#f0f921"
             ]
            ]
           }
          ],
          "contourcarpet": [
           {
            "type": "contourcarpet",
            "colorbar": {
             "outlinewidth": 0,
             "ticks": ""
            }
           }
          ],
          "contour": [
           {
            "type": "contour",
            "colorbar": {
             "outlinewidth": 0,
             "ticks": ""
            },
            "colorscale": [
             [
              0.0,
              "#0d0887"
             ],
             [
              0.1111111111111111,
              "#46039f"
             ],
             [
              0.2222222222222222,
              "#7201a8"
             ],
             [
              0.3333333333333333,
              "#9c179e"
             ],
             [
              0.4444444444444444,
              "#bd3786"
             ],
             [
              0.5555555555555556,
              "#d8576b"
             ],
             [
              0.6666666666666666,
              "#ed7953"
             ],
             [
              0.7777777777777778,
              "#fb9f3a"
             ],
             [
              0.8888888888888888,
              "#fdca26"
             ],
             [
              1.0,
              "#f0f921"
             ]
            ]
           }
          ],
          "surface": [
           {
            "type": "surface",
            "colorbar": {
             "outlinewidth": 0,
             "ticks": ""
            },
            "colorscale": [
             [
              0.0,
              "#0d0887"
             ],
             [
              0.1111111111111111,
              "#46039f"
             ],
             [
              0.2222222222222222,
              "#7201a8"
             ],
             [
              0.3333333333333333,
              "#9c179e"
             ],
             [
              0.4444444444444444,
              "#bd3786"
             ],
             [
              0.5555555555555556,
              "#d8576b"
             ],
             [
              0.6666666666666666,
              "#ed7953"
             ],
             [
              0.7777777777777778,
              "#fb9f3a"
             ],
             [
              0.8888888888888888,
              "#fdca26"
             ],
             [
              1.0,
              "#f0f921"
             ]
            ]
           }
          ],
          "mesh3d": [
           {
            "type": "mesh3d",
            "colorbar": {
             "outlinewidth": 0,
             "ticks": ""
            }
           }
          ],
          "scatter": [
           {
            "marker": {
             "line": {
              "color": "#283442"
             }
            },
            "type": "scatter"
           }
          ],
          "parcoords": [
           {
            "type": "parcoords",
            "line": {
             "colorbar": {
              "outlinewidth": 0,
              "ticks": ""
             }
            }
           }
          ],
          "scatterpolargl": [
           {
            "type": "scatterpolargl",
            "marker": {
             "colorbar": {
              "outlinewidth": 0,
              "ticks": ""
             }
            }
           }
          ],
          "bar": [
           {
            "error_x": {
             "color": "#f2f5fa"
            },
            "error_y": {
             "color": "#f2f5fa"
            },
            "marker": {
             "line": {
              "color": "rgb(17,17,17)",
              "width": 0.5
             },
             "pattern": {
              "fillmode": "overlay",
              "size": 10,
              "solidity": 0.2
             }
            },
            "type": "bar"
           }
          ],
          "scattergeo": [
           {
            "type": "scattergeo",
            "marker": {
             "colorbar": {
              "outlinewidth": 0,
              "ticks": ""
             }
            }
           }
          ],
          "scatterpolar": [
           {
            "type": "scatterpolar",
            "marker": {
             "colorbar": {
              "outlinewidth": 0,
              "ticks": ""
             }
            }
           }
          ],
          "histogram": [
           {
            "marker": {
             "pattern": {
              "fillmode": "overlay",
              "size": 10,
              "solidity": 0.2
             }
            },
            "type": "histogram"
           }
          ],
          "scattergl": [
           {
            "marker": {
             "line": {
              "color": "#283442"
             }
            },
            "type": "scattergl"
           }
          ],
          "scatter3d": [
           {
            "type": "scatter3d",
            "line": {
             "colorbar": {
              "outlinewidth": 0,
              "ticks": ""
             }
            },
            "marker": {
             "colorbar": {
              "outlinewidth": 0,
              "ticks": ""
             }
            }
           }
          ],
          "scattermapbox": [
           {
            "type": "scattermapbox",
            "marker": {
             "colorbar": {
              "outlinewidth": 0,
              "ticks": ""
             }
            }
           }
          ],
          "scatterternary": [
           {
            "type": "scatterternary",
            "marker": {
             "colorbar": {
              "outlinewidth": 0,
              "ticks": ""
             }
            }
           }
          ],
          "scattercarpet": [
           {
            "type": "scattercarpet",
            "marker": {
             "colorbar": {
              "outlinewidth": 0,
              "ticks": ""
             }
            }
           }
          ],
          "carpet": [
           {
            "aaxis": {
             "endlinecolor": "#A2B1C6",
             "gridcolor": "#506784",
             "linecolor": "#506784",
             "minorgridcolor": "#506784",
             "startlinecolor": "#A2B1C6"
            },
            "baxis": {
             "endlinecolor": "#A2B1C6",
             "gridcolor": "#506784",
             "linecolor": "#506784",
             "minorgridcolor": "#506784",
             "startlinecolor": "#A2B1C6"
            },
            "type": "carpet"
           }
          ],
          "table": [
           {
            "cells": {
             "fill": {
              "color": "#506784"
             },
             "line": {
              "color": "rgb(17,17,17)"
             }
            },
            "header": {
             "fill": {
              "color": "#2a3f5f"
             },
             "line": {
              "color": "rgb(17,17,17)"
             }
            },
            "type": "table"
           }
          ],
          "barpolar": [
           {
            "marker": {
             "line": {
              "color": "rgb(17,17,17)",
              "width": 0.5
             },
             "pattern": {
              "fillmode": "overlay",
              "size": 10,
              "solidity": 0.2
             }
            },
            "type": "barpolar"
           }
          ],
          "pie": [
           {
            "automargin": true,
            "type": "pie"
           }
          ]
         },
         "layout": {
          "autotypenumbers": "strict",
          "colorway": [
           "#636efa",
           "#EF553B",
           "#00cc96",
           "#ab63fa",
           "#FFA15A",
           "#19d3f3",
           "#FF6692",
           "#B6E880",
           "#FF97FF",
           "#FECB52"
          ],
          "font": {
           "color": "#f2f5fa"
          },
          "hovermode": "closest",
          "hoverlabel": {
           "align": "left"
          },
          "paper_bgcolor": "rgb(17,17,17)",
          "plot_bgcolor": "rgb(17,17,17)",
          "polar": {
           "bgcolor": "rgb(17,17,17)",
           "angularaxis": {
            "gridcolor": "#506784",
            "linecolor": "#506784",
            "ticks": ""
           },
           "radialaxis": {
            "gridcolor": "#506784",
            "linecolor": "#506784",
            "ticks": ""
           }
          },
          "ternary": {
           "bgcolor": "rgb(17,17,17)",
           "aaxis": {
            "gridcolor": "#506784",
            "linecolor": "#506784",
            "ticks": ""
           },
           "baxis": {
            "gridcolor": "#506784",
            "linecolor": "#506784",
            "ticks": ""
           },
           "caxis": {
            "gridcolor": "#506784",
            "linecolor": "#506784",
            "ticks": ""
           }
          },
          "coloraxis": {
           "colorbar": {
            "outlinewidth": 0,
            "ticks": ""
           }
          },
          "colorscale": {
           "sequential": [
            [
             0.0,
             "#0d0887"
            ],
            [
             0.1111111111111111,
             "#46039f"
            ],
            [
             0.2222222222222222,
             "#7201a8"
            ],
            [
             0.3333333333333333,
             "#9c179e"
            ],
            [
             0.4444444444444444,
             "#bd3786"
            ],
            [
             0.5555555555555556,
             "#d8576b"
            ],
            [
             0.6666666666666666,
             "#ed7953"
            ],
            [
             0.7777777777777778,
             "#fb9f3a"
            ],
            [
             0.8888888888888888,
             "#fdca26"
            ],
            [
             1.0,
             "#f0f921"
            ]
           ],
           "sequentialminus": [
            [
             0.0,
             "#0d0887"
            ],
            [
             0.1111111111111111,
             "#46039f"
            ],
            [
             0.2222222222222222,
             "#7201a8"
            ],
            [
             0.3333333333333333,
             "#9c179e"
            ],
            [
             0.4444444444444444,
             "#bd3786"
            ],
            [
             0.5555555555555556,
             "#d8576b"
            ],
            [
             0.6666666666666666,
             "#ed7953"
            ],
            [
             0.7777777777777778,
             "#fb9f3a"
            ],
            [
             0.8888888888888888,
             "#fdca26"
            ],
            [
             1.0,
             "#f0f921"
            ]
           ],
           "diverging": [
            [
             0,
             "#8e0152"
            ],
            [
             0.1,
             "#c51b7d"
            ],
            [
             0.2,
             "#de77ae"
            ],
            [
             0.3,
             "#f1b6da"
            ],
            [
             0.4,
             "#fde0ef"
            ],
            [
             0.5,
             "#f7f7f7"
            ],
            [
             0.6,
             "#e6f5d0"
            ],
            [
             0.7,
             "#b8e186"
            ],
            [
             0.8,
             "#7fbc41"
            ],
            [
             0.9,
             "#4d9221"
            ],
            [
             1,
             "#276419"
            ]
           ]
          },
          "xaxis": {
           "gridcolor": "#283442",
           "linecolor": "#506784",
           "ticks": "",
           "title": {
            "standoff": 15
           },
           "zerolinecolor": "#283442",
           "automargin": true,
           "zerolinewidth": 2
          },
          "yaxis": {
           "gridcolor": "#283442",
           "linecolor": "#506784",
           "ticks": "",
           "title": {
            "standoff": 15
           },
           "zerolinecolor": "#283442",
           "automargin": true,
           "zerolinewidth": 2
          },
          "scene": {
           "xaxis": {
            "backgroundcolor": "rgb(17,17,17)",
            "gridcolor": "#506784",
            "linecolor": "#506784",
            "showbackground": true,
            "ticks": "",
            "zerolinecolor": "#C8D4E3",
            "gridwidth": 2
           },
           "yaxis": {
            "backgroundcolor": "rgb(17,17,17)",
            "gridcolor": "#506784",
            "linecolor": "#506784",
            "showbackground": true,
            "ticks": "",
            "zerolinecolor": "#C8D4E3",
            "gridwidth": 2
           },
           "zaxis": {
            "backgroundcolor": "rgb(17,17,17)",
            "gridcolor": "#506784",
            "linecolor": "#506784",
            "showbackground": true,
            "ticks": "",
            "zerolinecolor": "#C8D4E3",
            "gridwidth": 2
           }
          },
          "shapedefaults": {
           "line": {
            "color": "#f2f5fa"
           }
          },
          "annotationdefaults": {
           "arrowcolor": "#f2f5fa",
           "arrowhead": 0,
           "arrowwidth": 1
          },
          "geo": {
           "bgcolor": "rgb(17,17,17)",
           "landcolor": "rgb(17,17,17)",
           "subunitcolor": "#506784",
           "showland": true,
           "showlakes": true,
           "lakecolor": "rgb(17,17,17)"
          },
          "title": {
           "x": 0.05
          },
          "updatemenudefaults": {
           "bgcolor": "#506784",
           "borderwidth": 0
          },
          "sliderdefaults": {
           "bgcolor": "#C8D4E3",
           "borderwidth": 1,
           "bordercolor": "rgb(17,17,17)",
           "tickwidth": 0
          },
          "mapbox": {
           "style": "dark"
          }
         }
        },
        "ternary": {
         "domain": {
          "x": [
           0.0,
           1.0
          ],
          "y": [
           0.0,
           1.0
          ]
         },
         "aaxis": {
          "title": {
           "text": "Negative"
          }
         },
         "baxis": {
          "title": {
           "text": "Zero"
          }
         },
         "caxis": {
          "title": {
           "text": "Positive"
          }
         }
        },
        "legend": {
         "title": {
          "text": "Chromosome"
         },
         "tracegroupgap": 0
        },
        "margin": {
         "t": 60
        }
       },
       "config": {
        "plotlyServerURL": "https://plot.ly"
       }
      },
      "text/html": "<div>                            <div id=\"79fa13c1-598f-4c81-9c29-9627720913f8\" class=\"plotly-graph-div\" style=\"height:525px; width:100%;\"></div>            <script type=\"text/javascript\">                require([\"plotly\"], function(Plotly) {                    window.PLOTLYENV=window.PLOTLYENV || {};                                    if (document.getElementById(\"79fa13c1-598f-4c81-9c29-9627720913f8\")) {                    Plotly.newPlot(                        \"79fa13c1-598f-4c81-9c29-9627720913f8\",                        [{\"a\":[10.0,13.0,12.0,11.0,15.0,14.0,15.0,20.0,21.0,19.0,19.0,4.0,5.0,13.0,18.0,17.0,6.0,5.0,25.0,19.0,16.0,24.0,27.0,27.0,32.0,33.0,32.0,30.0,30.0,31.0,32.0,32.0,29.0,29.0,29.0,19.0,18.0,20.0,19.0,21.0,22.0,30.0,31.0,30.0,27.0,29.0,30.0,31.0,30.0,29.0,30.0,30.0,32.0,33.0,33.0,31.0,32.0,32.0,32.0,32.0,31.0,27.0,26.0,24.0,24.0,22.0,19.0,17.0,18.0,17.0,17.0,18.0,19.0,17.0,17.0,18.0,19.0,19.0,21.0,22.0,21.0,20.0,19.0,20.0,20.0,21.0,20.0,20.0,19.0,20.0,20.0,22.0,21.0,21.0,23.0,22.0,21.0,23.0,23.0,23.0,25.0,25.0,24.0,25.0,26.0,26.0,26.0,25.0,26.0,25.0,25.0,25.0,26.0,26.0,27.0,27.0,26.0,27.0,45.0,28.0,28.0,28.0,29.0,29.0,29.0,29.0,28.0,28.0,27.0,27.0,27.0,27.0,30.0,27.0,26.0,27.0,27.0,25.0,26.0,26.0,26.0,24.0,26.0,24.0,23.0,22.0,23.0,23.0,22.0,24.0,25.0,23.0,27.0,23.0,23.0,24.0,24.0,23.0,23.0,21.0,20.0,20.0,21.0,18.0,20.0,22.0,22.0,22.0,21.0,19.0,17.0,16.0,15.0,14.0,3.0,2.0,5.0,2.0,2.0,4.0,4.0,6.0,5.0,4.0,3.0,5.0,4.0,13.0,9.0,8.0,3.0,2.0,33.0,2.0,2.0,2.0,2.0,2.0,2.0,2.0,2.0,2.0,2.0,2.0,3.0,3.0,2.0,3.0,8.0,3.0,2.0,2.0,2.0,3.0,3.0,3.0,3.0,3.0,2.0,2.0,2.0,3.0,3.0,7.0,4.0,4.0,16.0,7.0,4.0,5.0,19.0,5.0,3.0,3.0,3.0,3.0,3.0,2.0,3.0,3.0,4.0,4.0,3.0,6.0,5.0,5.0,5.0,4.0,4.0,4.0,6.0,5.0,4.0,4.0,5.0,8.0,9.0,10.0,5.0,5.0,2.0,0.0,0.0,2.0,3.0,4.0,17.0,19.0,4.0,8.0,6.0],\"b\":[13,8,9,12,12,10,11,10,10,9,11,56,46,28,12,13,52,57,8,16,18,10,8,8,6,6,5,3,4,4,5,6,5,6,5,9,14,15,19,17,20,6,3,5,6,6,6,6,17,11,7,7,6,8,9,8,7,8,9,10,12,14,13,15,14,16,19,21,17,19,20,19,18,20,20,20,17,15,15,16,16,14,15,14,14,16,13,16,17,16,16,15,13,17,17,17,18,17,16,15,15,16,17,16,16,15,16,16,14,15,15,15,13,11,10,11,11,11,8,11,13,14,13,14,14,14,12,12,9,10,9,12,12,12,11,10,9,12,11,9,10,8,9,8,9,12,13,14,12,13,13,14,18,16,15,14,12,13,15,16,17,16,16,17,16,14,14,17,18,19,19,20,19,20,29,29,25,40,50,50,50,55,54,62,62,60,57,46,51,59,64,66,45,70,83,79,69,71,69,69,66,68,70,67,67,67,69,68,61,69,68,70,70,67,67,68,66,65,65,63,64,65,65,61,63,63,55,62,63,64,41,54,66,66,67,68,66,64,64,65,65,65,66,66,67,68,67,67,68,67,69,70,68,69,69,67,60,52,56,69,71,82,80,77,75,65,53,54,67,66,63],\"c\":[77,79,79,77,73,76,74,70,69,72,70,40,49,59,70,70,42,38,67,65,66,66,65,65,62,61,63,67,66,65,63,62,66,65,66,72,68,65,62,62,58,64,66,65,67,65,64,63,53,60,63,63,62,59,58,61,61,60,59,58,57,59,61,61,62,62,62,62,65,64,63,63,63,63,63,62,64,66,64,62,63,66,66,66,66,63,67,64,64,64,64,63,66,62,60,61,61,60,61,62,60,59,59,59,58,59,58,59,60,60,60,60,61,63,63,62,63,62,47,61,59,58,58,57,57,57,60,60,64,63,64,61,58,61,63,63,64,63,63,65,64,68,65,68,68,66,64,63,66,63,62,63,55,61,62,62,64,64,62,63,63,64,63,65,64,64,64,61,61,62,64,64,66,66,68,69,70,58,48,46,46,39,41,34,35,35,39,41,40,33,33,32,22,28,15,19,29,27,29,29,32,30,28,31,30,30,29,29,31,28,30,28,28,30,30,29,31,32,33,35,34,32,32,32,33,33,29,31,33,31,40,41,31,31,30,29,31,34,33,32,31,31,31,28,28,27,28,29,28,29,25,25,28,27,26,25,31,38,39,26,27,18,20,21,22,31,30,27,29,26,31],\"hovertemplate\":\"Chromosome=1<br>Negative=%{a}<br>Zero=%{b}<br>Positive=%{c}<extra></extra>\",\"legendgroup\":\"1\",\"marker\":{\"color\":\"#636efa\",\"symbol\":\"circle\"},\"mode\":\"markers\",\"name\":\"1\",\"showlegend\":true,\"subplot\":\"ternary\",\"type\":\"scatterternary\"},{\"a\":[11.0,9.0,9.0,11.0,9.0,9.0,9.0,8.0,7.0,9.0,9.0,9.0,8.0,9.0,9.0,8.0,9.0,9.0,9.0,11.0,9.0,9.0,8.0,7.0,8.0,10.0,8.0,7.0,5.0,7.0,6.0,7.0,7.0,7.0,12.0,7.0,8.0,8.0,8.0,5.0,4.0,6.0,6.0,6.0,8.0,2.0,2.0,4.0,5.0,5.0,4.0,5.0,9.0,7.0,7.0,8.0,10.0,8.0,12.0,9.0,10.0,9.0,11.0,12.0,14.0,11.0,8.0,12.0,7.0,10.0,10.0,8.0,9.0,8.0,14.0,14.0,13.0,13.0,13.0,14.0,14.0,13.0,13.0,13.0,11.0,12.0,13.0,15.0,13.0,13.0,11.0,11.0,10.0,12.0,15.0,17.0,17.0,17.0,20.0,19.0,20.0],\"b\":[9,13,14,16,17,17,16,17,19,18,19,17,17,18,17,18,18,18,17,16,17,19,20,20,19,18,19,21,22,20,22,23,23,22,21,22,21,20,19,19,18,20,19,18,17,29,31,19,16,14,15,12,10,10,13,11,11,10,10,10,8,9,9,7,7,7,11,8,10,7,8,14,8,9,7,7,9,9,11,9,9,9,10,11,9,9,9,9,8,9,8,9,9,9,8,8,8,9,7,7,7],\"c\":[80,78,77,73,74,74,75,75,74,73,72,74,75,73,74,74,73,73,74,73,74,72,72,73,73,72,73,72,73,73,72,70,70,71,67,71,71,72,73,76,78,74,75,76,75,69,67,77,79,81,81,83,81,83,80,81,79,82,78,81,82,82,80,81,79,82,81,80,83,83,82,78,83,83,79,79,78,78,76,77,77,78,77,76,80,79,78,76,79,78,81,80,81,79,77,75,75,74,73,74,73],\"hovertemplate\":\"Chromosome=2<br>Negative=%{a}<br>Zero=%{b}<br>Positive=%{c}<extra></extra>\",\"legendgroup\":\"2\",\"marker\":{\"color\":\"#EF553B\",\"symbol\":\"circle\"},\"mode\":\"markers\",\"name\":\"2\",\"showlegend\":true,\"subplot\":\"ternary\",\"type\":\"scatterternary\"},{\"a\":[28.0,22.0,9.0,5.0,14.0,18.0,20.0,19.0,17.0,19.0,20.0,19.0,19.0,21.0,20.0,22.0,24.0,26.0,26.0,24.0,25.0,26.0,29.0,29.0,32.0,28.0,27.0,29.0,26.0,28.0,28.0,27.0,28.0,29.0,28.0,26.0,28.0,29.0,28.0,28.0,28.0,17.0,32.0,38.0,33.0,29.0,28.0,27.0,27.0,25.0,25.0,23.0,22.0,21.0,20.0,20.0,19.0,19.0,19.0,18.0,22.0,18.0,16.0,14.0,12.0,6.0,8.0,8.0,6.0,9.0,8.0,9.0,9.0,10.0,10.0,10.0,11.0,9.0,11.0,12.0,10.0,6.0,10.0,10.0,9.0,9.0,8.0,8.0,9.0,8.0,9.0,10.0,7.0,8.0,6.0,5.0,8.0,56.0,71.0,5.0,7.0,5.0,6.0,4.0,2.0,2.0,3.0,2.0,5.0,2.0,3.0,4.0,5.0,2.0,12.0,6.0,4.0,4.0],\"b\":[16,16,20,26,21,17,18,21,20,17,17,17,17,15,15,15,14,14,14,15,15,13,11,8,10,10,11,8,8,9,9,8,9,8,9,10,8,10,10,9,7,12,8,5,4,5,9,8,9,11,12,10,11,12,13,14,15,15,13,12,13,13,14,14,15,17,17,15,20,19,22,20,19,18,16,16,15,17,14,16,17,18,19,20,20,22,20,19,20,23,24,25,27,28,29,28,26,17,11,26,25,25,25,27,28,28,25,26,26,27,25,24,26,27,32,32,25,23],\"c\":[56,62,71,69,65,65,62,60,63,64,63,64,64,64,65,63,62,60,60,61,60,61,60,63,58,62,62,63,66,63,63,65,63,63,63,64,64,61,62,63,65,71,60,57,63,66,63,65,64,64,63,67,67,67,67,66,66,66,68,70,65,69,70,72,73,77,75,77,74,72,70,71,72,72,74,74,74,74,75,72,73,76,71,70,71,69,72,73,71,69,67,65,66,64,65,67,66,27,18,69,68,70,69,69,70,70,72,72,69,71,72,72,69,71,56,62,71,73],\"hovertemplate\":\"Chromosome=3<br>Negative=%{a}<br>Zero=%{b}<br>Positive=%{c}<extra></extra>\",\"legendgroup\":\"3\",\"marker\":{\"color\":\"#00cc96\",\"symbol\":\"circle\"},\"mode\":\"markers\",\"name\":\"3\",\"showlegend\":true,\"subplot\":\"ternary\",\"type\":\"scatterternary\"},{\"a\":[25.0,27.0,29.0,29.0,26.0,31.0,33.0,26.0,25.0,27.0,25.0,29.0,23.0,24.0,28.0,25.0,29.0,28.0,29.0,29.0,30.0,30.0,29.0,27.0,28.0,28.0,26.0,24.0,22.0,20.0,18.0,18.0,17.0,16.0,15.0,12.0,14.0,14.0,14.0,12.0,13.0,14.0,14.0,14.0,14.0,15.0,13.0,12.0,13.0,12.0,12.0,12.0,11.0,11.0,12.0,13.0,64.0,12.0,31.0,21.0,11.0,11.0,11.0,11.0,11.0,12.0,12.0,12.0,14.0,14.0,14.0,15.0,15.0,16.0,16.0,18.0,18.0,18.0,19.0,18.0,17.0,17.0,17.0,17.0,19.0,18.0,21.0,22.0,19.0,18.0,17.0,15.0,18.0,19.0,21.0,20.0,19.0,19.0,18.0,19.0,20.0,19.0,18.0,15.0,16.0,17.0,18.0,20.0,19.0,18.0,22.0,23.0,22.0,22.0,21.0,21.0,22.0,21.0,22.0,22.0,28.0,27.0,21.0,19.0,11.0],\"b\":[4,6,5,6,7,6,7,8,7,7,8,7,10,8,5,7,7,5,5,4,5,4,4,6,5,4,5,7,8,8,10,11,11,9,10,11,10,10,11,11,12,11,10,10,12,10,11,11,10,12,12,12,12,13,12,12,10,11,11,12,13,12,13,14,13,12,13,13,12,11,10,10,11,10,12,10,11,11,10,11,12,13,13,12,10,9,10,8,8,8,7,9,8,8,8,9,9,12,13,12,11,12,13,11,12,10,9,8,10,7,6,7,6,8,7,7,9,9,7,7,7,6,6,6,9],\"c\":[71,67,66,65,67,63,60,66,68,66,67,64,67,68,67,68,64,67,66,67,65,66,67,67,67,68,69,69,70,72,72,71,72,75,75,77,76,76,75,77,75,75,76,76,74,75,76,77,77,76,76,76,77,76,76,75,26,77,58,67,76,77,76,75,76,76,75,75,74,75,76,75,74,74,72,72,71,71,71,71,71,70,70,71,71,73,69,70,73,74,76,76,74,73,71,71,72,69,69,69,69,69,69,74,72,73,73,72,71,75,72,70,72,70,72,72,69,70,71,71,65,67,73,75,80],\"hovertemplate\":\"Chromosome=4<br>Negative=%{a}<br>Zero=%{b}<br>Positive=%{c}<extra></extra>\",\"legendgroup\":\"4\",\"marker\":{\"color\":\"#ab63fa\",\"symbol\":\"circle\"},\"mode\":\"markers\",\"name\":\"4\",\"showlegend\":true,\"subplot\":\"ternary\",\"type\":\"scatterternary\"},{\"a\":[8.0,8.0,7.0,9.0,7.0,12.0,13.0,8.0,6.0,6.0,5.0,5.0,5.0,6.0,6.0,5.0,5.0,5.0,5.0,5.0,5.0,5.0,4.0,4.0,6.0,4.0,4.0,4.0,4.0,4.0,4.0,3.0,3.0,3.0,5.0,4.0,4.0,4.0,3.0,3.0,3.0,19.0,20.0,22.0,21.0,23.0,23.0,26.0,31.0,33.0,35.0,36.0,35.0,36.0,34.0,34.0,36.0,36.0,34.0,33.0,32.0,34.0,35.0,32.0,31.0,30.0,34.0,33.0,35.0,35.0,35.0,34.0,33.0,31.0,32.0,29.0,32.0,31.0,30.0,33.0,30.0,28.0,27.0,28.0,28.0,29.0,28.0,28.0,26.0,25.0,23.0,23.0,21.0,18.0,19.0,19.0,19.0,18.0,22.0,18.0],\"b\":[27,30,32,30,32,34,36,34,35,31,32,30,32,32,33,34,33,37,38,37,32,31,29,30,25,29,32,31,35,30,29,28,27,27,25,25,27,27,25,29,27,15,16,15,16,11,11,11,8,8,9,9,8,8,9,8,6,7,7,8,8,7,6,7,7,10,8,7,7,7,7,7,7,7,8,7,8,8,10,11,11,13,12,14,15,11,11,12,14,14,12,14,14,15,13,14,17,17,19,16],\"c\":[65,62,61,61,61,54,51,58,59,63,63,65,63,62,61,61,62,58,57,58,63,64,67,66,69,67,64,65,61,66,67,69,70,70,70,71,69,69,72,68,70,66,64,63,63,66,66,63,61,59,56,55,57,56,57,58,58,57,59,59,60,59,59,61,62,60,58,60,58,58,58,59,60,62,60,64,60,61,60,56,59,59,61,58,57,60,61,60,60,61,65,63,65,67,68,67,64,65,59,66],\"hovertemplate\":\"Chromosome=5<br>Negative=%{a}<br>Zero=%{b}<br>Positive=%{c}<extra></extra>\",\"legendgroup\":\"5\",\"marker\":{\"color\":\"#FFA15A\",\"symbol\":\"circle\"},\"mode\":\"markers\",\"name\":\"5\",\"showlegend\":true,\"subplot\":\"ternary\",\"type\":\"scatterternary\"}],                        {\"template\":{\"data\":{\"histogram2dcontour\":[{\"type\":\"histogram2dcontour\",\"colorbar\":{\"outlinewidth\":0,\"ticks\":\"\"},\"colorscale\":[[0.0,\"#0d0887\"],[0.1111111111111111,\"#46039f\"],[0.2222222222222222,\"#7201a8\"],[0.3333333333333333,\"#9c179e\"],[0.4444444444444444,\"#bd3786\"],[0.5555555555555556,\"#d8576b\"],[0.6666666666666666,\"#ed7953\"],[0.7777777777777778,\"#fb9f3a\"],[0.8888888888888888,\"#fdca26\"],[1.0,\"#f0f921\"]]}],\"choropleth\":[{\"type\":\"choropleth\",\"colorbar\":{\"outlinewidth\":0,\"ticks\":\"\"}}],\"histogram2d\":[{\"type\":\"histogram2d\",\"colorbar\":{\"outlinewidth\":0,\"ticks\":\"\"},\"colorscale\":[[0.0,\"#0d0887\"],[0.1111111111111111,\"#46039f\"],[0.2222222222222222,\"#7201a8\"],[0.3333333333333333,\"#9c179e\"],[0.4444444444444444,\"#bd3786\"],[0.5555555555555556,\"#d8576b\"],[0.6666666666666666,\"#ed7953\"],[0.7777777777777778,\"#fb9f3a\"],[0.8888888888888888,\"#fdca26\"],[1.0,\"#f0f921\"]]}],\"heatmap\":[{\"type\":\"heatmap\",\"colorbar\":{\"outlinewidth\":0,\"ticks\":\"\"},\"colorscale\":[[0.0,\"#0d0887\"],[0.1111111111111111,\"#46039f\"],[0.2222222222222222,\"#7201a8\"],[0.3333333333333333,\"#9c179e\"],[0.4444444444444444,\"#bd3786\"],[0.5555555555555556,\"#d8576b\"],[0.6666666666666666,\"#ed7953\"],[0.7777777777777778,\"#fb9f3a\"],[0.8888888888888888,\"#fdca26\"],[1.0,\"#f0f921\"]]}],\"heatmapgl\":[{\"type\":\"heatmapgl\",\"colorbar\":{\"outlinewidth\":0,\"ticks\":\"\"},\"colorscale\":[[0.0,\"#0d0887\"],[0.1111111111111111,\"#46039f\"],[0.2222222222222222,\"#7201a8\"],[0.3333333333333333,\"#9c179e\"],[0.4444444444444444,\"#bd3786\"],[0.5555555555555556,\"#d8576b\"],[0.6666666666666666,\"#ed7953\"],[0.7777777777777778,\"#fb9f3a\"],[0.8888888888888888,\"#fdca26\"],[1.0,\"#f0f921\"]]}],\"contourcarpet\":[{\"type\":\"contourcarpet\",\"colorbar\":{\"outlinewidth\":0,\"ticks\":\"\"}}],\"contour\":[{\"type\":\"contour\",\"colorbar\":{\"outlinewidth\":0,\"ticks\":\"\"},\"colorscale\":[[0.0,\"#0d0887\"],[0.1111111111111111,\"#46039f\"],[0.2222222222222222,\"#7201a8\"],[0.3333333333333333,\"#9c179e\"],[0.4444444444444444,\"#bd3786\"],[0.5555555555555556,\"#d8576b\"],[0.6666666666666666,\"#ed7953\"],[0.7777777777777778,\"#fb9f3a\"],[0.8888888888888888,\"#fdca26\"],[1.0,\"#f0f921\"]]}],\"surface\":[{\"type\":\"surface\",\"colorbar\":{\"outlinewidth\":0,\"ticks\":\"\"},\"colorscale\":[[0.0,\"#0d0887\"],[0.1111111111111111,\"#46039f\"],[0.2222222222222222,\"#7201a8\"],[0.3333333333333333,\"#9c179e\"],[0.4444444444444444,\"#bd3786\"],[0.5555555555555556,\"#d8576b\"],[0.6666666666666666,\"#ed7953\"],[0.7777777777777778,\"#fb9f3a\"],[0.8888888888888888,\"#fdca26\"],[1.0,\"#f0f921\"]]}],\"mesh3d\":[{\"type\":\"mesh3d\",\"colorbar\":{\"outlinewidth\":0,\"ticks\":\"\"}}],\"scatter\":[{\"marker\":{\"line\":{\"color\":\"#283442\"}},\"type\":\"scatter\"}],\"parcoords\":[{\"type\":\"parcoords\",\"line\":{\"colorbar\":{\"outlinewidth\":0,\"ticks\":\"\"}}}],\"scatterpolargl\":[{\"type\":\"scatterpolargl\",\"marker\":{\"colorbar\":{\"outlinewidth\":0,\"ticks\":\"\"}}}],\"bar\":[{\"error_x\":{\"color\":\"#f2f5fa\"},\"error_y\":{\"color\":\"#f2f5fa\"},\"marker\":{\"line\":{\"color\":\"rgb(17,17,17)\",\"width\":0.5},\"pattern\":{\"fillmode\":\"overlay\",\"size\":10,\"solidity\":0.2}},\"type\":\"bar\"}],\"scattergeo\":[{\"type\":\"scattergeo\",\"marker\":{\"colorbar\":{\"outlinewidth\":0,\"ticks\":\"\"}}}],\"scatterpolar\":[{\"type\":\"scatterpolar\",\"marker\":{\"colorbar\":{\"outlinewidth\":0,\"ticks\":\"\"}}}],\"histogram\":[{\"marker\":{\"pattern\":{\"fillmode\":\"overlay\",\"size\":10,\"solidity\":0.2}},\"type\":\"histogram\"}],\"scattergl\":[{\"marker\":{\"line\":{\"color\":\"#283442\"}},\"type\":\"scattergl\"}],\"scatter3d\":[{\"type\":\"scatter3d\",\"line\":{\"colorbar\":{\"outlinewidth\":0,\"ticks\":\"\"}},\"marker\":{\"colorbar\":{\"outlinewidth\":0,\"ticks\":\"\"}}}],\"scattermapbox\":[{\"type\":\"scattermapbox\",\"marker\":{\"colorbar\":{\"outlinewidth\":0,\"ticks\":\"\"}}}],\"scatterternary\":[{\"type\":\"scatterternary\",\"marker\":{\"colorbar\":{\"outlinewidth\":0,\"ticks\":\"\"}}}],\"scattercarpet\":[{\"type\":\"scattercarpet\",\"marker\":{\"colorbar\":{\"outlinewidth\":0,\"ticks\":\"\"}}}],\"carpet\":[{\"aaxis\":{\"endlinecolor\":\"#A2B1C6\",\"gridcolor\":\"#506784\",\"linecolor\":\"#506784\",\"minorgridcolor\":\"#506784\",\"startlinecolor\":\"#A2B1C6\"},\"baxis\":{\"endlinecolor\":\"#A2B1C6\",\"gridcolor\":\"#506784\",\"linecolor\":\"#506784\",\"minorgridcolor\":\"#506784\",\"startlinecolor\":\"#A2B1C6\"},\"type\":\"carpet\"}],\"table\":[{\"cells\":{\"fill\":{\"color\":\"#506784\"},\"line\":{\"color\":\"rgb(17,17,17)\"}},\"header\":{\"fill\":{\"color\":\"#2a3f5f\"},\"line\":{\"color\":\"rgb(17,17,17)\"}},\"type\":\"table\"}],\"barpolar\":[{\"marker\":{\"line\":{\"color\":\"rgb(17,17,17)\",\"width\":0.5},\"pattern\":{\"fillmode\":\"overlay\",\"size\":10,\"solidity\":0.2}},\"type\":\"barpolar\"}],\"pie\":[{\"automargin\":true,\"type\":\"pie\"}]},\"layout\":{\"autotypenumbers\":\"strict\",\"colorway\":[\"#636efa\",\"#EF553B\",\"#00cc96\",\"#ab63fa\",\"#FFA15A\",\"#19d3f3\",\"#FF6692\",\"#B6E880\",\"#FF97FF\",\"#FECB52\"],\"font\":{\"color\":\"#f2f5fa\"},\"hovermode\":\"closest\",\"hoverlabel\":{\"align\":\"left\"},\"paper_bgcolor\":\"rgb(17,17,17)\",\"plot_bgcolor\":\"rgb(17,17,17)\",\"polar\":{\"bgcolor\":\"rgb(17,17,17)\",\"angularaxis\":{\"gridcolor\":\"#506784\",\"linecolor\":\"#506784\",\"ticks\":\"\"},\"radialaxis\":{\"gridcolor\":\"#506784\",\"linecolor\":\"#506784\",\"ticks\":\"\"}},\"ternary\":{\"bgcolor\":\"rgb(17,17,17)\",\"aaxis\":{\"gridcolor\":\"#506784\",\"linecolor\":\"#506784\",\"ticks\":\"\"},\"baxis\":{\"gridcolor\":\"#506784\",\"linecolor\":\"#506784\",\"ticks\":\"\"},\"caxis\":{\"gridcolor\":\"#506784\",\"linecolor\":\"#506784\",\"ticks\":\"\"}},\"coloraxis\":{\"colorbar\":{\"outlinewidth\":0,\"ticks\":\"\"}},\"colorscale\":{\"sequential\":[[0.0,\"#0d0887\"],[0.1111111111111111,\"#46039f\"],[0.2222222222222222,\"#7201a8\"],[0.3333333333333333,\"#9c179e\"],[0.4444444444444444,\"#bd3786\"],[0.5555555555555556,\"#d8576b\"],[0.6666666666666666,\"#ed7953\"],[0.7777777777777778,\"#fb9f3a\"],[0.8888888888888888,\"#fdca26\"],[1.0,\"#f0f921\"]],\"sequentialminus\":[[0.0,\"#0d0887\"],[0.1111111111111111,\"#46039f\"],[0.2222222222222222,\"#7201a8\"],[0.3333333333333333,\"#9c179e\"],[0.4444444444444444,\"#bd3786\"],[0.5555555555555556,\"#d8576b\"],[0.6666666666666666,\"#ed7953\"],[0.7777777777777778,\"#fb9f3a\"],[0.8888888888888888,\"#fdca26\"],[1.0,\"#f0f921\"]],\"diverging\":[[0,\"#8e0152\"],[0.1,\"#c51b7d\"],[0.2,\"#de77ae\"],[0.3,\"#f1b6da\"],[0.4,\"#fde0ef\"],[0.5,\"#f7f7f7\"],[0.6,\"#e6f5d0\"],[0.7,\"#b8e186\"],[0.8,\"#7fbc41\"],[0.9,\"#4d9221\"],[1,\"#276419\"]]},\"xaxis\":{\"gridcolor\":\"#283442\",\"linecolor\":\"#506784\",\"ticks\":\"\",\"title\":{\"standoff\":15},\"zerolinecolor\":\"#283442\",\"automargin\":true,\"zerolinewidth\":2},\"yaxis\":{\"gridcolor\":\"#283442\",\"linecolor\":\"#506784\",\"ticks\":\"\",\"title\":{\"standoff\":15},\"zerolinecolor\":\"#283442\",\"automargin\":true,\"zerolinewidth\":2},\"scene\":{\"xaxis\":{\"backgroundcolor\":\"rgb(17,17,17)\",\"gridcolor\":\"#506784\",\"linecolor\":\"#506784\",\"showbackground\":true,\"ticks\":\"\",\"zerolinecolor\":\"#C8D4E3\",\"gridwidth\":2},\"yaxis\":{\"backgroundcolor\":\"rgb(17,17,17)\",\"gridcolor\":\"#506784\",\"linecolor\":\"#506784\",\"showbackground\":true,\"ticks\":\"\",\"zerolinecolor\":\"#C8D4E3\",\"gridwidth\":2},\"zaxis\":{\"backgroundcolor\":\"rgb(17,17,17)\",\"gridcolor\":\"#506784\",\"linecolor\":\"#506784\",\"showbackground\":true,\"ticks\":\"\",\"zerolinecolor\":\"#C8D4E3\",\"gridwidth\":2}},\"shapedefaults\":{\"line\":{\"color\":\"#f2f5fa\"}},\"annotationdefaults\":{\"arrowcolor\":\"#f2f5fa\",\"arrowhead\":0,\"arrowwidth\":1},\"geo\":{\"bgcolor\":\"rgb(17,17,17)\",\"landcolor\":\"rgb(17,17,17)\",\"subunitcolor\":\"#506784\",\"showland\":true,\"showlakes\":true,\"lakecolor\":\"rgb(17,17,17)\"},\"title\":{\"x\":0.05},\"updatemenudefaults\":{\"bgcolor\":\"#506784\",\"borderwidth\":0},\"sliderdefaults\":{\"bgcolor\":\"#C8D4E3\",\"borderwidth\":1,\"bordercolor\":\"rgb(17,17,17)\",\"tickwidth\":0},\"mapbox\":{\"style\":\"dark\"}}},\"ternary\":{\"domain\":{\"x\":[0.0,1.0],\"y\":[0.0,1.0]},\"aaxis\":{\"title\":{\"text\":\"Negative\"}},\"baxis\":{\"title\":{\"text\":\"Zero\"}},\"caxis\":{\"title\":{\"text\":\"Positive\"}}},\"legend\":{\"title\":{\"text\":\"Chromosome\"},\"tracegroupgap\":0},\"margin\":{\"t\":60}},                        {\"responsive\": true}                    ).then(function(){\n                            \nvar gd = document.getElementById('79fa13c1-598f-4c81-9c29-9627720913f8');\nvar x = new MutationObserver(function (mutations, observer) {{\n        var display = window.getComputedStyle(gd).display;\n        if (!display || display === 'none') {{\n            console.log([gd, 'removed!']);\n            Plotly.purge(gd);\n            observer.disconnect();\n        }}\n}});\n\n// Listen for the removal of the full notebook cells\nvar notebookContainer = gd.closest('#notebook-container');\nif (notebookContainer) {{\n    x.observe(notebookContainer, {childList: true});\n}}\n\n// Listen for the clearing of the current output cell\nvar outputEl = gd.closest('.output');\nif (outputEl) {{\n    x.observe(outputEl, {childList: true});\n}}\n\n                        })                };                });            </script>        </div>"
     },
     "metadata": {},
     "output_type": "display_data"
    }
   ],
   "source": [
    "plot = px.scatter_ternary(df[0:715], a = 'Negative', \n",
    "                          b = 'Zero',\n",
    "                          c='Positive',\n",
    "                          color = 'Chromosome')\n",
    "plot.show()"
   ]
  },
  {
   "cell_type": "code",
   "execution_count": 65,
   "id": "entertaining-growth",
   "metadata": {
    "pycharm": {
     "name": "#%%\n"
    }
   },
   "outputs": [
    {
     "data": {
      "application/vnd.plotly.v1+json": {
       "data": [
        {
         "a": [
          27.0,
          24.0,
          20.0,
          18.0,
          19.0,
          19.0,
          16.0,
          14.0,
          15.0,
          17.0,
          23.0,
          14.0,
          14.0,
          20.0,
          20.0,
          27.0,
          15.0,
          13.0,
          13.0,
          15.0,
          14.0,
          14.0,
          10.0,
          10.0,
          10.0,
          11.0,
          10.0,
          8.0,
          8.0,
          8.0,
          8.0,
          9.0,
          8.0,
          9.0,
          9.0,
          9.0,
          11.0,
          10.0,
          15.0,
          10.0,
          11.0,
          9.0,
          9.0,
          8.0,
          9.0,
          79.0,
          73.0,
          28.0,
          21.0,
          24.0,
          13.0,
          11.0,
          10.0,
          8.0,
          8.0,
          8.0,
          10.0,
          9.0,
          10.0,
          11.0,
          10.0,
          12.0,
          11.0,
          11.0,
          11.0,
          11.0,
          11.0,
          10.0,
          11.0,
          12.0,
          11.0,
          10.0,
          10.0,
          13.0,
          17.0,
          20.0,
          23.0,
          23.0,
          24.0,
          23.0,
          24.0,
          25.0,
          24.0,
          26.0,
          28.0,
          28.0,
          27.0,
          29.0,
          29.0,
          31.0,
          32.0,
          34.0,
          33.0,
          36.0,
          35.0,
          33.0,
          35.0,
          37.0,
          36.0,
          38.0,
          39.0,
          39.0,
          37.0,
          35.0,
          36.0,
          33.0,
          35.0,
          34.0,
          35.0,
          34.0,
          33.0,
          36.0,
          35.0,
          34.0,
          35.0,
          35.0,
          35.0,
          34.0,
          34.0,
          34.0,
          35.0,
          36.0,
          35.0,
          36.0,
          34.0,
          34.0,
          33.0,
          32.0,
          32.0,
          34.0,
          34.0,
          34.0,
          33.0,
          32.0,
          31.0,
          33.0,
          32.0,
          33.0,
          33.0,
          33.0,
          34.0,
          36.0,
          36.0,
          34.0,
          35.0,
          35.0,
          35.0,
          35.0,
          34.0,
          35.0,
          36.0,
          35.0,
          37.0,
          36.0,
          38.0,
          38.0,
          38.0,
          40.0,
          38.0,
          38.0,
          35.0,
          34.0,
          35.0,
          38.0,
          36.0,
          37.0,
          39.0,
          43.0,
          40.0,
          39.0,
          39.0,
          36.0,
          39.0,
          39.0,
          41.0,
          38.0,
          42.0,
          41.0,
          41.0,
          41.0,
          40.0
         ],
         "b": [
          7,
          10,
          11,
          13,
          28,
          27,
          28,
          26,
          22,
          21,
          17,
          25,
          22,
          21,
          21,
          12,
          26,
          28,
          30,
          29,
          28,
          28,
          30,
          30,
          32,
          33,
          31,
          31,
          33,
          32,
          32,
          33,
          31,
          30,
          28,
          26,
          25,
          35,
          37,
          31,
          26,
          24,
          23,
          22,
          22,
          11,
          11,
          19,
          22,
          23,
          24,
          24,
          22,
          24,
          23,
          24,
          22,
          22,
          22,
          19,
          21,
          21,
          23,
          24,
          22,
          23,
          24,
          24,
          23,
          25,
          26,
          24,
          23,
          25,
          24,
          24,
          24,
          24,
          23,
          24,
          22,
          23,
          23,
          22,
          21,
          19,
          20,
          20,
          21,
          19,
          18,
          16,
          17,
          16,
          17,
          17,
          16,
          16,
          17,
          15,
          14,
          13,
          14,
          15,
          12,
          15,
          12,
          15,
          14,
          15,
          15,
          16,
          16,
          17,
          16,
          16,
          17,
          17,
          16,
          18,
          18,
          17,
          17,
          15,
          16,
          16,
          17,
          18,
          17,
          16,
          16,
          17,
          16,
          16,
          17,
          17,
          17,
          17,
          15,
          17,
          17,
          16,
          16,
          15,
          15,
          16,
          16,
          16,
          17,
          17,
          14,
          14,
          13,
          12,
          12,
          11,
          13,
          11,
          10,
          11,
          14,
          15,
          12,
          12,
          10,
          12,
          11,
          9,
          9,
          10,
          8,
          11,
          8,
          11,
          9,
          13,
          10,
          11,
          10,
          9,
          10
         ],
         "c": [
          66,
          66,
          69,
          69,
          53,
          54,
          56,
          60,
          63,
          62,
          60,
          61,
          64,
          59,
          59,
          61,
          59,
          59,
          57,
          56,
          58,
          58,
          60,
          60,
          58,
          56,
          59,
          61,
          59,
          60,
          60,
          58,
          61,
          61,
          63,
          65,
          64,
          55,
          48,
          59,
          63,
          67,
          68,
          70,
          69,
          10,
          16,
          53,
          57,
          53,
          63,
          65,
          68,
          68,
          69,
          68,
          68,
          69,
          68,
          70,
          69,
          67,
          66,
          65,
          67,
          66,
          65,
          66,
          66,
          63,
          63,
          66,
          67,
          62,
          59,
          56,
          53,
          53,
          53,
          53,
          54,
          52,
          53,
          52,
          51,
          53,
          53,
          51,
          50,
          50,
          50,
          50,
          50,
          48,
          48,
          50,
          49,
          47,
          47,
          47,
          47,
          48,
          49,
          50,
          52,
          52,
          53,
          51,
          51,
          51,
          52,
          48,
          49,
          49,
          49,
          49,
          48,
          49,
          50,
          48,
          47,
          47,
          48,
          49,
          50,
          50,
          50,
          50,
          51,
          50,
          50,
          49,
          51,
          52,
          52,
          50,
          51,
          50,
          52,
          50,
          49,
          48,
          48,
          51,
          50,
          49,
          49,
          49,
          49,
          48,
          50,
          51,
          50,
          52,
          50,
          51,
          49,
          49,
          52,
          51,
          51,
          51,
          53,
          50,
          54,
          51,
          50,
          48,
          51,
          51,
          53,
          53,
          53,
          50,
          50,
          49,
          48,
          48,
          49,
          50,
          50
         ],
         "hovertemplate": "Chromosome=6<br>Negative=%{a}<br>Zero=%{b}<br>Positive=%{c}<extra></extra>",
         "legendgroup": "6",
         "marker": {
          "color": "#636efa",
          "symbol": "circle"
         },
         "mode": "markers",
         "name": "6",
         "showlegend": true,
         "subplot": "ternary",
         "type": "scatterternary"
        },
        {
         "a": [
          13.0,
          10.0,
          7.0,
          9.0,
          9.0,
          7.0,
          9.0,
          9.0,
          7.0,
          8.0,
          8.0,
          9.0,
          8.0,
          10.0,
          7.0,
          9.0,
          10.0,
          8.0,
          7.0,
          7.0,
          6.0,
          7.0,
          6.0,
          7.0,
          7.0,
          8.0,
          7.0,
          7.0,
          7.0,
          8.0,
          7.0,
          8.0,
          9.0,
          7.0,
          7.0,
          6.0,
          5.0,
          6.0,
          6.0,
          5.0,
          6.0,
          6.0,
          6.0,
          6.0,
          4.0,
          5.0,
          4.0,
          3.0,
          2.0,
          3.0,
          3.0,
          3.0,
          4.0,
          5.0,
          5.0,
          4.0,
          4.0,
          3.0,
          3.0,
          2.0,
          2.0,
          2.0,
          4.0,
          6.0,
          3.0,
          4.0,
          5.0,
          7.0,
          7.0,
          7.0,
          8.0,
          7.0,
          7.0,
          5.0,
          3.0,
          7.0,
          6.0,
          6.0,
          7.0,
          7.0,
          28.0,
          7.0,
          11.0,
          13.0,
          9.0,
          7.0,
          10.0,
          57.0,
          8.0,
          9.0,
          8.0,
          7.0,
          7.0,
          6.0,
          7.0,
          9.0,
          8.0,
          7.0,
          6.0,
          7.0,
          9.0,
          11.0
         ],
         "b": [
          22,
          27,
          27,
          27,
          28,
          28,
          28,
          28,
          29,
          27,
          28,
          29,
          30,
          28,
          29,
          30,
          30,
          31,
          32,
          31,
          29,
          28,
          31,
          27,
          25,
          25,
          35,
          39,
          30,
          29,
          23,
          25,
          24,
          26,
          22,
          23,
          23,
          24,
          24,
          27,
          27,
          25,
          26,
          26,
          28,
          27,
          27,
          27,
          30,
          27,
          26,
          26,
          25,
          26,
          24,
          27,
          23,
          23,
          24,
          24,
          22,
          24,
          23,
          23,
          25,
          23,
          24,
          23,
          23,
          22,
          22,
          21,
          22,
          25,
          29,
          24,
          25,
          25,
          24,
          26,
          20,
          27,
          31,
          34,
          31,
          30,
          31,
          15,
          30,
          41,
          29,
          28,
          27,
          31,
          27,
          23,
          23,
          27,
          29,
          28,
          28,
          25
         ],
         "c": [
          65,
          63,
          66,
          64,
          63,
          65,
          63,
          63,
          64,
          65,
          64,
          62,
          62,
          62,
          64,
          61,
          60,
          61,
          61,
          62,
          65,
          65,
          63,
          66,
          68,
          67,
          58,
          54,
          63,
          63,
          70,
          67,
          67,
          67,
          71,
          71,
          72,
          70,
          70,
          68,
          67,
          69,
          68,
          68,
          68,
          68,
          69,
          70,
          68,
          70,
          71,
          71,
          71,
          69,
          71,
          69,
          73,
          74,
          73,
          74,
          76,
          74,
          73,
          71,
          72,
          73,
          71,
          70,
          70,
          71,
          70,
          72,
          71,
          70,
          68,
          69,
          69,
          69,
          69,
          67,
          52,
          66,
          58,
          53,
          60,
          63,
          59,
          28,
          62,
          50,
          63,
          65,
          66,
          63,
          66,
          68,
          69,
          66,
          65,
          65,
          63,
          64
         ],
         "hovertemplate": "Chromosome=7<br>Negative=%{a}<br>Zero=%{b}<br>Positive=%{c}<extra></extra>",
         "legendgroup": "7",
         "marker": {
          "color": "#EF553B",
          "symbol": "circle"
         },
         "mode": "markers",
         "name": "7",
         "showlegend": true,
         "subplot": "ternary",
         "type": "scatterternary"
        },
        {
         "a": [
          47.0,
          59.0,
          63.0,
          63.0,
          62.0,
          63.0,
          64.0,
          65.0,
          64.0,
          64.0,
          64.0,
          47.0,
          40.0,
          45.0,
          65.0,
          60.0,
          59.0,
          66.0,
          66.0,
          65.0,
          66.0,
          64.0,
          65.0,
          65.0,
          65.0,
          66.0,
          67.0,
          65.0,
          64.0,
          64.0,
          62.0,
          60.0,
          63.0,
          61.0,
          60.0,
          58.0,
          56.0,
          57.0,
          59.0,
          58.0,
          57.0,
          57.0,
          58.0,
          58.0,
          58.0,
          58.0,
          55.0,
          56.0,
          56.0,
          53.0,
          53.0,
          55.0,
          57.0,
          55.0,
          52.0,
          48.0,
          46.0,
          45.0,
          44.0,
          43.0,
          43.0,
          42.0,
          40.0,
          41.0,
          40.0,
          39.0,
          37.0,
          35.0,
          32.0,
          32.0,
          31.0,
          31.0,
          31.0,
          31.0,
          31.0,
          32.0,
          32.0,
          32.0,
          31.0,
          33.0,
          32.0,
          25.0,
          27.0,
          32.0,
          32.0,
          34.0,
          35.0,
          34.0,
          32.0,
          31.0,
          30.0,
          32.0,
          31.0,
          30.0,
          30.0,
          31.0,
          29.0,
          28.0,
          27.0,
          23.0,
          23.0,
          23.0,
          18.0,
          10.0,
          9.0,
          8.0,
          7.0,
          6.0,
          5.0,
          4.0,
          3.0,
          3.0,
          3.0,
          3.0,
          3.0,
          3.0,
          3.0,
          3.0,
          2.0,
          2.0,
          2.0,
          2.0,
          2.0,
          2.0,
          2.0,
          2.0,
          2.0,
          2.0,
          2.0,
          2.0,
          3.0,
          3.0,
          2.0,
          2.0,
          2.0,
          3.0,
          2.0,
          3.0,
          2.0,
          2.0,
          2.0,
          2.0,
          2.0,
          2.0,
          2.0,
          2.0,
          3.0,
          2.0,
          2.0,
          2.0,
          2.0,
          2.0,
          2.0,
          2.0,
          2.0,
          2.0,
          2.0,
          2.0,
          2.0,
          2.0,
          2.0,
          2.0,
          2.0,
          2.0,
          2.0,
          2.0,
          2.0,
          2.0,
          2.0,
          3.0,
          2.0,
          2.0,
          3.0,
          3.0,
          3.0,
          3.0,
          3.0,
          3.0,
          2.0,
          2.0,
          2.0,
          4.0,
          4.0,
          4.0,
          4.0,
          6.0,
          5.0,
          6.0,
          6.0,
          5.0,
          6.0,
          5.0,
          5.0
         ],
         "b": [
          4,
          4,
          4,
          5,
          4,
          3,
          3,
          4,
          3,
          4,
          5,
          9,
          11,
          8,
          5,
          5,
          5,
          4,
          3,
          4,
          3,
          5,
          4,
          4,
          3,
          3,
          2,
          1,
          2,
          2,
          3,
          4,
          4,
          6,
          7,
          6,
          8,
          8,
          7,
          7,
          5,
          5,
          4,
          6,
          5,
          6,
          7,
          6,
          6,
          7,
          8,
          7,
          7,
          10,
          11,
          10,
          10,
          11,
          12,
          13,
          15,
          16,
          18,
          18,
          21,
          19,
          18,
          21,
          23,
          22,
          23,
          21,
          23,
          20,
          23,
          21,
          21,
          23,
          24,
          22,
          24,
          40,
          41,
          22,
          21,
          21,
          24,
          24,
          26,
          27,
          25,
          25,
          26,
          29,
          28,
          27,
          28,
          28,
          28,
          29,
          29,
          31,
          33,
          42,
          41,
          40,
          42,
          40,
          40,
          42,
          41,
          40,
          42,
          45,
          46,
          46,
          47,
          48,
          51,
          52,
          51,
          51,
          53,
          53,
          53,
          55,
          55,
          56,
          55,
          57,
          54,
          56,
          57,
          57,
          56,
          57,
          58,
          57,
          58,
          59,
          59,
          59,
          60,
          62,
          59,
          60,
          60,
          60,
          61,
          60,
          60,
          59,
          56,
          58,
          57,
          57,
          58,
          57,
          56,
          57,
          57,
          56,
          56,
          55,
          55,
          57,
          58,
          59,
          59,
          58,
          60,
          59,
          58,
          58,
          56,
          56,
          58,
          57,
          58,
          56,
          58,
          57,
          57,
          56,
          55,
          52,
          54,
          53,
          54,
          55,
          55,
          56,
          56
         ],
         "c": [
          49,
          37,
          33,
          32,
          34,
          34,
          33,
          31,
          33,
          32,
          31,
          44,
          49,
          47,
          30,
          35,
          36,
          30,
          31,
          31,
          31,
          31,
          31,
          31,
          32,
          31,
          31,
          34,
          34,
          34,
          35,
          36,
          33,
          33,
          33,
          36,
          36,
          35,
          34,
          35,
          38,
          38,
          38,
          36,
          37,
          36,
          38,
          38,
          38,
          40,
          39,
          38,
          36,
          35,
          37,
          42,
          44,
          44,
          44,
          44,
          42,
          42,
          42,
          41,
          39,
          42,
          45,
          44,
          45,
          46,
          46,
          48,
          46,
          49,
          46,
          47,
          47,
          45,
          45,
          45,
          44,
          35,
          32,
          46,
          47,
          45,
          41,
          42,
          42,
          42,
          45,
          43,
          43,
          41,
          42,
          42,
          43,
          44,
          45,
          48,
          48,
          46,
          49,
          48,
          50,
          52,
          51,
          54,
          55,
          54,
          56,
          57,
          55,
          52,
          51,
          51,
          50,
          49,
          47,
          46,
          47,
          47,
          45,
          45,
          45,
          43,
          43,
          42,
          43,
          41,
          43,
          41,
          41,
          41,
          42,
          40,
          40,
          40,
          40,
          39,
          39,
          39,
          38,
          36,
          39,
          38,
          37,
          38,
          37,
          38,
          38,
          39,
          42,
          40,
          41,
          41,
          40,
          41,
          42,
          41,
          41,
          42,
          42,
          43,
          43,
          41,
          40,
          39,
          39,
          39,
          38,
          39,
          39,
          39,
          41,
          41,
          39,
          40,
          40,
          42,
          40,
          39,
          39,
          40,
          41,
          42,
          41,
          41,
          40,
          40,
          39,
          39,
          39
         ],
         "hovertemplate": "Chromosome=8<br>Negative=%{a}<br>Zero=%{b}<br>Positive=%{c}<extra></extra>",
         "legendgroup": "8",
         "marker": {
          "color": "#00cc96",
          "symbol": "circle"
         },
         "mode": "markers",
         "name": "8",
         "showlegend": true,
         "subplot": "ternary",
         "type": "scatterternary"
        },
        {
         "a": [
          37.0,
          36.0,
          35.0,
          24.0,
          33.0,
          33.0,
          32.0,
          32.0,
          32.0,
          25.0,
          34.0,
          35.0,
          34.0,
          37.0,
          36.0,
          36.0,
          36.0,
          33.0,
          34.0,
          32.0,
          33.0,
          35.0,
          35.0,
          37.0,
          39.0,
          37.0,
          39.0,
          41.0,
          39.0,
          38.0,
          36.0,
          37.0,
          37.0,
          37.0,
          35.0,
          34.0,
          34.0,
          34.0,
          31.0,
          33.0,
          32.0,
          30.0,
          30.0,
          31.0,
          30.0,
          29.0,
          24.0,
          23.0,
          25.0,
          16.0,
          15.0,
          14.0,
          6.0,
          6.0,
          8.0,
          10.0,
          14.0,
          14.0,
          17.0,
          17.0,
          17.0,
          19.0,
          20.0,
          17.0,
          17.0,
          16.0,
          17.0,
          17.0,
          17.0,
          15.0,
          15.0,
          15.0,
          25.0,
          29.0,
          18.0,
          14.0,
          16.0,
          14.0,
          14.0,
          13.0,
          12.0,
          11.0,
          12.0,
          15.0,
          14.0,
          15.0,
          14.0,
          15.0,
          16.0,
          16.0,
          13.0,
          16.0,
          16.0,
          15.0,
          15.0,
          15.0,
          14.0
         ],
         "b": [
          13,
          14,
          11,
          11,
          14,
          14,
          16,
          16,
          14,
          14,
          14,
          14,
          14,
          13,
          14,
          15,
          14,
          13,
          14,
          15,
          13,
          12,
          12,
          12,
          11,
          11,
          10,
          10,
          10,
          10,
          10,
          10,
          11,
          12,
          11,
          11,
          10,
          11,
          12,
          11,
          12,
          11,
          10,
          10,
          10,
          10,
          9,
          10,
          8,
          13,
          15,
          17,
          36,
          26,
          21,
          16,
          10,
          11,
          12,
          14,
          15,
          14,
          12,
          13,
          13,
          14,
          14,
          15,
          13,
          13,
          13,
          11,
          5,
          5,
          12,
          14,
          13,
          13,
          14,
          15,
          15,
          16,
          17,
          16,
          15,
          14,
          14,
          15,
          15,
          21,
          21,
          17,
          14,
          13,
          13,
          15,
          15
         ],
         "c": [
          50,
          50,
          54,
          65,
          53,
          53,
          52,
          52,
          54,
          61,
          52,
          51,
          52,
          50,
          50,
          49,
          50,
          54,
          52,
          53,
          54,
          53,
          53,
          51,
          50,
          52,
          51,
          49,
          51,
          52,
          54,
          53,
          52,
          51,
          54,
          55,
          56,
          55,
          57,
          56,
          56,
          59,
          60,
          59,
          60,
          61,
          67,
          67,
          67,
          71,
          70,
          69,
          58,
          68,
          71,
          74,
          76,
          75,
          71,
          69,
          68,
          67,
          68,
          70,
          70,
          70,
          69,
          68,
          70,
          72,
          72,
          74,
          70,
          66,
          70,
          72,
          71,
          73,
          72,
          72,
          73,
          73,
          71,
          69,
          71,
          71,
          72,
          70,
          69,
          63,
          66,
          67,
          70,
          72,
          72,
          70,
          71
         ],
         "hovertemplate": "Chromosome=9<br>Negative=%{a}<br>Zero=%{b}<br>Positive=%{c}<extra></extra>",
         "legendgroup": "9",
         "marker": {
          "color": "#ab63fa",
          "symbol": "circle"
         },
         "mode": "markers",
         "name": "9",
         "showlegend": true,
         "subplot": "ternary",
         "type": "scatterternary"
        },
        {
         "a": [
          12.0,
          11.0,
          11.0,
          10.0,
          7.0,
          9.0,
          8.0,
          9.0,
          9.0,
          9.0,
          9.0,
          8.0,
          8.0,
          8.0,
          9.0,
          10.0,
          10.0,
          10.0,
          10.0,
          10.0,
          10.0,
          11.0,
          12.0,
          12.0,
          13.0,
          14.0,
          13.0,
          12.0,
          12.0,
          12.0,
          12.0,
          12.0,
          4.0,
          6.0,
          8.0,
          11.0,
          13.0,
          13.0,
          14.0,
          17.0,
          18.0,
          16.0,
          20.0,
          18.0,
          18.0,
          17.0,
          17.0,
          18.0,
          17.0,
          16.0,
          19.0,
          19.0,
          19.0,
          19.0,
          19.0,
          21.0,
          22.0,
          21.0,
          20.0,
          18.0,
          21.0,
          19.0,
          20.0,
          20.0,
          22.0,
          21.0,
          22.0,
          23.0,
          26.0,
          25.0,
          25.0,
          27.0,
          28.0,
          30.0,
          30.0,
          27.0,
          27.0,
          25.0,
          26.0,
          26.0,
          28.0,
          24.0,
          28.0,
          30.0,
          29.0,
          30.0,
          29.0,
          28.0,
          30.0,
          31.0,
          32.0,
          30.0,
          30.0,
          31.0,
          31.0,
          30.0,
          33.0,
          33.0,
          32.0,
          31.0,
          31.0,
          31.0,
          32.0,
          32.0,
          32.0,
          32.0,
          32.0,
          35.0,
          35.0,
          35.0,
          32.0,
          34.0,
          35.0,
          36.0,
          38.0,
          33.0
         ],
         "b": [
          27,
          28,
          27,
          28,
          33,
          31,
          29,
          29,
          28,
          29,
          30,
          27,
          26,
          25,
          24,
          23,
          25,
          29,
          32,
          26,
          24,
          24,
          24,
          24,
          25,
          24,
          24,
          20,
          22,
          23,
          22,
          23,
          29,
          26,
          19,
          21,
          19,
          20,
          19,
          18,
          17,
          19,
          22,
          20,
          17,
          16,
          17,
          15,
          14,
          16,
          15,
          15,
          15,
          13,
          15,
          16,
          16,
          18,
          16,
          17,
          15,
          16,
          14,
          13,
          14,
          12,
          12,
          12,
          12,
          12,
          12,
          12,
          11,
          9,
          9,
          10,
          10,
          10,
          10,
          10,
          10,
          11,
          7,
          6,
          7,
          7,
          8,
          9,
          7,
          6,
          5,
          5,
          6,
          6,
          7,
          7,
          7,
          6,
          6,
          7,
          8,
          7,
          6,
          9,
          8,
          8,
          7,
          7,
          6,
          6,
          8,
          8,
          7,
          12,
          7,
          7
         ],
         "c": [
          61,
          61,
          62,
          62,
          60,
          60,
          63,
          62,
          63,
          62,
          61,
          65,
          66,
          67,
          67,
          67,
          65,
          61,
          58,
          64,
          66,
          65,
          64,
          64,
          62,
          62,
          63,
          68,
          66,
          65,
          66,
          65,
          67,
          68,
          73,
          68,
          68,
          67,
          67,
          65,
          65,
          65,
          58,
          62,
          65,
          67,
          66,
          67,
          69,
          68,
          66,
          66,
          66,
          68,
          66,
          63,
          62,
          61,
          64,
          65,
          64,
          65,
          66,
          67,
          64,
          67,
          66,
          65,
          62,
          63,
          63,
          61,
          61,
          61,
          61,
          63,
          63,
          65,
          64,
          64,
          62,
          65,
          65,
          64,
          64,
          63,
          63,
          63,
          63,
          63,
          63,
          65,
          64,
          63,
          62,
          63,
          60,
          61,
          62,
          62,
          61,
          62,
          62,
          59,
          60,
          60,
          61,
          58,
          59,
          59,
          60,
          58,
          58,
          52,
          55,
          60
         ],
         "hovertemplate": "Chromosome=10<br>Negative=%{a}<br>Zero=%{b}<br>Positive=%{c}<extra></extra>",
         "legendgroup": "10",
         "marker": {
          "color": "#FFA15A",
          "symbol": "circle"
         },
         "mode": "markers",
         "name": "10",
         "showlegend": true,
         "subplot": "ternary",
         "type": "scatterternary"
        }
       ],
       "layout": {
        "template": {
         "data": {
          "histogram2dcontour": [
           {
            "type": "histogram2dcontour",
            "colorbar": {
             "outlinewidth": 0,
             "ticks": ""
            },
            "colorscale": [
             [
              0.0,
              "#0d0887"
             ],
             [
              0.1111111111111111,
              "#46039f"
             ],
             [
              0.2222222222222222,
              "#7201a8"
             ],
             [
              0.3333333333333333,
              "#9c179e"
             ],
             [
              0.4444444444444444,
              "#bd3786"
             ],
             [
              0.5555555555555556,
              "#d8576b"
             ],
             [
              0.6666666666666666,
              "#ed7953"
             ],
             [
              0.7777777777777778,
              "#fb9f3a"
             ],
             [
              0.8888888888888888,
              "#fdca26"
             ],
             [
              1.0,
              "#f0f921"
             ]
            ]
           }
          ],
          "choropleth": [
           {
            "type": "choropleth",
            "colorbar": {
             "outlinewidth": 0,
             "ticks": ""
            }
           }
          ],
          "histogram2d": [
           {
            "type": "histogram2d",
            "colorbar": {
             "outlinewidth": 0,
             "ticks": ""
            },
            "colorscale": [
             [
              0.0,
              "#0d0887"
             ],
             [
              0.1111111111111111,
              "#46039f"
             ],
             [
              0.2222222222222222,
              "#7201a8"
             ],
             [
              0.3333333333333333,
              "#9c179e"
             ],
             [
              0.4444444444444444,
              "#bd3786"
             ],
             [
              0.5555555555555556,
              "#d8576b"
             ],
             [
              0.6666666666666666,
              "#ed7953"
             ],
             [
              0.7777777777777778,
              "#fb9f3a"
             ],
             [
              0.8888888888888888,
              "#fdca26"
             ],
             [
              1.0,
              "#f0f921"
             ]
            ]
           }
          ],
          "heatmap": [
           {
            "type": "heatmap",
            "colorbar": {
             "outlinewidth": 0,
             "ticks": ""
            },
            "colorscale": [
             [
              0.0,
              "#0d0887"
             ],
             [
              0.1111111111111111,
              "#46039f"
             ],
             [
              0.2222222222222222,
              "#7201a8"
             ],
             [
              0.3333333333333333,
              "#9c179e"
             ],
             [
              0.4444444444444444,
              "#bd3786"
             ],
             [
              0.5555555555555556,
              "#d8576b"
             ],
             [
              0.6666666666666666,
              "#ed7953"
             ],
             [
              0.7777777777777778,
              "#fb9f3a"
             ],
             [
              0.8888888888888888,
              "#fdca26"
             ],
             [
              1.0,
              "#f0f921"
             ]
            ]
           }
          ],
          "heatmapgl": [
           {
            "type": "heatmapgl",
            "colorbar": {
             "outlinewidth": 0,
             "ticks": ""
            },
            "colorscale": [
             [
              0.0,
              "#0d0887"
             ],
             [
              0.1111111111111111,
              "#46039f"
             ],
             [
              0.2222222222222222,
              "#7201a8"
             ],
             [
              0.3333333333333333,
              "#9c179e"
             ],
             [
              0.4444444444444444,
              "#bd3786"
             ],
             [
              0.5555555555555556,
              "#d8576b"
             ],
             [
              0.6666666666666666,
              "#ed7953"
             ],
             [
              0.7777777777777778,
              "#fb9f3a"
             ],
             [
              0.8888888888888888,
              "#fdca26"
             ],
             [
              1.0,
              "#f0f921"
             ]
            ]
           }
          ],
          "contourcarpet": [
           {
            "type": "contourcarpet",
            "colorbar": {
             "outlinewidth": 0,
             "ticks": ""
            }
           }
          ],
          "contour": [
           {
            "type": "contour",
            "colorbar": {
             "outlinewidth": 0,
             "ticks": ""
            },
            "colorscale": [
             [
              0.0,
              "#0d0887"
             ],
             [
              0.1111111111111111,
              "#46039f"
             ],
             [
              0.2222222222222222,
              "#7201a8"
             ],
             [
              0.3333333333333333,
              "#9c179e"
             ],
             [
              0.4444444444444444,
              "#bd3786"
             ],
             [
              0.5555555555555556,
              "#d8576b"
             ],
             [
              0.6666666666666666,
              "#ed7953"
             ],
             [
              0.7777777777777778,
              "#fb9f3a"
             ],
             [
              0.8888888888888888,
              "#fdca26"
             ],
             [
              1.0,
              "#f0f921"
             ]
            ]
           }
          ],
          "surface": [
           {
            "type": "surface",
            "colorbar": {
             "outlinewidth": 0,
             "ticks": ""
            },
            "colorscale": [
             [
              0.0,
              "#0d0887"
             ],
             [
              0.1111111111111111,
              "#46039f"
             ],
             [
              0.2222222222222222,
              "#7201a8"
             ],
             [
              0.3333333333333333,
              "#9c179e"
             ],
             [
              0.4444444444444444,
              "#bd3786"
             ],
             [
              0.5555555555555556,
              "#d8576b"
             ],
             [
              0.6666666666666666,
              "#ed7953"
             ],
             [
              0.7777777777777778,
              "#fb9f3a"
             ],
             [
              0.8888888888888888,
              "#fdca26"
             ],
             [
              1.0,
              "#f0f921"
             ]
            ]
           }
          ],
          "mesh3d": [
           {
            "type": "mesh3d",
            "colorbar": {
             "outlinewidth": 0,
             "ticks": ""
            }
           }
          ],
          "scatter": [
           {
            "marker": {
             "line": {
              "color": "#283442"
             }
            },
            "type": "scatter"
           }
          ],
          "parcoords": [
           {
            "type": "parcoords",
            "line": {
             "colorbar": {
              "outlinewidth": 0,
              "ticks": ""
             }
            }
           }
          ],
          "scatterpolargl": [
           {
            "type": "scatterpolargl",
            "marker": {
             "colorbar": {
              "outlinewidth": 0,
              "ticks": ""
             }
            }
           }
          ],
          "bar": [
           {
            "error_x": {
             "color": "#f2f5fa"
            },
            "error_y": {
             "color": "#f2f5fa"
            },
            "marker": {
             "line": {
              "color": "rgb(17,17,17)",
              "width": 0.5
             },
             "pattern": {
              "fillmode": "overlay",
              "size": 10,
              "solidity": 0.2
             }
            },
            "type": "bar"
           }
          ],
          "scattergeo": [
           {
            "type": "scattergeo",
            "marker": {
             "colorbar": {
              "outlinewidth": 0,
              "ticks": ""
             }
            }
           }
          ],
          "scatterpolar": [
           {
            "type": "scatterpolar",
            "marker": {
             "colorbar": {
              "outlinewidth": 0,
              "ticks": ""
             }
            }
           }
          ],
          "histogram": [
           {
            "marker": {
             "pattern": {
              "fillmode": "overlay",
              "size": 10,
              "solidity": 0.2
             }
            },
            "type": "histogram"
           }
          ],
          "scattergl": [
           {
            "marker": {
             "line": {
              "color": "#283442"
             }
            },
            "type": "scattergl"
           }
          ],
          "scatter3d": [
           {
            "type": "scatter3d",
            "line": {
             "colorbar": {
              "outlinewidth": 0,
              "ticks": ""
             }
            },
            "marker": {
             "colorbar": {
              "outlinewidth": 0,
              "ticks": ""
             }
            }
           }
          ],
          "scattermapbox": [
           {
            "type": "scattermapbox",
            "marker": {
             "colorbar": {
              "outlinewidth": 0,
              "ticks": ""
             }
            }
           }
          ],
          "scatterternary": [
           {
            "type": "scatterternary",
            "marker": {
             "colorbar": {
              "outlinewidth": 0,
              "ticks": ""
             }
            }
           }
          ],
          "scattercarpet": [
           {
            "type": "scattercarpet",
            "marker": {
             "colorbar": {
              "outlinewidth": 0,
              "ticks": ""
             }
            }
           }
          ],
          "carpet": [
           {
            "aaxis": {
             "endlinecolor": "#A2B1C6",
             "gridcolor": "#506784",
             "linecolor": "#506784",
             "minorgridcolor": "#506784",
             "startlinecolor": "#A2B1C6"
            },
            "baxis": {
             "endlinecolor": "#A2B1C6",
             "gridcolor": "#506784",
             "linecolor": "#506784",
             "minorgridcolor": "#506784",
             "startlinecolor": "#A2B1C6"
            },
            "type": "carpet"
           }
          ],
          "table": [
           {
            "cells": {
             "fill": {
              "color": "#506784"
             },
             "line": {
              "color": "rgb(17,17,17)"
             }
            },
            "header": {
             "fill": {
              "color": "#2a3f5f"
             },
             "line": {
              "color": "rgb(17,17,17)"
             }
            },
            "type": "table"
           }
          ],
          "barpolar": [
           {
            "marker": {
             "line": {
              "color": "rgb(17,17,17)",
              "width": 0.5
             },
             "pattern": {
              "fillmode": "overlay",
              "size": 10,
              "solidity": 0.2
             }
            },
            "type": "barpolar"
           }
          ],
          "pie": [
           {
            "automargin": true,
            "type": "pie"
           }
          ]
         },
         "layout": {
          "autotypenumbers": "strict",
          "colorway": [
           "#636efa",
           "#EF553B",
           "#00cc96",
           "#ab63fa",
           "#FFA15A",
           "#19d3f3",
           "#FF6692",
           "#B6E880",
           "#FF97FF",
           "#FECB52"
          ],
          "font": {
           "color": "#f2f5fa"
          },
          "hovermode": "closest",
          "hoverlabel": {
           "align": "left"
          },
          "paper_bgcolor": "rgb(17,17,17)",
          "plot_bgcolor": "rgb(17,17,17)",
          "polar": {
           "bgcolor": "rgb(17,17,17)",
           "angularaxis": {
            "gridcolor": "#506784",
            "linecolor": "#506784",
            "ticks": ""
           },
           "radialaxis": {
            "gridcolor": "#506784",
            "linecolor": "#506784",
            "ticks": ""
           }
          },
          "ternary": {
           "bgcolor": "rgb(17,17,17)",
           "aaxis": {
            "gridcolor": "#506784",
            "linecolor": "#506784",
            "ticks": ""
           },
           "baxis": {
            "gridcolor": "#506784",
            "linecolor": "#506784",
            "ticks": ""
           },
           "caxis": {
            "gridcolor": "#506784",
            "linecolor": "#506784",
            "ticks": ""
           }
          },
          "coloraxis": {
           "colorbar": {
            "outlinewidth": 0,
            "ticks": ""
           }
          },
          "colorscale": {
           "sequential": [
            [
             0.0,
             "#0d0887"
            ],
            [
             0.1111111111111111,
             "#46039f"
            ],
            [
             0.2222222222222222,
             "#7201a8"
            ],
            [
             0.3333333333333333,
             "#9c179e"
            ],
            [
             0.4444444444444444,
             "#bd3786"
            ],
            [
             0.5555555555555556,
             "#d8576b"
            ],
            [
             0.6666666666666666,
             "#ed7953"
            ],
            [
             0.7777777777777778,
             "#fb9f3a"
            ],
            [
             0.8888888888888888,
             "#fdca26"
            ],
            [
             1.0,
             "#f0f921"
            ]
           ],
           "sequentialminus": [
            [
             0.0,
             "#0d0887"
            ],
            [
             0.1111111111111111,
             "#46039f"
            ],
            [
             0.2222222222222222,
             "#7201a8"
            ],
            [
             0.3333333333333333,
             "#9c179e"
            ],
            [
             0.4444444444444444,
             "#bd3786"
            ],
            [
             0.5555555555555556,
             "#d8576b"
            ],
            [
             0.6666666666666666,
             "#ed7953"
            ],
            [
             0.7777777777777778,
             "#fb9f3a"
            ],
            [
             0.8888888888888888,
             "#fdca26"
            ],
            [
             1.0,
             "#f0f921"
            ]
           ],
           "diverging": [
            [
             0,
             "#8e0152"
            ],
            [
             0.1,
             "#c51b7d"
            ],
            [
             0.2,
             "#de77ae"
            ],
            [
             0.3,
             "#f1b6da"
            ],
            [
             0.4,
             "#fde0ef"
            ],
            [
             0.5,
             "#f7f7f7"
            ],
            [
             0.6,
             "#e6f5d0"
            ],
            [
             0.7,
             "#b8e186"
            ],
            [
             0.8,
             "#7fbc41"
            ],
            [
             0.9,
             "#4d9221"
            ],
            [
             1,
             "#276419"
            ]
           ]
          },
          "xaxis": {
           "gridcolor": "#283442",
           "linecolor": "#506784",
           "ticks": "",
           "title": {
            "standoff": 15
           },
           "zerolinecolor": "#283442",
           "automargin": true,
           "zerolinewidth": 2
          },
          "yaxis": {
           "gridcolor": "#283442",
           "linecolor": "#506784",
           "ticks": "",
           "title": {
            "standoff": 15
           },
           "zerolinecolor": "#283442",
           "automargin": true,
           "zerolinewidth": 2
          },
          "scene": {
           "xaxis": {
            "backgroundcolor": "rgb(17,17,17)",
            "gridcolor": "#506784",
            "linecolor": "#506784",
            "showbackground": true,
            "ticks": "",
            "zerolinecolor": "#C8D4E3",
            "gridwidth": 2
           },
           "yaxis": {
            "backgroundcolor": "rgb(17,17,17)",
            "gridcolor": "#506784",
            "linecolor": "#506784",
            "showbackground": true,
            "ticks": "",
            "zerolinecolor": "#C8D4E3",
            "gridwidth": 2
           },
           "zaxis": {
            "backgroundcolor": "rgb(17,17,17)",
            "gridcolor": "#506784",
            "linecolor": "#506784",
            "showbackground": true,
            "ticks": "",
            "zerolinecolor": "#C8D4E3",
            "gridwidth": 2
           }
          },
          "shapedefaults": {
           "line": {
            "color": "#f2f5fa"
           }
          },
          "annotationdefaults": {
           "arrowcolor": "#f2f5fa",
           "arrowhead": 0,
           "arrowwidth": 1
          },
          "geo": {
           "bgcolor": "rgb(17,17,17)",
           "landcolor": "rgb(17,17,17)",
           "subunitcolor": "#506784",
           "showland": true,
           "showlakes": true,
           "lakecolor": "rgb(17,17,17)"
          },
          "title": {
           "x": 0.05
          },
          "updatemenudefaults": {
           "bgcolor": "#506784",
           "borderwidth": 0
          },
          "sliderdefaults": {
           "bgcolor": "#C8D4E3",
           "borderwidth": 1,
           "bordercolor": "rgb(17,17,17)",
           "tickwidth": 0
          },
          "mapbox": {
           "style": "dark"
          }
         }
        },
        "ternary": {
         "domain": {
          "x": [
           0.0,
           1.0
          ],
          "y": [
           0.0,
           1.0
          ]
         },
         "aaxis": {
          "title": {
           "text": "Negative"
          }
         },
         "baxis": {
          "title": {
           "text": "Zero"
          }
         },
         "caxis": {
          "title": {
           "text": "Positive"
          }
         }
        },
        "legend": {
         "title": {
          "text": "Chromosome"
         },
         "tracegroupgap": 0
        },
        "margin": {
         "t": 60
        }
       },
       "config": {
        "plotlyServerURL": "https://plot.ly"
       }
      },
      "text/html": "<div>                            <div id=\"be6d6333-59b3-46f4-8f18-44c6f13abde0\" class=\"plotly-graph-div\" style=\"height:525px; width:100%;\"></div>            <script type=\"text/javascript\">                require([\"plotly\"], function(Plotly) {                    window.PLOTLYENV=window.PLOTLYENV || {};                                    if (document.getElementById(\"be6d6333-59b3-46f4-8f18-44c6f13abde0\")) {                    Plotly.newPlot(                        \"be6d6333-59b3-46f4-8f18-44c6f13abde0\",                        [{\"a\":[27.0,24.0,20.0,18.0,19.0,19.0,16.0,14.0,15.0,17.0,23.0,14.0,14.0,20.0,20.0,27.0,15.0,13.0,13.0,15.0,14.0,14.0,10.0,10.0,10.0,11.0,10.0,8.0,8.0,8.0,8.0,9.0,8.0,9.0,9.0,9.0,11.0,10.0,15.0,10.0,11.0,9.0,9.0,8.0,9.0,79.0,73.0,28.0,21.0,24.0,13.0,11.0,10.0,8.0,8.0,8.0,10.0,9.0,10.0,11.0,10.0,12.0,11.0,11.0,11.0,11.0,11.0,10.0,11.0,12.0,11.0,10.0,10.0,13.0,17.0,20.0,23.0,23.0,24.0,23.0,24.0,25.0,24.0,26.0,28.0,28.0,27.0,29.0,29.0,31.0,32.0,34.0,33.0,36.0,35.0,33.0,35.0,37.0,36.0,38.0,39.0,39.0,37.0,35.0,36.0,33.0,35.0,34.0,35.0,34.0,33.0,36.0,35.0,34.0,35.0,35.0,35.0,34.0,34.0,34.0,35.0,36.0,35.0,36.0,34.0,34.0,33.0,32.0,32.0,34.0,34.0,34.0,33.0,32.0,31.0,33.0,32.0,33.0,33.0,33.0,34.0,36.0,36.0,34.0,35.0,35.0,35.0,35.0,34.0,35.0,36.0,35.0,37.0,36.0,38.0,38.0,38.0,40.0,38.0,38.0,35.0,34.0,35.0,38.0,36.0,37.0,39.0,43.0,40.0,39.0,39.0,36.0,39.0,39.0,41.0,38.0,42.0,41.0,41.0,41.0,40.0],\"b\":[7,10,11,13,28,27,28,26,22,21,17,25,22,21,21,12,26,28,30,29,28,28,30,30,32,33,31,31,33,32,32,33,31,30,28,26,25,35,37,31,26,24,23,22,22,11,11,19,22,23,24,24,22,24,23,24,22,22,22,19,21,21,23,24,22,23,24,24,23,25,26,24,23,25,24,24,24,24,23,24,22,23,23,22,21,19,20,20,21,19,18,16,17,16,17,17,16,16,17,15,14,13,14,15,12,15,12,15,14,15,15,16,16,17,16,16,17,17,16,18,18,17,17,15,16,16,17,18,17,16,16,17,16,16,17,17,17,17,15,17,17,16,16,15,15,16,16,16,17,17,14,14,13,12,12,11,13,11,10,11,14,15,12,12,10,12,11,9,9,10,8,11,8,11,9,13,10,11,10,9,10],\"c\":[66,66,69,69,53,54,56,60,63,62,60,61,64,59,59,61,59,59,57,56,58,58,60,60,58,56,59,61,59,60,60,58,61,61,63,65,64,55,48,59,63,67,68,70,69,10,16,53,57,53,63,65,68,68,69,68,68,69,68,70,69,67,66,65,67,66,65,66,66,63,63,66,67,62,59,56,53,53,53,53,54,52,53,52,51,53,53,51,50,50,50,50,50,48,48,50,49,47,47,47,47,48,49,50,52,52,53,51,51,51,52,48,49,49,49,49,48,49,50,48,47,47,48,49,50,50,50,50,51,50,50,49,51,52,52,50,51,50,52,50,49,48,48,51,50,49,49,49,49,48,50,51,50,52,50,51,49,49,52,51,51,51,53,50,54,51,50,48,51,51,53,53,53,50,50,49,48,48,49,50,50],\"hovertemplate\":\"Chromosome=6<br>Negative=%{a}<br>Zero=%{b}<br>Positive=%{c}<extra></extra>\",\"legendgroup\":\"6\",\"marker\":{\"color\":\"#636efa\",\"symbol\":\"circle\"},\"mode\":\"markers\",\"name\":\"6\",\"showlegend\":true,\"subplot\":\"ternary\",\"type\":\"scatterternary\"},{\"a\":[13.0,10.0,7.0,9.0,9.0,7.0,9.0,9.0,7.0,8.0,8.0,9.0,8.0,10.0,7.0,9.0,10.0,8.0,7.0,7.0,6.0,7.0,6.0,7.0,7.0,8.0,7.0,7.0,7.0,8.0,7.0,8.0,9.0,7.0,7.0,6.0,5.0,6.0,6.0,5.0,6.0,6.0,6.0,6.0,4.0,5.0,4.0,3.0,2.0,3.0,3.0,3.0,4.0,5.0,5.0,4.0,4.0,3.0,3.0,2.0,2.0,2.0,4.0,6.0,3.0,4.0,5.0,7.0,7.0,7.0,8.0,7.0,7.0,5.0,3.0,7.0,6.0,6.0,7.0,7.0,28.0,7.0,11.0,13.0,9.0,7.0,10.0,57.0,8.0,9.0,8.0,7.0,7.0,6.0,7.0,9.0,8.0,7.0,6.0,7.0,9.0,11.0],\"b\":[22,27,27,27,28,28,28,28,29,27,28,29,30,28,29,30,30,31,32,31,29,28,31,27,25,25,35,39,30,29,23,25,24,26,22,23,23,24,24,27,27,25,26,26,28,27,27,27,30,27,26,26,25,26,24,27,23,23,24,24,22,24,23,23,25,23,24,23,23,22,22,21,22,25,29,24,25,25,24,26,20,27,31,34,31,30,31,15,30,41,29,28,27,31,27,23,23,27,29,28,28,25],\"c\":[65,63,66,64,63,65,63,63,64,65,64,62,62,62,64,61,60,61,61,62,65,65,63,66,68,67,58,54,63,63,70,67,67,67,71,71,72,70,70,68,67,69,68,68,68,68,69,70,68,70,71,71,71,69,71,69,73,74,73,74,76,74,73,71,72,73,71,70,70,71,70,72,71,70,68,69,69,69,69,67,52,66,58,53,60,63,59,28,62,50,63,65,66,63,66,68,69,66,65,65,63,64],\"hovertemplate\":\"Chromosome=7<br>Negative=%{a}<br>Zero=%{b}<br>Positive=%{c}<extra></extra>\",\"legendgroup\":\"7\",\"marker\":{\"color\":\"#EF553B\",\"symbol\":\"circle\"},\"mode\":\"markers\",\"name\":\"7\",\"showlegend\":true,\"subplot\":\"ternary\",\"type\":\"scatterternary\"},{\"a\":[47.0,59.0,63.0,63.0,62.0,63.0,64.0,65.0,64.0,64.0,64.0,47.0,40.0,45.0,65.0,60.0,59.0,66.0,66.0,65.0,66.0,64.0,65.0,65.0,65.0,66.0,67.0,65.0,64.0,64.0,62.0,60.0,63.0,61.0,60.0,58.0,56.0,57.0,59.0,58.0,57.0,57.0,58.0,58.0,58.0,58.0,55.0,56.0,56.0,53.0,53.0,55.0,57.0,55.0,52.0,48.0,46.0,45.0,44.0,43.0,43.0,42.0,40.0,41.0,40.0,39.0,37.0,35.0,32.0,32.0,31.0,31.0,31.0,31.0,31.0,32.0,32.0,32.0,31.0,33.0,32.0,25.0,27.0,32.0,32.0,34.0,35.0,34.0,32.0,31.0,30.0,32.0,31.0,30.0,30.0,31.0,29.0,28.0,27.0,23.0,23.0,23.0,18.0,10.0,9.0,8.0,7.0,6.0,5.0,4.0,3.0,3.0,3.0,3.0,3.0,3.0,3.0,3.0,2.0,2.0,2.0,2.0,2.0,2.0,2.0,2.0,2.0,2.0,2.0,2.0,3.0,3.0,2.0,2.0,2.0,3.0,2.0,3.0,2.0,2.0,2.0,2.0,2.0,2.0,2.0,2.0,3.0,2.0,2.0,2.0,2.0,2.0,2.0,2.0,2.0,2.0,2.0,2.0,2.0,2.0,2.0,2.0,2.0,2.0,2.0,2.0,2.0,2.0,2.0,3.0,2.0,2.0,3.0,3.0,3.0,3.0,3.0,3.0,2.0,2.0,2.0,4.0,4.0,4.0,4.0,6.0,5.0,6.0,6.0,5.0,6.0,5.0,5.0],\"b\":[4,4,4,5,4,3,3,4,3,4,5,9,11,8,5,5,5,4,3,4,3,5,4,4,3,3,2,1,2,2,3,4,4,6,7,6,8,8,7,7,5,5,4,6,5,6,7,6,6,7,8,7,7,10,11,10,10,11,12,13,15,16,18,18,21,19,18,21,23,22,23,21,23,20,23,21,21,23,24,22,24,40,41,22,21,21,24,24,26,27,25,25,26,29,28,27,28,28,28,29,29,31,33,42,41,40,42,40,40,42,41,40,42,45,46,46,47,48,51,52,51,51,53,53,53,55,55,56,55,57,54,56,57,57,56,57,58,57,58,59,59,59,60,62,59,60,60,60,61,60,60,59,56,58,57,57,58,57,56,57,57,56,56,55,55,57,58,59,59,58,60,59,58,58,56,56,58,57,58,56,58,57,57,56,55,52,54,53,54,55,55,56,56],\"c\":[49,37,33,32,34,34,33,31,33,32,31,44,49,47,30,35,36,30,31,31,31,31,31,31,32,31,31,34,34,34,35,36,33,33,33,36,36,35,34,35,38,38,38,36,37,36,38,38,38,40,39,38,36,35,37,42,44,44,44,44,42,42,42,41,39,42,45,44,45,46,46,48,46,49,46,47,47,45,45,45,44,35,32,46,47,45,41,42,42,42,45,43,43,41,42,42,43,44,45,48,48,46,49,48,50,52,51,54,55,54,56,57,55,52,51,51,50,49,47,46,47,47,45,45,45,43,43,42,43,41,43,41,41,41,42,40,40,40,40,39,39,39,38,36,39,38,37,38,37,38,38,39,42,40,41,41,40,41,42,41,41,42,42,43,43,41,40,39,39,39,38,39,39,39,41,41,39,40,40,42,40,39,39,40,41,42,41,41,40,40,39,39,39],\"hovertemplate\":\"Chromosome=8<br>Negative=%{a}<br>Zero=%{b}<br>Positive=%{c}<extra></extra>\",\"legendgroup\":\"8\",\"marker\":{\"color\":\"#00cc96\",\"symbol\":\"circle\"},\"mode\":\"markers\",\"name\":\"8\",\"showlegend\":true,\"subplot\":\"ternary\",\"type\":\"scatterternary\"},{\"a\":[37.0,36.0,35.0,24.0,33.0,33.0,32.0,32.0,32.0,25.0,34.0,35.0,34.0,37.0,36.0,36.0,36.0,33.0,34.0,32.0,33.0,35.0,35.0,37.0,39.0,37.0,39.0,41.0,39.0,38.0,36.0,37.0,37.0,37.0,35.0,34.0,34.0,34.0,31.0,33.0,32.0,30.0,30.0,31.0,30.0,29.0,24.0,23.0,25.0,16.0,15.0,14.0,6.0,6.0,8.0,10.0,14.0,14.0,17.0,17.0,17.0,19.0,20.0,17.0,17.0,16.0,17.0,17.0,17.0,15.0,15.0,15.0,25.0,29.0,18.0,14.0,16.0,14.0,14.0,13.0,12.0,11.0,12.0,15.0,14.0,15.0,14.0,15.0,16.0,16.0,13.0,16.0,16.0,15.0,15.0,15.0,14.0],\"b\":[13,14,11,11,14,14,16,16,14,14,14,14,14,13,14,15,14,13,14,15,13,12,12,12,11,11,10,10,10,10,10,10,11,12,11,11,10,11,12,11,12,11,10,10,10,10,9,10,8,13,15,17,36,26,21,16,10,11,12,14,15,14,12,13,13,14,14,15,13,13,13,11,5,5,12,14,13,13,14,15,15,16,17,16,15,14,14,15,15,21,21,17,14,13,13,15,15],\"c\":[50,50,54,65,53,53,52,52,54,61,52,51,52,50,50,49,50,54,52,53,54,53,53,51,50,52,51,49,51,52,54,53,52,51,54,55,56,55,57,56,56,59,60,59,60,61,67,67,67,71,70,69,58,68,71,74,76,75,71,69,68,67,68,70,70,70,69,68,70,72,72,74,70,66,70,72,71,73,72,72,73,73,71,69,71,71,72,70,69,63,66,67,70,72,72,70,71],\"hovertemplate\":\"Chromosome=9<br>Negative=%{a}<br>Zero=%{b}<br>Positive=%{c}<extra></extra>\",\"legendgroup\":\"9\",\"marker\":{\"color\":\"#ab63fa\",\"symbol\":\"circle\"},\"mode\":\"markers\",\"name\":\"9\",\"showlegend\":true,\"subplot\":\"ternary\",\"type\":\"scatterternary\"},{\"a\":[12.0,11.0,11.0,10.0,7.0,9.0,8.0,9.0,9.0,9.0,9.0,8.0,8.0,8.0,9.0,10.0,10.0,10.0,10.0,10.0,10.0,11.0,12.0,12.0,13.0,14.0,13.0,12.0,12.0,12.0,12.0,12.0,4.0,6.0,8.0,11.0,13.0,13.0,14.0,17.0,18.0,16.0,20.0,18.0,18.0,17.0,17.0,18.0,17.0,16.0,19.0,19.0,19.0,19.0,19.0,21.0,22.0,21.0,20.0,18.0,21.0,19.0,20.0,20.0,22.0,21.0,22.0,23.0,26.0,25.0,25.0,27.0,28.0,30.0,30.0,27.0,27.0,25.0,26.0,26.0,28.0,24.0,28.0,30.0,29.0,30.0,29.0,28.0,30.0,31.0,32.0,30.0,30.0,31.0,31.0,30.0,33.0,33.0,32.0,31.0,31.0,31.0,32.0,32.0,32.0,32.0,32.0,35.0,35.0,35.0,32.0,34.0,35.0,36.0,38.0,33.0],\"b\":[27,28,27,28,33,31,29,29,28,29,30,27,26,25,24,23,25,29,32,26,24,24,24,24,25,24,24,20,22,23,22,23,29,26,19,21,19,20,19,18,17,19,22,20,17,16,17,15,14,16,15,15,15,13,15,16,16,18,16,17,15,16,14,13,14,12,12,12,12,12,12,12,11,9,9,10,10,10,10,10,10,11,7,6,7,7,8,9,7,6,5,5,6,6,7,7,7,6,6,7,8,7,6,9,8,8,7,7,6,6,8,8,7,12,7,7],\"c\":[61,61,62,62,60,60,63,62,63,62,61,65,66,67,67,67,65,61,58,64,66,65,64,64,62,62,63,68,66,65,66,65,67,68,73,68,68,67,67,65,65,65,58,62,65,67,66,67,69,68,66,66,66,68,66,63,62,61,64,65,64,65,66,67,64,67,66,65,62,63,63,61,61,61,61,63,63,65,64,64,62,65,65,64,64,63,63,63,63,63,63,65,64,63,62,63,60,61,62,62,61,62,62,59,60,60,61,58,59,59,60,58,58,52,55,60],\"hovertemplate\":\"Chromosome=10<br>Negative=%{a}<br>Zero=%{b}<br>Positive=%{c}<extra></extra>\",\"legendgroup\":\"10\",\"marker\":{\"color\":\"#FFA15A\",\"symbol\":\"circle\"},\"mode\":\"markers\",\"name\":\"10\",\"showlegend\":true,\"subplot\":\"ternary\",\"type\":\"scatterternary\"}],                        {\"template\":{\"data\":{\"histogram2dcontour\":[{\"type\":\"histogram2dcontour\",\"colorbar\":{\"outlinewidth\":0,\"ticks\":\"\"},\"colorscale\":[[0.0,\"#0d0887\"],[0.1111111111111111,\"#46039f\"],[0.2222222222222222,\"#7201a8\"],[0.3333333333333333,\"#9c179e\"],[0.4444444444444444,\"#bd3786\"],[0.5555555555555556,\"#d8576b\"],[0.6666666666666666,\"#ed7953\"],[0.7777777777777778,\"#fb9f3a\"],[0.8888888888888888,\"#fdca26\"],[1.0,\"#f0f921\"]]}],\"choropleth\":[{\"type\":\"choropleth\",\"colorbar\":{\"outlinewidth\":0,\"ticks\":\"\"}}],\"histogram2d\":[{\"type\":\"histogram2d\",\"colorbar\":{\"outlinewidth\":0,\"ticks\":\"\"},\"colorscale\":[[0.0,\"#0d0887\"],[0.1111111111111111,\"#46039f\"],[0.2222222222222222,\"#7201a8\"],[0.3333333333333333,\"#9c179e\"],[0.4444444444444444,\"#bd3786\"],[0.5555555555555556,\"#d8576b\"],[0.6666666666666666,\"#ed7953\"],[0.7777777777777778,\"#fb9f3a\"],[0.8888888888888888,\"#fdca26\"],[1.0,\"#f0f921\"]]}],\"heatmap\":[{\"type\":\"heatmap\",\"colorbar\":{\"outlinewidth\":0,\"ticks\":\"\"},\"colorscale\":[[0.0,\"#0d0887\"],[0.1111111111111111,\"#46039f\"],[0.2222222222222222,\"#7201a8\"],[0.3333333333333333,\"#9c179e\"],[0.4444444444444444,\"#bd3786\"],[0.5555555555555556,\"#d8576b\"],[0.6666666666666666,\"#ed7953\"],[0.7777777777777778,\"#fb9f3a\"],[0.8888888888888888,\"#fdca26\"],[1.0,\"#f0f921\"]]}],\"heatmapgl\":[{\"type\":\"heatmapgl\",\"colorbar\":{\"outlinewidth\":0,\"ticks\":\"\"},\"colorscale\":[[0.0,\"#0d0887\"],[0.1111111111111111,\"#46039f\"],[0.2222222222222222,\"#7201a8\"],[0.3333333333333333,\"#9c179e\"],[0.4444444444444444,\"#bd3786\"],[0.5555555555555556,\"#d8576b\"],[0.6666666666666666,\"#ed7953\"],[0.7777777777777778,\"#fb9f3a\"],[0.8888888888888888,\"#fdca26\"],[1.0,\"#f0f921\"]]}],\"contourcarpet\":[{\"type\":\"contourcarpet\",\"colorbar\":{\"outlinewidth\":0,\"ticks\":\"\"}}],\"contour\":[{\"type\":\"contour\",\"colorbar\":{\"outlinewidth\":0,\"ticks\":\"\"},\"colorscale\":[[0.0,\"#0d0887\"],[0.1111111111111111,\"#46039f\"],[0.2222222222222222,\"#7201a8\"],[0.3333333333333333,\"#9c179e\"],[0.4444444444444444,\"#bd3786\"],[0.5555555555555556,\"#d8576b\"],[0.6666666666666666,\"#ed7953\"],[0.7777777777777778,\"#fb9f3a\"],[0.8888888888888888,\"#fdca26\"],[1.0,\"#f0f921\"]]}],\"surface\":[{\"type\":\"surface\",\"colorbar\":{\"outlinewidth\":0,\"ticks\":\"\"},\"colorscale\":[[0.0,\"#0d0887\"],[0.1111111111111111,\"#46039f\"],[0.2222222222222222,\"#7201a8\"],[0.3333333333333333,\"#9c179e\"],[0.4444444444444444,\"#bd3786\"],[0.5555555555555556,\"#d8576b\"],[0.6666666666666666,\"#ed7953\"],[0.7777777777777778,\"#fb9f3a\"],[0.8888888888888888,\"#fdca26\"],[1.0,\"#f0f921\"]]}],\"mesh3d\":[{\"type\":\"mesh3d\",\"colorbar\":{\"outlinewidth\":0,\"ticks\":\"\"}}],\"scatter\":[{\"marker\":{\"line\":{\"color\":\"#283442\"}},\"type\":\"scatter\"}],\"parcoords\":[{\"type\":\"parcoords\",\"line\":{\"colorbar\":{\"outlinewidth\":0,\"ticks\":\"\"}}}],\"scatterpolargl\":[{\"type\":\"scatterpolargl\",\"marker\":{\"colorbar\":{\"outlinewidth\":0,\"ticks\":\"\"}}}],\"bar\":[{\"error_x\":{\"color\":\"#f2f5fa\"},\"error_y\":{\"color\":\"#f2f5fa\"},\"marker\":{\"line\":{\"color\":\"rgb(17,17,17)\",\"width\":0.5},\"pattern\":{\"fillmode\":\"overlay\",\"size\":10,\"solidity\":0.2}},\"type\":\"bar\"}],\"scattergeo\":[{\"type\":\"scattergeo\",\"marker\":{\"colorbar\":{\"outlinewidth\":0,\"ticks\":\"\"}}}],\"scatterpolar\":[{\"type\":\"scatterpolar\",\"marker\":{\"colorbar\":{\"outlinewidth\":0,\"ticks\":\"\"}}}],\"histogram\":[{\"marker\":{\"pattern\":{\"fillmode\":\"overlay\",\"size\":10,\"solidity\":0.2}},\"type\":\"histogram\"}],\"scattergl\":[{\"marker\":{\"line\":{\"color\":\"#283442\"}},\"type\":\"scattergl\"}],\"scatter3d\":[{\"type\":\"scatter3d\",\"line\":{\"colorbar\":{\"outlinewidth\":0,\"ticks\":\"\"}},\"marker\":{\"colorbar\":{\"outlinewidth\":0,\"ticks\":\"\"}}}],\"scattermapbox\":[{\"type\":\"scattermapbox\",\"marker\":{\"colorbar\":{\"outlinewidth\":0,\"ticks\":\"\"}}}],\"scatterternary\":[{\"type\":\"scatterternary\",\"marker\":{\"colorbar\":{\"outlinewidth\":0,\"ticks\":\"\"}}}],\"scattercarpet\":[{\"type\":\"scattercarpet\",\"marker\":{\"colorbar\":{\"outlinewidth\":0,\"ticks\":\"\"}}}],\"carpet\":[{\"aaxis\":{\"endlinecolor\":\"#A2B1C6\",\"gridcolor\":\"#506784\",\"linecolor\":\"#506784\",\"minorgridcolor\":\"#506784\",\"startlinecolor\":\"#A2B1C6\"},\"baxis\":{\"endlinecolor\":\"#A2B1C6\",\"gridcolor\":\"#506784\",\"linecolor\":\"#506784\",\"minorgridcolor\":\"#506784\",\"startlinecolor\":\"#A2B1C6\"},\"type\":\"carpet\"}],\"table\":[{\"cells\":{\"fill\":{\"color\":\"#506784\"},\"line\":{\"color\":\"rgb(17,17,17)\"}},\"header\":{\"fill\":{\"color\":\"#2a3f5f\"},\"line\":{\"color\":\"rgb(17,17,17)\"}},\"type\":\"table\"}],\"barpolar\":[{\"marker\":{\"line\":{\"color\":\"rgb(17,17,17)\",\"width\":0.5},\"pattern\":{\"fillmode\":\"overlay\",\"size\":10,\"solidity\":0.2}},\"type\":\"barpolar\"}],\"pie\":[{\"automargin\":true,\"type\":\"pie\"}]},\"layout\":{\"autotypenumbers\":\"strict\",\"colorway\":[\"#636efa\",\"#EF553B\",\"#00cc96\",\"#ab63fa\",\"#FFA15A\",\"#19d3f3\",\"#FF6692\",\"#B6E880\",\"#FF97FF\",\"#FECB52\"],\"font\":{\"color\":\"#f2f5fa\"},\"hovermode\":\"closest\",\"hoverlabel\":{\"align\":\"left\"},\"paper_bgcolor\":\"rgb(17,17,17)\",\"plot_bgcolor\":\"rgb(17,17,17)\",\"polar\":{\"bgcolor\":\"rgb(17,17,17)\",\"angularaxis\":{\"gridcolor\":\"#506784\",\"linecolor\":\"#506784\",\"ticks\":\"\"},\"radialaxis\":{\"gridcolor\":\"#506784\",\"linecolor\":\"#506784\",\"ticks\":\"\"}},\"ternary\":{\"bgcolor\":\"rgb(17,17,17)\",\"aaxis\":{\"gridcolor\":\"#506784\",\"linecolor\":\"#506784\",\"ticks\":\"\"},\"baxis\":{\"gridcolor\":\"#506784\",\"linecolor\":\"#506784\",\"ticks\":\"\"},\"caxis\":{\"gridcolor\":\"#506784\",\"linecolor\":\"#506784\",\"ticks\":\"\"}},\"coloraxis\":{\"colorbar\":{\"outlinewidth\":0,\"ticks\":\"\"}},\"colorscale\":{\"sequential\":[[0.0,\"#0d0887\"],[0.1111111111111111,\"#46039f\"],[0.2222222222222222,\"#7201a8\"],[0.3333333333333333,\"#9c179e\"],[0.4444444444444444,\"#bd3786\"],[0.5555555555555556,\"#d8576b\"],[0.6666666666666666,\"#ed7953\"],[0.7777777777777778,\"#fb9f3a\"],[0.8888888888888888,\"#fdca26\"],[1.0,\"#f0f921\"]],\"sequentialminus\":[[0.0,\"#0d0887\"],[0.1111111111111111,\"#46039f\"],[0.2222222222222222,\"#7201a8\"],[0.3333333333333333,\"#9c179e\"],[0.4444444444444444,\"#bd3786\"],[0.5555555555555556,\"#d8576b\"],[0.6666666666666666,\"#ed7953\"],[0.7777777777777778,\"#fb9f3a\"],[0.8888888888888888,\"#fdca26\"],[1.0,\"#f0f921\"]],\"diverging\":[[0,\"#8e0152\"],[0.1,\"#c51b7d\"],[0.2,\"#de77ae\"],[0.3,\"#f1b6da\"],[0.4,\"#fde0ef\"],[0.5,\"#f7f7f7\"],[0.6,\"#e6f5d0\"],[0.7,\"#b8e186\"],[0.8,\"#7fbc41\"],[0.9,\"#4d9221\"],[1,\"#276419\"]]},\"xaxis\":{\"gridcolor\":\"#283442\",\"linecolor\":\"#506784\",\"ticks\":\"\",\"title\":{\"standoff\":15},\"zerolinecolor\":\"#283442\",\"automargin\":true,\"zerolinewidth\":2},\"yaxis\":{\"gridcolor\":\"#283442\",\"linecolor\":\"#506784\",\"ticks\":\"\",\"title\":{\"standoff\":15},\"zerolinecolor\":\"#283442\",\"automargin\":true,\"zerolinewidth\":2},\"scene\":{\"xaxis\":{\"backgroundcolor\":\"rgb(17,17,17)\",\"gridcolor\":\"#506784\",\"linecolor\":\"#506784\",\"showbackground\":true,\"ticks\":\"\",\"zerolinecolor\":\"#C8D4E3\",\"gridwidth\":2},\"yaxis\":{\"backgroundcolor\":\"rgb(17,17,17)\",\"gridcolor\":\"#506784\",\"linecolor\":\"#506784\",\"showbackground\":true,\"ticks\":\"\",\"zerolinecolor\":\"#C8D4E3\",\"gridwidth\":2},\"zaxis\":{\"backgroundcolor\":\"rgb(17,17,17)\",\"gridcolor\":\"#506784\",\"linecolor\":\"#506784\",\"showbackground\":true,\"ticks\":\"\",\"zerolinecolor\":\"#C8D4E3\",\"gridwidth\":2}},\"shapedefaults\":{\"line\":{\"color\":\"#f2f5fa\"}},\"annotationdefaults\":{\"arrowcolor\":\"#f2f5fa\",\"arrowhead\":0,\"arrowwidth\":1},\"geo\":{\"bgcolor\":\"rgb(17,17,17)\",\"landcolor\":\"rgb(17,17,17)\",\"subunitcolor\":\"#506784\",\"showland\":true,\"showlakes\":true,\"lakecolor\":\"rgb(17,17,17)\"},\"title\":{\"x\":0.05},\"updatemenudefaults\":{\"bgcolor\":\"#506784\",\"borderwidth\":0},\"sliderdefaults\":{\"bgcolor\":\"#C8D4E3\",\"borderwidth\":1,\"bordercolor\":\"rgb(17,17,17)\",\"tickwidth\":0},\"mapbox\":{\"style\":\"dark\"}}},\"ternary\":{\"domain\":{\"x\":[0.0,1.0],\"y\":[0.0,1.0]},\"aaxis\":{\"title\":{\"text\":\"Negative\"}},\"baxis\":{\"title\":{\"text\":\"Zero\"}},\"caxis\":{\"title\":{\"text\":\"Positive\"}}},\"legend\":{\"title\":{\"text\":\"Chromosome\"},\"tracegroupgap\":0},\"margin\":{\"t\":60}},                        {\"responsive\": true}                    ).then(function(){\n                            \nvar gd = document.getElementById('be6d6333-59b3-46f4-8f18-44c6f13abde0');\nvar x = new MutationObserver(function (mutations, observer) {{\n        var display = window.getComputedStyle(gd).display;\n        if (!display || display === 'none') {{\n            console.log([gd, 'removed!']);\n            Plotly.purge(gd);\n            observer.disconnect();\n        }}\n}});\n\n// Listen for the removal of the full notebook cells\nvar notebookContainer = gd.closest('#notebook-container');\nif (notebookContainer) {{\n    x.observe(notebookContainer, {childList: true});\n}}\n\n// Listen for the clearing of the current output cell\nvar outputEl = gd.closest('.output');\nif (outputEl) {{\n    x.observe(outputEl, {childList: true});\n}}\n\n                        })                };                });            </script>        </div>"
     },
     "metadata": {},
     "output_type": "display_data"
    }
   ],
   "source": [
    "plot = px.scatter_ternary(df[715:1404], a = 'Negative', \n",
    "                          b = 'Zero',\n",
    "                          c='Positive',\n",
    "                          color = 'Chromosome')\n",
    "plot.show()"
   ]
  },
  {
   "cell_type": "code",
   "execution_count": 66,
   "id": "continental-retirement",
   "metadata": {
    "pycharm": {
     "name": "#%%\n"
    }
   },
   "outputs": [
    {
     "data": {
      "application/vnd.plotly.v1+json": {
       "data": [
        {
         "a": [
          33.0,
          31.0,
          30.0,
          31.0,
          31.0,
          50.0,
          30.0,
          26.0,
          30.0,
          43.0,
          29.0,
          29.0,
          28.0,
          27.0,
          25.0,
          24.0,
          21.0,
          22.0,
          22.0,
          20.0,
          21.0,
          21.0,
          18.0,
          16.0,
          17.0,
          16.0,
          18.0,
          17.0,
          16.0,
          16.0,
          15.0,
          15.0,
          14.0,
          14.0,
          14.0,
          14.0,
          15.0,
          15.0,
          14.0,
          16.0,
          17.0,
          16.0,
          17.0,
          17.0,
          19.0,
          17.0,
          17.0,
          17.0,
          17.0,
          13.0,
          10.0,
          10.0,
          12.0,
          56.0,
          28.0,
          13.0,
          13.0,
          11.0,
          11.0,
          13.0,
          12.0,
          12.0,
          12.0,
          14.0,
          14.0,
          14.0,
          15.0,
          15.0,
          16.0,
          16.0,
          14.0,
          13.0,
          12.0,
          14.0,
          14.0,
          13.0,
          13.0,
          14.0,
          15.0,
          15.0,
          15.0,
          16.0,
          16.0,
          15.0,
          14.0,
          12.0,
          11.0,
          10.0,
          8.0,
          8.0,
          8.0,
          8.0,
          8.0,
          8.0,
          8.0,
          8.0,
          7.0,
          11.0,
          12.0,
          12.0,
          11.0,
          9.0,
          10.0,
          9.0,
          9.0,
          8.0,
          7.0,
          5.0,
          4.0,
          4.0,
          5.0,
          5.0,
          5.0,
          5.0,
          5.0,
          7.0,
          8.0,
          8.0,
          8.0,
          9.0,
          8.0,
          9.0,
          9.0,
          54.0,
          11.0,
          11.0,
          12.0,
          10.0,
          14.0,
          16.0,
          18.0,
          17.0,
          16.0,
          17.0,
          18.0,
          16.0,
          17.0,
          18.0,
          17.0,
          14.0,
          15.0,
          16.0,
          17.0,
          18.0,
          17.0,
          18.0,
          17.0,
          16.0,
          16.0,
          17.0,
          16.0,
          15.0,
          15.0,
          15.0,
          16.0,
          18.0,
          21.0,
          22.0,
          22.0,
          26.0,
          24.0,
          25.0,
          27.0,
          28.0,
          28.0,
          28.0,
          26.0,
          26.0,
          29.0,
          29.0,
          26.0,
          32.0,
          32.0,
          33.0,
          33.0,
          35.0,
          37.0,
          37.0,
          37.0,
          36.0,
          39.0,
          38.0,
          37.0,
          38.0,
          39.0,
          39.0,
          39.0,
          39.0
         ],
         "b": [
          7,
          12,
          10,
          9,
          9,
          8,
          9,
          16,
          10,
          7,
          8,
          9,
          11,
          10,
          10,
          10,
          12,
          14,
          14,
          16,
          16,
          15,
          16,
          15,
          17,
          17,
          18,
          20,
          20,
          18,
          19,
          18,
          19,
          19,
          19,
          19,
          19,
          19,
          21,
          20,
          20,
          22,
          22,
          21,
          20,
          19,
          18,
          19,
          19,
          23,
          22,
          19,
          21,
          8,
          15,
          17,
          19,
          19,
          18,
          18,
          18,
          18,
          16,
          15,
          16,
          18,
          14,
          14,
          14,
          15,
          15,
          15,
          17,
          15,
          15,
          14,
          15,
          14,
          15,
          15,
          15,
          14,
          15,
          16,
          16,
          18,
          19,
          22,
          24,
          24,
          24,
          25,
          25,
          25,
          25,
          24,
          20,
          24,
          22,
          24,
          25,
          24,
          25,
          26,
          26,
          25,
          27,
          29,
          27,
          28,
          26,
          26,
          25,
          28,
          27,
          27,
          25,
          26,
          27,
          26,
          27,
          27,
          25,
          15,
          20,
          19,
          19,
          17,
          17,
          15,
          16,
          16,
          17,
          17,
          16,
          17,
          19,
          16,
          16,
          18,
          17,
          16,
          16,
          15,
          16,
          16,
          18,
          19,
          19,
          20,
          21,
          20,
          20,
          20,
          20,
          19,
          17,
          16,
          16,
          13,
          14,
          15,
          13,
          13,
          14,
          14,
          15,
          15,
          11,
          10,
          8,
          7,
          6,
          7,
          5,
          6,
          6,
          6,
          6,
          6,
          6,
          6,
          7,
          7,
          7,
          7,
          7,
          7
         ],
         "c": [
          60,
          57,
          60,
          60,
          60,
          42,
          61,
          58,
          60,
          50,
          63,
          62,
          61,
          63,
          65,
          66,
          67,
          64,
          64,
          64,
          63,
          64,
          66,
          69,
          66,
          67,
          64,
          63,
          64,
          66,
          66,
          67,
          67,
          67,
          67,
          67,
          66,
          66,
          65,
          64,
          63,
          62,
          61,
          62,
          61,
          64,
          65,
          64,
          64,
          64,
          68,
          71,
          67,
          36,
          57,
          70,
          68,
          70,
          71,
          69,
          70,
          70,
          72,
          71,
          70,
          68,
          71,
          71,
          70,
          69,
          71,
          72,
          71,
          71,
          71,
          73,
          72,
          72,
          70,
          70,
          70,
          70,
          69,
          69,
          70,
          70,
          70,
          68,
          68,
          68,
          68,
          67,
          67,
          67,
          67,
          68,
          73,
          65,
          66,
          64,
          64,
          67,
          65,
          65,
          65,
          67,
          66,
          66,
          69,
          68,
          69,
          69,
          70,
          67,
          68,
          66,
          67,
          66,
          65,
          65,
          65,
          64,
          66,
          31,
          69,
          70,
          69,
          73,
          69,
          69,
          66,
          67,
          67,
          66,
          66,
          67,
          64,
          66,
          67,
          68,
          68,
          68,
          67,
          67,
          67,
          66,
          65,
          65,
          65,
          63,
          63,
          65,
          65,
          65,
          64,
          63,
          62,
          62,
          62,
          61,
          62,
          60,
          60,
          59,
          58,
          58,
          59,
          59,
          60,
          61,
          66,
          61,
          62,
          60,
          62,
          59,
          57,
          57,
          57,
          58,
          55,
          56,
          56,
          55,
          54,
          54,
          54,
          54
         ],
         "hovertemplate": "Chromosome=11<br>Negative=%{a}<br>Zero=%{b}<br>Positive=%{c}<extra></extra>",
         "legendgroup": "11",
         "marker": {
          "color": "#636efa",
          "symbol": "circle"
         },
         "mode": "markers",
         "name": "11",
         "showlegend": true,
         "subplot": "ternary",
         "type": "scatterternary"
        },
        {
         "a": [
          8.0,
          9.0,
          10.0,
          9.0,
          18.0,
          10.0,
          9.0,
          9.0,
          11.0,
          10.0,
          10.0,
          10.0,
          22.0,
          10.0,
          21.0,
          10.0,
          23.0,
          12.0,
          13.0,
          15.0,
          14.0,
          14.0,
          11.0,
          12.0,
          12.0,
          11.0,
          13.0,
          12.0,
          12.0,
          11.0,
          10.0,
          10.0,
          8.0,
          10.0,
          8.0,
          8.0,
          7.0,
          6.0,
          7.0,
          8.0,
          7.0,
          7.0,
          7.0,
          7.0,
          10.0,
          10.0,
          9.0,
          9.0,
          10.0,
          10.0,
          11.0,
          11.0,
          11.0,
          11.0,
          12.0,
          11.0,
          9.0,
          7.0,
          8.0,
          7.0,
          6.0,
          5.0,
          6.0,
          6.0,
          7.0,
          7.0,
          7.0,
          6.0,
          6.0,
          7.0,
          6.0,
          7.0,
          7.0,
          8.0,
          9.0,
          8.0,
          9.0,
          9.0,
          10.0,
          11.0,
          13.0,
          11.0,
          13.0,
          12.0,
          12.0,
          11.0,
          10.0,
          12.0,
          11.0,
          11.0,
          13.0,
          12.0,
          13.0,
          11.0,
          12.0,
          12.0,
          13.0,
          11.0,
          12.0,
          14.0,
          14.0,
          13.0,
          11.0,
          11.0,
          9.0,
          9.0,
          9.0,
          10.0,
          11.0,
          12.0,
          10.0,
          10.0,
          10.0,
          10.0,
          11.0
         ],
         "b": [
          21,
          21,
          23,
          20,
          34,
          24,
          26,
          26,
          25,
          27,
          33,
          24,
          43,
          23,
          21,
          23,
          21,
          23,
          21,
          21,
          24,
          22,
          22,
          22,
          22,
          23,
          23,
          23,
          23,
          25,
          24,
          22,
          21,
          23,
          24,
          22,
          24,
          22,
          19,
          19,
          20,
          22,
          22,
          22,
          21,
          21,
          23,
          20,
          19,
          20,
          20,
          20,
          18,
          19,
          17,
          17,
          17,
          20,
          23,
          23,
          21,
          23,
          23,
          24,
          24,
          22,
          20,
          19,
          20,
          18,
          19,
          20,
          18,
          19,
          18,
          19,
          20,
          20,
          22,
          21,
          22,
          19,
          16,
          16,
          16,
          17,
          18,
          18,
          16,
          16,
          15,
          17,
          16,
          16,
          16,
          17,
          17,
          18,
          17,
          18,
          17,
          18,
          18,
          16,
          16,
          19,
          18,
          18,
          21,
          18,
          19,
          19,
          20,
          20,
          20
         ],
         "c": [
          71,
          70,
          67,
          71,
          48,
          66,
          65,
          65,
          64,
          63,
          57,
          66,
          35,
          67,
          58,
          67,
          56,
          65,
          66,
          64,
          62,
          64,
          67,
          66,
          66,
          66,
          64,
          65,
          65,
          64,
          66,
          68,
          71,
          67,
          68,
          70,
          69,
          72,
          74,
          73,
          73,
          71,
          71,
          71,
          69,
          69,
          68,
          71,
          71,
          70,
          69,
          69,
          71,
          70,
          71,
          72,
          74,
          73,
          69,
          70,
          73,
          72,
          71,
          70,
          69,
          71,
          73,
          75,
          74,
          75,
          75,
          73,
          75,
          73,
          73,
          73,
          71,
          71,
          68,
          68,
          65,
          70,
          71,
          72,
          72,
          72,
          72,
          70,
          73,
          73,
          72,
          71,
          71,
          73,
          72,
          71,
          70,
          71,
          71,
          68,
          69,
          69,
          71,
          73,
          75,
          72,
          73,
          72,
          68,
          70,
          71,
          71,
          70,
          70,
          69
         ],
         "hovertemplate": "Chromosome=12<br>Negative=%{a}<br>Zero=%{b}<br>Positive=%{c}<extra></extra>",
         "legendgroup": "12",
         "marker": {
          "color": "#EF553B",
          "symbol": "circle"
         },
         "mode": "markers",
         "name": "12",
         "showlegend": true,
         "subplot": "ternary",
         "type": "scatterternary"
        },
        {
         "a": [
          8.0,
          6.0,
          25.0,
          27.0,
          25.0,
          26.0,
          24.0,
          25.0,
          27.0,
          27.0,
          27.0,
          25.0,
          24.0,
          25.0,
          23.0,
          24.0,
          24.0,
          24.0,
          24.0,
          28.0,
          28.0,
          27.0,
          30.0,
          32.0,
          34.0,
          35.0,
          37.0,
          37.0,
          36.0,
          36.0,
          36.0,
          36.0,
          36.0,
          35.0,
          41.0,
          36.0,
          33.0,
          35.0,
          36.0,
          33.0,
          32.0,
          34.0,
          35.0,
          34.0,
          33.0,
          30.0,
          30.0,
          30.0,
          27.0,
          28.0,
          28.0,
          28.0,
          28.0,
          28.0,
          29.0,
          28.0,
          28.0,
          27.0,
          26.0,
          26.0,
          29.0,
          28.0,
          30.0,
          30.0
         ],
         "b": [
          17,
          7,
          5,
          4,
          5,
          6,
          8,
          5,
          5,
          5,
          5,
          6,
          7,
          7,
          7,
          7,
          8,
          9,
          10,
          9,
          8,
          8,
          7,
          6,
          6,
          6,
          7,
          7,
          7,
          6,
          6,
          6,
          7,
          11,
          12,
          9,
          11,
          10,
          11,
          11,
          10,
          12,
          11,
          11,
          13,
          14,
          14,
          15,
          14,
          15,
          16,
          17,
          17,
          15,
          15,
          14,
          16,
          14,
          15,
          14,
          13,
          15,
          15,
          14
         ],
         "c": [
          75,
          87,
          70,
          69,
          70,
          68,
          68,
          70,
          68,
          68,
          68,
          69,
          69,
          68,
          70,
          69,
          68,
          67,
          66,
          63,
          64,
          65,
          63,
          62,
          60,
          59,
          56,
          56,
          57,
          58,
          58,
          58,
          57,
          54,
          47,
          55,
          56,
          55,
          53,
          56,
          58,
          54,
          54,
          55,
          54,
          56,
          56,
          55,
          59,
          57,
          56,
          55,
          55,
          57,
          56,
          58,
          56,
          59,
          59,
          60,
          58,
          57,
          55,
          56
         ],
         "hovertemplate": "Chromosome=13<br>Negative=%{a}<br>Zero=%{b}<br>Positive=%{c}<extra></extra>",
         "legendgroup": "13",
         "marker": {
          "color": "#00cc96",
          "symbol": "circle"
         },
         "mode": "markers",
         "name": "13",
         "showlegend": true,
         "subplot": "ternary",
         "type": "scatterternary"
        },
        {
         "a": [
          17.0,
          16.0,
          20.0,
          50.0,
          49.0,
          55.0,
          18.0,
          18.0,
          18.0,
          17.0,
          17.0,
          19.0,
          18.0,
          17.0,
          14.0,
          12.0,
          12.0,
          10.0,
          8.0,
          17.0,
          17.0,
          16.0,
          18.0,
          16.0,
          18.0,
          18.0,
          19.0,
          20.0,
          22.0,
          21.0,
          19.0,
          19.0,
          20.0,
          20.0,
          18.0,
          18.0,
          16.0,
          17.0,
          15.0,
          17.0,
          15.0,
          14.0,
          14.0,
          14.0,
          15.0,
          14.0,
          15.0,
          17.0,
          17.0,
          17.0,
          17.0,
          18.0,
          19.0,
          20.0,
          18.0,
          18.0,
          17.0,
          17.0,
          19.0,
          18.0,
          18.0,
          19.0,
          22.0,
          24.0,
          24.0,
          25.0,
          23.0,
          25.0,
          24.0,
          27.0,
          28.0,
          29.0,
          31.0,
          30.0,
          29.0,
          32.0,
          34.0,
          61.0,
          32.0,
          34.0,
          34.0,
          34.0,
          33.0,
          32.0,
          32.0,
          31.0,
          30.0,
          30.0,
          28.0,
          25.0,
          24.0,
          23.0,
          24.0,
          22.0,
          23.0,
          23.0,
          21.0,
          21.0,
          46.0,
          16.0,
          19.0,
          53.0,
          22.0,
          27.0,
          22.0,
          23.0
         ],
         "b": [
          17,
          18,
          19,
          16,
          15,
          13,
          16,
          17,
          18,
          18,
          18,
          16,
          17,
          18,
          20,
          22,
          28,
          35,
          38,
          23,
          21,
          18,
          19,
          20,
          19,
          19,
          20,
          19,
          20,
          21,
          20,
          20,
          18,
          17,
          17,
          17,
          17,
          16,
          20,
          19,
          19,
          22,
          21,
          20,
          20,
          20,
          20,
          20,
          18,
          18,
          19,
          19,
          18,
          16,
          18,
          19,
          19,
          18,
          17,
          19,
          20,
          17,
          16,
          16,
          16,
          14,
          14,
          14,
          13,
          12,
          13,
          14,
          15,
          15,
          15,
          11,
          10,
          9,
          10,
          5,
          6,
          5,
          5,
          7,
          6,
          7,
          9,
          10,
          10,
          9,
          11,
          12,
          10,
          16,
          13,
          15,
          22,
          15,
          11,
          18,
          16,
          9,
          14,
          13,
          13,
          13
         ],
         "c": [
          66,
          66,
          61,
          34,
          36,
          32,
          66,
          65,
          64,
          65,
          65,
          65,
          65,
          65,
          66,
          66,
          60,
          55,
          54,
          60,
          62,
          66,
          63,
          64,
          63,
          63,
          61,
          61,
          58,
          58,
          61,
          61,
          62,
          63,
          65,
          65,
          67,
          67,
          65,
          64,
          66,
          64,
          65,
          66,
          65,
          66,
          65,
          63,
          65,
          65,
          64,
          63,
          63,
          64,
          64,
          63,
          64,
          65,
          64,
          63,
          62,
          64,
          62,
          60,
          60,
          61,
          63,
          61,
          63,
          61,
          59,
          57,
          54,
          55,
          56,
          57,
          56,
          30,
          58,
          61,
          60,
          61,
          62,
          61,
          62,
          62,
          61,
          60,
          62,
          66,
          65,
          65,
          66,
          62,
          64,
          62,
          57,
          64,
          43,
          66,
          65,
          38,
          64,
          60,
          65,
          64
         ],
         "hovertemplate": "Chromosome=14<br>Negative=%{a}<br>Zero=%{b}<br>Positive=%{c}<extra></extra>",
         "legendgroup": "14",
         "marker": {
          "color": "#ab63fa",
          "symbol": "circle"
         },
         "mode": "markers",
         "name": "14",
         "showlegend": true,
         "subplot": "ternary",
         "type": "scatterternary"
        },
        {
         "a": [
          16.0,
          19.0,
          14.0,
          15.0,
          15.0,
          16.0,
          21.0,
          23.0,
          27.0,
          28.0,
          29.0,
          27.0,
          24.0,
          24.0,
          26.0,
          40.0,
          34.0,
          29.0,
          27.0,
          26.0,
          29.0,
          24.0,
          29.0,
          26.0,
          39.0,
          36.0,
          28.0,
          31.0,
          30.0,
          32.0,
          32.0,
          31.0,
          30.0,
          29.0,
          28.0,
          29.0,
          28.0,
          28.0,
          26.0,
          27.0,
          26.0,
          24.0,
          23.0,
          21.0,
          21.0,
          21.0,
          22.0,
          22.0,
          20.0,
          20.0,
          21.0,
          20.0,
          20.0,
          19.0,
          20.0,
          21.0,
          21.0,
          22.0,
          24.0,
          21.0,
          20.0,
          20.0,
          19.0,
          20.0,
          19.0,
          19.0,
          20.0,
          18.0,
          18.0,
          20.0,
          19.0
         ],
         "b": [
          5,
          2,
          2,
          4,
          13,
          23,
          30,
          27,
          38,
          41,
          38,
          9,
          9,
          8,
          8,
          6,
          8,
          7,
          10,
          9,
          7,
          6,
          5,
          7,
          6,
          7,
          8,
          8,
          8,
          9,
          9,
          9,
          9,
          8,
          9,
          9,
          9,
          11,
          11,
          11,
          13,
          13,
          12,
          11,
          11,
          12,
          12,
          12,
          14,
          14,
          12,
          12,
          12,
          14,
          11,
          12,
          11,
          11,
          11,
          11,
          12,
          14,
          17,
          16,
          16,
          16,
          14,
          15,
          14,
          15,
          14
         ],
         "c": [
          79,
          79,
          84,
          81,
          72,
          61,
          49,
          50,
          35,
          31,
          33,
          64,
          67,
          68,
          66,
          54,
          58,
          64,
          63,
          65,
          64,
          70,
          66,
          67,
          55,
          57,
          64,
          61,
          62,
          59,
          59,
          60,
          61,
          63,
          63,
          62,
          63,
          61,
          63,
          62,
          61,
          63,
          65,
          68,
          68,
          67,
          66,
          66,
          66,
          66,
          67,
          68,
          68,
          67,
          69,
          67,
          68,
          67,
          65,
          68,
          68,
          66,
          64,
          64,
          65,
          65,
          66,
          67,
          68,
          65,
          67
         ],
         "hovertemplate": "Chromosome=15<br>Negative=%{a}<br>Zero=%{b}<br>Positive=%{c}<extra></extra>",
         "legendgroup": "15",
         "marker": {
          "color": "#FFA15A",
          "symbol": "circle"
         },
         "mode": "markers",
         "name": "15",
         "showlegend": true,
         "subplot": "ternary",
         "type": "scatterternary"
        }
       ],
       "layout": {
        "template": {
         "data": {
          "histogram2dcontour": [
           {
            "type": "histogram2dcontour",
            "colorbar": {
             "outlinewidth": 0,
             "ticks": ""
            },
            "colorscale": [
             [
              0.0,
              "#0d0887"
             ],
             [
              0.1111111111111111,
              "#46039f"
             ],
             [
              0.2222222222222222,
              "#7201a8"
             ],
             [
              0.3333333333333333,
              "#9c179e"
             ],
             [
              0.4444444444444444,
              "#bd3786"
             ],
             [
              0.5555555555555556,
              "#d8576b"
             ],
             [
              0.6666666666666666,
              "#ed7953"
             ],
             [
              0.7777777777777778,
              "#fb9f3a"
             ],
             [
              0.8888888888888888,
              "#fdca26"
             ],
             [
              1.0,
              "#f0f921"
             ]
            ]
           }
          ],
          "choropleth": [
           {
            "type": "choropleth",
            "colorbar": {
             "outlinewidth": 0,
             "ticks": ""
            }
           }
          ],
          "histogram2d": [
           {
            "type": "histogram2d",
            "colorbar": {
             "outlinewidth": 0,
             "ticks": ""
            },
            "colorscale": [
             [
              0.0,
              "#0d0887"
             ],
             [
              0.1111111111111111,
              "#46039f"
             ],
             [
              0.2222222222222222,
              "#7201a8"
             ],
             [
              0.3333333333333333,
              "#9c179e"
             ],
             [
              0.4444444444444444,
              "#bd3786"
             ],
             [
              0.5555555555555556,
              "#d8576b"
             ],
             [
              0.6666666666666666,
              "#ed7953"
             ],
             [
              0.7777777777777778,
              "#fb9f3a"
             ],
             [
              0.8888888888888888,
              "#fdca26"
             ],
             [
              1.0,
              "#f0f921"
             ]
            ]
           }
          ],
          "heatmap": [
           {
            "type": "heatmap",
            "colorbar": {
             "outlinewidth": 0,
             "ticks": ""
            },
            "colorscale": [
             [
              0.0,
              "#0d0887"
             ],
             [
              0.1111111111111111,
              "#46039f"
             ],
             [
              0.2222222222222222,
              "#7201a8"
             ],
             [
              0.3333333333333333,
              "#9c179e"
             ],
             [
              0.4444444444444444,
              "#bd3786"
             ],
             [
              0.5555555555555556,
              "#d8576b"
             ],
             [
              0.6666666666666666,
              "#ed7953"
             ],
             [
              0.7777777777777778,
              "#fb9f3a"
             ],
             [
              0.8888888888888888,
              "#fdca26"
             ],
             [
              1.0,
              "#f0f921"
             ]
            ]
           }
          ],
          "heatmapgl": [
           {
            "type": "heatmapgl",
            "colorbar": {
             "outlinewidth": 0,
             "ticks": ""
            },
            "colorscale": [
             [
              0.0,
              "#0d0887"
             ],
             [
              0.1111111111111111,
              "#46039f"
             ],
             [
              0.2222222222222222,
              "#7201a8"
             ],
             [
              0.3333333333333333,
              "#9c179e"
             ],
             [
              0.4444444444444444,
              "#bd3786"
             ],
             [
              0.5555555555555556,
              "#d8576b"
             ],
             [
              0.6666666666666666,
              "#ed7953"
             ],
             [
              0.7777777777777778,
              "#fb9f3a"
             ],
             [
              0.8888888888888888,
              "#fdca26"
             ],
             [
              1.0,
              "#f0f921"
             ]
            ]
           }
          ],
          "contourcarpet": [
           {
            "type": "contourcarpet",
            "colorbar": {
             "outlinewidth": 0,
             "ticks": ""
            }
           }
          ],
          "contour": [
           {
            "type": "contour",
            "colorbar": {
             "outlinewidth": 0,
             "ticks": ""
            },
            "colorscale": [
             [
              0.0,
              "#0d0887"
             ],
             [
              0.1111111111111111,
              "#46039f"
             ],
             [
              0.2222222222222222,
              "#7201a8"
             ],
             [
              0.3333333333333333,
              "#9c179e"
             ],
             [
              0.4444444444444444,
              "#bd3786"
             ],
             [
              0.5555555555555556,
              "#d8576b"
             ],
             [
              0.6666666666666666,
              "#ed7953"
             ],
             [
              0.7777777777777778,
              "#fb9f3a"
             ],
             [
              0.8888888888888888,
              "#fdca26"
             ],
             [
              1.0,
              "#f0f921"
             ]
            ]
           }
          ],
          "surface": [
           {
            "type": "surface",
            "colorbar": {
             "outlinewidth": 0,
             "ticks": ""
            },
            "colorscale": [
             [
              0.0,
              "#0d0887"
             ],
             [
              0.1111111111111111,
              "#46039f"
             ],
             [
              0.2222222222222222,
              "#7201a8"
             ],
             [
              0.3333333333333333,
              "#9c179e"
             ],
             [
              0.4444444444444444,
              "#bd3786"
             ],
             [
              0.5555555555555556,
              "#d8576b"
             ],
             [
              0.6666666666666666,
              "#ed7953"
             ],
             [
              0.7777777777777778,
              "#fb9f3a"
             ],
             [
              0.8888888888888888,
              "#fdca26"
             ],
             [
              1.0,
              "#f0f921"
             ]
            ]
           }
          ],
          "mesh3d": [
           {
            "type": "mesh3d",
            "colorbar": {
             "outlinewidth": 0,
             "ticks": ""
            }
           }
          ],
          "scatter": [
           {
            "marker": {
             "line": {
              "color": "#283442"
             }
            },
            "type": "scatter"
           }
          ],
          "parcoords": [
           {
            "type": "parcoords",
            "line": {
             "colorbar": {
              "outlinewidth": 0,
              "ticks": ""
             }
            }
           }
          ],
          "scatterpolargl": [
           {
            "type": "scatterpolargl",
            "marker": {
             "colorbar": {
              "outlinewidth": 0,
              "ticks": ""
             }
            }
           }
          ],
          "bar": [
           {
            "error_x": {
             "color": "#f2f5fa"
            },
            "error_y": {
             "color": "#f2f5fa"
            },
            "marker": {
             "line": {
              "color": "rgb(17,17,17)",
              "width": 0.5
             },
             "pattern": {
              "fillmode": "overlay",
              "size": 10,
              "solidity": 0.2
             }
            },
            "type": "bar"
           }
          ],
          "scattergeo": [
           {
            "type": "scattergeo",
            "marker": {
             "colorbar": {
              "outlinewidth": 0,
              "ticks": ""
             }
            }
           }
          ],
          "scatterpolar": [
           {
            "type": "scatterpolar",
            "marker": {
             "colorbar": {
              "outlinewidth": 0,
              "ticks": ""
             }
            }
           }
          ],
          "histogram": [
           {
            "marker": {
             "pattern": {
              "fillmode": "overlay",
              "size": 10,
              "solidity": 0.2
             }
            },
            "type": "histogram"
           }
          ],
          "scattergl": [
           {
            "marker": {
             "line": {
              "color": "#283442"
             }
            },
            "type": "scattergl"
           }
          ],
          "scatter3d": [
           {
            "type": "scatter3d",
            "line": {
             "colorbar": {
              "outlinewidth": 0,
              "ticks": ""
             }
            },
            "marker": {
             "colorbar": {
              "outlinewidth": 0,
              "ticks": ""
             }
            }
           }
          ],
          "scattermapbox": [
           {
            "type": "scattermapbox",
            "marker": {
             "colorbar": {
              "outlinewidth": 0,
              "ticks": ""
             }
            }
           }
          ],
          "scatterternary": [
           {
            "type": "scatterternary",
            "marker": {
             "colorbar": {
              "outlinewidth": 0,
              "ticks": ""
             }
            }
           }
          ],
          "scattercarpet": [
           {
            "type": "scattercarpet",
            "marker": {
             "colorbar": {
              "outlinewidth": 0,
              "ticks": ""
             }
            }
           }
          ],
          "carpet": [
           {
            "aaxis": {
             "endlinecolor": "#A2B1C6",
             "gridcolor": "#506784",
             "linecolor": "#506784",
             "minorgridcolor": "#506784",
             "startlinecolor": "#A2B1C6"
            },
            "baxis": {
             "endlinecolor": "#A2B1C6",
             "gridcolor": "#506784",
             "linecolor": "#506784",
             "minorgridcolor": "#506784",
             "startlinecolor": "#A2B1C6"
            },
            "type": "carpet"
           }
          ],
          "table": [
           {
            "cells": {
             "fill": {
              "color": "#506784"
             },
             "line": {
              "color": "rgb(17,17,17)"
             }
            },
            "header": {
             "fill": {
              "color": "#2a3f5f"
             },
             "line": {
              "color": "rgb(17,17,17)"
             }
            },
            "type": "table"
           }
          ],
          "barpolar": [
           {
            "marker": {
             "line": {
              "color": "rgb(17,17,17)",
              "width": 0.5
             },
             "pattern": {
              "fillmode": "overlay",
              "size": 10,
              "solidity": 0.2
             }
            },
            "type": "barpolar"
           }
          ],
          "pie": [
           {
            "automargin": true,
            "type": "pie"
           }
          ]
         },
         "layout": {
          "autotypenumbers": "strict",
          "colorway": [
           "#636efa",
           "#EF553B",
           "#00cc96",
           "#ab63fa",
           "#FFA15A",
           "#19d3f3",
           "#FF6692",
           "#B6E880",
           "#FF97FF",
           "#FECB52"
          ],
          "font": {
           "color": "#f2f5fa"
          },
          "hovermode": "closest",
          "hoverlabel": {
           "align": "left"
          },
          "paper_bgcolor": "rgb(17,17,17)",
          "plot_bgcolor": "rgb(17,17,17)",
          "polar": {
           "bgcolor": "rgb(17,17,17)",
           "angularaxis": {
            "gridcolor": "#506784",
            "linecolor": "#506784",
            "ticks": ""
           },
           "radialaxis": {
            "gridcolor": "#506784",
            "linecolor": "#506784",
            "ticks": ""
           }
          },
          "ternary": {
           "bgcolor": "rgb(17,17,17)",
           "aaxis": {
            "gridcolor": "#506784",
            "linecolor": "#506784",
            "ticks": ""
           },
           "baxis": {
            "gridcolor": "#506784",
            "linecolor": "#506784",
            "ticks": ""
           },
           "caxis": {
            "gridcolor": "#506784",
            "linecolor": "#506784",
            "ticks": ""
           }
          },
          "coloraxis": {
           "colorbar": {
            "outlinewidth": 0,
            "ticks": ""
           }
          },
          "colorscale": {
           "sequential": [
            [
             0.0,
             "#0d0887"
            ],
            [
             0.1111111111111111,
             "#46039f"
            ],
            [
             0.2222222222222222,
             "#7201a8"
            ],
            [
             0.3333333333333333,
             "#9c179e"
            ],
            [
             0.4444444444444444,
             "#bd3786"
            ],
            [
             0.5555555555555556,
             "#d8576b"
            ],
            [
             0.6666666666666666,
             "#ed7953"
            ],
            [
             0.7777777777777778,
             "#fb9f3a"
            ],
            [
             0.8888888888888888,
             "#fdca26"
            ],
            [
             1.0,
             "#f0f921"
            ]
           ],
           "sequentialminus": [
            [
             0.0,
             "#0d0887"
            ],
            [
             0.1111111111111111,
             "#46039f"
            ],
            [
             0.2222222222222222,
             "#7201a8"
            ],
            [
             0.3333333333333333,
             "#9c179e"
            ],
            [
             0.4444444444444444,
             "#bd3786"
            ],
            [
             0.5555555555555556,
             "#d8576b"
            ],
            [
             0.6666666666666666,
             "#ed7953"
            ],
            [
             0.7777777777777778,
             "#fb9f3a"
            ],
            [
             0.8888888888888888,
             "#fdca26"
            ],
            [
             1.0,
             "#f0f921"
            ]
           ],
           "diverging": [
            [
             0,
             "#8e0152"
            ],
            [
             0.1,
             "#c51b7d"
            ],
            [
             0.2,
             "#de77ae"
            ],
            [
             0.3,
             "#f1b6da"
            ],
            [
             0.4,
             "#fde0ef"
            ],
            [
             0.5,
             "#f7f7f7"
            ],
            [
             0.6,
             "#e6f5d0"
            ],
            [
             0.7,
             "#b8e186"
            ],
            [
             0.8,
             "#7fbc41"
            ],
            [
             0.9,
             "#4d9221"
            ],
            [
             1,
             "#276419"
            ]
           ]
          },
          "xaxis": {
           "gridcolor": "#283442",
           "linecolor": "#506784",
           "ticks": "",
           "title": {
            "standoff": 15
           },
           "zerolinecolor": "#283442",
           "automargin": true,
           "zerolinewidth": 2
          },
          "yaxis": {
           "gridcolor": "#283442",
           "linecolor": "#506784",
           "ticks": "",
           "title": {
            "standoff": 15
           },
           "zerolinecolor": "#283442",
           "automargin": true,
           "zerolinewidth": 2
          },
          "scene": {
           "xaxis": {
            "backgroundcolor": "rgb(17,17,17)",
            "gridcolor": "#506784",
            "linecolor": "#506784",
            "showbackground": true,
            "ticks": "",
            "zerolinecolor": "#C8D4E3",
            "gridwidth": 2
           },
           "yaxis": {
            "backgroundcolor": "rgb(17,17,17)",
            "gridcolor": "#506784",
            "linecolor": "#506784",
            "showbackground": true,
            "ticks": "",
            "zerolinecolor": "#C8D4E3",
            "gridwidth": 2
           },
           "zaxis": {
            "backgroundcolor": "rgb(17,17,17)",
            "gridcolor": "#506784",
            "linecolor": "#506784",
            "showbackground": true,
            "ticks": "",
            "zerolinecolor": "#C8D4E3",
            "gridwidth": 2
           }
          },
          "shapedefaults": {
           "line": {
            "color": "#f2f5fa"
           }
          },
          "annotationdefaults": {
           "arrowcolor": "#f2f5fa",
           "arrowhead": 0,
           "arrowwidth": 1
          },
          "geo": {
           "bgcolor": "rgb(17,17,17)",
           "landcolor": "rgb(17,17,17)",
           "subunitcolor": "#506784",
           "showland": true,
           "showlakes": true,
           "lakecolor": "rgb(17,17,17)"
          },
          "title": {
           "x": 0.05
          },
          "updatemenudefaults": {
           "bgcolor": "#506784",
           "borderwidth": 0
          },
          "sliderdefaults": {
           "bgcolor": "#C8D4E3",
           "borderwidth": 1,
           "bordercolor": "rgb(17,17,17)",
           "tickwidth": 0
          },
          "mapbox": {
           "style": "dark"
          }
         }
        },
        "ternary": {
         "domain": {
          "x": [
           0.0,
           1.0
          ],
          "y": [
           0.0,
           1.0
          ]
         },
         "aaxis": {
          "title": {
           "text": "Negative"
          }
         },
         "baxis": {
          "title": {
           "text": "Zero"
          }
         },
         "caxis": {
          "title": {
           "text": "Positive"
          }
         }
        },
        "legend": {
         "title": {
          "text": "Chromosome"
         },
         "tracegroupgap": 0
        },
        "margin": {
         "t": 60
        }
       },
       "config": {
        "plotlyServerURL": "https://plot.ly"
       }
      },
      "text/html": "<div>                            <div id=\"f1356d21-b0f4-43b9-9811-ee8d61d5709e\" class=\"plotly-graph-div\" style=\"height:525px; width:100%;\"></div>            <script type=\"text/javascript\">                require([\"plotly\"], function(Plotly) {                    window.PLOTLYENV=window.PLOTLYENV || {};                                    if (document.getElementById(\"f1356d21-b0f4-43b9-9811-ee8d61d5709e\")) {                    Plotly.newPlot(                        \"f1356d21-b0f4-43b9-9811-ee8d61d5709e\",                        [{\"a\":[33.0,31.0,30.0,31.0,31.0,50.0,30.0,26.0,30.0,43.0,29.0,29.0,28.0,27.0,25.0,24.0,21.0,22.0,22.0,20.0,21.0,21.0,18.0,16.0,17.0,16.0,18.0,17.0,16.0,16.0,15.0,15.0,14.0,14.0,14.0,14.0,15.0,15.0,14.0,16.0,17.0,16.0,17.0,17.0,19.0,17.0,17.0,17.0,17.0,13.0,10.0,10.0,12.0,56.0,28.0,13.0,13.0,11.0,11.0,13.0,12.0,12.0,12.0,14.0,14.0,14.0,15.0,15.0,16.0,16.0,14.0,13.0,12.0,14.0,14.0,13.0,13.0,14.0,15.0,15.0,15.0,16.0,16.0,15.0,14.0,12.0,11.0,10.0,8.0,8.0,8.0,8.0,8.0,8.0,8.0,8.0,7.0,11.0,12.0,12.0,11.0,9.0,10.0,9.0,9.0,8.0,7.0,5.0,4.0,4.0,5.0,5.0,5.0,5.0,5.0,7.0,8.0,8.0,8.0,9.0,8.0,9.0,9.0,54.0,11.0,11.0,12.0,10.0,14.0,16.0,18.0,17.0,16.0,17.0,18.0,16.0,17.0,18.0,17.0,14.0,15.0,16.0,17.0,18.0,17.0,18.0,17.0,16.0,16.0,17.0,16.0,15.0,15.0,15.0,16.0,18.0,21.0,22.0,22.0,26.0,24.0,25.0,27.0,28.0,28.0,28.0,26.0,26.0,29.0,29.0,26.0,32.0,32.0,33.0,33.0,35.0,37.0,37.0,37.0,36.0,39.0,38.0,37.0,38.0,39.0,39.0,39.0,39.0],\"b\":[7,12,10,9,9,8,9,16,10,7,8,9,11,10,10,10,12,14,14,16,16,15,16,15,17,17,18,20,20,18,19,18,19,19,19,19,19,19,21,20,20,22,22,21,20,19,18,19,19,23,22,19,21,8,15,17,19,19,18,18,18,18,16,15,16,18,14,14,14,15,15,15,17,15,15,14,15,14,15,15,15,14,15,16,16,18,19,22,24,24,24,25,25,25,25,24,20,24,22,24,25,24,25,26,26,25,27,29,27,28,26,26,25,28,27,27,25,26,27,26,27,27,25,15,20,19,19,17,17,15,16,16,17,17,16,17,19,16,16,18,17,16,16,15,16,16,18,19,19,20,21,20,20,20,20,19,17,16,16,13,14,15,13,13,14,14,15,15,11,10,8,7,6,7,5,6,6,6,6,6,6,6,7,7,7,7,7,7],\"c\":[60,57,60,60,60,42,61,58,60,50,63,62,61,63,65,66,67,64,64,64,63,64,66,69,66,67,64,63,64,66,66,67,67,67,67,67,66,66,65,64,63,62,61,62,61,64,65,64,64,64,68,71,67,36,57,70,68,70,71,69,70,70,72,71,70,68,71,71,70,69,71,72,71,71,71,73,72,72,70,70,70,70,69,69,70,70,70,68,68,68,68,67,67,67,67,68,73,65,66,64,64,67,65,65,65,67,66,66,69,68,69,69,70,67,68,66,67,66,65,65,65,64,66,31,69,70,69,73,69,69,66,67,67,66,66,67,64,66,67,68,68,68,67,67,67,66,65,65,65,63,63,65,65,65,64,63,62,62,62,61,62,60,60,59,58,58,59,59,60,61,66,61,62,60,62,59,57,57,57,58,55,56,56,55,54,54,54,54],\"hovertemplate\":\"Chromosome=11<br>Negative=%{a}<br>Zero=%{b}<br>Positive=%{c}<extra></extra>\",\"legendgroup\":\"11\",\"marker\":{\"color\":\"#636efa\",\"symbol\":\"circle\"},\"mode\":\"markers\",\"name\":\"11\",\"showlegend\":true,\"subplot\":\"ternary\",\"type\":\"scatterternary\"},{\"a\":[8.0,9.0,10.0,9.0,18.0,10.0,9.0,9.0,11.0,10.0,10.0,10.0,22.0,10.0,21.0,10.0,23.0,12.0,13.0,15.0,14.0,14.0,11.0,12.0,12.0,11.0,13.0,12.0,12.0,11.0,10.0,10.0,8.0,10.0,8.0,8.0,7.0,6.0,7.0,8.0,7.0,7.0,7.0,7.0,10.0,10.0,9.0,9.0,10.0,10.0,11.0,11.0,11.0,11.0,12.0,11.0,9.0,7.0,8.0,7.0,6.0,5.0,6.0,6.0,7.0,7.0,7.0,6.0,6.0,7.0,6.0,7.0,7.0,8.0,9.0,8.0,9.0,9.0,10.0,11.0,13.0,11.0,13.0,12.0,12.0,11.0,10.0,12.0,11.0,11.0,13.0,12.0,13.0,11.0,12.0,12.0,13.0,11.0,12.0,14.0,14.0,13.0,11.0,11.0,9.0,9.0,9.0,10.0,11.0,12.0,10.0,10.0,10.0,10.0,11.0],\"b\":[21,21,23,20,34,24,26,26,25,27,33,24,43,23,21,23,21,23,21,21,24,22,22,22,22,23,23,23,23,25,24,22,21,23,24,22,24,22,19,19,20,22,22,22,21,21,23,20,19,20,20,20,18,19,17,17,17,20,23,23,21,23,23,24,24,22,20,19,20,18,19,20,18,19,18,19,20,20,22,21,22,19,16,16,16,17,18,18,16,16,15,17,16,16,16,17,17,18,17,18,17,18,18,16,16,19,18,18,21,18,19,19,20,20,20],\"c\":[71,70,67,71,48,66,65,65,64,63,57,66,35,67,58,67,56,65,66,64,62,64,67,66,66,66,64,65,65,64,66,68,71,67,68,70,69,72,74,73,73,71,71,71,69,69,68,71,71,70,69,69,71,70,71,72,74,73,69,70,73,72,71,70,69,71,73,75,74,75,75,73,75,73,73,73,71,71,68,68,65,70,71,72,72,72,72,70,73,73,72,71,71,73,72,71,70,71,71,68,69,69,71,73,75,72,73,72,68,70,71,71,70,70,69],\"hovertemplate\":\"Chromosome=12<br>Negative=%{a}<br>Zero=%{b}<br>Positive=%{c}<extra></extra>\",\"legendgroup\":\"12\",\"marker\":{\"color\":\"#EF553B\",\"symbol\":\"circle\"},\"mode\":\"markers\",\"name\":\"12\",\"showlegend\":true,\"subplot\":\"ternary\",\"type\":\"scatterternary\"},{\"a\":[8.0,6.0,25.0,27.0,25.0,26.0,24.0,25.0,27.0,27.0,27.0,25.0,24.0,25.0,23.0,24.0,24.0,24.0,24.0,28.0,28.0,27.0,30.0,32.0,34.0,35.0,37.0,37.0,36.0,36.0,36.0,36.0,36.0,35.0,41.0,36.0,33.0,35.0,36.0,33.0,32.0,34.0,35.0,34.0,33.0,30.0,30.0,30.0,27.0,28.0,28.0,28.0,28.0,28.0,29.0,28.0,28.0,27.0,26.0,26.0,29.0,28.0,30.0,30.0],\"b\":[17,7,5,4,5,6,8,5,5,5,5,6,7,7,7,7,8,9,10,9,8,8,7,6,6,6,7,7,7,6,6,6,7,11,12,9,11,10,11,11,10,12,11,11,13,14,14,15,14,15,16,17,17,15,15,14,16,14,15,14,13,15,15,14],\"c\":[75,87,70,69,70,68,68,70,68,68,68,69,69,68,70,69,68,67,66,63,64,65,63,62,60,59,56,56,57,58,58,58,57,54,47,55,56,55,53,56,58,54,54,55,54,56,56,55,59,57,56,55,55,57,56,58,56,59,59,60,58,57,55,56],\"hovertemplate\":\"Chromosome=13<br>Negative=%{a}<br>Zero=%{b}<br>Positive=%{c}<extra></extra>\",\"legendgroup\":\"13\",\"marker\":{\"color\":\"#00cc96\",\"symbol\":\"circle\"},\"mode\":\"markers\",\"name\":\"13\",\"showlegend\":true,\"subplot\":\"ternary\",\"type\":\"scatterternary\"},{\"a\":[17.0,16.0,20.0,50.0,49.0,55.0,18.0,18.0,18.0,17.0,17.0,19.0,18.0,17.0,14.0,12.0,12.0,10.0,8.0,17.0,17.0,16.0,18.0,16.0,18.0,18.0,19.0,20.0,22.0,21.0,19.0,19.0,20.0,20.0,18.0,18.0,16.0,17.0,15.0,17.0,15.0,14.0,14.0,14.0,15.0,14.0,15.0,17.0,17.0,17.0,17.0,18.0,19.0,20.0,18.0,18.0,17.0,17.0,19.0,18.0,18.0,19.0,22.0,24.0,24.0,25.0,23.0,25.0,24.0,27.0,28.0,29.0,31.0,30.0,29.0,32.0,34.0,61.0,32.0,34.0,34.0,34.0,33.0,32.0,32.0,31.0,30.0,30.0,28.0,25.0,24.0,23.0,24.0,22.0,23.0,23.0,21.0,21.0,46.0,16.0,19.0,53.0,22.0,27.0,22.0,23.0],\"b\":[17,18,19,16,15,13,16,17,18,18,18,16,17,18,20,22,28,35,38,23,21,18,19,20,19,19,20,19,20,21,20,20,18,17,17,17,17,16,20,19,19,22,21,20,20,20,20,20,18,18,19,19,18,16,18,19,19,18,17,19,20,17,16,16,16,14,14,14,13,12,13,14,15,15,15,11,10,9,10,5,6,5,5,7,6,7,9,10,10,9,11,12,10,16,13,15,22,15,11,18,16,9,14,13,13,13],\"c\":[66,66,61,34,36,32,66,65,64,65,65,65,65,65,66,66,60,55,54,60,62,66,63,64,63,63,61,61,58,58,61,61,62,63,65,65,67,67,65,64,66,64,65,66,65,66,65,63,65,65,64,63,63,64,64,63,64,65,64,63,62,64,62,60,60,61,63,61,63,61,59,57,54,55,56,57,56,30,58,61,60,61,62,61,62,62,61,60,62,66,65,65,66,62,64,62,57,64,43,66,65,38,64,60,65,64],\"hovertemplate\":\"Chromosome=14<br>Negative=%{a}<br>Zero=%{b}<br>Positive=%{c}<extra></extra>\",\"legendgroup\":\"14\",\"marker\":{\"color\":\"#ab63fa\",\"symbol\":\"circle\"},\"mode\":\"markers\",\"name\":\"14\",\"showlegend\":true,\"subplot\":\"ternary\",\"type\":\"scatterternary\"},{\"a\":[16.0,19.0,14.0,15.0,15.0,16.0,21.0,23.0,27.0,28.0,29.0,27.0,24.0,24.0,26.0,40.0,34.0,29.0,27.0,26.0,29.0,24.0,29.0,26.0,39.0,36.0,28.0,31.0,30.0,32.0,32.0,31.0,30.0,29.0,28.0,29.0,28.0,28.0,26.0,27.0,26.0,24.0,23.0,21.0,21.0,21.0,22.0,22.0,20.0,20.0,21.0,20.0,20.0,19.0,20.0,21.0,21.0,22.0,24.0,21.0,20.0,20.0,19.0,20.0,19.0,19.0,20.0,18.0,18.0,20.0,19.0],\"b\":[5,2,2,4,13,23,30,27,38,41,38,9,9,8,8,6,8,7,10,9,7,6,5,7,6,7,8,8,8,9,9,9,9,8,9,9,9,11,11,11,13,13,12,11,11,12,12,12,14,14,12,12,12,14,11,12,11,11,11,11,12,14,17,16,16,16,14,15,14,15,14],\"c\":[79,79,84,81,72,61,49,50,35,31,33,64,67,68,66,54,58,64,63,65,64,70,66,67,55,57,64,61,62,59,59,60,61,63,63,62,63,61,63,62,61,63,65,68,68,67,66,66,66,66,67,68,68,67,69,67,68,67,65,68,68,66,64,64,65,65,66,67,68,65,67],\"hovertemplate\":\"Chromosome=15<br>Negative=%{a}<br>Zero=%{b}<br>Positive=%{c}<extra></extra>\",\"legendgroup\":\"15\",\"marker\":{\"color\":\"#FFA15A\",\"symbol\":\"circle\"},\"mode\":\"markers\",\"name\":\"15\",\"showlegend\":true,\"subplot\":\"ternary\",\"type\":\"scatterternary\"}],                        {\"template\":{\"data\":{\"histogram2dcontour\":[{\"type\":\"histogram2dcontour\",\"colorbar\":{\"outlinewidth\":0,\"ticks\":\"\"},\"colorscale\":[[0.0,\"#0d0887\"],[0.1111111111111111,\"#46039f\"],[0.2222222222222222,\"#7201a8\"],[0.3333333333333333,\"#9c179e\"],[0.4444444444444444,\"#bd3786\"],[0.5555555555555556,\"#d8576b\"],[0.6666666666666666,\"#ed7953\"],[0.7777777777777778,\"#fb9f3a\"],[0.8888888888888888,\"#fdca26\"],[1.0,\"#f0f921\"]]}],\"choropleth\":[{\"type\":\"choropleth\",\"colorbar\":{\"outlinewidth\":0,\"ticks\":\"\"}}],\"histogram2d\":[{\"type\":\"histogram2d\",\"colorbar\":{\"outlinewidth\":0,\"ticks\":\"\"},\"colorscale\":[[0.0,\"#0d0887\"],[0.1111111111111111,\"#46039f\"],[0.2222222222222222,\"#7201a8\"],[0.3333333333333333,\"#9c179e\"],[0.4444444444444444,\"#bd3786\"],[0.5555555555555556,\"#d8576b\"],[0.6666666666666666,\"#ed7953\"],[0.7777777777777778,\"#fb9f3a\"],[0.8888888888888888,\"#fdca26\"],[1.0,\"#f0f921\"]]}],\"heatmap\":[{\"type\":\"heatmap\",\"colorbar\":{\"outlinewidth\":0,\"ticks\":\"\"},\"colorscale\":[[0.0,\"#0d0887\"],[0.1111111111111111,\"#46039f\"],[0.2222222222222222,\"#7201a8\"],[0.3333333333333333,\"#9c179e\"],[0.4444444444444444,\"#bd3786\"],[0.5555555555555556,\"#d8576b\"],[0.6666666666666666,\"#ed7953\"],[0.7777777777777778,\"#fb9f3a\"],[0.8888888888888888,\"#fdca26\"],[1.0,\"#f0f921\"]]}],\"heatmapgl\":[{\"type\":\"heatmapgl\",\"colorbar\":{\"outlinewidth\":0,\"ticks\":\"\"},\"colorscale\":[[0.0,\"#0d0887\"],[0.1111111111111111,\"#46039f\"],[0.2222222222222222,\"#7201a8\"],[0.3333333333333333,\"#9c179e\"],[0.4444444444444444,\"#bd3786\"],[0.5555555555555556,\"#d8576b\"],[0.6666666666666666,\"#ed7953\"],[0.7777777777777778,\"#fb9f3a\"],[0.8888888888888888,\"#fdca26\"],[1.0,\"#f0f921\"]]}],\"contourcarpet\":[{\"type\":\"contourcarpet\",\"colorbar\":{\"outlinewidth\":0,\"ticks\":\"\"}}],\"contour\":[{\"type\":\"contour\",\"colorbar\":{\"outlinewidth\":0,\"ticks\":\"\"},\"colorscale\":[[0.0,\"#0d0887\"],[0.1111111111111111,\"#46039f\"],[0.2222222222222222,\"#7201a8\"],[0.3333333333333333,\"#9c179e\"],[0.4444444444444444,\"#bd3786\"],[0.5555555555555556,\"#d8576b\"],[0.6666666666666666,\"#ed7953\"],[0.7777777777777778,\"#fb9f3a\"],[0.8888888888888888,\"#fdca26\"],[1.0,\"#f0f921\"]]}],\"surface\":[{\"type\":\"surface\",\"colorbar\":{\"outlinewidth\":0,\"ticks\":\"\"},\"colorscale\":[[0.0,\"#0d0887\"],[0.1111111111111111,\"#46039f\"],[0.2222222222222222,\"#7201a8\"],[0.3333333333333333,\"#9c179e\"],[0.4444444444444444,\"#bd3786\"],[0.5555555555555556,\"#d8576b\"],[0.6666666666666666,\"#ed7953\"],[0.7777777777777778,\"#fb9f3a\"],[0.8888888888888888,\"#fdca26\"],[1.0,\"#f0f921\"]]}],\"mesh3d\":[{\"type\":\"mesh3d\",\"colorbar\":{\"outlinewidth\":0,\"ticks\":\"\"}}],\"scatter\":[{\"marker\":{\"line\":{\"color\":\"#283442\"}},\"type\":\"scatter\"}],\"parcoords\":[{\"type\":\"parcoords\",\"line\":{\"colorbar\":{\"outlinewidth\":0,\"ticks\":\"\"}}}],\"scatterpolargl\":[{\"type\":\"scatterpolargl\",\"marker\":{\"colorbar\":{\"outlinewidth\":0,\"ticks\":\"\"}}}],\"bar\":[{\"error_x\":{\"color\":\"#f2f5fa\"},\"error_y\":{\"color\":\"#f2f5fa\"},\"marker\":{\"line\":{\"color\":\"rgb(17,17,17)\",\"width\":0.5},\"pattern\":{\"fillmode\":\"overlay\",\"size\":10,\"solidity\":0.2}},\"type\":\"bar\"}],\"scattergeo\":[{\"type\":\"scattergeo\",\"marker\":{\"colorbar\":{\"outlinewidth\":0,\"ticks\":\"\"}}}],\"scatterpolar\":[{\"type\":\"scatterpolar\",\"marker\":{\"colorbar\":{\"outlinewidth\":0,\"ticks\":\"\"}}}],\"histogram\":[{\"marker\":{\"pattern\":{\"fillmode\":\"overlay\",\"size\":10,\"solidity\":0.2}},\"type\":\"histogram\"}],\"scattergl\":[{\"marker\":{\"line\":{\"color\":\"#283442\"}},\"type\":\"scattergl\"}],\"scatter3d\":[{\"type\":\"scatter3d\",\"line\":{\"colorbar\":{\"outlinewidth\":0,\"ticks\":\"\"}},\"marker\":{\"colorbar\":{\"outlinewidth\":0,\"ticks\":\"\"}}}],\"scattermapbox\":[{\"type\":\"scattermapbox\",\"marker\":{\"colorbar\":{\"outlinewidth\":0,\"ticks\":\"\"}}}],\"scatterternary\":[{\"type\":\"scatterternary\",\"marker\":{\"colorbar\":{\"outlinewidth\":0,\"ticks\":\"\"}}}],\"scattercarpet\":[{\"type\":\"scattercarpet\",\"marker\":{\"colorbar\":{\"outlinewidth\":0,\"ticks\":\"\"}}}],\"carpet\":[{\"aaxis\":{\"endlinecolor\":\"#A2B1C6\",\"gridcolor\":\"#506784\",\"linecolor\":\"#506784\",\"minorgridcolor\":\"#506784\",\"startlinecolor\":\"#A2B1C6\"},\"baxis\":{\"endlinecolor\":\"#A2B1C6\",\"gridcolor\":\"#506784\",\"linecolor\":\"#506784\",\"minorgridcolor\":\"#506784\",\"startlinecolor\":\"#A2B1C6\"},\"type\":\"carpet\"}],\"table\":[{\"cells\":{\"fill\":{\"color\":\"#506784\"},\"line\":{\"color\":\"rgb(17,17,17)\"}},\"header\":{\"fill\":{\"color\":\"#2a3f5f\"},\"line\":{\"color\":\"rgb(17,17,17)\"}},\"type\":\"table\"}],\"barpolar\":[{\"marker\":{\"line\":{\"color\":\"rgb(17,17,17)\",\"width\":0.5},\"pattern\":{\"fillmode\":\"overlay\",\"size\":10,\"solidity\":0.2}},\"type\":\"barpolar\"}],\"pie\":[{\"automargin\":true,\"type\":\"pie\"}]},\"layout\":{\"autotypenumbers\":\"strict\",\"colorway\":[\"#636efa\",\"#EF553B\",\"#00cc96\",\"#ab63fa\",\"#FFA15A\",\"#19d3f3\",\"#FF6692\",\"#B6E880\",\"#FF97FF\",\"#FECB52\"],\"font\":{\"color\":\"#f2f5fa\"},\"hovermode\":\"closest\",\"hoverlabel\":{\"align\":\"left\"},\"paper_bgcolor\":\"rgb(17,17,17)\",\"plot_bgcolor\":\"rgb(17,17,17)\",\"polar\":{\"bgcolor\":\"rgb(17,17,17)\",\"angularaxis\":{\"gridcolor\":\"#506784\",\"linecolor\":\"#506784\",\"ticks\":\"\"},\"radialaxis\":{\"gridcolor\":\"#506784\",\"linecolor\":\"#506784\",\"ticks\":\"\"}},\"ternary\":{\"bgcolor\":\"rgb(17,17,17)\",\"aaxis\":{\"gridcolor\":\"#506784\",\"linecolor\":\"#506784\",\"ticks\":\"\"},\"baxis\":{\"gridcolor\":\"#506784\",\"linecolor\":\"#506784\",\"ticks\":\"\"},\"caxis\":{\"gridcolor\":\"#506784\",\"linecolor\":\"#506784\",\"ticks\":\"\"}},\"coloraxis\":{\"colorbar\":{\"outlinewidth\":0,\"ticks\":\"\"}},\"colorscale\":{\"sequential\":[[0.0,\"#0d0887\"],[0.1111111111111111,\"#46039f\"],[0.2222222222222222,\"#7201a8\"],[0.3333333333333333,\"#9c179e\"],[0.4444444444444444,\"#bd3786\"],[0.5555555555555556,\"#d8576b\"],[0.6666666666666666,\"#ed7953\"],[0.7777777777777778,\"#fb9f3a\"],[0.8888888888888888,\"#fdca26\"],[1.0,\"#f0f921\"]],\"sequentialminus\":[[0.0,\"#0d0887\"],[0.1111111111111111,\"#46039f\"],[0.2222222222222222,\"#7201a8\"],[0.3333333333333333,\"#9c179e\"],[0.4444444444444444,\"#bd3786\"],[0.5555555555555556,\"#d8576b\"],[0.6666666666666666,\"#ed7953\"],[0.7777777777777778,\"#fb9f3a\"],[0.8888888888888888,\"#fdca26\"],[1.0,\"#f0f921\"]],\"diverging\":[[0,\"#8e0152\"],[0.1,\"#c51b7d\"],[0.2,\"#de77ae\"],[0.3,\"#f1b6da\"],[0.4,\"#fde0ef\"],[0.5,\"#f7f7f7\"],[0.6,\"#e6f5d0\"],[0.7,\"#b8e186\"],[0.8,\"#7fbc41\"],[0.9,\"#4d9221\"],[1,\"#276419\"]]},\"xaxis\":{\"gridcolor\":\"#283442\",\"linecolor\":\"#506784\",\"ticks\":\"\",\"title\":{\"standoff\":15},\"zerolinecolor\":\"#283442\",\"automargin\":true,\"zerolinewidth\":2},\"yaxis\":{\"gridcolor\":\"#283442\",\"linecolor\":\"#506784\",\"ticks\":\"\",\"title\":{\"standoff\":15},\"zerolinecolor\":\"#283442\",\"automargin\":true,\"zerolinewidth\":2},\"scene\":{\"xaxis\":{\"backgroundcolor\":\"rgb(17,17,17)\",\"gridcolor\":\"#506784\",\"linecolor\":\"#506784\",\"showbackground\":true,\"ticks\":\"\",\"zerolinecolor\":\"#C8D4E3\",\"gridwidth\":2},\"yaxis\":{\"backgroundcolor\":\"rgb(17,17,17)\",\"gridcolor\":\"#506784\",\"linecolor\":\"#506784\",\"showbackground\":true,\"ticks\":\"\",\"zerolinecolor\":\"#C8D4E3\",\"gridwidth\":2},\"zaxis\":{\"backgroundcolor\":\"rgb(17,17,17)\",\"gridcolor\":\"#506784\",\"linecolor\":\"#506784\",\"showbackground\":true,\"ticks\":\"\",\"zerolinecolor\":\"#C8D4E3\",\"gridwidth\":2}},\"shapedefaults\":{\"line\":{\"color\":\"#f2f5fa\"}},\"annotationdefaults\":{\"arrowcolor\":\"#f2f5fa\",\"arrowhead\":0,\"arrowwidth\":1},\"geo\":{\"bgcolor\":\"rgb(17,17,17)\",\"landcolor\":\"rgb(17,17,17)\",\"subunitcolor\":\"#506784\",\"showland\":true,\"showlakes\":true,\"lakecolor\":\"rgb(17,17,17)\"},\"title\":{\"x\":0.05},\"updatemenudefaults\":{\"bgcolor\":\"#506784\",\"borderwidth\":0},\"sliderdefaults\":{\"bgcolor\":\"#C8D4E3\",\"borderwidth\":1,\"bordercolor\":\"rgb(17,17,17)\",\"tickwidth\":0},\"mapbox\":{\"style\":\"dark\"}}},\"ternary\":{\"domain\":{\"x\":[0.0,1.0],\"y\":[0.0,1.0]},\"aaxis\":{\"title\":{\"text\":\"Negative\"}},\"baxis\":{\"title\":{\"text\":\"Zero\"}},\"caxis\":{\"title\":{\"text\":\"Positive\"}}},\"legend\":{\"title\":{\"text\":\"Chromosome\"},\"tracegroupgap\":0},\"margin\":{\"t\":60}},                        {\"responsive\": true}                    ).then(function(){\n                            \nvar gd = document.getElementById('f1356d21-b0f4-43b9-9811-ee8d61d5709e');\nvar x = new MutationObserver(function (mutations, observer) {{\n        var display = window.getComputedStyle(gd).display;\n        if (!display || display === 'none') {{\n            console.log([gd, 'removed!']);\n            Plotly.purge(gd);\n            observer.disconnect();\n        }}\n}});\n\n// Listen for the removal of the full notebook cells\nvar notebookContainer = gd.closest('#notebook-container');\nif (notebookContainer) {{\n    x.observe(notebookContainer, {childList: true});\n}}\n\n// Listen for the clearing of the current output cell\nvar outputEl = gd.closest('.output');\nif (outputEl) {{\n    x.observe(outputEl, {childList: true});\n}}\n\n                        })                };                });            </script>        </div>"
     },
     "metadata": {},
     "output_type": "display_data"
    }
   ],
   "source": [
    "plot = px.scatter_ternary(df[1404:1948], a = 'Negative', \n",
    "                          b = 'Zero',\n",
    "                          c='Positive',\n",
    "                          color = 'Chromosome')\n",
    "plot.show()"
   ]
  },
  {
   "cell_type": "code",
   "execution_count": 67,
   "id": "early-recipient",
   "metadata": {
    "pycharm": {
     "name": "#%%\n"
    }
   },
   "outputs": [
    {
     "data": {
      "application/vnd.plotly.v1+json": {
       "data": [
        {
         "a": [
          2.0,
          3.0,
          6.0,
          3.0,
          5.0,
          3.0,
          4.0,
          3.0,
          32.0,
          3.0,
          3.0,
          3.0,
          3.0,
          4.0,
          6.0,
          11.0,
          3.0,
          5.0,
          4.0,
          3.0,
          3.0,
          2.0,
          3.0,
          3.0,
          3.0,
          2.0,
          2.0,
          2.0,
          5.0,
          7.0,
          8.0,
          9.0,
          6.0,
          11.0,
          12.0,
          11.0,
          13.0,
          11.0,
          22.0,
          21.0,
          20.0,
          21.0,
          21.0,
          22.0,
          23.0,
          23.0,
          24.0,
          24.0,
          23.0,
          24.0,
          22.0,
          22.0,
          23.0,
          23.0,
          23.0,
          24.0,
          50.0,
          18.0,
          25.0,
          27.0,
          28.0,
          30.0,
          30.0,
          31.0,
          32.0,
          31.0,
          33.0,
          33.0,
          33.0,
          32.0,
          33.0,
          37.0,
          34.0,
          55.0,
          32.0,
          32.0,
          31.0,
          11.0,
          32.0,
          33.0,
          34.0,
          34.0,
          45.0,
          37.0,
          33.0,
          36.0,
          35.0,
          36.0,
          35.0,
          25.0,
          34.0,
          37.0,
          36.0
         ],
         "b": [
          37,
          35,
          34,
          34,
          34,
          36,
          37,
          36,
          21,
          37,
          37,
          38,
          38,
          35,
          34,
          33,
          35,
          36,
          36,
          37,
          43,
          37,
          32,
          38,
          37,
          38,
          44,
          46,
          48,
          48,
          40,
          42,
          37,
          26,
          27,
          32,
          30,
          29,
          19,
          19,
          20,
          18,
          19,
          17,
          14,
          15,
          15,
          14,
          15,
          13,
          13,
          14,
          15,
          15,
          15,
          14,
          8,
          21,
          12,
          12,
          12,
          12,
          10,
          11,
          11,
          13,
          12,
          11,
          12,
          13,
          13,
          11,
          12,
          10,
          14,
          14,
          14,
          31,
          16,
          14,
          11,
          11,
          9,
          11,
          11,
          10,
          9,
          11,
          14,
          14,
          13,
          10,
          11
         ],
         "c": [
          61,
          62,
          60,
          63,
          61,
          61,
          59,
          61,
          47,
          60,
          60,
          59,
          59,
          61,
          60,
          56,
          62,
          59,
          60,
          60,
          54,
          61,
          65,
          59,
          60,
          60,
          54,
          52,
          47,
          45,
          52,
          49,
          57,
          63,
          61,
          57,
          57,
          60,
          59,
          60,
          60,
          61,
          60,
          61,
          63,
          62,
          61,
          62,
          62,
          63,
          65,
          64,
          62,
          62,
          62,
          62,
          42,
          61,
          63,
          61,
          60,
          58,
          60,
          58,
          57,
          56,
          55,
          56,
          55,
          55,
          54,
          52,
          54,
          35,
          54,
          54,
          55,
          58,
          52,
          53,
          55,
          55,
          46,
          52,
          56,
          54,
          56,
          53,
          51,
          61,
          53,
          53,
          53
         ],
         "hovertemplate": "Chromosome=16<br>Negative=%{a}<br>Zero=%{b}<br>Positive=%{c}<extra></extra>",
         "legendgroup": "16",
         "marker": {
          "color": "#636efa",
          "symbol": "circle"
         },
         "mode": "markers",
         "name": "16",
         "showlegend": true,
         "subplot": "ternary",
         "type": "scatterternary"
        },
        {
         "a": [
          50.0,
          51.0,
          54.0,
          24.0,
          28.0,
          39.0,
          45.0,
          51.0,
          48.0,
          52.0,
          51.0,
          52.0,
          51.0,
          51.0,
          49.0,
          39.0,
          51.0,
          31.0,
          50.0,
          31.0,
          19.0,
          16.0,
          49.0,
          51.0,
          51.0,
          48.0,
          57.0,
          53.0,
          54.0,
          52.0,
          54.0,
          51.0,
          55.0,
          57.0,
          57.0,
          57.0,
          56.0,
          57.0,
          57.0,
          55.0,
          56.0,
          56.0,
          52.0,
          53.0,
          55.0,
          53.0,
          50.0,
          54.0,
          52.0,
          51.0,
          50.0,
          50.0,
          51.0,
          36.0,
          42.0,
          48.0,
          49.0,
          48.0,
          45.0,
          44.0,
          44.0,
          41.0,
          33.0,
          29.0,
          30.0,
          29.0,
          29.0,
          29.0,
          28.0,
          28.0,
          28.0,
          25.0,
          25.0,
          26.0,
          24.0,
          24.0,
          24.0,
          25.0,
          25.0,
          25.0,
          24.0,
          24.0,
          24.0,
          24.0,
          24.0,
          24.0,
          27.0,
          27.0,
          27.0,
          28.0,
          24.0,
          29.0,
          29.0,
          30.0,
          30.0,
          31.0,
          32.0,
          32.0,
          34.0,
          29.0,
          34.0,
          35.0,
          33.0,
          34.0,
          35.0,
          37.0,
          36.0,
          37.0,
          35.0,
          35.0,
          38.0,
          36.0,
          37.0,
          37.0,
          37.0,
          34.0,
          35.0,
          35.0,
          35.0,
          33.0,
          34.0,
          34.0,
          33.0,
          33.0,
          32.0,
          30.0,
          30.0,
          32.0,
          30.0,
          29.0,
          29.0,
          28.0,
          26.0,
          25.0,
          28.0,
          28.0,
          28.0,
          27.0,
          26.0,
          26.0,
          24.0,
          19.0,
          15.0,
          15.0,
          16.0,
          21.0,
          22.0,
          26.0,
          27.0,
          27.0,
          28.0,
          29.0,
          30.0,
          33.0,
          34.0,
          35.0,
          35.0,
          36.0,
          34.0,
          35.0,
          32.0,
          35.0,
          35.0,
          38.0,
          39.0,
          41.0,
          41.0,
          39.0,
          40.0,
          40.0,
          33.0,
          34.0,
          37.0,
          36.0,
          64.0,
          77.0,
          75.0,
          33.0,
          35.0,
          34.0,
          34.0,
          29.0,
          32.0,
          31.0,
          30.0,
          27.0,
          27.0,
          25.0,
          24.0,
          22.0,
          22.0,
          21.0,
          20.0,
          18.0,
          17.0,
          16.0,
          16.0,
          15.0,
          14.0,
          14.0,
          15.0,
          15.0,
          15.0,
          16.0,
          15.0,
          13.0,
          12.0,
          12.0,
          12.0,
          11.0,
          11.0,
          10.0,
          12.0,
          14.0,
          16.0,
          14.0,
          15.0,
          15.0,
          15.0,
          17.0,
          17.0,
          17.0,
          17.0,
          17.0,
          15.0,
          15.0,
          15.0,
          15.0,
          15.0,
          13.0,
          14.0,
          14.0,
          13.0,
          15.0,
          14.0,
          15.0,
          14.0,
          13.0,
          13.0,
          12.0,
          13.0,
          12.0,
          12.0,
          12.0,
          12.0,
          13.0,
          12.0,
          13.0,
          13.0,
          13.0,
          12.0,
          12.0,
          11.0,
          9.0,
          9.0,
          9.0,
          8.0,
          8.0,
          7.0,
          7.0,
          7.0,
          8.0,
          10.0,
          11.0,
          10.0,
          11.0,
          10.0,
          9.0,
          7.0,
          7.0,
          8.0,
          8.0,
          9.0,
          9.0,
          11.0,
          11.0,
          10.0,
          9.0,
          8.0,
          9.0,
          12.0,
          10.0,
          10.0,
          9.0,
          10.0,
          10.0,
          10.0,
          10.0,
          10.0,
          8.0,
          9.0,
          8.0,
          9.0,
          9.0,
          9.0,
          10.0,
          9.0,
          9.0,
          10.0,
          12.0,
          10.0,
          12.0,
          11.0,
          13.0,
          13.0,
          13.0,
          12.0,
          12.0,
          13.0,
          13.0,
          15.0,
          16.0,
          16.0,
          16.0,
          15.0,
          14.0,
          14.0,
          13.0,
          13.0,
          13.0,
          14.0,
          13.0,
          14.0,
          13.0,
          13.0,
          12.0,
          12.0,
          12.0,
          13.0,
          13.0,
          13.0,
          14.0,
          14.0,
          14.0,
          13.0,
          15.0,
          15.0,
          14.0,
          16.0,
          16.0,
          15.0,
          17.0,
          16.0,
          19.0
         ],
         "b": [
          5,
          4,
          3,
          17,
          14,
          9,
          7,
          3,
          7,
          3,
          3,
          2,
          3,
          4,
          5,
          12,
          4,
          19,
          4,
          16,
          22,
          22,
          5,
          4,
          5,
          3,
          1,
          4,
          3,
          3,
          3,
          4,
          3,
          3,
          3,
          4,
          5,
          4,
          3,
          5,
          3,
          3,
          4,
          3,
          3,
          3,
          5,
          5,
          7,
          7,
          7,
          7,
          5,
          10,
          5,
          5,
          5,
          7,
          9,
          9,
          6,
          5,
          11,
          18,
          17,
          15,
          16,
          17,
          18,
          18,
          18,
          19,
          20,
          18,
          19,
          18,
          17,
          17,
          18,
          18,
          18,
          17,
          20,
          20,
          19,
          19,
          18,
          17,
          17,
          15,
          17,
          14,
          17,
          15,
          15,
          11,
          10,
          12,
          14,
          16,
          14,
          14,
          16,
          13,
          13,
          10,
          11,
          11,
          12,
          12,
          11,
          12,
          15,
          17,
          15,
          17,
          17,
          17,
          16,
          18,
          17,
          16,
          17,
          17,
          16,
          16,
          15,
          15,
          15,
          15,
          14,
          15,
          17,
          13,
          12,
          15,
          14,
          15,
          15,
          15,
          13,
          14,
          13,
          41,
          11,
          12,
          10,
          10,
          13,
          14,
          15,
          16,
          15,
          16,
          15,
          15,
          18,
          14,
          15,
          15,
          16,
          15,
          15,
          12,
          11,
          10,
          10,
          13,
          12,
          11,
          15,
          13,
          11,
          10,
          9,
          6,
          6,
          24,
          15,
          15,
          16,
          22,
          15,
          15,
          16,
          17,
          19,
          20,
          18,
          20,
          20,
          22,
          22,
          23,
          24,
          25,
          23,
          22,
          23,
          22,
          22,
          26,
          26,
          25,
          24,
          25,
          26,
          26,
          27,
          30,
          26,
          29,
          29,
          30,
          28,
          30,
          29,
          29,
          30,
          28,
          28,
          29,
          29,
          27,
          29,
          30,
          27,
          30,
          30,
          34,
          31,
          33,
          31,
          31,
          30,
          32,
          34,
          33,
          31,
          33,
          32,
          31,
          33,
          34,
          32,
          31,
          32,
          32,
          31,
          34,
          36,
          34,
          32,
          32,
          33,
          33,
          35,
          35,
          36,
          36,
          33,
          32,
          32,
          32,
          32,
          33,
          34,
          35,
          39,
          37,
          33,
          34,
          33,
          31,
          30,
          33,
          33,
          31,
          33,
          32,
          32,
          34,
          34,
          34,
          35,
          34,
          33,
          34,
          34,
          33,
          31,
          35,
          34,
          36,
          35,
          34,
          35,
          35,
          33,
          32,
          35,
          35,
          35,
          34,
          33,
          33,
          32,
          35,
          34,
          33,
          33,
          31,
          29,
          29,
          30,
          29,
          28,
          29,
          30,
          28,
          29,
          29,
          29,
          29,
          29,
          27,
          27,
          30,
          31,
          33,
          32,
          31,
          31,
          32,
          34,
          31,
          29,
          31,
          35,
          38,
          31,
          31,
          31,
          25
         ],
         "c": [
          45,
          45,
          43,
          59,
          58,
          52,
          48,
          46,
          45,
          45,
          46,
          46,
          46,
          45,
          46,
          49,
          45,
          50,
          46,
          53,
          59,
          62,
          46,
          45,
          44,
          49,
          42,
          43,
          43,
          45,
          43,
          45,
          42,
          40,
          40,
          39,
          39,
          39,
          40,
          40,
          41,
          41,
          44,
          44,
          42,
          44,
          45,
          41,
          41,
          42,
          43,
          43,
          44,
          54,
          53,
          47,
          46,
          45,
          46,
          47,
          50,
          54,
          56,
          53,
          53,
          56,
          55,
          54,
          54,
          54,
          54,
          56,
          55,
          56,
          57,
          58,
          59,
          58,
          57,
          57,
          58,
          59,
          56,
          56,
          57,
          57,
          55,
          56,
          56,
          57,
          59,
          57,
          54,
          55,
          55,
          58,
          58,
          56,
          52,
          55,
          52,
          51,
          51,
          53,
          52,
          53,
          53,
          52,
          53,
          53,
          51,
          52,
          48,
          46,
          48,
          49,
          48,
          48,
          49,
          49,
          49,
          50,
          50,
          50,
          52,
          54,
          55,
          53,
          55,
          56,
          57,
          57,
          57,
          62,
          60,
          57,
          58,
          58,
          59,
          59,
          63,
          67,
          72,
          44,
          73,
          67,
          68,
          64,
          60,
          59,
          57,
          55,
          55,
          51,
          51,
          50,
          47,
          50,
          51,
          50,
          52,
          50,
          50,
          50,
          50,
          49,
          49,
          48,
          48,
          49,
          52,
          53,
          52,
          54,
          27,
          17,
          19,
          43,
          50,
          51,
          50,
          49,
          53,
          54,
          54,
          56,
          54,
          55,
          58,
          58,
          58,
          57,
          58,
          59,
          59,
          59,
          61,
          63,
          63,
          64,
          63,
          59,
          59,
          59,
          61,
          62,
          62,
          62,
          61,
          59,
          63,
          61,
          59,
          56,
          56,
          56,
          56,
          56,
          55,
          55,
          55,
          54,
          54,
          56,
          56,
          55,
          58,
          55,
          55,
          53,
          55,
          53,
          56,
          54,
          56,
          53,
          52,
          54,
          56,
          55,
          55,
          57,
          55,
          54,
          56,
          56,
          56,
          55,
          56,
          53,
          52,
          54,
          57,
          59,
          58,
          58,
          57,
          57,
          57,
          57,
          60,
          60,
          58,
          57,
          58,
          56,
          56,
          56,
          54,
          56,
          59,
          58,
          58,
          60,
          59,
          56,
          57,
          60,
          59,
          59,
          56,
          56,
          56,
          57,
          55,
          56,
          57,
          56,
          56,
          59,
          60,
          57,
          57,
          55,
          56,
          56,
          56,
          56,
          57,
          56,
          55,
          53,
          54,
          53,
          54,
          54,
          56,
          53,
          53,
          54,
          52,
          53,
          55,
          55,
          55,
          57,
          58,
          58,
          57,
          59,
          57,
          58,
          57,
          58,
          58,
          61,
          61,
          58,
          56,
          54,
          55,
          55,
          55,
          54,
          53,
          54,
          56,
          55,
          49,
          46,
          54,
          52,
          53,
          56
         ],
         "hovertemplate": "Chromosome=17<br>Negative=%{a}<br>Zero=%{b}<br>Positive=%{c}<extra></extra>",
         "legendgroup": "17",
         "marker": {
          "color": "#EF553B",
          "symbol": "circle"
         },
         "mode": "markers",
         "name": "17",
         "showlegend": true,
         "subplot": "ternary",
         "type": "scatterternary"
        },
        {
         "a": [
          27.0,
          28.0,
          29.0,
          28.0,
          26.0,
          27.0,
          28.0,
          29.0,
          29.0,
          30.0,
          31.0,
          30.0,
          29.0,
          29.0,
          29.0,
          30.0,
          31.0,
          29.0,
          30.0,
          27.0,
          24.0,
          18.0,
          27.0,
          31.0,
          29.0,
          29.0,
          27.0,
          28.0,
          28.0,
          29.0,
          27.0,
          27.0,
          27.0,
          27.0,
          28.0,
          28.0,
          28.0,
          29.0,
          28.0,
          28.0,
          29.0,
          31.0,
          28.0,
          29.0,
          33.0,
          33.0,
          32.0,
          31.0,
          33.0,
          32.0,
          31.0,
          31.0,
          32.0,
          32.0,
          30.0,
          30.0
         ],
         "b": [
          17,
          16,
          15,
          15,
          17,
          17,
          18,
          17,
          19,
          17,
          17,
          17,
          16,
          16,
          15,
          14,
          14,
          14,
          15,
          13,
          12,
          15,
          15,
          13,
          14,
          15,
          16,
          17,
          16,
          15,
          17,
          16,
          15,
          15,
          14,
          16,
          14,
          13,
          11,
          13,
          11,
          10,
          12,
          12,
          10,
          10,
          11,
          13,
          13,
          13,
          12,
          13,
          13,
          13,
          14,
          14
         ],
         "c": [
          56,
          56,
          56,
          57,
          57,
          56,
          54,
          54,
          52,
          53,
          52,
          53,
          55,
          55,
          56,
          56,
          55,
          57,
          55,
          60,
          64,
          67,
          58,
          56,
          57,
          56,
          57,
          55,
          56,
          56,
          56,
          57,
          58,
          58,
          58,
          56,
          58,
          58,
          61,
          59,
          60,
          59,
          60,
          59,
          57,
          57,
          57,
          56,
          54,
          55,
          57,
          56,
          55,
          55,
          56,
          56
         ],
         "hovertemplate": "Chromosome=18<br>Negative=%{a}<br>Zero=%{b}<br>Positive=%{c}<extra></extra>",
         "legendgroup": "18",
         "marker": {
          "color": "#00cc96",
          "symbol": "circle"
         },
         "mode": "markers",
         "name": "18",
         "showlegend": true,
         "subplot": "ternary",
         "type": "scatterternary"
        },
        {
         "a": [
          25.0,
          40.0,
          26.0,
          28.0,
          26.0,
          28.0,
          27.0,
          22.0,
          20.0,
          20.0,
          12.0,
          18.0,
          18.0,
          22.0,
          19.0,
          20.0,
          19.0,
          18.0,
          19.0,
          20.0,
          20.0,
          18.0,
          14.0,
          15.0,
          15.0,
          15.0,
          17.0,
          14.0,
          12.0,
          12.0,
          11.0,
          9.0,
          8.0,
          8.0,
          9.0,
          9.0,
          8.0,
          8.0,
          8.0,
          10.0,
          27.0,
          12.0,
          10.0,
          10.0,
          10.0,
          9.0,
          7.0,
          7.0,
          7.0,
          7.0,
          7.0,
          5.0,
          7.0,
          7.0,
          8.0,
          10.0,
          10.0,
          10.0,
          9.0,
          9.0,
          13.0,
          9.0,
          11.0,
          10.0,
          9.0,
          9.0,
          10.0,
          12.0,
          12.0,
          12.0,
          16.0,
          19.0,
          17.0,
          17.0,
          17.0,
          16.0,
          17.0,
          14.0,
          13.0,
          12.0,
          12.0,
          12.0,
          12.0,
          12.0,
          9.0,
          12.0,
          14.0,
          21.0,
          13.0,
          11.0,
          11.0,
          11.0,
          11.0,
          10.0,
          12.0,
          8.0,
          9.0,
          10.0,
          10.0,
          9.0,
          10.0,
          14.0,
          14.0,
          20.0
         ],
         "b": [
          10,
          13,
          6,
          6,
          7,
          6,
          6,
          11,
          10,
          10,
          11,
          10,
          11,
          10,
          12,
          9,
          10,
          12,
          12,
          14,
          13,
          11,
          13,
          15,
          17,
          16,
          16,
          17,
          17,
          18,
          17,
          19,
          21,
          23,
          21,
          22,
          22,
          24,
          23,
          20,
          17,
          19,
          19,
          19,
          18,
          20,
          19,
          19,
          19,
          17,
          21,
          24,
          22,
          24,
          21,
          20,
          21,
          21,
          21,
          22,
          20,
          20,
          18,
          18,
          20,
          18,
          15,
          14,
          13,
          13,
          12,
          12,
          12,
          13,
          13,
          13,
          13,
          14,
          14,
          14,
          15,
          18,
          19,
          19,
          20,
          18,
          19,
          18,
          20,
          18,
          17,
          17,
          17,
          19,
          19,
          20,
          20,
          18,
          16,
          16,
          15,
          16,
          16,
          16
         ],
         "c": [
          65,
          47,
          68,
          66,
          67,
          66,
          67,
          67,
          70,
          70,
          77,
          72,
          71,
          68,
          69,
          71,
          71,
          70,
          69,
          66,
          67,
          71,
          73,
          70,
          68,
          69,
          67,
          69,
          71,
          70,
          72,
          72,
          71,
          69,
          70,
          69,
          70,
          68,
          69,
          70,
          56,
          69,
          71,
          71,
          72,
          71,
          74,
          74,
          74,
          76,
          72,
          71,
          71,
          69,
          71,
          70,
          69,
          69,
          70,
          69,
          67,
          71,
          71,
          72,
          71,
          73,
          75,
          74,
          75,
          75,
          72,
          69,
          71,
          70,
          70,
          71,
          70,
          72,
          73,
          74,
          73,
          70,
          69,
          69,
          71,
          70,
          67,
          61,
          67,
          71,
          72,
          72,
          72,
          71,
          69,
          72,
          71,
          72,
          74,
          75,
          75,
          70,
          70,
          64
         ],
         "hovertemplate": "Chromosome=19<br>Negative=%{a}<br>Zero=%{b}<br>Positive=%{c}<extra></extra>",
         "legendgroup": "19",
         "marker": {
          "color": "#ab63fa",
          "symbol": "circle"
         },
         "mode": "markers",
         "name": "19",
         "showlegend": true,
         "subplot": "ternary",
         "type": "scatterternary"
        },
        {
         "a": [
          18.0,
          24.0,
          21.0,
          19.0,
          16.0,
          23.0,
          26.0,
          17.0,
          16.0,
          16.0,
          16.0,
          16.0,
          17.0,
          18.0,
          16.0,
          17.0,
          18.0,
          18.0,
          18.0,
          17.0,
          16.0,
          14.0,
          14.0,
          17.0,
          14.0,
          12.0,
          12.0,
          14.0,
          13.0,
          12.0,
          14.0,
          10.0,
          10.0,
          6.0,
          5.0,
          6.0,
          4.0,
          4.0,
          4.0,
          6.0,
          7.0,
          10.0,
          11.0,
          11.0,
          11.0,
          9.0,
          6.0,
          5.0,
          5.0,
          5.0,
          5.0,
          4.0,
          5.0,
          5.0,
          7.0,
          7.0,
          7.0,
          8.0,
          10.0,
          11.0,
          12.0,
          9.0,
          10.0,
          8.0,
          12.0,
          12.0,
          12.0,
          12.0,
          11.0,
          10.0,
          10.0,
          10.0,
          10.0,
          11.0,
          10.0,
          10.0,
          10.0,
          11.0,
          11.0,
          11.0,
          10.0,
          11.0,
          10.0,
          8.0,
          9.0,
          7.0,
          4.0,
          6.0,
          7.0,
          5.0,
          4.0,
          4.0,
          4.0,
          4.0,
          5.0,
          5.0,
          5.0,
          5.0,
          5.0,
          5.0,
          4.0,
          4.0,
          6.0,
          6.0,
          6.0,
          5.0,
          5.0,
          5.0,
          5.0,
          5.0,
          5.0
         ],
         "b": [
          25,
          25,
          25,
          25,
          27,
          23,
          21,
          24,
          24,
          24,
          25,
          24,
          25,
          25,
          25,
          24,
          23,
          23,
          22,
          23,
          26,
          29,
          27,
          25,
          26,
          29,
          30,
          29,
          30,
          29,
          25,
          27,
          27,
          24,
          25,
          25,
          32,
          34,
          34,
          32,
          31,
          30,
          30,
          30,
          31,
          30,
          33,
          33,
          35,
          35,
          36,
          33,
          33,
          36,
          34,
          32,
          33,
          33,
          32,
          30,
          28,
          28,
          29,
          30,
          29,
          28,
          29,
          28,
          32,
          33,
          35,
          36,
          37,
          36,
          38,
          39,
          39,
          38,
          37,
          41,
          44,
          41,
          41,
          43,
          42,
          41,
          43,
          44,
          45,
          43,
          45,
          44,
          46,
          47,
          46,
          43,
          45,
          43,
          44,
          43,
          44,
          43,
          41,
          43,
          43,
          46,
          47,
          46,
          46,
          45,
          44
         ],
         "c": [
          57,
          51,
          54,
          56,
          57,
          54,
          53,
          59,
          60,
          60,
          59,
          60,
          58,
          57,
          59,
          59,
          59,
          59,
          60,
          60,
          58,
          57,
          59,
          58,
          60,
          59,
          58,
          57,
          57,
          59,
          61,
          63,
          63,
          70,
          70,
          69,
          64,
          62,
          62,
          62,
          62,
          60,
          59,
          59,
          58,
          61,
          61,
          62,
          60,
          60,
          59,
          63,
          62,
          59,
          59,
          61,
          60,
          59,
          58,
          59,
          60,
          63,
          61,
          62,
          59,
          60,
          59,
          60,
          57,
          57,
          55,
          54,
          53,
          53,
          52,
          51,
          51,
          51,
          52,
          48,
          46,
          48,
          49,
          49,
          49,
          52,
          53,
          50,
          48,
          52,
          51,
          52,
          50,
          49,
          49,
          52,
          50,
          52,
          51,
          52,
          52,
          53,
          53,
          51,
          51,
          49,
          48,
          49,
          49,
          50,
          51
         ],
         "hovertemplate": "Chromosome=20<br>Negative=%{a}<br>Zero=%{b}<br>Positive=%{c}<extra></extra>",
         "legendgroup": "20",
         "marker": {
          "color": "#FFA15A",
          "symbol": "circle"
         },
         "mode": "markers",
         "name": "20",
         "showlegend": true,
         "subplot": "ternary",
         "type": "scatterternary"
        }
       ],
       "layout": {
        "template": {
         "data": {
          "histogram2dcontour": [
           {
            "type": "histogram2dcontour",
            "colorbar": {
             "outlinewidth": 0,
             "ticks": ""
            },
            "colorscale": [
             [
              0.0,
              "#0d0887"
             ],
             [
              0.1111111111111111,
              "#46039f"
             ],
             [
              0.2222222222222222,
              "#7201a8"
             ],
             [
              0.3333333333333333,
              "#9c179e"
             ],
             [
              0.4444444444444444,
              "#bd3786"
             ],
             [
              0.5555555555555556,
              "#d8576b"
             ],
             [
              0.6666666666666666,
              "#ed7953"
             ],
             [
              0.7777777777777778,
              "#fb9f3a"
             ],
             [
              0.8888888888888888,
              "#fdca26"
             ],
             [
              1.0,
              "#f0f921"
             ]
            ]
           }
          ],
          "choropleth": [
           {
            "type": "choropleth",
            "colorbar": {
             "outlinewidth": 0,
             "ticks": ""
            }
           }
          ],
          "histogram2d": [
           {
            "type": "histogram2d",
            "colorbar": {
             "outlinewidth": 0,
             "ticks": ""
            },
            "colorscale": [
             [
              0.0,
              "#0d0887"
             ],
             [
              0.1111111111111111,
              "#46039f"
             ],
             [
              0.2222222222222222,
              "#7201a8"
             ],
             [
              0.3333333333333333,
              "#9c179e"
             ],
             [
              0.4444444444444444,
              "#bd3786"
             ],
             [
              0.5555555555555556,
              "#d8576b"
             ],
             [
              0.6666666666666666,
              "#ed7953"
             ],
             [
              0.7777777777777778,
              "#fb9f3a"
             ],
             [
              0.8888888888888888,
              "#fdca26"
             ],
             [
              1.0,
              "#f0f921"
             ]
            ]
           }
          ],
          "heatmap": [
           {
            "type": "heatmap",
            "colorbar": {
             "outlinewidth": 0,
             "ticks": ""
            },
            "colorscale": [
             [
              0.0,
              "#0d0887"
             ],
             [
              0.1111111111111111,
              "#46039f"
             ],
             [
              0.2222222222222222,
              "#7201a8"
             ],
             [
              0.3333333333333333,
              "#9c179e"
             ],
             [
              0.4444444444444444,
              "#bd3786"
             ],
             [
              0.5555555555555556,
              "#d8576b"
             ],
             [
              0.6666666666666666,
              "#ed7953"
             ],
             [
              0.7777777777777778,
              "#fb9f3a"
             ],
             [
              0.8888888888888888,
              "#fdca26"
             ],
             [
              1.0,
              "#f0f921"
             ]
            ]
           }
          ],
          "heatmapgl": [
           {
            "type": "heatmapgl",
            "colorbar": {
             "outlinewidth": 0,
             "ticks": ""
            },
            "colorscale": [
             [
              0.0,
              "#0d0887"
             ],
             [
              0.1111111111111111,
              "#46039f"
             ],
             [
              0.2222222222222222,
              "#7201a8"
             ],
             [
              0.3333333333333333,
              "#9c179e"
             ],
             [
              0.4444444444444444,
              "#bd3786"
             ],
             [
              0.5555555555555556,
              "#d8576b"
             ],
             [
              0.6666666666666666,
              "#ed7953"
             ],
             [
              0.7777777777777778,
              "#fb9f3a"
             ],
             [
              0.8888888888888888,
              "#fdca26"
             ],
             [
              1.0,
              "#f0f921"
             ]
            ]
           }
          ],
          "contourcarpet": [
           {
            "type": "contourcarpet",
            "colorbar": {
             "outlinewidth": 0,
             "ticks": ""
            }
           }
          ],
          "contour": [
           {
            "type": "contour",
            "colorbar": {
             "outlinewidth": 0,
             "ticks": ""
            },
            "colorscale": [
             [
              0.0,
              "#0d0887"
             ],
             [
              0.1111111111111111,
              "#46039f"
             ],
             [
              0.2222222222222222,
              "#7201a8"
             ],
             [
              0.3333333333333333,
              "#9c179e"
             ],
             [
              0.4444444444444444,
              "#bd3786"
             ],
             [
              0.5555555555555556,
              "#d8576b"
             ],
             [
              0.6666666666666666,
              "#ed7953"
             ],
             [
              0.7777777777777778,
              "#fb9f3a"
             ],
             [
              0.8888888888888888,
              "#fdca26"
             ],
             [
              1.0,
              "#f0f921"
             ]
            ]
           }
          ],
          "surface": [
           {
            "type": "surface",
            "colorbar": {
             "outlinewidth": 0,
             "ticks": ""
            },
            "colorscale": [
             [
              0.0,
              "#0d0887"
             ],
             [
              0.1111111111111111,
              "#46039f"
             ],
             [
              0.2222222222222222,
              "#7201a8"
             ],
             [
              0.3333333333333333,
              "#9c179e"
             ],
             [
              0.4444444444444444,
              "#bd3786"
             ],
             [
              0.5555555555555556,
              "#d8576b"
             ],
             [
              0.6666666666666666,
              "#ed7953"
             ],
             [
              0.7777777777777778,
              "#fb9f3a"
             ],
             [
              0.8888888888888888,
              "#fdca26"
             ],
             [
              1.0,
              "#f0f921"
             ]
            ]
           }
          ],
          "mesh3d": [
           {
            "type": "mesh3d",
            "colorbar": {
             "outlinewidth": 0,
             "ticks": ""
            }
           }
          ],
          "scatter": [
           {
            "marker": {
             "line": {
              "color": "#283442"
             }
            },
            "type": "scatter"
           }
          ],
          "parcoords": [
           {
            "type": "parcoords",
            "line": {
             "colorbar": {
              "outlinewidth": 0,
              "ticks": ""
             }
            }
           }
          ],
          "scatterpolargl": [
           {
            "type": "scatterpolargl",
            "marker": {
             "colorbar": {
              "outlinewidth": 0,
              "ticks": ""
             }
            }
           }
          ],
          "bar": [
           {
            "error_x": {
             "color": "#f2f5fa"
            },
            "error_y": {
             "color": "#f2f5fa"
            },
            "marker": {
             "line": {
              "color": "rgb(17,17,17)",
              "width": 0.5
             },
             "pattern": {
              "fillmode": "overlay",
              "size": 10,
              "solidity": 0.2
             }
            },
            "type": "bar"
           }
          ],
          "scattergeo": [
           {
            "type": "scattergeo",
            "marker": {
             "colorbar": {
              "outlinewidth": 0,
              "ticks": ""
             }
            }
           }
          ],
          "scatterpolar": [
           {
            "type": "scatterpolar",
            "marker": {
             "colorbar": {
              "outlinewidth": 0,
              "ticks": ""
             }
            }
           }
          ],
          "histogram": [
           {
            "marker": {
             "pattern": {
              "fillmode": "overlay",
              "size": 10,
              "solidity": 0.2
             }
            },
            "type": "histogram"
           }
          ],
          "scattergl": [
           {
            "marker": {
             "line": {
              "color": "#283442"
             }
            },
            "type": "scattergl"
           }
          ],
          "scatter3d": [
           {
            "type": "scatter3d",
            "line": {
             "colorbar": {
              "outlinewidth": 0,
              "ticks": ""
             }
            },
            "marker": {
             "colorbar": {
              "outlinewidth": 0,
              "ticks": ""
             }
            }
           }
          ],
          "scattermapbox": [
           {
            "type": "scattermapbox",
            "marker": {
             "colorbar": {
              "outlinewidth": 0,
              "ticks": ""
             }
            }
           }
          ],
          "scatterternary": [
           {
            "type": "scatterternary",
            "marker": {
             "colorbar": {
              "outlinewidth": 0,
              "ticks": ""
             }
            }
           }
          ],
          "scattercarpet": [
           {
            "type": "scattercarpet",
            "marker": {
             "colorbar": {
              "outlinewidth": 0,
              "ticks": ""
             }
            }
           }
          ],
          "carpet": [
           {
            "aaxis": {
             "endlinecolor": "#A2B1C6",
             "gridcolor": "#506784",
             "linecolor": "#506784",
             "minorgridcolor": "#506784",
             "startlinecolor": "#A2B1C6"
            },
            "baxis": {
             "endlinecolor": "#A2B1C6",
             "gridcolor": "#506784",
             "linecolor": "#506784",
             "minorgridcolor": "#506784",
             "startlinecolor": "#A2B1C6"
            },
            "type": "carpet"
           }
          ],
          "table": [
           {
            "cells": {
             "fill": {
              "color": "#506784"
             },
             "line": {
              "color": "rgb(17,17,17)"
             }
            },
            "header": {
             "fill": {
              "color": "#2a3f5f"
             },
             "line": {
              "color": "rgb(17,17,17)"
             }
            },
            "type": "table"
           }
          ],
          "barpolar": [
           {
            "marker": {
             "line": {
              "color": "rgb(17,17,17)",
              "width": 0.5
             },
             "pattern": {
              "fillmode": "overlay",
              "size": 10,
              "solidity": 0.2
             }
            },
            "type": "barpolar"
           }
          ],
          "pie": [
           {
            "automargin": true,
            "type": "pie"
           }
          ]
         },
         "layout": {
          "autotypenumbers": "strict",
          "colorway": [
           "#636efa",
           "#EF553B",
           "#00cc96",
           "#ab63fa",
           "#FFA15A",
           "#19d3f3",
           "#FF6692",
           "#B6E880",
           "#FF97FF",
           "#FECB52"
          ],
          "font": {
           "color": "#f2f5fa"
          },
          "hovermode": "closest",
          "hoverlabel": {
           "align": "left"
          },
          "paper_bgcolor": "rgb(17,17,17)",
          "plot_bgcolor": "rgb(17,17,17)",
          "polar": {
           "bgcolor": "rgb(17,17,17)",
           "angularaxis": {
            "gridcolor": "#506784",
            "linecolor": "#506784",
            "ticks": ""
           },
           "radialaxis": {
            "gridcolor": "#506784",
            "linecolor": "#506784",
            "ticks": ""
           }
          },
          "ternary": {
           "bgcolor": "rgb(17,17,17)",
           "aaxis": {
            "gridcolor": "#506784",
            "linecolor": "#506784",
            "ticks": ""
           },
           "baxis": {
            "gridcolor": "#506784",
            "linecolor": "#506784",
            "ticks": ""
           },
           "caxis": {
            "gridcolor": "#506784",
            "linecolor": "#506784",
            "ticks": ""
           }
          },
          "coloraxis": {
           "colorbar": {
            "outlinewidth": 0,
            "ticks": ""
           }
          },
          "colorscale": {
           "sequential": [
            [
             0.0,
             "#0d0887"
            ],
            [
             0.1111111111111111,
             "#46039f"
            ],
            [
             0.2222222222222222,
             "#7201a8"
            ],
            [
             0.3333333333333333,
             "#9c179e"
            ],
            [
             0.4444444444444444,
             "#bd3786"
            ],
            [
             0.5555555555555556,
             "#d8576b"
            ],
            [
             0.6666666666666666,
             "#ed7953"
            ],
            [
             0.7777777777777778,
             "#fb9f3a"
            ],
            [
             0.8888888888888888,
             "#fdca26"
            ],
            [
             1.0,
             "#f0f921"
            ]
           ],
           "sequentialminus": [
            [
             0.0,
             "#0d0887"
            ],
            [
             0.1111111111111111,
             "#46039f"
            ],
            [
             0.2222222222222222,
             "#7201a8"
            ],
            [
             0.3333333333333333,
             "#9c179e"
            ],
            [
             0.4444444444444444,
             "#bd3786"
            ],
            [
             0.5555555555555556,
             "#d8576b"
            ],
            [
             0.6666666666666666,
             "#ed7953"
            ],
            [
             0.7777777777777778,
             "#fb9f3a"
            ],
            [
             0.8888888888888888,
             "#fdca26"
            ],
            [
             1.0,
             "#f0f921"
            ]
           ],
           "diverging": [
            [
             0,
             "#8e0152"
            ],
            [
             0.1,
             "#c51b7d"
            ],
            [
             0.2,
             "#de77ae"
            ],
            [
             0.3,
             "#f1b6da"
            ],
            [
             0.4,
             "#fde0ef"
            ],
            [
             0.5,
             "#f7f7f7"
            ],
            [
             0.6,
             "#e6f5d0"
            ],
            [
             0.7,
             "#b8e186"
            ],
            [
             0.8,
             "#7fbc41"
            ],
            [
             0.9,
             "#4d9221"
            ],
            [
             1,
             "#276419"
            ]
           ]
          },
          "xaxis": {
           "gridcolor": "#283442",
           "linecolor": "#506784",
           "ticks": "",
           "title": {
            "standoff": 15
           },
           "zerolinecolor": "#283442",
           "automargin": true,
           "zerolinewidth": 2
          },
          "yaxis": {
           "gridcolor": "#283442",
           "linecolor": "#506784",
           "ticks": "",
           "title": {
            "standoff": 15
           },
           "zerolinecolor": "#283442",
           "automargin": true,
           "zerolinewidth": 2
          },
          "scene": {
           "xaxis": {
            "backgroundcolor": "rgb(17,17,17)",
            "gridcolor": "#506784",
            "linecolor": "#506784",
            "showbackground": true,
            "ticks": "",
            "zerolinecolor": "#C8D4E3",
            "gridwidth": 2
           },
           "yaxis": {
            "backgroundcolor": "rgb(17,17,17)",
            "gridcolor": "#506784",
            "linecolor": "#506784",
            "showbackground": true,
            "ticks": "",
            "zerolinecolor": "#C8D4E3",
            "gridwidth": 2
           },
           "zaxis": {
            "backgroundcolor": "rgb(17,17,17)",
            "gridcolor": "#506784",
            "linecolor": "#506784",
            "showbackground": true,
            "ticks": "",
            "zerolinecolor": "#C8D4E3",
            "gridwidth": 2
           }
          },
          "shapedefaults": {
           "line": {
            "color": "#f2f5fa"
           }
          },
          "annotationdefaults": {
           "arrowcolor": "#f2f5fa",
           "arrowhead": 0,
           "arrowwidth": 1
          },
          "geo": {
           "bgcolor": "rgb(17,17,17)",
           "landcolor": "rgb(17,17,17)",
           "subunitcolor": "#506784",
           "showland": true,
           "showlakes": true,
           "lakecolor": "rgb(17,17,17)"
          },
          "title": {
           "x": 0.05
          },
          "updatemenudefaults": {
           "bgcolor": "#506784",
           "borderwidth": 0
          },
          "sliderdefaults": {
           "bgcolor": "#C8D4E3",
           "borderwidth": 1,
           "bordercolor": "rgb(17,17,17)",
           "tickwidth": 0
          },
          "mapbox": {
           "style": "dark"
          }
         }
        },
        "ternary": {
         "domain": {
          "x": [
           0.0,
           1.0
          ],
          "y": [
           0.0,
           1.0
          ]
         },
         "aaxis": {
          "title": {
           "text": "Negative"
          }
         },
         "baxis": {
          "title": {
           "text": "Zero"
          }
         },
         "caxis": {
          "title": {
           "text": "Positive"
          }
         }
        },
        "legend": {
         "title": {
          "text": "Chromosome"
         },
         "tracegroupgap": 0
        },
        "margin": {
         "t": 60
        }
       },
       "config": {
        "plotlyServerURL": "https://plot.ly"
       }
      },
      "text/html": "<div>                            <div id=\"67e90b2f-1540-4f62-8415-017a24e94602\" class=\"plotly-graph-div\" style=\"height:525px; width:100%;\"></div>            <script type=\"text/javascript\">                require([\"plotly\"], function(Plotly) {                    window.PLOTLYENV=window.PLOTLYENV || {};                                    if (document.getElementById(\"67e90b2f-1540-4f62-8415-017a24e94602\")) {                    Plotly.newPlot(                        \"67e90b2f-1540-4f62-8415-017a24e94602\",                        [{\"a\":[2.0,3.0,6.0,3.0,5.0,3.0,4.0,3.0,32.0,3.0,3.0,3.0,3.0,4.0,6.0,11.0,3.0,5.0,4.0,3.0,3.0,2.0,3.0,3.0,3.0,2.0,2.0,2.0,5.0,7.0,8.0,9.0,6.0,11.0,12.0,11.0,13.0,11.0,22.0,21.0,20.0,21.0,21.0,22.0,23.0,23.0,24.0,24.0,23.0,24.0,22.0,22.0,23.0,23.0,23.0,24.0,50.0,18.0,25.0,27.0,28.0,30.0,30.0,31.0,32.0,31.0,33.0,33.0,33.0,32.0,33.0,37.0,34.0,55.0,32.0,32.0,31.0,11.0,32.0,33.0,34.0,34.0,45.0,37.0,33.0,36.0,35.0,36.0,35.0,25.0,34.0,37.0,36.0],\"b\":[37,35,34,34,34,36,37,36,21,37,37,38,38,35,34,33,35,36,36,37,43,37,32,38,37,38,44,46,48,48,40,42,37,26,27,32,30,29,19,19,20,18,19,17,14,15,15,14,15,13,13,14,15,15,15,14,8,21,12,12,12,12,10,11,11,13,12,11,12,13,13,11,12,10,14,14,14,31,16,14,11,11,9,11,11,10,9,11,14,14,13,10,11],\"c\":[61,62,60,63,61,61,59,61,47,60,60,59,59,61,60,56,62,59,60,60,54,61,65,59,60,60,54,52,47,45,52,49,57,63,61,57,57,60,59,60,60,61,60,61,63,62,61,62,62,63,65,64,62,62,62,62,42,61,63,61,60,58,60,58,57,56,55,56,55,55,54,52,54,35,54,54,55,58,52,53,55,55,46,52,56,54,56,53,51,61,53,53,53],\"hovertemplate\":\"Chromosome=16<br>Negative=%{a}<br>Zero=%{b}<br>Positive=%{c}<extra></extra>\",\"legendgroup\":\"16\",\"marker\":{\"color\":\"#636efa\",\"symbol\":\"circle\"},\"mode\":\"markers\",\"name\":\"16\",\"showlegend\":true,\"subplot\":\"ternary\",\"type\":\"scatterternary\"},{\"a\":[50.0,51.0,54.0,24.0,28.0,39.0,45.0,51.0,48.0,52.0,51.0,52.0,51.0,51.0,49.0,39.0,51.0,31.0,50.0,31.0,19.0,16.0,49.0,51.0,51.0,48.0,57.0,53.0,54.0,52.0,54.0,51.0,55.0,57.0,57.0,57.0,56.0,57.0,57.0,55.0,56.0,56.0,52.0,53.0,55.0,53.0,50.0,54.0,52.0,51.0,50.0,50.0,51.0,36.0,42.0,48.0,49.0,48.0,45.0,44.0,44.0,41.0,33.0,29.0,30.0,29.0,29.0,29.0,28.0,28.0,28.0,25.0,25.0,26.0,24.0,24.0,24.0,25.0,25.0,25.0,24.0,24.0,24.0,24.0,24.0,24.0,27.0,27.0,27.0,28.0,24.0,29.0,29.0,30.0,30.0,31.0,32.0,32.0,34.0,29.0,34.0,35.0,33.0,34.0,35.0,37.0,36.0,37.0,35.0,35.0,38.0,36.0,37.0,37.0,37.0,34.0,35.0,35.0,35.0,33.0,34.0,34.0,33.0,33.0,32.0,30.0,30.0,32.0,30.0,29.0,29.0,28.0,26.0,25.0,28.0,28.0,28.0,27.0,26.0,26.0,24.0,19.0,15.0,15.0,16.0,21.0,22.0,26.0,27.0,27.0,28.0,29.0,30.0,33.0,34.0,35.0,35.0,36.0,34.0,35.0,32.0,35.0,35.0,38.0,39.0,41.0,41.0,39.0,40.0,40.0,33.0,34.0,37.0,36.0,64.0,77.0,75.0,33.0,35.0,34.0,34.0,29.0,32.0,31.0,30.0,27.0,27.0,25.0,24.0,22.0,22.0,21.0,20.0,18.0,17.0,16.0,16.0,15.0,14.0,14.0,15.0,15.0,15.0,16.0,15.0,13.0,12.0,12.0,12.0,11.0,11.0,10.0,12.0,14.0,16.0,14.0,15.0,15.0,15.0,17.0,17.0,17.0,17.0,17.0,15.0,15.0,15.0,15.0,15.0,13.0,14.0,14.0,13.0,15.0,14.0,15.0,14.0,13.0,13.0,12.0,13.0,12.0,12.0,12.0,12.0,13.0,12.0,13.0,13.0,13.0,12.0,12.0,11.0,9.0,9.0,9.0,8.0,8.0,7.0,7.0,7.0,8.0,10.0,11.0,10.0,11.0,10.0,9.0,7.0,7.0,8.0,8.0,9.0,9.0,11.0,11.0,10.0,9.0,8.0,9.0,12.0,10.0,10.0,9.0,10.0,10.0,10.0,10.0,10.0,8.0,9.0,8.0,9.0,9.0,9.0,10.0,9.0,9.0,10.0,12.0,10.0,12.0,11.0,13.0,13.0,13.0,12.0,12.0,13.0,13.0,15.0,16.0,16.0,16.0,15.0,14.0,14.0,13.0,13.0,13.0,14.0,13.0,14.0,13.0,13.0,12.0,12.0,12.0,13.0,13.0,13.0,14.0,14.0,14.0,13.0,15.0,15.0,14.0,16.0,16.0,15.0,17.0,16.0,19.0],\"b\":[5,4,3,17,14,9,7,3,7,3,3,2,3,4,5,12,4,19,4,16,22,22,5,4,5,3,1,4,3,3,3,4,3,3,3,4,5,4,3,5,3,3,4,3,3,3,5,5,7,7,7,7,5,10,5,5,5,7,9,9,6,5,11,18,17,15,16,17,18,18,18,19,20,18,19,18,17,17,18,18,18,17,20,20,19,19,18,17,17,15,17,14,17,15,15,11,10,12,14,16,14,14,16,13,13,10,11,11,12,12,11,12,15,17,15,17,17,17,16,18,17,16,17,17,16,16,15,15,15,15,14,15,17,13,12,15,14,15,15,15,13,14,13,41,11,12,10,10,13,14,15,16,15,16,15,15,18,14,15,15,16,15,15,12,11,10,10,13,12,11,15,13,11,10,9,6,6,24,15,15,16,22,15,15,16,17,19,20,18,20,20,22,22,23,24,25,23,22,23,22,22,26,26,25,24,25,26,26,27,30,26,29,29,30,28,30,29,29,30,28,28,29,29,27,29,30,27,30,30,34,31,33,31,31,30,32,34,33,31,33,32,31,33,34,32,31,32,32,31,34,36,34,32,32,33,33,35,35,36,36,33,32,32,32,32,33,34,35,39,37,33,34,33,31,30,33,33,31,33,32,32,34,34,34,35,34,33,34,34,33,31,35,34,36,35,34,35,35,33,32,35,35,35,34,33,33,32,35,34,33,33,31,29,29,30,29,28,29,30,28,29,29,29,29,29,27,27,30,31,33,32,31,31,32,34,31,29,31,35,38,31,31,31,25],\"c\":[45,45,43,59,58,52,48,46,45,45,46,46,46,45,46,49,45,50,46,53,59,62,46,45,44,49,42,43,43,45,43,45,42,40,40,39,39,39,40,40,41,41,44,44,42,44,45,41,41,42,43,43,44,54,53,47,46,45,46,47,50,54,56,53,53,56,55,54,54,54,54,56,55,56,57,58,59,58,57,57,58,59,56,56,57,57,55,56,56,57,59,57,54,55,55,58,58,56,52,55,52,51,51,53,52,53,53,52,53,53,51,52,48,46,48,49,48,48,49,49,49,50,50,50,52,54,55,53,55,56,57,57,57,62,60,57,58,58,59,59,63,67,72,44,73,67,68,64,60,59,57,55,55,51,51,50,47,50,51,50,52,50,50,50,50,49,49,48,48,49,52,53,52,54,27,17,19,43,50,51,50,49,53,54,54,56,54,55,58,58,58,57,58,59,59,59,61,63,63,64,63,59,59,59,61,62,62,62,61,59,63,61,59,56,56,56,56,56,55,55,55,54,54,56,56,55,58,55,55,53,55,53,56,54,56,53,52,54,56,55,55,57,55,54,56,56,56,55,56,53,52,54,57,59,58,58,57,57,57,57,60,60,58,57,58,56,56,56,54,56,59,58,58,60,59,56,57,60,59,59,56,56,56,57,55,56,57,56,56,59,60,57,57,55,56,56,56,56,57,56,55,53,54,53,54,54,56,53,53,54,52,53,55,55,55,57,58,58,57,59,57,58,57,58,58,61,61,58,56,54,55,55,55,54,53,54,56,55,49,46,54,52,53,56],\"hovertemplate\":\"Chromosome=17<br>Negative=%{a}<br>Zero=%{b}<br>Positive=%{c}<extra></extra>\",\"legendgroup\":\"17\",\"marker\":{\"color\":\"#EF553B\",\"symbol\":\"circle\"},\"mode\":\"markers\",\"name\":\"17\",\"showlegend\":true,\"subplot\":\"ternary\",\"type\":\"scatterternary\"},{\"a\":[27.0,28.0,29.0,28.0,26.0,27.0,28.0,29.0,29.0,30.0,31.0,30.0,29.0,29.0,29.0,30.0,31.0,29.0,30.0,27.0,24.0,18.0,27.0,31.0,29.0,29.0,27.0,28.0,28.0,29.0,27.0,27.0,27.0,27.0,28.0,28.0,28.0,29.0,28.0,28.0,29.0,31.0,28.0,29.0,33.0,33.0,32.0,31.0,33.0,32.0,31.0,31.0,32.0,32.0,30.0,30.0],\"b\":[17,16,15,15,17,17,18,17,19,17,17,17,16,16,15,14,14,14,15,13,12,15,15,13,14,15,16,17,16,15,17,16,15,15,14,16,14,13,11,13,11,10,12,12,10,10,11,13,13,13,12,13,13,13,14,14],\"c\":[56,56,56,57,57,56,54,54,52,53,52,53,55,55,56,56,55,57,55,60,64,67,58,56,57,56,57,55,56,56,56,57,58,58,58,56,58,58,61,59,60,59,60,59,57,57,57,56,54,55,57,56,55,55,56,56],\"hovertemplate\":\"Chromosome=18<br>Negative=%{a}<br>Zero=%{b}<br>Positive=%{c}<extra></extra>\",\"legendgroup\":\"18\",\"marker\":{\"color\":\"#00cc96\",\"symbol\":\"circle\"},\"mode\":\"markers\",\"name\":\"18\",\"showlegend\":true,\"subplot\":\"ternary\",\"type\":\"scatterternary\"},{\"a\":[25.0,40.0,26.0,28.0,26.0,28.0,27.0,22.0,20.0,20.0,12.0,18.0,18.0,22.0,19.0,20.0,19.0,18.0,19.0,20.0,20.0,18.0,14.0,15.0,15.0,15.0,17.0,14.0,12.0,12.0,11.0,9.0,8.0,8.0,9.0,9.0,8.0,8.0,8.0,10.0,27.0,12.0,10.0,10.0,10.0,9.0,7.0,7.0,7.0,7.0,7.0,5.0,7.0,7.0,8.0,10.0,10.0,10.0,9.0,9.0,13.0,9.0,11.0,10.0,9.0,9.0,10.0,12.0,12.0,12.0,16.0,19.0,17.0,17.0,17.0,16.0,17.0,14.0,13.0,12.0,12.0,12.0,12.0,12.0,9.0,12.0,14.0,21.0,13.0,11.0,11.0,11.0,11.0,10.0,12.0,8.0,9.0,10.0,10.0,9.0,10.0,14.0,14.0,20.0],\"b\":[10,13,6,6,7,6,6,11,10,10,11,10,11,10,12,9,10,12,12,14,13,11,13,15,17,16,16,17,17,18,17,19,21,23,21,22,22,24,23,20,17,19,19,19,18,20,19,19,19,17,21,24,22,24,21,20,21,21,21,22,20,20,18,18,20,18,15,14,13,13,12,12,12,13,13,13,13,14,14,14,15,18,19,19,20,18,19,18,20,18,17,17,17,19,19,20,20,18,16,16,15,16,16,16],\"c\":[65,47,68,66,67,66,67,67,70,70,77,72,71,68,69,71,71,70,69,66,67,71,73,70,68,69,67,69,71,70,72,72,71,69,70,69,70,68,69,70,56,69,71,71,72,71,74,74,74,76,72,71,71,69,71,70,69,69,70,69,67,71,71,72,71,73,75,74,75,75,72,69,71,70,70,71,70,72,73,74,73,70,69,69,71,70,67,61,67,71,72,72,72,71,69,72,71,72,74,75,75,70,70,64],\"hovertemplate\":\"Chromosome=19<br>Negative=%{a}<br>Zero=%{b}<br>Positive=%{c}<extra></extra>\",\"legendgroup\":\"19\",\"marker\":{\"color\":\"#ab63fa\",\"symbol\":\"circle\"},\"mode\":\"markers\",\"name\":\"19\",\"showlegend\":true,\"subplot\":\"ternary\",\"type\":\"scatterternary\"},{\"a\":[18.0,24.0,21.0,19.0,16.0,23.0,26.0,17.0,16.0,16.0,16.0,16.0,17.0,18.0,16.0,17.0,18.0,18.0,18.0,17.0,16.0,14.0,14.0,17.0,14.0,12.0,12.0,14.0,13.0,12.0,14.0,10.0,10.0,6.0,5.0,6.0,4.0,4.0,4.0,6.0,7.0,10.0,11.0,11.0,11.0,9.0,6.0,5.0,5.0,5.0,5.0,4.0,5.0,5.0,7.0,7.0,7.0,8.0,10.0,11.0,12.0,9.0,10.0,8.0,12.0,12.0,12.0,12.0,11.0,10.0,10.0,10.0,10.0,11.0,10.0,10.0,10.0,11.0,11.0,11.0,10.0,11.0,10.0,8.0,9.0,7.0,4.0,6.0,7.0,5.0,4.0,4.0,4.0,4.0,5.0,5.0,5.0,5.0,5.0,5.0,4.0,4.0,6.0,6.0,6.0,5.0,5.0,5.0,5.0,5.0,5.0],\"b\":[25,25,25,25,27,23,21,24,24,24,25,24,25,25,25,24,23,23,22,23,26,29,27,25,26,29,30,29,30,29,25,27,27,24,25,25,32,34,34,32,31,30,30,30,31,30,33,33,35,35,36,33,33,36,34,32,33,33,32,30,28,28,29,30,29,28,29,28,32,33,35,36,37,36,38,39,39,38,37,41,44,41,41,43,42,41,43,44,45,43,45,44,46,47,46,43,45,43,44,43,44,43,41,43,43,46,47,46,46,45,44],\"c\":[57,51,54,56,57,54,53,59,60,60,59,60,58,57,59,59,59,59,60,60,58,57,59,58,60,59,58,57,57,59,61,63,63,70,70,69,64,62,62,62,62,60,59,59,58,61,61,62,60,60,59,63,62,59,59,61,60,59,58,59,60,63,61,62,59,60,59,60,57,57,55,54,53,53,52,51,51,51,52,48,46,48,49,49,49,52,53,50,48,52,51,52,50,49,49,52,50,52,51,52,52,53,53,51,51,49,48,49,49,50,51],\"hovertemplate\":\"Chromosome=20<br>Negative=%{a}<br>Zero=%{b}<br>Positive=%{c}<extra></extra>\",\"legendgroup\":\"20\",\"marker\":{\"color\":\"#FFA15A\",\"symbol\":\"circle\"},\"mode\":\"markers\",\"name\":\"20\",\"showlegend\":true,\"subplot\":\"ternary\",\"type\":\"scatterternary\"}],                        {\"template\":{\"data\":{\"histogram2dcontour\":[{\"type\":\"histogram2dcontour\",\"colorbar\":{\"outlinewidth\":0,\"ticks\":\"\"},\"colorscale\":[[0.0,\"#0d0887\"],[0.1111111111111111,\"#46039f\"],[0.2222222222222222,\"#7201a8\"],[0.3333333333333333,\"#9c179e\"],[0.4444444444444444,\"#bd3786\"],[0.5555555555555556,\"#d8576b\"],[0.6666666666666666,\"#ed7953\"],[0.7777777777777778,\"#fb9f3a\"],[0.8888888888888888,\"#fdca26\"],[1.0,\"#f0f921\"]]}],\"choropleth\":[{\"type\":\"choropleth\",\"colorbar\":{\"outlinewidth\":0,\"ticks\":\"\"}}],\"histogram2d\":[{\"type\":\"histogram2d\",\"colorbar\":{\"outlinewidth\":0,\"ticks\":\"\"},\"colorscale\":[[0.0,\"#0d0887\"],[0.1111111111111111,\"#46039f\"],[0.2222222222222222,\"#7201a8\"],[0.3333333333333333,\"#9c179e\"],[0.4444444444444444,\"#bd3786\"],[0.5555555555555556,\"#d8576b\"],[0.6666666666666666,\"#ed7953\"],[0.7777777777777778,\"#fb9f3a\"],[0.8888888888888888,\"#fdca26\"],[1.0,\"#f0f921\"]]}],\"heatmap\":[{\"type\":\"heatmap\",\"colorbar\":{\"outlinewidth\":0,\"ticks\":\"\"},\"colorscale\":[[0.0,\"#0d0887\"],[0.1111111111111111,\"#46039f\"],[0.2222222222222222,\"#7201a8\"],[0.3333333333333333,\"#9c179e\"],[0.4444444444444444,\"#bd3786\"],[0.5555555555555556,\"#d8576b\"],[0.6666666666666666,\"#ed7953\"],[0.7777777777777778,\"#fb9f3a\"],[0.8888888888888888,\"#fdca26\"],[1.0,\"#f0f921\"]]}],\"heatmapgl\":[{\"type\":\"heatmapgl\",\"colorbar\":{\"outlinewidth\":0,\"ticks\":\"\"},\"colorscale\":[[0.0,\"#0d0887\"],[0.1111111111111111,\"#46039f\"],[0.2222222222222222,\"#7201a8\"],[0.3333333333333333,\"#9c179e\"],[0.4444444444444444,\"#bd3786\"],[0.5555555555555556,\"#d8576b\"],[0.6666666666666666,\"#ed7953\"],[0.7777777777777778,\"#fb9f3a\"],[0.8888888888888888,\"#fdca26\"],[1.0,\"#f0f921\"]]}],\"contourcarpet\":[{\"type\":\"contourcarpet\",\"colorbar\":{\"outlinewidth\":0,\"ticks\":\"\"}}],\"contour\":[{\"type\":\"contour\",\"colorbar\":{\"outlinewidth\":0,\"ticks\":\"\"},\"colorscale\":[[0.0,\"#0d0887\"],[0.1111111111111111,\"#46039f\"],[0.2222222222222222,\"#7201a8\"],[0.3333333333333333,\"#9c179e\"],[0.4444444444444444,\"#bd3786\"],[0.5555555555555556,\"#d8576b\"],[0.6666666666666666,\"#ed7953\"],[0.7777777777777778,\"#fb9f3a\"],[0.8888888888888888,\"#fdca26\"],[1.0,\"#f0f921\"]]}],\"surface\":[{\"type\":\"surface\",\"colorbar\":{\"outlinewidth\":0,\"ticks\":\"\"},\"colorscale\":[[0.0,\"#0d0887\"],[0.1111111111111111,\"#46039f\"],[0.2222222222222222,\"#7201a8\"],[0.3333333333333333,\"#9c179e\"],[0.4444444444444444,\"#bd3786\"],[0.5555555555555556,\"#d8576b\"],[0.6666666666666666,\"#ed7953\"],[0.7777777777777778,\"#fb9f3a\"],[0.8888888888888888,\"#fdca26\"],[1.0,\"#f0f921\"]]}],\"mesh3d\":[{\"type\":\"mesh3d\",\"colorbar\":{\"outlinewidth\":0,\"ticks\":\"\"}}],\"scatter\":[{\"marker\":{\"line\":{\"color\":\"#283442\"}},\"type\":\"scatter\"}],\"parcoords\":[{\"type\":\"parcoords\",\"line\":{\"colorbar\":{\"outlinewidth\":0,\"ticks\":\"\"}}}],\"scatterpolargl\":[{\"type\":\"scatterpolargl\",\"marker\":{\"colorbar\":{\"outlinewidth\":0,\"ticks\":\"\"}}}],\"bar\":[{\"error_x\":{\"color\":\"#f2f5fa\"},\"error_y\":{\"color\":\"#f2f5fa\"},\"marker\":{\"line\":{\"color\":\"rgb(17,17,17)\",\"width\":0.5},\"pattern\":{\"fillmode\":\"overlay\",\"size\":10,\"solidity\":0.2}},\"type\":\"bar\"}],\"scattergeo\":[{\"type\":\"scattergeo\",\"marker\":{\"colorbar\":{\"outlinewidth\":0,\"ticks\":\"\"}}}],\"scatterpolar\":[{\"type\":\"scatterpolar\",\"marker\":{\"colorbar\":{\"outlinewidth\":0,\"ticks\":\"\"}}}],\"histogram\":[{\"marker\":{\"pattern\":{\"fillmode\":\"overlay\",\"size\":10,\"solidity\":0.2}},\"type\":\"histogram\"}],\"scattergl\":[{\"marker\":{\"line\":{\"color\":\"#283442\"}},\"type\":\"scattergl\"}],\"scatter3d\":[{\"type\":\"scatter3d\",\"line\":{\"colorbar\":{\"outlinewidth\":0,\"ticks\":\"\"}},\"marker\":{\"colorbar\":{\"outlinewidth\":0,\"ticks\":\"\"}}}],\"scattermapbox\":[{\"type\":\"scattermapbox\",\"marker\":{\"colorbar\":{\"outlinewidth\":0,\"ticks\":\"\"}}}],\"scatterternary\":[{\"type\":\"scatterternary\",\"marker\":{\"colorbar\":{\"outlinewidth\":0,\"ticks\":\"\"}}}],\"scattercarpet\":[{\"type\":\"scattercarpet\",\"marker\":{\"colorbar\":{\"outlinewidth\":0,\"ticks\":\"\"}}}],\"carpet\":[{\"aaxis\":{\"endlinecolor\":\"#A2B1C6\",\"gridcolor\":\"#506784\",\"linecolor\":\"#506784\",\"minorgridcolor\":\"#506784\",\"startlinecolor\":\"#A2B1C6\"},\"baxis\":{\"endlinecolor\":\"#A2B1C6\",\"gridcolor\":\"#506784\",\"linecolor\":\"#506784\",\"minorgridcolor\":\"#506784\",\"startlinecolor\":\"#A2B1C6\"},\"type\":\"carpet\"}],\"table\":[{\"cells\":{\"fill\":{\"color\":\"#506784\"},\"line\":{\"color\":\"rgb(17,17,17)\"}},\"header\":{\"fill\":{\"color\":\"#2a3f5f\"},\"line\":{\"color\":\"rgb(17,17,17)\"}},\"type\":\"table\"}],\"barpolar\":[{\"marker\":{\"line\":{\"color\":\"rgb(17,17,17)\",\"width\":0.5},\"pattern\":{\"fillmode\":\"overlay\",\"size\":10,\"solidity\":0.2}},\"type\":\"barpolar\"}],\"pie\":[{\"automargin\":true,\"type\":\"pie\"}]},\"layout\":{\"autotypenumbers\":\"strict\",\"colorway\":[\"#636efa\",\"#EF553B\",\"#00cc96\",\"#ab63fa\",\"#FFA15A\",\"#19d3f3\",\"#FF6692\",\"#B6E880\",\"#FF97FF\",\"#FECB52\"],\"font\":{\"color\":\"#f2f5fa\"},\"hovermode\":\"closest\",\"hoverlabel\":{\"align\":\"left\"},\"paper_bgcolor\":\"rgb(17,17,17)\",\"plot_bgcolor\":\"rgb(17,17,17)\",\"polar\":{\"bgcolor\":\"rgb(17,17,17)\",\"angularaxis\":{\"gridcolor\":\"#506784\",\"linecolor\":\"#506784\",\"ticks\":\"\"},\"radialaxis\":{\"gridcolor\":\"#506784\",\"linecolor\":\"#506784\",\"ticks\":\"\"}},\"ternary\":{\"bgcolor\":\"rgb(17,17,17)\",\"aaxis\":{\"gridcolor\":\"#506784\",\"linecolor\":\"#506784\",\"ticks\":\"\"},\"baxis\":{\"gridcolor\":\"#506784\",\"linecolor\":\"#506784\",\"ticks\":\"\"},\"caxis\":{\"gridcolor\":\"#506784\",\"linecolor\":\"#506784\",\"ticks\":\"\"}},\"coloraxis\":{\"colorbar\":{\"outlinewidth\":0,\"ticks\":\"\"}},\"colorscale\":{\"sequential\":[[0.0,\"#0d0887\"],[0.1111111111111111,\"#46039f\"],[0.2222222222222222,\"#7201a8\"],[0.3333333333333333,\"#9c179e\"],[0.4444444444444444,\"#bd3786\"],[0.5555555555555556,\"#d8576b\"],[0.6666666666666666,\"#ed7953\"],[0.7777777777777778,\"#fb9f3a\"],[0.8888888888888888,\"#fdca26\"],[1.0,\"#f0f921\"]],\"sequentialminus\":[[0.0,\"#0d0887\"],[0.1111111111111111,\"#46039f\"],[0.2222222222222222,\"#7201a8\"],[0.3333333333333333,\"#9c179e\"],[0.4444444444444444,\"#bd3786\"],[0.5555555555555556,\"#d8576b\"],[0.6666666666666666,\"#ed7953\"],[0.7777777777777778,\"#fb9f3a\"],[0.8888888888888888,\"#fdca26\"],[1.0,\"#f0f921\"]],\"diverging\":[[0,\"#8e0152\"],[0.1,\"#c51b7d\"],[0.2,\"#de77ae\"],[0.3,\"#f1b6da\"],[0.4,\"#fde0ef\"],[0.5,\"#f7f7f7\"],[0.6,\"#e6f5d0\"],[0.7,\"#b8e186\"],[0.8,\"#7fbc41\"],[0.9,\"#4d9221\"],[1,\"#276419\"]]},\"xaxis\":{\"gridcolor\":\"#283442\",\"linecolor\":\"#506784\",\"ticks\":\"\",\"title\":{\"standoff\":15},\"zerolinecolor\":\"#283442\",\"automargin\":true,\"zerolinewidth\":2},\"yaxis\":{\"gridcolor\":\"#283442\",\"linecolor\":\"#506784\",\"ticks\":\"\",\"title\":{\"standoff\":15},\"zerolinecolor\":\"#283442\",\"automargin\":true,\"zerolinewidth\":2},\"scene\":{\"xaxis\":{\"backgroundcolor\":\"rgb(17,17,17)\",\"gridcolor\":\"#506784\",\"linecolor\":\"#506784\",\"showbackground\":true,\"ticks\":\"\",\"zerolinecolor\":\"#C8D4E3\",\"gridwidth\":2},\"yaxis\":{\"backgroundcolor\":\"rgb(17,17,17)\",\"gridcolor\":\"#506784\",\"linecolor\":\"#506784\",\"showbackground\":true,\"ticks\":\"\",\"zerolinecolor\":\"#C8D4E3\",\"gridwidth\":2},\"zaxis\":{\"backgroundcolor\":\"rgb(17,17,17)\",\"gridcolor\":\"#506784\",\"linecolor\":\"#506784\",\"showbackground\":true,\"ticks\":\"\",\"zerolinecolor\":\"#C8D4E3\",\"gridwidth\":2}},\"shapedefaults\":{\"line\":{\"color\":\"#f2f5fa\"}},\"annotationdefaults\":{\"arrowcolor\":\"#f2f5fa\",\"arrowhead\":0,\"arrowwidth\":1},\"geo\":{\"bgcolor\":\"rgb(17,17,17)\",\"landcolor\":\"rgb(17,17,17)\",\"subunitcolor\":\"#506784\",\"showland\":true,\"showlakes\":true,\"lakecolor\":\"rgb(17,17,17)\"},\"title\":{\"x\":0.05},\"updatemenudefaults\":{\"bgcolor\":\"#506784\",\"borderwidth\":0},\"sliderdefaults\":{\"bgcolor\":\"#C8D4E3\",\"borderwidth\":1,\"bordercolor\":\"rgb(17,17,17)\",\"tickwidth\":0},\"mapbox\":{\"style\":\"dark\"}}},\"ternary\":{\"domain\":{\"x\":[0.0,1.0],\"y\":[0.0,1.0]},\"aaxis\":{\"title\":{\"text\":\"Negative\"}},\"baxis\":{\"title\":{\"text\":\"Zero\"}},\"caxis\":{\"title\":{\"text\":\"Positive\"}}},\"legend\":{\"title\":{\"text\":\"Chromosome\"},\"tracegroupgap\":0},\"margin\":{\"t\":60}},                        {\"responsive\": true}                    ).then(function(){\n                            \nvar gd = document.getElementById('67e90b2f-1540-4f62-8415-017a24e94602');\nvar x = new MutationObserver(function (mutations, observer) {{\n        var display = window.getComputedStyle(gd).display;\n        if (!display || display === 'none') {{\n            console.log([gd, 'removed!']);\n            Plotly.purge(gd);\n            observer.disconnect();\n        }}\n}});\n\n// Listen for the removal of the full notebook cells\nvar notebookContainer = gd.closest('#notebook-container');\nif (notebookContainer) {{\n    x.observe(notebookContainer, {childList: true});\n}}\n\n// Listen for the clearing of the current output cell\nvar outputEl = gd.closest('.output');\nif (outputEl) {{\n    x.observe(outputEl, {childList: true});\n}}\n\n                        })                };                });            </script>        </div>"
     },
     "metadata": {},
     "output_type": "display_data"
    }
   ],
   "source": [
    "plot = px.scatter_ternary(df[1948:2656], a = 'Negative', \n",
    "                          b = 'Zero',\n",
    "                          c='Positive',\n",
    "                          color = 'Chromosome')\n",
    "plot.show()"
   ]
  },
  {
   "cell_type": "code",
   "execution_count": 68,
   "id": "chicken-workplace",
   "metadata": {
    "pycharm": {
     "name": "#%%\n"
    }
   },
   "outputs": [
    {
     "data": {
      "application/vnd.plotly.v1+json": {
       "data": [
        {
         "a": [
          9.0,
          4.0,
          7.0,
          5.0,
          5.0,
          12.0,
          11.0,
          12.0,
          12.0,
          12.0,
          12.0,
          12.0,
          11.0,
          12.0,
          11.0,
          14.0,
          11.0,
          12.0,
          12.0,
          12.0,
          13.0,
          13.0,
          11.0,
          7.0,
          9.0,
          11.0,
          10.0,
          9.0,
          11.0,
          9.0,
          7.0,
          9.0,
          8.0,
          10.0,
          11.0,
          11.0,
          11.0,
          10.0,
          8.0,
          9.0,
          8.0,
          9.0,
          9.0
         ],
         "b": [
          4,
          4,
          8,
          8,
          16,
          16,
          18,
          17,
          18,
          21,
          21,
          21,
          23,
          22,
          23,
          21,
          22,
          21,
          22,
          21,
          22,
          24,
          25,
          28,
          25,
          24,
          25,
          26,
          25,
          27,
          30,
          32,
          32,
          29,
          29,
          31,
          30,
          30,
          32,
          30,
          32,
          32,
          30
         ],
         "c": [
          87,
          92,
          85,
          87,
          79,
          72,
          71,
          71,
          70,
          67,
          67,
          67,
          66,
          66,
          66,
          65,
          67,
          67,
          66,
          67,
          65,
          63,
          64,
          65,
          66,
          65,
          65,
          65,
          64,
          64,
          63,
          59,
          60,
          61,
          60,
          58,
          59,
          60,
          60,
          61,
          60,
          59,
          61
         ],
         "hovertemplate": "Chromosome=21<br>Negative=%{a}<br>Zero=%{b}<br>Positive=%{c}<extra></extra>",
         "legendgroup": "21",
         "marker": {
          "color": "#636efa",
          "symbol": "circle"
         },
         "mode": "markers",
         "name": "21",
         "showlegend": true,
         "subplot": "ternary",
         "type": "scatterternary"
        },
        {
         "a": [
          2.0,
          7.0,
          8.0,
          9.0,
          14.0,
          22.0,
          23.0,
          25.0,
          25.0,
          22.0,
          23.0,
          20.0,
          23.0,
          24.0,
          22.0,
          24.0,
          24.0,
          25.0,
          25.0,
          22.0,
          20.0,
          45.0,
          59.0,
          63.0,
          32.0,
          28.0,
          27.0,
          28.0,
          27.0,
          27.0,
          28.0,
          27.0,
          26.0,
          27.0,
          25.0,
          26.0,
          26.0,
          26.0,
          27.0,
          27.0,
          30.0,
          26.0,
          29.0,
          60.0,
          27.0,
          29.0,
          28.0,
          28.0,
          28.0,
          31.0,
          29.0,
          29.0,
          32.0,
          32.0,
          32.0,
          33.0,
          34.0,
          35.0,
          35.0,
          35.0,
          37.0
         ],
         "b": [
          5,
          7,
          6,
          5,
          6,
          5,
          7,
          8,
          8,
          9,
          9,
          10,
          11,
          9,
          11,
          12,
          12,
          11,
          11,
          17,
          19,
          15,
          14,
          14,
          13,
          13,
          15,
          15,
          16,
          19,
          16,
          17,
          17,
          15,
          16,
          16,
          16,
          16,
          14,
          15,
          14,
          15,
          14,
          6,
          12,
          15,
          13,
          14,
          14,
          13,
          14,
          16,
          15,
          14,
          13,
          13,
          15,
          15,
          16,
          14,
          12
         ],
         "c": [
          93,
          86,
          86,
          86,
          80,
          73,
          70,
          67,
          67,
          69,
          68,
          70,
          66,
          67,
          67,
          64,
          64,
          64,
          64,
          61,
          61,
          40,
          27,
          23,
          55,
          59,
          58,
          57,
          57,
          54,
          56,
          56,
          57,
          58,
          59,
          58,
          58,
          58,
          59,
          58,
          56,
          59,
          57,
          34,
          61,
          56,
          59,
          58,
          58,
          56,
          57,
          55,
          53,
          54,
          55,
          54,
          51,
          50,
          49,
          51,
          51
         ],
         "hovertemplate": "Chromosome=22<br>Negative=%{a}<br>Zero=%{b}<br>Positive=%{c}<extra></extra>",
         "legendgroup": "22",
         "marker": {
          "color": "#EF553B",
          "symbol": "circle"
         },
         "mode": "markers",
         "name": "22",
         "showlegend": true,
         "subplot": "ternary",
         "type": "scatterternary"
        },
        {
         "a": [
          15.0,
          2.0,
          8.0,
          10.0,
          15.0,
          13.0,
          7.0,
          6.0,
          7.0,
          7.0,
          22.0,
          18.0,
          0.0,
          0.0,
          0.0,
          1.0,
          1.0,
          0.0,
          0.0,
          0.0,
          0.0,
          0.0,
          0.0,
          0.0,
          0.0,
          0.0,
          0.0,
          0.0,
          0.0,
          0.0,
          1.0,
          0.0,
          0.0,
          0.0,
          1.0,
          1.0,
          0.0,
          1.0,
          1.0,
          1.0,
          1.0,
          1.0,
          1.0,
          2.0,
          2.0,
          1.0,
          2.0,
          2.0,
          2.0,
          1.0,
          1.0,
          1.0,
          1.0,
          1.0,
          1.0,
          1.0,
          1.0,
          1.0,
          0.0,
          0.0,
          0.0,
          0.0,
          0.0,
          0.0,
          0.0,
          0.0,
          0.0,
          0.0,
          0.0,
          0.0,
          0.0,
          0.0,
          0.0,
          0.0
         ],
         "b": [
          38,
          91,
          39,
          30,
          28,
          32,
          55,
          59,
          51,
          47,
          19,
          20,
          95,
          94,
          95,
          93,
          93,
          95,
          95,
          95,
          94,
          95,
          94,
          94,
          95,
          94,
          93,
          95,
          96,
          96,
          92,
          97,
          97,
          97,
          95,
          95,
          95,
          95,
          95,
          96,
          96,
          90,
          89,
          86,
          89,
          94,
          91,
          85,
          87,
          91,
          86,
          78,
          73,
          78,
          95,
          96,
          95,
          95,
          96,
          94,
          94,
          94,
          94,
          94,
          94,
          95,
          88,
          95,
          91,
          95,
          94,
          94,
          92,
          93
         ],
         "c": [
          47,
          7,
          53,
          60,
          57,
          55,
          38,
          35,
          42,
          46,
          59,
          62,
          5,
          6,
          5,
          6,
          6,
          5,
          5,
          5,
          6,
          5,
          6,
          6,
          5,
          6,
          7,
          5,
          4,
          4,
          7,
          3,
          3,
          3,
          4,
          4,
          5,
          4,
          4,
          3,
          3,
          9,
          10,
          12,
          9,
          5,
          7,
          13,
          11,
          8,
          13,
          21,
          26,
          21,
          4,
          3,
          4,
          4,
          4,
          6,
          6,
          6,
          6,
          6,
          6,
          5,
          12,
          5,
          9,
          5,
          6,
          6,
          8,
          7
         ],
         "hovertemplate": "Chromosome=23<br>Negative=%{a}<br>Zero=%{b}<br>Positive=%{c}<extra></extra>",
         "legendgroup": "23",
         "marker": {
          "color": "#00cc96",
          "symbol": "circle"
         },
         "mode": "markers",
         "name": "23",
         "showlegend": true,
         "subplot": "ternary",
         "type": "scatterternary"
        }
       ],
       "layout": {
        "template": {
         "data": {
          "histogram2dcontour": [
           {
            "type": "histogram2dcontour",
            "colorbar": {
             "outlinewidth": 0,
             "ticks": ""
            },
            "colorscale": [
             [
              0.0,
              "#0d0887"
             ],
             [
              0.1111111111111111,
              "#46039f"
             ],
             [
              0.2222222222222222,
              "#7201a8"
             ],
             [
              0.3333333333333333,
              "#9c179e"
             ],
             [
              0.4444444444444444,
              "#bd3786"
             ],
             [
              0.5555555555555556,
              "#d8576b"
             ],
             [
              0.6666666666666666,
              "#ed7953"
             ],
             [
              0.7777777777777778,
              "#fb9f3a"
             ],
             [
              0.8888888888888888,
              "#fdca26"
             ],
             [
              1.0,
              "#f0f921"
             ]
            ]
           }
          ],
          "choropleth": [
           {
            "type": "choropleth",
            "colorbar": {
             "outlinewidth": 0,
             "ticks": ""
            }
           }
          ],
          "histogram2d": [
           {
            "type": "histogram2d",
            "colorbar": {
             "outlinewidth": 0,
             "ticks": ""
            },
            "colorscale": [
             [
              0.0,
              "#0d0887"
             ],
             [
              0.1111111111111111,
              "#46039f"
             ],
             [
              0.2222222222222222,
              "#7201a8"
             ],
             [
              0.3333333333333333,
              "#9c179e"
             ],
             [
              0.4444444444444444,
              "#bd3786"
             ],
             [
              0.5555555555555556,
              "#d8576b"
             ],
             [
              0.6666666666666666,
              "#ed7953"
             ],
             [
              0.7777777777777778,
              "#fb9f3a"
             ],
             [
              0.8888888888888888,
              "#fdca26"
             ],
             [
              1.0,
              "#f0f921"
             ]
            ]
           }
          ],
          "heatmap": [
           {
            "type": "heatmap",
            "colorbar": {
             "outlinewidth": 0,
             "ticks": ""
            },
            "colorscale": [
             [
              0.0,
              "#0d0887"
             ],
             [
              0.1111111111111111,
              "#46039f"
             ],
             [
              0.2222222222222222,
              "#7201a8"
             ],
             [
              0.3333333333333333,
              "#9c179e"
             ],
             [
              0.4444444444444444,
              "#bd3786"
             ],
             [
              0.5555555555555556,
              "#d8576b"
             ],
             [
              0.6666666666666666,
              "#ed7953"
             ],
             [
              0.7777777777777778,
              "#fb9f3a"
             ],
             [
              0.8888888888888888,
              "#fdca26"
             ],
             [
              1.0,
              "#f0f921"
             ]
            ]
           }
          ],
          "heatmapgl": [
           {
            "type": "heatmapgl",
            "colorbar": {
             "outlinewidth": 0,
             "ticks": ""
            },
            "colorscale": [
             [
              0.0,
              "#0d0887"
             ],
             [
              0.1111111111111111,
              "#46039f"
             ],
             [
              0.2222222222222222,
              "#7201a8"
             ],
             [
              0.3333333333333333,
              "#9c179e"
             ],
             [
              0.4444444444444444,
              "#bd3786"
             ],
             [
              0.5555555555555556,
              "#d8576b"
             ],
             [
              0.6666666666666666,
              "#ed7953"
             ],
             [
              0.7777777777777778,
              "#fb9f3a"
             ],
             [
              0.8888888888888888,
              "#fdca26"
             ],
             [
              1.0,
              "#f0f921"
             ]
            ]
           }
          ],
          "contourcarpet": [
           {
            "type": "contourcarpet",
            "colorbar": {
             "outlinewidth": 0,
             "ticks": ""
            }
           }
          ],
          "contour": [
           {
            "type": "contour",
            "colorbar": {
             "outlinewidth": 0,
             "ticks": ""
            },
            "colorscale": [
             [
              0.0,
              "#0d0887"
             ],
             [
              0.1111111111111111,
              "#46039f"
             ],
             [
              0.2222222222222222,
              "#7201a8"
             ],
             [
              0.3333333333333333,
              "#9c179e"
             ],
             [
              0.4444444444444444,
              "#bd3786"
             ],
             [
              0.5555555555555556,
              "#d8576b"
             ],
             [
              0.6666666666666666,
              "#ed7953"
             ],
             [
              0.7777777777777778,
              "#fb9f3a"
             ],
             [
              0.8888888888888888,
              "#fdca26"
             ],
             [
              1.0,
              "#f0f921"
             ]
            ]
           }
          ],
          "surface": [
           {
            "type": "surface",
            "colorbar": {
             "outlinewidth": 0,
             "ticks": ""
            },
            "colorscale": [
             [
              0.0,
              "#0d0887"
             ],
             [
              0.1111111111111111,
              "#46039f"
             ],
             [
              0.2222222222222222,
              "#7201a8"
             ],
             [
              0.3333333333333333,
              "#9c179e"
             ],
             [
              0.4444444444444444,
              "#bd3786"
             ],
             [
              0.5555555555555556,
              "#d8576b"
             ],
             [
              0.6666666666666666,
              "#ed7953"
             ],
             [
              0.7777777777777778,
              "#fb9f3a"
             ],
             [
              0.8888888888888888,
              "#fdca26"
             ],
             [
              1.0,
              "#f0f921"
             ]
            ]
           }
          ],
          "mesh3d": [
           {
            "type": "mesh3d",
            "colorbar": {
             "outlinewidth": 0,
             "ticks": ""
            }
           }
          ],
          "scatter": [
           {
            "marker": {
             "line": {
              "color": "#283442"
             }
            },
            "type": "scatter"
           }
          ],
          "parcoords": [
           {
            "type": "parcoords",
            "line": {
             "colorbar": {
              "outlinewidth": 0,
              "ticks": ""
             }
            }
           }
          ],
          "scatterpolargl": [
           {
            "type": "scatterpolargl",
            "marker": {
             "colorbar": {
              "outlinewidth": 0,
              "ticks": ""
             }
            }
           }
          ],
          "bar": [
           {
            "error_x": {
             "color": "#f2f5fa"
            },
            "error_y": {
             "color": "#f2f5fa"
            },
            "marker": {
             "line": {
              "color": "rgb(17,17,17)",
              "width": 0.5
             },
             "pattern": {
              "fillmode": "overlay",
              "size": 10,
              "solidity": 0.2
             }
            },
            "type": "bar"
           }
          ],
          "scattergeo": [
           {
            "type": "scattergeo",
            "marker": {
             "colorbar": {
              "outlinewidth": 0,
              "ticks": ""
             }
            }
           }
          ],
          "scatterpolar": [
           {
            "type": "scatterpolar",
            "marker": {
             "colorbar": {
              "outlinewidth": 0,
              "ticks": ""
             }
            }
           }
          ],
          "histogram": [
           {
            "marker": {
             "pattern": {
              "fillmode": "overlay",
              "size": 10,
              "solidity": 0.2
             }
            },
            "type": "histogram"
           }
          ],
          "scattergl": [
           {
            "marker": {
             "line": {
              "color": "#283442"
             }
            },
            "type": "scattergl"
           }
          ],
          "scatter3d": [
           {
            "type": "scatter3d",
            "line": {
             "colorbar": {
              "outlinewidth": 0,
              "ticks": ""
             }
            },
            "marker": {
             "colorbar": {
              "outlinewidth": 0,
              "ticks": ""
             }
            }
           }
          ],
          "scattermapbox": [
           {
            "type": "scattermapbox",
            "marker": {
             "colorbar": {
              "outlinewidth": 0,
              "ticks": ""
             }
            }
           }
          ],
          "scatterternary": [
           {
            "type": "scatterternary",
            "marker": {
             "colorbar": {
              "outlinewidth": 0,
              "ticks": ""
             }
            }
           }
          ],
          "scattercarpet": [
           {
            "type": "scattercarpet",
            "marker": {
             "colorbar": {
              "outlinewidth": 0,
              "ticks": ""
             }
            }
           }
          ],
          "carpet": [
           {
            "aaxis": {
             "endlinecolor": "#A2B1C6",
             "gridcolor": "#506784",
             "linecolor": "#506784",
             "minorgridcolor": "#506784",
             "startlinecolor": "#A2B1C6"
            },
            "baxis": {
             "endlinecolor": "#A2B1C6",
             "gridcolor": "#506784",
             "linecolor": "#506784",
             "minorgridcolor": "#506784",
             "startlinecolor": "#A2B1C6"
            },
            "type": "carpet"
           }
          ],
          "table": [
           {
            "cells": {
             "fill": {
              "color": "#506784"
             },
             "line": {
              "color": "rgb(17,17,17)"
             }
            },
            "header": {
             "fill": {
              "color": "#2a3f5f"
             },
             "line": {
              "color": "rgb(17,17,17)"
             }
            },
            "type": "table"
           }
          ],
          "barpolar": [
           {
            "marker": {
             "line": {
              "color": "rgb(17,17,17)",
              "width": 0.5
             },
             "pattern": {
              "fillmode": "overlay",
              "size": 10,
              "solidity": 0.2
             }
            },
            "type": "barpolar"
           }
          ],
          "pie": [
           {
            "automargin": true,
            "type": "pie"
           }
          ]
         },
         "layout": {
          "autotypenumbers": "strict",
          "colorway": [
           "#636efa",
           "#EF553B",
           "#00cc96",
           "#ab63fa",
           "#FFA15A",
           "#19d3f3",
           "#FF6692",
           "#B6E880",
           "#FF97FF",
           "#FECB52"
          ],
          "font": {
           "color": "#f2f5fa"
          },
          "hovermode": "closest",
          "hoverlabel": {
           "align": "left"
          },
          "paper_bgcolor": "rgb(17,17,17)",
          "plot_bgcolor": "rgb(17,17,17)",
          "polar": {
           "bgcolor": "rgb(17,17,17)",
           "angularaxis": {
            "gridcolor": "#506784",
            "linecolor": "#506784",
            "ticks": ""
           },
           "radialaxis": {
            "gridcolor": "#506784",
            "linecolor": "#506784",
            "ticks": ""
           }
          },
          "ternary": {
           "bgcolor": "rgb(17,17,17)",
           "aaxis": {
            "gridcolor": "#506784",
            "linecolor": "#506784",
            "ticks": ""
           },
           "baxis": {
            "gridcolor": "#506784",
            "linecolor": "#506784",
            "ticks": ""
           },
           "caxis": {
            "gridcolor": "#506784",
            "linecolor": "#506784",
            "ticks": ""
           }
          },
          "coloraxis": {
           "colorbar": {
            "outlinewidth": 0,
            "ticks": ""
           }
          },
          "colorscale": {
           "sequential": [
            [
             0.0,
             "#0d0887"
            ],
            [
             0.1111111111111111,
             "#46039f"
            ],
            [
             0.2222222222222222,
             "#7201a8"
            ],
            [
             0.3333333333333333,
             "#9c179e"
            ],
            [
             0.4444444444444444,
             "#bd3786"
            ],
            [
             0.5555555555555556,
             "#d8576b"
            ],
            [
             0.6666666666666666,
             "#ed7953"
            ],
            [
             0.7777777777777778,
             "#fb9f3a"
            ],
            [
             0.8888888888888888,
             "#fdca26"
            ],
            [
             1.0,
             "#f0f921"
            ]
           ],
           "sequentialminus": [
            [
             0.0,
             "#0d0887"
            ],
            [
             0.1111111111111111,
             "#46039f"
            ],
            [
             0.2222222222222222,
             "#7201a8"
            ],
            [
             0.3333333333333333,
             "#9c179e"
            ],
            [
             0.4444444444444444,
             "#bd3786"
            ],
            [
             0.5555555555555556,
             "#d8576b"
            ],
            [
             0.6666666666666666,
             "#ed7953"
            ],
            [
             0.7777777777777778,
             "#fb9f3a"
            ],
            [
             0.8888888888888888,
             "#fdca26"
            ],
            [
             1.0,
             "#f0f921"
            ]
           ],
           "diverging": [
            [
             0,
             "#8e0152"
            ],
            [
             0.1,
             "#c51b7d"
            ],
            [
             0.2,
             "#de77ae"
            ],
            [
             0.3,
             "#f1b6da"
            ],
            [
             0.4,
             "#fde0ef"
            ],
            [
             0.5,
             "#f7f7f7"
            ],
            [
             0.6,
             "#e6f5d0"
            ],
            [
             0.7,
             "#b8e186"
            ],
            [
             0.8,
             "#7fbc41"
            ],
            [
             0.9,
             "#4d9221"
            ],
            [
             1,
             "#276419"
            ]
           ]
          },
          "xaxis": {
           "gridcolor": "#283442",
           "linecolor": "#506784",
           "ticks": "",
           "title": {
            "standoff": 15
           },
           "zerolinecolor": "#283442",
           "automargin": true,
           "zerolinewidth": 2
          },
          "yaxis": {
           "gridcolor": "#283442",
           "linecolor": "#506784",
           "ticks": "",
           "title": {
            "standoff": 15
           },
           "zerolinecolor": "#283442",
           "automargin": true,
           "zerolinewidth": 2
          },
          "scene": {
           "xaxis": {
            "backgroundcolor": "rgb(17,17,17)",
            "gridcolor": "#506784",
            "linecolor": "#506784",
            "showbackground": true,
            "ticks": "",
            "zerolinecolor": "#C8D4E3",
            "gridwidth": 2
           },
           "yaxis": {
            "backgroundcolor": "rgb(17,17,17)",
            "gridcolor": "#506784",
            "linecolor": "#506784",
            "showbackground": true,
            "ticks": "",
            "zerolinecolor": "#C8D4E3",
            "gridwidth": 2
           },
           "zaxis": {
            "backgroundcolor": "rgb(17,17,17)",
            "gridcolor": "#506784",
            "linecolor": "#506784",
            "showbackground": true,
            "ticks": "",
            "zerolinecolor": "#C8D4E3",
            "gridwidth": 2
           }
          },
          "shapedefaults": {
           "line": {
            "color": "#f2f5fa"
           }
          },
          "annotationdefaults": {
           "arrowcolor": "#f2f5fa",
           "arrowhead": 0,
           "arrowwidth": 1
          },
          "geo": {
           "bgcolor": "rgb(17,17,17)",
           "landcolor": "rgb(17,17,17)",
           "subunitcolor": "#506784",
           "showland": true,
           "showlakes": true,
           "lakecolor": "rgb(17,17,17)"
          },
          "title": {
           "x": 0.05
          },
          "updatemenudefaults": {
           "bgcolor": "#506784",
           "borderwidth": 0
          },
          "sliderdefaults": {
           "bgcolor": "#C8D4E3",
           "borderwidth": 1,
           "bordercolor": "rgb(17,17,17)",
           "tickwidth": 0
          },
          "mapbox": {
           "style": "dark"
          }
         }
        },
        "ternary": {
         "domain": {
          "x": [
           0.0,
           1.0
          ],
          "y": [
           0.0,
           1.0
          ]
         },
         "aaxis": {
          "title": {
           "text": "Negative"
          }
         },
         "baxis": {
          "title": {
           "text": "Zero"
          }
         },
         "caxis": {
          "title": {
           "text": "Positive"
          }
         }
        },
        "legend": {
         "title": {
          "text": "Chromosome"
         },
         "tracegroupgap": 0
        },
        "margin": {
         "t": 60
        }
       },
       "config": {
        "plotlyServerURL": "https://plot.ly"
       }
      },
      "text/html": "<div>                            <div id=\"164cd5fc-880c-4cb6-9578-98aab78fbdf6\" class=\"plotly-graph-div\" style=\"height:525px; width:100%;\"></div>            <script type=\"text/javascript\">                require([\"plotly\"], function(Plotly) {                    window.PLOTLYENV=window.PLOTLYENV || {};                                    if (document.getElementById(\"164cd5fc-880c-4cb6-9578-98aab78fbdf6\")) {                    Plotly.newPlot(                        \"164cd5fc-880c-4cb6-9578-98aab78fbdf6\",                        [{\"a\":[9.0,4.0,7.0,5.0,5.0,12.0,11.0,12.0,12.0,12.0,12.0,12.0,11.0,12.0,11.0,14.0,11.0,12.0,12.0,12.0,13.0,13.0,11.0,7.0,9.0,11.0,10.0,9.0,11.0,9.0,7.0,9.0,8.0,10.0,11.0,11.0,11.0,10.0,8.0,9.0,8.0,9.0,9.0],\"b\":[4,4,8,8,16,16,18,17,18,21,21,21,23,22,23,21,22,21,22,21,22,24,25,28,25,24,25,26,25,27,30,32,32,29,29,31,30,30,32,30,32,32,30],\"c\":[87,92,85,87,79,72,71,71,70,67,67,67,66,66,66,65,67,67,66,67,65,63,64,65,66,65,65,65,64,64,63,59,60,61,60,58,59,60,60,61,60,59,61],\"hovertemplate\":\"Chromosome=21<br>Negative=%{a}<br>Zero=%{b}<br>Positive=%{c}<extra></extra>\",\"legendgroup\":\"21\",\"marker\":{\"color\":\"#636efa\",\"symbol\":\"circle\"},\"mode\":\"markers\",\"name\":\"21\",\"showlegend\":true,\"subplot\":\"ternary\",\"type\":\"scatterternary\"},{\"a\":[2.0,7.0,8.0,9.0,14.0,22.0,23.0,25.0,25.0,22.0,23.0,20.0,23.0,24.0,22.0,24.0,24.0,25.0,25.0,22.0,20.0,45.0,59.0,63.0,32.0,28.0,27.0,28.0,27.0,27.0,28.0,27.0,26.0,27.0,25.0,26.0,26.0,26.0,27.0,27.0,30.0,26.0,29.0,60.0,27.0,29.0,28.0,28.0,28.0,31.0,29.0,29.0,32.0,32.0,32.0,33.0,34.0,35.0,35.0,35.0,37.0],\"b\":[5,7,6,5,6,5,7,8,8,9,9,10,11,9,11,12,12,11,11,17,19,15,14,14,13,13,15,15,16,19,16,17,17,15,16,16,16,16,14,15,14,15,14,6,12,15,13,14,14,13,14,16,15,14,13,13,15,15,16,14,12],\"c\":[93,86,86,86,80,73,70,67,67,69,68,70,66,67,67,64,64,64,64,61,61,40,27,23,55,59,58,57,57,54,56,56,57,58,59,58,58,58,59,58,56,59,57,34,61,56,59,58,58,56,57,55,53,54,55,54,51,50,49,51,51],\"hovertemplate\":\"Chromosome=22<br>Negative=%{a}<br>Zero=%{b}<br>Positive=%{c}<extra></extra>\",\"legendgroup\":\"22\",\"marker\":{\"color\":\"#EF553B\",\"symbol\":\"circle\"},\"mode\":\"markers\",\"name\":\"22\",\"showlegend\":true,\"subplot\":\"ternary\",\"type\":\"scatterternary\"},{\"a\":[15.0,2.0,8.0,10.0,15.0,13.0,7.0,6.0,7.0,7.0,22.0,18.0,0.0,0.0,0.0,1.0,1.0,0.0,0.0,0.0,0.0,0.0,0.0,0.0,0.0,0.0,0.0,0.0,0.0,0.0,1.0,0.0,0.0,0.0,1.0,1.0,0.0,1.0,1.0,1.0,1.0,1.0,1.0,2.0,2.0,1.0,2.0,2.0,2.0,1.0,1.0,1.0,1.0,1.0,1.0,1.0,1.0,1.0,0.0,0.0,0.0,0.0,0.0,0.0,0.0,0.0,0.0,0.0,0.0,0.0,0.0,0.0,0.0,0.0],\"b\":[38,91,39,30,28,32,55,59,51,47,19,20,95,94,95,93,93,95,95,95,94,95,94,94,95,94,93,95,96,96,92,97,97,97,95,95,95,95,95,96,96,90,89,86,89,94,91,85,87,91,86,78,73,78,95,96,95,95,96,94,94,94,94,94,94,95,88,95,91,95,94,94,92,93],\"c\":[47,7,53,60,57,55,38,35,42,46,59,62,5,6,5,6,6,5,5,5,6,5,6,6,5,6,7,5,4,4,7,3,3,3,4,4,5,4,4,3,3,9,10,12,9,5,7,13,11,8,13,21,26,21,4,3,4,4,4,6,6,6,6,6,6,5,12,5,9,5,6,6,8,7],\"hovertemplate\":\"Chromosome=23<br>Negative=%{a}<br>Zero=%{b}<br>Positive=%{c}<extra></extra>\",\"legendgroup\":\"23\",\"marker\":{\"color\":\"#00cc96\",\"symbol\":\"circle\"},\"mode\":\"markers\",\"name\":\"23\",\"showlegend\":true,\"subplot\":\"ternary\",\"type\":\"scatterternary\"}],                        {\"template\":{\"data\":{\"histogram2dcontour\":[{\"type\":\"histogram2dcontour\",\"colorbar\":{\"outlinewidth\":0,\"ticks\":\"\"},\"colorscale\":[[0.0,\"#0d0887\"],[0.1111111111111111,\"#46039f\"],[0.2222222222222222,\"#7201a8\"],[0.3333333333333333,\"#9c179e\"],[0.4444444444444444,\"#bd3786\"],[0.5555555555555556,\"#d8576b\"],[0.6666666666666666,\"#ed7953\"],[0.7777777777777778,\"#fb9f3a\"],[0.8888888888888888,\"#fdca26\"],[1.0,\"#f0f921\"]]}],\"choropleth\":[{\"type\":\"choropleth\",\"colorbar\":{\"outlinewidth\":0,\"ticks\":\"\"}}],\"histogram2d\":[{\"type\":\"histogram2d\",\"colorbar\":{\"outlinewidth\":0,\"ticks\":\"\"},\"colorscale\":[[0.0,\"#0d0887\"],[0.1111111111111111,\"#46039f\"],[0.2222222222222222,\"#7201a8\"],[0.3333333333333333,\"#9c179e\"],[0.4444444444444444,\"#bd3786\"],[0.5555555555555556,\"#d8576b\"],[0.6666666666666666,\"#ed7953\"],[0.7777777777777778,\"#fb9f3a\"],[0.8888888888888888,\"#fdca26\"],[1.0,\"#f0f921\"]]}],\"heatmap\":[{\"type\":\"heatmap\",\"colorbar\":{\"outlinewidth\":0,\"ticks\":\"\"},\"colorscale\":[[0.0,\"#0d0887\"],[0.1111111111111111,\"#46039f\"],[0.2222222222222222,\"#7201a8\"],[0.3333333333333333,\"#9c179e\"],[0.4444444444444444,\"#bd3786\"],[0.5555555555555556,\"#d8576b\"],[0.6666666666666666,\"#ed7953\"],[0.7777777777777778,\"#fb9f3a\"],[0.8888888888888888,\"#fdca26\"],[1.0,\"#f0f921\"]]}],\"heatmapgl\":[{\"type\":\"heatmapgl\",\"colorbar\":{\"outlinewidth\":0,\"ticks\":\"\"},\"colorscale\":[[0.0,\"#0d0887\"],[0.1111111111111111,\"#46039f\"],[0.2222222222222222,\"#7201a8\"],[0.3333333333333333,\"#9c179e\"],[0.4444444444444444,\"#bd3786\"],[0.5555555555555556,\"#d8576b\"],[0.6666666666666666,\"#ed7953\"],[0.7777777777777778,\"#fb9f3a\"],[0.8888888888888888,\"#fdca26\"],[1.0,\"#f0f921\"]]}],\"contourcarpet\":[{\"type\":\"contourcarpet\",\"colorbar\":{\"outlinewidth\":0,\"ticks\":\"\"}}],\"contour\":[{\"type\":\"contour\",\"colorbar\":{\"outlinewidth\":0,\"ticks\":\"\"},\"colorscale\":[[0.0,\"#0d0887\"],[0.1111111111111111,\"#46039f\"],[0.2222222222222222,\"#7201a8\"],[0.3333333333333333,\"#9c179e\"],[0.4444444444444444,\"#bd3786\"],[0.5555555555555556,\"#d8576b\"],[0.6666666666666666,\"#ed7953\"],[0.7777777777777778,\"#fb9f3a\"],[0.8888888888888888,\"#fdca26\"],[1.0,\"#f0f921\"]]}],\"surface\":[{\"type\":\"surface\",\"colorbar\":{\"outlinewidth\":0,\"ticks\":\"\"},\"colorscale\":[[0.0,\"#0d0887\"],[0.1111111111111111,\"#46039f\"],[0.2222222222222222,\"#7201a8\"],[0.3333333333333333,\"#9c179e\"],[0.4444444444444444,\"#bd3786\"],[0.5555555555555556,\"#d8576b\"],[0.6666666666666666,\"#ed7953\"],[0.7777777777777778,\"#fb9f3a\"],[0.8888888888888888,\"#fdca26\"],[1.0,\"#f0f921\"]]}],\"mesh3d\":[{\"type\":\"mesh3d\",\"colorbar\":{\"outlinewidth\":0,\"ticks\":\"\"}}],\"scatter\":[{\"marker\":{\"line\":{\"color\":\"#283442\"}},\"type\":\"scatter\"}],\"parcoords\":[{\"type\":\"parcoords\",\"line\":{\"colorbar\":{\"outlinewidth\":0,\"ticks\":\"\"}}}],\"scatterpolargl\":[{\"type\":\"scatterpolargl\",\"marker\":{\"colorbar\":{\"outlinewidth\":0,\"ticks\":\"\"}}}],\"bar\":[{\"error_x\":{\"color\":\"#f2f5fa\"},\"error_y\":{\"color\":\"#f2f5fa\"},\"marker\":{\"line\":{\"color\":\"rgb(17,17,17)\",\"width\":0.5},\"pattern\":{\"fillmode\":\"overlay\",\"size\":10,\"solidity\":0.2}},\"type\":\"bar\"}],\"scattergeo\":[{\"type\":\"scattergeo\",\"marker\":{\"colorbar\":{\"outlinewidth\":0,\"ticks\":\"\"}}}],\"scatterpolar\":[{\"type\":\"scatterpolar\",\"marker\":{\"colorbar\":{\"outlinewidth\":0,\"ticks\":\"\"}}}],\"histogram\":[{\"marker\":{\"pattern\":{\"fillmode\":\"overlay\",\"size\":10,\"solidity\":0.2}},\"type\":\"histogram\"}],\"scattergl\":[{\"marker\":{\"line\":{\"color\":\"#283442\"}},\"type\":\"scattergl\"}],\"scatter3d\":[{\"type\":\"scatter3d\",\"line\":{\"colorbar\":{\"outlinewidth\":0,\"ticks\":\"\"}},\"marker\":{\"colorbar\":{\"outlinewidth\":0,\"ticks\":\"\"}}}],\"scattermapbox\":[{\"type\":\"scattermapbox\",\"marker\":{\"colorbar\":{\"outlinewidth\":0,\"ticks\":\"\"}}}],\"scatterternary\":[{\"type\":\"scatterternary\",\"marker\":{\"colorbar\":{\"outlinewidth\":0,\"ticks\":\"\"}}}],\"scattercarpet\":[{\"type\":\"scattercarpet\",\"marker\":{\"colorbar\":{\"outlinewidth\":0,\"ticks\":\"\"}}}],\"carpet\":[{\"aaxis\":{\"endlinecolor\":\"#A2B1C6\",\"gridcolor\":\"#506784\",\"linecolor\":\"#506784\",\"minorgridcolor\":\"#506784\",\"startlinecolor\":\"#A2B1C6\"},\"baxis\":{\"endlinecolor\":\"#A2B1C6\",\"gridcolor\":\"#506784\",\"linecolor\":\"#506784\",\"minorgridcolor\":\"#506784\",\"startlinecolor\":\"#A2B1C6\"},\"type\":\"carpet\"}],\"table\":[{\"cells\":{\"fill\":{\"color\":\"#506784\"},\"line\":{\"color\":\"rgb(17,17,17)\"}},\"header\":{\"fill\":{\"color\":\"#2a3f5f\"},\"line\":{\"color\":\"rgb(17,17,17)\"}},\"type\":\"table\"}],\"barpolar\":[{\"marker\":{\"line\":{\"color\":\"rgb(17,17,17)\",\"width\":0.5},\"pattern\":{\"fillmode\":\"overlay\",\"size\":10,\"solidity\":0.2}},\"type\":\"barpolar\"}],\"pie\":[{\"automargin\":true,\"type\":\"pie\"}]},\"layout\":{\"autotypenumbers\":\"strict\",\"colorway\":[\"#636efa\",\"#EF553B\",\"#00cc96\",\"#ab63fa\",\"#FFA15A\",\"#19d3f3\",\"#FF6692\",\"#B6E880\",\"#FF97FF\",\"#FECB52\"],\"font\":{\"color\":\"#f2f5fa\"},\"hovermode\":\"closest\",\"hoverlabel\":{\"align\":\"left\"},\"paper_bgcolor\":\"rgb(17,17,17)\",\"plot_bgcolor\":\"rgb(17,17,17)\",\"polar\":{\"bgcolor\":\"rgb(17,17,17)\",\"angularaxis\":{\"gridcolor\":\"#506784\",\"linecolor\":\"#506784\",\"ticks\":\"\"},\"radialaxis\":{\"gridcolor\":\"#506784\",\"linecolor\":\"#506784\",\"ticks\":\"\"}},\"ternary\":{\"bgcolor\":\"rgb(17,17,17)\",\"aaxis\":{\"gridcolor\":\"#506784\",\"linecolor\":\"#506784\",\"ticks\":\"\"},\"baxis\":{\"gridcolor\":\"#506784\",\"linecolor\":\"#506784\",\"ticks\":\"\"},\"caxis\":{\"gridcolor\":\"#506784\",\"linecolor\":\"#506784\",\"ticks\":\"\"}},\"coloraxis\":{\"colorbar\":{\"outlinewidth\":0,\"ticks\":\"\"}},\"colorscale\":{\"sequential\":[[0.0,\"#0d0887\"],[0.1111111111111111,\"#46039f\"],[0.2222222222222222,\"#7201a8\"],[0.3333333333333333,\"#9c179e\"],[0.4444444444444444,\"#bd3786\"],[0.5555555555555556,\"#d8576b\"],[0.6666666666666666,\"#ed7953\"],[0.7777777777777778,\"#fb9f3a\"],[0.8888888888888888,\"#fdca26\"],[1.0,\"#f0f921\"]],\"sequentialminus\":[[0.0,\"#0d0887\"],[0.1111111111111111,\"#46039f\"],[0.2222222222222222,\"#7201a8\"],[0.3333333333333333,\"#9c179e\"],[0.4444444444444444,\"#bd3786\"],[0.5555555555555556,\"#d8576b\"],[0.6666666666666666,\"#ed7953\"],[0.7777777777777778,\"#fb9f3a\"],[0.8888888888888888,\"#fdca26\"],[1.0,\"#f0f921\"]],\"diverging\":[[0,\"#8e0152\"],[0.1,\"#c51b7d\"],[0.2,\"#de77ae\"],[0.3,\"#f1b6da\"],[0.4,\"#fde0ef\"],[0.5,\"#f7f7f7\"],[0.6,\"#e6f5d0\"],[0.7,\"#b8e186\"],[0.8,\"#7fbc41\"],[0.9,\"#4d9221\"],[1,\"#276419\"]]},\"xaxis\":{\"gridcolor\":\"#283442\",\"linecolor\":\"#506784\",\"ticks\":\"\",\"title\":{\"standoff\":15},\"zerolinecolor\":\"#283442\",\"automargin\":true,\"zerolinewidth\":2},\"yaxis\":{\"gridcolor\":\"#283442\",\"linecolor\":\"#506784\",\"ticks\":\"\",\"title\":{\"standoff\":15},\"zerolinecolor\":\"#283442\",\"automargin\":true,\"zerolinewidth\":2},\"scene\":{\"xaxis\":{\"backgroundcolor\":\"rgb(17,17,17)\",\"gridcolor\":\"#506784\",\"linecolor\":\"#506784\",\"showbackground\":true,\"ticks\":\"\",\"zerolinecolor\":\"#C8D4E3\",\"gridwidth\":2},\"yaxis\":{\"backgroundcolor\":\"rgb(17,17,17)\",\"gridcolor\":\"#506784\",\"linecolor\":\"#506784\",\"showbackground\":true,\"ticks\":\"\",\"zerolinecolor\":\"#C8D4E3\",\"gridwidth\":2},\"zaxis\":{\"backgroundcolor\":\"rgb(17,17,17)\",\"gridcolor\":\"#506784\",\"linecolor\":\"#506784\",\"showbackground\":true,\"ticks\":\"\",\"zerolinecolor\":\"#C8D4E3\",\"gridwidth\":2}},\"shapedefaults\":{\"line\":{\"color\":\"#f2f5fa\"}},\"annotationdefaults\":{\"arrowcolor\":\"#f2f5fa\",\"arrowhead\":0,\"arrowwidth\":1},\"geo\":{\"bgcolor\":\"rgb(17,17,17)\",\"landcolor\":\"rgb(17,17,17)\",\"subunitcolor\":\"#506784\",\"showland\":true,\"showlakes\":true,\"lakecolor\":\"rgb(17,17,17)\"},\"title\":{\"x\":0.05},\"updatemenudefaults\":{\"bgcolor\":\"#506784\",\"borderwidth\":0},\"sliderdefaults\":{\"bgcolor\":\"#C8D4E3\",\"borderwidth\":1,\"bordercolor\":\"rgb(17,17,17)\",\"tickwidth\":0},\"mapbox\":{\"style\":\"dark\"}}},\"ternary\":{\"domain\":{\"x\":[0.0,1.0],\"y\":[0.0,1.0]},\"aaxis\":{\"title\":{\"text\":\"Negative\"}},\"baxis\":{\"title\":{\"text\":\"Zero\"}},\"caxis\":{\"title\":{\"text\":\"Positive\"}}},\"legend\":{\"title\":{\"text\":\"Chromosome\"},\"tracegroupgap\":0},\"margin\":{\"t\":60}},                        {\"responsive\": true}                    ).then(function(){\n                            \nvar gd = document.getElementById('164cd5fc-880c-4cb6-9578-98aab78fbdf6');\nvar x = new MutationObserver(function (mutations, observer) {{\n        var display = window.getComputedStyle(gd).display;\n        if (!display || display === 'none') {{\n            console.log([gd, 'removed!']);\n            Plotly.purge(gd);\n            observer.disconnect();\n        }}\n}});\n\n// Listen for the removal of the full notebook cells\nvar notebookContainer = gd.closest('#notebook-container');\nif (notebookContainer) {{\n    x.observe(notebookContainer, {childList: true});\n}}\n\n// Listen for the clearing of the current output cell\nvar outputEl = gd.closest('.output');\nif (outputEl) {{\n    x.observe(outputEl, {childList: true});\n}}\n\n                        })                };                });            </script>        </div>"
     },
     "metadata": {},
     "output_type": "display_data"
    }
   ],
   "source": [
    "plot = px.scatter_ternary(df[2656:], a = 'Negative', \n",
    "                          b = 'Zero',\n",
    "                          c='Positive',\n",
    "                          color = 'Chromosome')\n",
    "plot.show()"
   ]
  },
  {
   "cell_type": "code",
   "execution_count": 68,
   "id": "canadian-detroit",
   "metadata": {
    "pycharm": {
     "name": "#%%\n"
    }
   },
   "outputs": [],
   "source": []
  }
 ],
 "metadata": {
  "kernelspec": {
   "display_name": "Python 3",
   "language": "python",
   "name": "python3"
  },
  "language_info": {
   "codemirror_mode": {
    "name": "ipython",
    "version": 3
   },
   "file_extension": ".py",
   "mimetype": "text/x-python",
   "name": "python",
   "nbconvert_exporter": "python",
   "pygments_lexer": "ipython3",
   "version": "3.8.2"
  }
 },
 "nbformat": 4,
 "nbformat_minor": 5
}